{
  "nbformat": 4,
  "nbformat_minor": 0,
  "metadata": {
    "colab": {
      "name": "22N0461_IE507_Lab4_Ex1.ipynb",
      "provenance": [],
      "collapsed_sections": []
    },
    "kernelspec": {
      "name": "python3",
      "display_name": "Python 3"
    },
    "language_info": {
      "name": "python"
    }
  },
  "cells": [
    {
      "cell_type": "markdown",
      "source": [
        "# **Exercise 1 Solution**"
      ],
      "metadata": {
        "id": "WBylynOyFT4P"
      }
    },
    {
      "cell_type": "code",
      "execution_count": null,
      "metadata": {
        "id": "1qjUbHyKGZYa"
      },
      "outputs": [],
      "source": [
        "!pip install -q pyomo"
      ]
    },
    {
      "cell_type": "code",
      "source": [
        "from pyomo.environ import *"
      ],
      "metadata": {
        "id": "TXIKsej-HBND"
      },
      "execution_count": null,
      "outputs": []
    },
    {
      "cell_type": "code",
      "source": [
        "import numpy as np"
      ],
      "metadata": {
        "id": "vIj8E6PBHGfy"
      },
      "execution_count": null,
      "outputs": []
    },
    {
      "cell_type": "code",
      "source": [
        "coef = np.loadtxt('lab4_ex1_coef.txt', delimiter=',')"
      ],
      "metadata": {
        "id": "4shlnjvYHI4z"
      },
      "execution_count": null,
      "outputs": []
    },
    {
      "cell_type": "code",
      "source": [
        "print(coef.shape)\n",
        "print('Num rows:' , coef.shape[0])\n",
        "print('Num cols:' , coef.shape[1])"
      ],
      "metadata": {
        "colab": {
          "base_uri": "https://localhost:8080/"
        },
        "id": "oNQ1Qx9YIeBV",
        "outputId": "e712820b-417c-4428-b2e6-1d1dc2b0fedd"
      },
      "execution_count": null,
      "outputs": [
        {
          "output_type": "stream",
          "name": "stdout",
          "text": [
            "(6, 7)\n",
            "Num rows: 6\n",
            "Num cols: 7\n"
          ]
        }
      ]
    },
    {
      "cell_type": "code",
      "source": [
        "print(coef)"
      ],
      "metadata": {
        "colab": {
          "base_uri": "https://localhost:8080/"
        },
        "id": "ILyys90oI8hx",
        "outputId": "e7c398f3-a86f-4376-dab4-9483905708c3"
      },
      "execution_count": null,
      "outputs": [
        {
          "output_type": "stream",
          "name": "stdout",
          "text": [
            "[[  0.65   0.75  -5.85  -8.35 -12.38  30.     0.  ]\n",
            " [ -0.5    0.    -3.8   -0.9    0.9    0.    24.8 ]\n",
            " [  1.     0.     0.    -1.     0.    -1.     0.8 ]\n",
            " [  0.    -2.9   -1.9    0.     0.    -0.9  -71.4 ]\n",
            " [  0.     0.     0.     4.7    8.02   6.15  95.  ]\n",
            " [ -0.7   -1.4    7.9   -2.9    0.9    0.   -47.  ]]\n"
          ]
        }
      ]
    },
    {
      "cell_type": "code",
      "source": [
        "model1 = ConcreteModel()"
      ],
      "metadata": {
        "id": "3brzFzlWJBBs"
      },
      "execution_count": null,
      "outputs": []
    },
    {
      "cell_type": "code",
      "source": [
        "N = coef.shape[1]-1\n",
        "M = coef.shape[0]-1"
      ],
      "metadata": {
        "id": "MQsNrPptJaAt"
      },
      "execution_count": null,
      "outputs": []
    },
    {
      "cell_type": "code",
      "source": [
        "obj_coef = coef[0,:-1]\n",
        "print(obj_coef.shape)\n",
        "print(obj_coef)"
      ],
      "metadata": {
        "colab": {
          "base_uri": "https://localhost:8080/"
        },
        "id": "nYRCaeqjKXxy",
        "outputId": "aa13e89d-510d-4d4a-ae5e-0237f9fcc9cf"
      },
      "execution_count": null,
      "outputs": [
        {
          "output_type": "stream",
          "name": "stdout",
          "text": [
            "(6,)\n",
            "[  0.65   0.75  -5.85  -8.35 -12.38  30.  ]\n"
          ]
        }
      ]
    },
    {
      "cell_type": "code",
      "source": [
        "constr_coef = coef[1:,:-1]\n",
        "print(constr_coef.shape)\n",
        "print(constr_coef)"
      ],
      "metadata": {
        "colab": {
          "base_uri": "https://localhost:8080/"
        },
        "id": "WDfJztVeODRn",
        "outputId": "142685c6-0777-4109-ae03-770916aebbf5"
      },
      "execution_count": null,
      "outputs": [
        {
          "output_type": "stream",
          "name": "stdout",
          "text": [
            "(5, 6)\n",
            "[[-0.5   0.   -3.8  -0.9   0.9   0.  ]\n",
            " [ 1.    0.    0.   -1.    0.   -1.  ]\n",
            " [ 0.   -2.9  -1.9   0.    0.   -0.9 ]\n",
            " [ 0.    0.    0.    4.7   8.02  6.15]\n",
            " [-0.7  -1.4   7.9  -2.9   0.9   0.  ]]\n"
          ]
        }
      ]
    },
    {
      "cell_type": "code",
      "source": [
        "constr_rhs = coef[1:,-1]\n",
        "print(constr_rhs.shape)\n",
        "print(constr_rhs)\n"
      ],
      "metadata": {
        "colab": {
          "base_uri": "https://localhost:8080/"
        },
        "id": "yR_CTmn7Kzms",
        "outputId": "65a726d8-2dd1-4fe6-890a-797e35ae33da"
      },
      "execution_count": null,
      "outputs": [
        {
          "output_type": "stream",
          "name": "stdout",
          "text": [
            "(5,)\n",
            "[ 24.8   0.8 -71.4  95.  -47. ]\n"
          ]
        }
      ]
    },
    {
      "cell_type": "code",
      "source": [
        "lower_bound = 0\n",
        "upper_bound = np.inf"
      ],
      "metadata": {
        "id": "6hBabgFFLax8"
      },
      "execution_count": null,
      "outputs": []
    },
    {
      "cell_type": "code",
      "source": [
        "col_indices = np.arange(N)\n",
        "print(col_indices)"
      ],
      "metadata": {
        "colab": {
          "base_uri": "https://localhost:8080/"
        },
        "id": "Bkm36JPOM83r",
        "outputId": "7cd44937-75e2-41e1-e015-4d55a5ceac2a"
      },
      "execution_count": null,
      "outputs": [
        {
          "output_type": "stream",
          "name": "stdout",
          "text": [
            "[0 1 2 3 4 5]\n"
          ]
        }
      ]
    },
    {
      "cell_type": "code",
      "source": [
        "model1.x = Var(col_indices)"
      ],
      "metadata": {
        "id": "oWt_5XXUNAHe"
      },
      "execution_count": null,
      "outputs": []
    },
    {
      "cell_type": "code",
      "source": [
        "row_indices = np.arange(M)\n",
        "print(row_indices)"
      ],
      "metadata": {
        "colab": {
          "base_uri": "https://localhost:8080/"
        },
        "id": "YJcxoV-cNGMZ",
        "outputId": "83be2587-48f6-449c-a8cb-06c3ad27d41f"
      },
      "execution_count": null,
      "outputs": [
        {
          "output_type": "stream",
          "name": "stdout",
          "text": [
            "[0 1 2 3 4]\n"
          ]
        }
      ]
    },
    {
      "cell_type": "code",
      "source": [
        "model1.constraints = ConstraintList()"
      ],
      "metadata": {
        "id": "BLRLO3oDNJya"
      },
      "execution_count": null,
      "outputs": []
    },
    {
      "cell_type": "code",
      "source": [
        "for i in row_indices:\n",
        "  model1.constraints.add(summation(constr_coef[i],model1.x) <= constr_rhs[i])"
      ],
      "metadata": {
        "id": "CclzHM-nNNb-"
      },
      "execution_count": null,
      "outputs": []
    },
    {
      "cell_type": "code",
      "source": [
        "for j in col_indices:\n",
        "  model1.x[j].setlb(lower_bound)\n",
        "  model1.x[j].setub(upper_bound)"
      ],
      "metadata": {
        "id": "Yyjb6hS4O3e0"
      },
      "execution_count": null,
      "outputs": []
    },
    {
      "cell_type": "code",
      "source": [
        "model1.objective = Objective(expr = summation(obj_coef,model1.x), sense=maximize)"
      ],
      "metadata": {
        "id": "SIxg3g0TO8E1"
      },
      "execution_count": null,
      "outputs": []
    },
    {
      "cell_type": "code",
      "source": [
        "model1.pprint()"
      ],
      "metadata": {
        "colab": {
          "base_uri": "https://localhost:8080/"
        },
        "id": "f8lY1GX7PE9K",
        "outputId": "6fb6b666-3fdd-4098-e3bf-bdbc133c6037"
      },
      "execution_count": null,
      "outputs": [
        {
          "output_type": "stream",
          "name": "stdout",
          "text": [
            "2 Set Declarations\n",
            "    constraints_index : Size=1, Index=None, Ordered=Insertion\n",
            "        Key  : Dimen : Domain : Size : Members\n",
            "        None :     1 :    Any :    5 : {1, 2, 3, 4, 5}\n",
            "    x_index : Size=1, Index=None, Ordered=False\n",
            "        Key  : Dimen : Domain : Size : Members\n",
            "        None :     1 :    Any :    6 : {0, 1, 2, 3, 4, 5}\n",
            "\n",
            "1 Var Declarations\n",
            "    x : Size=6, Index=x_index\n",
            "        Key : Lower : Value : Upper : Fixed : Stale : Domain\n",
            "          0 :     0 :  None :  None : False :  True :  Reals\n",
            "          1 :     0 :  None :  None : False :  True :  Reals\n",
            "          2 :     0 :  None :  None : False :  True :  Reals\n",
            "          3 :     0 :  None :  None : False :  True :  Reals\n",
            "          4 :     0 :  None :  None : False :  True :  Reals\n",
            "          5 :     0 :  None :  None : False :  True :  Reals\n",
            "\n",
            "1 Objective Declarations\n",
            "    objective : Size=1, Index=None, Active=True\n",
            "        Key  : Active : Sense    : Expression\n",
            "        None :   True : maximize : 0.65*x[0] + 0.75*x[1] - 5.85*x[2] - 8.35*x[3] - 12.38*x[4] + 30.0*x[5]\n",
            "\n",
            "1 Constraint Declarations\n",
            "    constraints : Size=5, Index=constraints_index, Active=True\n",
            "        Key : Lower : Body                                                  : Upper : Active\n",
            "          1 :  -Inf :            -0.5*x[0] - 3.8*x[2] - 0.9*x[3] + 0.9*x[4] :  24.8 :   True\n",
            "          2 :  -Inf :                                    x[0] - x[3] - x[5] :   0.8 :   True\n",
            "          3 :  -Inf :                       -2.9*x[1] - 1.9*x[2] - 0.9*x[5] : -71.4 :   True\n",
            "          4 :  -Inf :                      4.7*x[3] + 8.02*x[4] + 6.15*x[5] :  95.0 :   True\n",
            "          5 :  -Inf : -0.7*x[0] - 1.4*x[1] + 7.9*x[2] - 2.9*x[3] + 0.9*x[4] : -47.0 :   True\n",
            "\n",
            "5 Declarations: x_index x constraints_index constraints objective\n"
          ]
        }
      ]
    },
    {
      "cell_type": "code",
      "source": [
        "!apt-get install -y -qq coinor-cbc"
      ],
      "metadata": {
        "id": "JFUi0xSNPKxE",
        "colab": {
          "base_uri": "https://localhost:8080/"
        },
        "outputId": "beb10c35-d0be-4080-8ce9-ddd001dd548c"
      },
      "execution_count": null,
      "outputs": [
        {
          "output_type": "stream",
          "name": "stdout",
          "text": [
            "Selecting previously unselected package coinor-libcoinutils3v5.\n",
            "(Reading database ... 155676 files and directories currently installed.)\n",
            "Preparing to unpack .../0-coinor-libcoinutils3v5_2.10.14+repack1-1_amd64.deb ...\n",
            "Unpacking coinor-libcoinutils3v5 (2.10.14+repack1-1) ...\n",
            "Selecting previously unselected package coinor-libosi1v5.\n",
            "Preparing to unpack .../1-coinor-libosi1v5_0.107.9+repack1-1_amd64.deb ...\n",
            "Unpacking coinor-libosi1v5 (0.107.9+repack1-1) ...\n",
            "Selecting previously unselected package coinor-libclp1.\n",
            "Preparing to unpack .../2-coinor-libclp1_1.16.11+repack1-1_amd64.deb ...\n",
            "Unpacking coinor-libclp1 (1.16.11+repack1-1) ...\n",
            "Selecting previously unselected package coinor-libcgl1.\n",
            "Preparing to unpack .../3-coinor-libcgl1_0.59.10+repack1-1_amd64.deb ...\n",
            "Unpacking coinor-libcgl1 (0.59.10+repack1-1) ...\n",
            "Selecting previously unselected package coinor-libcbc3.\n",
            "Preparing to unpack .../4-coinor-libcbc3_2.9.9+repack1-1_amd64.deb ...\n",
            "Unpacking coinor-libcbc3 (2.9.9+repack1-1) ...\n",
            "Selecting previously unselected package coinor-cbc.\n",
            "Preparing to unpack .../5-coinor-cbc_2.9.9+repack1-1_amd64.deb ...\n",
            "Unpacking coinor-cbc (2.9.9+repack1-1) ...\n",
            "Setting up coinor-libcoinutils3v5 (2.10.14+repack1-1) ...\n",
            "Setting up coinor-libosi1v5 (0.107.9+repack1-1) ...\n",
            "Setting up coinor-libclp1 (1.16.11+repack1-1) ...\n",
            "Setting up coinor-libcgl1 (0.59.10+repack1-1) ...\n",
            "Setting up coinor-libcbc3 (2.9.9+repack1-1) ...\n",
            "Setting up coinor-cbc (2.9.9+repack1-1) ...\n",
            "Processing triggers for man-db (2.8.3-2ubuntu0.1) ...\n",
            "Processing triggers for libc-bin (2.27-3ubuntu1.5) ...\n"
          ]
        }
      ]
    },
    {
      "cell_type": "code",
      "source": [
        "opt_cbc = SolverFactory('cbc')"
      ],
      "metadata": {
        "id": "msExLy60PSFZ"
      },
      "execution_count": null,
      "outputs": []
    },
    {
      "cell_type": "markdown",
      "source": [
        "# Exercise 1(7) Solution"
      ],
      "metadata": {
        "id": "W_iVaLMoROlZ"
      }
    },
    {
      "cell_type": "code",
      "source": [
        "result = opt_cbc.solve(model1)\n",
        "print('Solver status:', result.solver.status)\n",
        "print('Solver termination condition:',result.solver.termination_condition)"
      ],
      "metadata": {
        "colab": {
          "base_uri": "https://localhost:8080/"
        },
        "id": "UB6L0OhdPVg4",
        "outputId": "209c1527-45c9-4e02-9d64-520186726c83"
      },
      "execution_count": null,
      "outputs": [
        {
          "output_type": "stream",
          "name": "stderr",
          "text": [
            "WARNING:pyomo.core:Loading a SolverResults object with a warning status into model.name=\"unknown\";\n",
            "  - termination condition: unbounded\n",
            "  - message from solver: <undefined>\n"
          ]
        },
        {
          "output_type": "stream",
          "name": "stdout",
          "text": [
            "Solver status: warning\n",
            "Solver termination condition: unbounded\n"
          ]
        }
      ]
    },
    {
      "cell_type": "markdown",
      "source": [
        "In this problem solution is unbounded. because solver status is warning or solver termination condition is unbounded."
      ],
      "metadata": {
        "id": "b96ilKrmGnGj"
      }
    },
    {
      "cell_type": "markdown",
      "source": [
        "# Exercise 1(9) Solution"
      ],
      "metadata": {
        "id": "bPCLdZabGsH1"
      }
    },
    {
      "cell_type": "code",
      "source": [
        "model1.objective.set_sense(minimize)"
      ],
      "metadata": {
        "id": "EHPaWzvmQHMB"
      },
      "execution_count": null,
      "outputs": []
    },
    {
      "cell_type": "code",
      "source": [
        "model1.pprint()"
      ],
      "metadata": {
        "colab": {
          "base_uri": "https://localhost:8080/"
        },
        "id": "u7PTBU6OSaoV",
        "outputId": "60909eae-99c4-44ab-947d-5552d9d4e3f0"
      },
      "execution_count": null,
      "outputs": [
        {
          "output_type": "stream",
          "name": "stdout",
          "text": [
            "2 Set Declarations\n",
            "    constraints_index : Size=1, Index=None, Ordered=Insertion\n",
            "        Key  : Dimen : Domain : Size : Members\n",
            "        None :     1 :    Any :    5 : {1, 2, 3, 4, 5}\n",
            "    x_index : Size=1, Index=None, Ordered=False\n",
            "        Key  : Dimen : Domain : Size : Members\n",
            "        None :     1 :    Any :    6 : {0, 1, 2, 3, 4, 5}\n",
            "\n",
            "1 Var Declarations\n",
            "    x : Size=6, Index=x_index\n",
            "        Key : Lower : Value : Upper : Fixed : Stale : Domain\n",
            "          0 :     0 :  None :  None : False :  True :  Reals\n",
            "          1 :     0 :  None :  None : False :  True :  Reals\n",
            "          2 :     0 :  None :  None : False :  True :  Reals\n",
            "          3 :     0 :  None :  None : False :  True :  Reals\n",
            "          4 :     0 :  None :  None : False :  True :  Reals\n",
            "          5 :     0 :  None :  None : False :  True :  Reals\n",
            "\n",
            "1 Objective Declarations\n",
            "    objective : Size=1, Index=None, Active=True\n",
            "        Key  : Active : Sense    : Expression\n",
            "        None :   True : minimize : 0.65*x[0] + 0.75*x[1] - 5.85*x[2] - 8.35*x[3] - 12.38*x[4] + 30.0*x[5]\n",
            "\n",
            "1 Constraint Declarations\n",
            "    constraints : Size=5, Index=constraints_index, Active=True\n",
            "        Key : Lower : Body                                                  : Upper : Active\n",
            "          1 :  -Inf :            -0.5*x[0] - 3.8*x[2] - 0.9*x[3] + 0.9*x[4] :  24.8 :   True\n",
            "          2 :  -Inf :                                    x[0] - x[3] - x[5] :   0.8 :   True\n",
            "          3 :  -Inf :                       -2.9*x[1] - 1.9*x[2] - 0.9*x[5] : -71.4 :   True\n",
            "          4 :  -Inf :                      4.7*x[3] + 8.02*x[4] + 6.15*x[5] :  95.0 :   True\n",
            "          5 :  -Inf : -0.7*x[0] - 1.4*x[1] + 7.9*x[2] - 2.9*x[3] + 0.9*x[4] : -47.0 :   True\n",
            "\n",
            "5 Declarations: x_index x constraints_index constraints objective\n"
          ]
        }
      ]
    },
    {
      "cell_type": "code",
      "source": [
        "result = opt_cbc.solve(model1)\n",
        "print('Solver status:', result.solver.status)\n",
        "print('Solver termination condition:',result.solver.termination_condition)"
      ],
      "metadata": {
        "colab": {
          "base_uri": "https://localhost:8080/"
        },
        "id": "uQNsxb_sSfs1",
        "outputId": "0139a063-21e8-48ff-973f-e9dc161a9aa5"
      },
      "execution_count": null,
      "outputs": [
        {
          "output_type": "stream",
          "name": "stderr",
          "text": [
            "WARNING:pyomo.core:Loading a SolverResults object with a warning status into model.name=\"unknown\";\n",
            "  - termination condition: unbounded\n",
            "  - message from solver: <undefined>\n"
          ]
        },
        {
          "output_type": "stream",
          "name": "stdout",
          "text": [
            "Solver status: warning\n",
            "Solver termination condition: unbounded\n"
          ]
        }
      ]
    },
    {
      "cell_type": "markdown",
      "source": [
        "for checking optimal function value ....firstly i have check by changing sense maximize to minimize but in this case also got a unbounded solution.\n",
        "\n",
        "then in constraints maximum upper bound is 95 so I am choose a one value greater than 95 for upper bound i.e upper bound is choosen 420"
      ],
      "metadata": {
        "id": "CswcvMfaGzIC"
      }
    },
    {
      "cell_type": "code",
      "source": [
        "model1.objective.set_sense(maximize)"
      ],
      "metadata": {
        "id": "e7RXOp38IbRk"
      },
      "execution_count": null,
      "outputs": []
    },
    {
      "cell_type": "code",
      "source": [
        "#reset the upper bound\n",
        "for i in col_indices:\n",
        "  model1.x[i].setub(420)\n",
        "model1.pprint()"
      ],
      "metadata": {
        "colab": {
          "base_uri": "https://localhost:8080/"
        },
        "id": "9RkCGIfiSvhf",
        "outputId": "9261a947-4295-4bf4-cd7c-8002c5f4b5b8"
      },
      "execution_count": null,
      "outputs": [
        {
          "output_type": "stream",
          "name": "stdout",
          "text": [
            "2 Set Declarations\n",
            "    constraints_index : Size=1, Index=None, Ordered=Insertion\n",
            "        Key  : Dimen : Domain : Size : Members\n",
            "        None :     1 :    Any :    5 : {1, 2, 3, 4, 5}\n",
            "    x_index : Size=1, Index=None, Ordered=False\n",
            "        Key  : Dimen : Domain : Size : Members\n",
            "        None :     1 :    Any :    6 : {0, 1, 2, 3, 4, 5}\n",
            "\n",
            "1 Var Declarations\n",
            "    x : Size=6, Index=x_index\n",
            "        Key : Lower : Value : Upper : Fixed : Stale : Domain\n",
            "          0 :     0 :  None :   420 : False :  True :  Reals\n",
            "          1 :     0 :  None :   420 : False :  True :  Reals\n",
            "          2 :     0 :  None :   420 : False :  True :  Reals\n",
            "          3 :     0 :  None :   420 : False :  True :  Reals\n",
            "          4 :     0 :  None :   420 : False :  True :  Reals\n",
            "          5 :     0 :  None :   420 : False :  True :  Reals\n",
            "\n",
            "1 Objective Declarations\n",
            "    objective : Size=1, Index=None, Active=True\n",
            "        Key  : Active : Sense    : Expression\n",
            "        None :   True : maximize : 0.65*x[0] + 0.75*x[1] - 5.85*x[2] - 8.35*x[3] - 12.38*x[4] + 30.0*x[5]\n",
            "\n",
            "1 Constraint Declarations\n",
            "    constraints : Size=5, Index=constraints_index, Active=True\n",
            "        Key : Lower : Body                                                  : Upper : Active\n",
            "          1 :  -Inf :            -0.5*x[0] - 3.8*x[2] - 0.9*x[3] + 0.9*x[4] :  24.8 :   True\n",
            "          2 :  -Inf :                                    x[0] - x[3] - x[5] :   0.8 :   True\n",
            "          3 :  -Inf :                       -2.9*x[1] - 1.9*x[2] - 0.9*x[5] : -71.4 :   True\n",
            "          4 :  -Inf :                      4.7*x[3] + 8.02*x[4] + 6.15*x[5] :  95.0 :   True\n",
            "          5 :  -Inf : -0.7*x[0] - 1.4*x[1] + 7.9*x[2] - 2.9*x[3] + 0.9*x[4] : -47.0 :   True\n",
            "\n",
            "5 Declarations: x_index x constraints_index constraints objective\n"
          ]
        }
      ]
    },
    {
      "cell_type": "code",
      "source": [
        "result = opt_cbc.solve(model1)\n",
        "print(result)\n",
        "\n",
        "print('Solver status:', result.solver.status)\n",
        "print('Solver termination condition:',result.solver.termination_condition)"
      ],
      "metadata": {
        "colab": {
          "base_uri": "https://localhost:8080/"
        },
        "id": "XeS1py4EU0rX",
        "outputId": "1100cb50-f95a-4c95-e2b2-1384239a9f1a"
      },
      "execution_count": null,
      "outputs": [
        {
          "output_type": "stream",
          "name": "stdout",
          "text": [
            "\n",
            "Problem: \n",
            "- Name: unknown\n",
            "  Lower bound: 788.9752846\n",
            "  Upper bound: 788.9752846\n",
            "  Number of objectives: 1\n",
            "  Number of constraints: 6\n",
            "  Number of variables: 7\n",
            "  Number of nonzeros: 3\n",
            "  Sense: maximize\n",
            "Solver: \n",
            "- Status: ok\n",
            "  User time: -1.0\n",
            "  System time: 0.0\n",
            "  Wallclock time: 0.0\n",
            "  Termination condition: optimal\n",
            "  Termination message: Model was solved to optimality (subject to tolerances), and an optimal solution is available.\n",
            "  Statistics: \n",
            "    Branch and bound: \n",
            "      Number of bounded subproblems: None\n",
            "      Number of created subproblems: None\n",
            "    Black box: \n",
            "      Number of iterations: 2\n",
            "  Error rc: 0\n",
            "  Time: 0.012163639068603516\n",
            "Solution: \n",
            "- number of solutions: 0\n",
            "  number of solutions displayed: 0\n",
            "\n",
            "Solver status: ok\n",
            "Solver termination condition: optimal\n"
          ]
        }
      ]
    },
    {
      "cell_type": "code",
      "source": [
        "print('\\nObjective = ', model1.objective())\n",
        "\n",
        "print('\\nDecision Variables')\n",
        "for i in col_indices:\n",
        "  print('x[',i,'] = ', model1.x[i].value)\n",
        "\n",
        "print('\\nConstraints')\n",
        "model1.constraints.display()"
      ],
      "metadata": {
        "colab": {
          "base_uri": "https://localhost:8080/"
        },
        "id": "r4so0uF9VNB1",
        "outputId": "3302fc86-baf6-4f5a-a17c-7f756f198158"
      },
      "execution_count": null,
      "outputs": [
        {
          "output_type": "stream",
          "name": "stdout",
          "text": [
            "\n",
            "Objective =  788.9752701\n",
            "\n",
            "Decision Variables\n",
            "x[ 0 ] =  16.247154\n",
            "x[ 1 ] =  420.0\n",
            "x[ 2 ] =  0.0\n",
            "x[ 3 ] =  0.0\n",
            "x[ 4 ] =  0.0\n",
            "x[ 5 ] =  15.447154\n",
            "\n",
            "Constraints\n",
            "constraints : Size=5\n",
            "    Key : Lower : Body               : Upper\n",
            "      1 :  None :          -8.123577 :  24.8\n",
            "      2 :  None : 0.7999999999999989 :   0.8\n",
            "      3 :  None :      -1231.9024386 : -71.4\n",
            "      4 :  None :         94.9999971 :  95.0\n",
            "      5 :  None :       -599.3730078 : -47.0\n"
          ]
        }
      ]
    },
    {
      "cell_type": "markdown",
      "source": [
        "when i change the upper bound then i got the optimal objective function value."
      ],
      "metadata": {
        "id": "HKavtM0WJMg-"
      }
    },
    {
      "cell_type": "markdown",
      "source": [
        "# constraints 1\n",
        "Constraint 1 is inactive because LHS and RHS are not equal\n",
        "# constraints 2\n",
        "Constraint 2 is active because LHS and RHS are equal\n",
        "# constraints 3\n",
        "Constraint 3 is inactive because LHS and RHS are not equal\n",
        "# constraints 4\n",
        "Constraint 4 is active because LHS and RHS are equal\n",
        "# constraints 5\n",
        "Constraint 5 is inactive because LHS and RHS are not equal\n"
      ],
      "metadata": {
        "id": "o4jXLHpNJfaD"
      }
    },
    {
      "cell_type": "code",
      "source": [],
      "metadata": {
        "id": "riCfuU2kV1Sd"
      },
      "execution_count": null,
      "outputs": []
    }
  ]
}