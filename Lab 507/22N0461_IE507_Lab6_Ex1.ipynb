{
  "nbformat": 4,
  "nbformat_minor": 0,
  "metadata": {
    "colab": {
      "provenance": [],
      "collapsed_sections": []
    },
    "kernelspec": {
      "name": "python3",
      "display_name": "Python 3"
    },
    "language_info": {
      "name": "python"
    }
  },
  "cells": [
    {
      "cell_type": "markdown",
      "source": [
        "## **Exercise 1 Solution**"
      ],
      "metadata": {
        "id": "plGa_ouAbU_I"
      }
    },
    {
      "cell_type": "markdown",
      "source": [
        "# Exercise 1(1)\n",
        "\n",
        "For solving this problem, we can associate a decision variable $x_{ij}$ for denoting the number of truck load of EVs transported from warehouses $i$ to markets $j$.\n",
        "\n",
        "Let  i  take values from the set  {1,2,3,4,5,6,7,8}  corresponding to Ahmedabad, Bangaluru, Channi, Delhi, Kolkata, Lucknow, Mumbai and Hyderabad. Let  j  take values from the set  {1,2,3,4,5,6,7,8}  corresponding to Hassan, Jodhpur, Trichy, Simla, Vijayawada, Dibrugarh, Raipur and Agartala.\n",
        "\n",
        "Then we can see that the number of truck load of EVs transported from Ahmedhabad to the eight markets is given by the sum $\\sum_{j=1}^{8} x_{1j}$. \n",
        "Similarly, the number of truck load of EVs transported from Bengaluru to the eight markets is given by $\\sum_{j=1}^{8} x_{2j}$ ,\n",
        "the number of truck load of EVs transported from Chennai to the eight markets is given by $\\sum_{j=1}^{8} x_{3j}$ , \n",
        "the number of truck load of EVs transported from Delhi to the eight markets is given by $\\sum_{j=1}^{8} x_{4j}$ ,\n",
        "the number of truck load of EVs transported from Kolkata to the eight markets is given by $\\sum_{j=1}^{8} x_{5j}$ ,\n",
        "the number of truck load of EVs transported from Lucknow to the eight markets is given by $\\sum_{j=1}^{8} x_{6j}$ ,\n",
        "the number of truck load of EVs transported from Mumbai to the eight markets is given by $\\sum_{j=1}^{8} x_{7j}$ \n",
        "And the number of truck load of EVs transported from Hyderabad to the eight markets is given by $\\sum_{j=1}^{8} x_{8j}$.\n",
        "From the constraints on the Available Stock, we can thus write: \n",
        "\\begin{align}\n",
        "\\sum_{j=1}^{8} x_{1j} &\\leq 350 \\nonumber \\\\\n",
        "\\sum_{j=1}^{8} x_{2j} &\\leq 185 \\nonumber \\\\\n",
        "\\sum_{j=1}^{8} x_{3j} &\\leq 305 \\nonumber \\\\\n",
        "\\sum_{j=1}^{8} x_{4j} &\\leq 180 \\nonumber \\\\\n",
        "\\sum_{j=1}^{8} x_{5j} &\\leq 205 \\nonumber \\\\\n",
        "\\sum_{j=1}^{8} x_{6j} &\\leq 175 \\nonumber \\\\\n",
        "\\sum_{j=1}^{8} x_{7j} &\\leq 325 \\nonumber \\\\\n",
        "\\sum_{j=1}^{8} x_{8j} &\\leq 370 \\nonumber \\\\\n",
        "\\end{align}\n",
        "\n",
        "Also, note that the number of truck load of EVs reaching Hassan from the eight warehouses is given by the sum $\\sum_{i=1}^{8} x_{i1}$.\n",
        "The number of truck load of EVs reaching Jodhpur from the eight warehouses is given by the sum $\\sum_{i=1}^{8} x_{i2}$.\n",
        "The number of truck load of EVs reaching Jodhpur from the eight warehouses is given by the sum $\\sum_{i=1}^{8} x_{i3}$.\n",
        "The number of truck load of EVs reaching Jodhpur from the eight warehouses is given by the sum $\\sum_{i=1}^{8} x_{i4}$.\n",
        "The number of truck load of EVs reaching Jodhpur from the eight warehouses is given by the sum $\\sum_{i=1}^{8} x_{i5}$.\n",
        "The number of truck load of EVs reaching Jodhpur from the eight warehouses is given by the sum $\\sum_{i=1}^{8} x_{i6}$.\n",
        "The number of truck load of EVs reaching Jodhpur from the eight warehouses is given by the sum $\\sum_{i=1}^{8} x_{i7}$.\n",
        "The number of truck load of EVs reaching Jodhpur from the eight warehouses is given by the sum $\\sum_{i=1}^{8} x_{i8}$.\n",
        "\n",
        "To satisfy the demands at the eight markets, we thus need the following constraints:\n",
        "\n",
        "\\begin{align}\n",
        "\\sum_{i=1}^{8} x_{i1} &= 205 \\nonumber \\\\\n",
        "\\sum_{i=1}^{8} x_{i2} &= 300 \\nonumber \\\\\n",
        "\\sum_{i=1}^{8} x_{i3} &= 425 \\nonumber \\\\\n",
        "\\sum_{i=1}^{8} x_{i4} &= 270 \\nonumber \\\\\n",
        "\\sum_{i=1}^{8} x_{i5} &= 375 \\nonumber \\\\\n",
        "\\sum_{i=1}^{8} x_{i6} &= 225 \\nonumber \\\\\n",
        "\\sum_{i=1}^{8} x_{i7} &= 185 \\nonumber \\\\\n",
        "\\sum_{i=1}^{8} x_{i8} &= 110 \\nonumber \\\\\n",
        "\\end{align}\n",
        "\n",
        "Also note that the number truck load of Es transported between a warehouses $i$ and a markets $j$ must be non-negative. This gives us the constraint $x_{ij} \\geq 0, \\ \\forall i \\in \\{1,2,3,4,5,6,7,8\\}, \\ \\forall j \\in \\{1,2,3,4,6,7,8\\}$.\n",
        "\n",
        "Now we shall formulate the objective function. Since $x_{ij}$ trucks are transported between warehouse $i$ and markets $j$, and since we know the transportation cost of each truck along the route between warehouse $i$ and markets $j$, we have the total transportation cost as below: \n",
        "\n",
        "$827 x_{11} + 817 x_{12} + 1470 x_{13} + 2272 x_{14} + 1615 x_{15} + 3143 x_{16} + 1264 x_{17} + 4465 x_{18} + 559 x_{21} + 1832 x_{22} + 751 x_{23} + 3772 x_{24} + 637 x_{25} + 3773 x_{26} + 1856 x_{27} + 5459 x_{28} + 1109 x_{31} + 2443 x_{32} + 577 x_{33} + 3865 x_{34} + 798 x_{35} + 3521 x_{36} + 1984 x_{37} + 5303 x_{38} + 2943 x_{41} + 1471 x_{42} + 4676 x_{43} + 1337 x_{44} + 2702 x_{45} + 2741 x_{46} + 2482 x_{47} + 4148 x_{48} + 3742 x_{51} + 3089 x_{52} + 2931 x_{53} + 3199 x_{54} + 2226 x_{55} + 1739 x_{56} + 1691 x_{57} + 2128 x_{58} + 2353 x_{61} + 1160 x_{62} + 3295 x_{63} + 368 x_{64} + 2369 x_{65} + 2365 x_{66} + 1293 x_{67} + 3642 x_{68} + 1356 x_{71} + 1617 x_{72} + 2045 x_{73} + 2941 x_{74} + 2334 x_{75} + 4151 x_{76} + 1937 x_{77} + 4287 x_{78} + 195 x_{81} + 1862 x_{82} + 1331 x_{83} + 2921 x_{84} + 402 x_{85} + 2825 x_{86} + 563 x_{87} + 4441 x_{88}$.\n",
        "\n",
        "***Thus we have the following optimization problem:***\n",
        "\n",
        "\\begin{align}\n",
        "\\min  \\ 827 x_{11} + 817 x_{12} + 1470 x_{13} + 2272 x_{14} + 1615 x_{15} + 3143 x_{16} + 1264 x_{17} + 4465 x_{18} + 559 x_{21} + 1832 x_{22} + 751 x_{23} + 3772 x_{24} + 637 x_{25} + 3773 x_{26} + 1856 x_{27} + 5459 x_{28} + 1109 x_{31} + 2443 x_{32} + 577 x_{33} + 3865 x_{34} + 798 x_{35} + 3521 x_{36} + 1984 x_{37} + 5303 x_{38} + 2943 x_{41} + 1471 x_{42} + 4676 x_{43} + 1337 x_{44} + 2702 x_{45} + 2741 x_{46} + 2482 x_{47} + 4148 x_{48} + 3742 x_{51} + 3089 x_{52} + 2931 x_{53} + 3199 x_{54} + 2226 x_{55} + 1739 x_{56} + 1691 x_{57} + 2128 x_{58} + 2353 x_{61} + 1160 x_{62} + 3295 x_{63} + 368 x_{64} + 2369 x_{65} + 2365 x_{66} + 1293 x_{67} + 3642 x_{68} + 1356 x_{71} + 1617 x_{72} + 2045 x_{73} + 2941 x_{74} + 2334 x_{75} + 4151 x_{76} + 1937 x_{77} + 4287 x_{78} + 195 x_{81} + 1862 x_{82} + 1331 x_{83} + 2921 x_{84} + 402 x_{85} + 2825 x_{86} + 563 x_{87} + 4441 x_{88} \\nonumber \\\\\n",
        "{\\rm{s.t. }} \\ \\sum_{j=1}^{8} x_{1j} &\\leq 350 \\nonumber \\\\\n",
        "\\sum_{j=1}^{8} x_{2j} &\\leq 185 \\nonumber \\\\\n",
        "\\sum_{j=1}^{8} x_{3j} &\\leq 305 \\nonumber \\\\\n",
        "\\sum_{j=1}^{8} x_{4j} &\\leq 180 \\nonumber \\\\\n",
        "\\sum_{j=1}^{8} x_{5j} &\\leq 205 \\nonumber \\\\\n",
        "\\sum_{j=1}^{8} x_{6j} &\\leq 175 \\nonumber \\\\\n",
        "\\sum_{j=1}^{8} x_{7j} &\\leq 325 \\nonumber \\\\\n",
        "\\sum_{j=1}^{8} x_{8j} &\\leq 370 \\nonumber \\\\\n",
        "\\text{ and } \\nonumber \\\\  \n",
        "\\sum_{i=1}^{8} x_{i1} &= 205 \\nonumber \\\\\n",
        "\\sum_{i=1}^{8} x_{i2} &= 300 \\nonumber \\\\\n",
        "\\sum_{i=1}^{8} x_{i3} &= 425 \\nonumber \\\\\n",
        "\\sum_{i=1}^{8} x_{i4} &= 270 \\nonumber \\\\\n",
        "\\sum_{i=1}^{8} x_{i5} &= 375 \\nonumber \\\\\n",
        "\\sum_{i=1}^{8} x_{i6} &= 225 \\nonumber \\\\\n",
        "\\sum_{i=1}^{8} x_{i7} &= 185 \\nonumber \\\\\n",
        "\\sum_{i=1}^{8} x_{i8} &= 110 \\nonumber \\\\\n",
        "\\text{ and } \\nonumber \\\\ \n",
        "\\ x_{ij} \\geq 0, \\ \\forall i \\in \\{1,2,3,4,5,6,7,8\\}, \\ \\forall j \\in \\{1,2,3,4,6,7,8\\} \\nonumber \\\\\n",
        "\\end{align}\n"
      ],
      "metadata": {
        "id": "MOTzqJSEbgHS"
      }
    },
    {
      "cell_type": "code",
      "execution_count": null,
      "metadata": {
        "id": "uo3vq0gKQB9q",
        "colab": {
          "base_uri": "https://localhost:8080/"
        },
        "outputId": "92adda7f-ecec-4bfc-87b3-59f783922748"
      },
      "outputs": [
        {
          "output_type": "stream",
          "name": "stdout",
          "text": [
            "\u001b[K     |████████████████████████████████| 9.7 MB 3.7 MB/s \n",
            "\u001b[K     |████████████████████████████████| 49 kB 4.5 MB/s \n",
            "\u001b[?25h"
          ]
        }
      ],
      "source": [
        "!pip install -q pyomo\n",
        "from pyomo.environ import * \n",
        "import numpy as np"
      ]
    },
    {
      "cell_type": "code",
      "source": [
        "import pandas as pd"
      ],
      "metadata": {
        "id": "cTwZwkQFcJle"
      },
      "execution_count": null,
      "outputs": []
    },
    {
      "cell_type": "code",
      "source": [
        "data_csvfile = pd.read_csv('lab6_ex1.csv')"
      ],
      "metadata": {
        "id": "HNKVIz2wcRj_"
      },
      "execution_count": null,
      "outputs": []
    },
    {
      "cell_type": "code",
      "source": [
        "print(data_csvfile)"
      ],
      "metadata": {
        "colab": {
          "base_uri": "https://localhost:8080/"
        },
        "id": "0Y1G_hFpcbuF",
        "outputId": "f528a6a7-de8b-45a7-b2af-887b3a4c2488"
      },
      "execution_count": null,
      "outputs": [
        {
          "output_type": "stream",
          "name": "stdout",
          "text": [
            "    Warehouse  Hassan  Jodhpur  Trichy  Simla  VIjayawada  Dibrugarh  Raipur  \\\n",
            "0  Ahmedabad      827      817    1470   2272        1615       3143    1264   \n",
            "1   Bengaluru     559     1832     751   3772         637       3773    1856   \n",
            "2     Channai    1109     2443     577   3865         798       3521    1984   \n",
            "3       Delhi    2943     1471    4676   1337        2702       2741    2482   \n",
            "4     Kolkata    3742     3089    2931   3199        2226       1739    1691   \n",
            "5     Lucknow    2353     1160    3295    368        2369       2365    1293   \n",
            "6      Mumbai    1356     1617    2045   2941        2334       4151    1937   \n",
            "7   Hyderabad     195     1862    1331   2921         402       2825     563   \n",
            "8      Demand     205      300     425    270         375        225     185   \n",
            "\n",
            "   Agartala   Astock  \n",
            "0      4465      350  \n",
            "1      5459      185  \n",
            "2      5303      305  \n",
            "3      4148      180  \n",
            "4      2128      205  \n",
            "5      3642      175  \n",
            "6      4287      325  \n",
            "7      4441      370  \n",
            "8       110     2095  \n"
          ]
        }
      ]
    },
    {
      "cell_type": "code",
      "source": [
        "data_csvfile.index"
      ],
      "metadata": {
        "colab": {
          "base_uri": "https://localhost:8080/"
        },
        "id": "SV1eo4FOcl54",
        "outputId": "6b6c8183-7b96-43bf-da30-2a8aafa4668d"
      },
      "execution_count": null,
      "outputs": [
        {
          "output_type": "execute_result",
          "data": {
            "text/plain": [
              "RangeIndex(start=0, stop=9, step=1)"
            ]
          },
          "metadata": {},
          "execution_count": 5
        }
      ]
    },
    {
      "cell_type": "code",
      "source": [
        "print('num rows:', len(data_csvfile.index))"
      ],
      "metadata": {
        "colab": {
          "base_uri": "https://localhost:8080/"
        },
        "id": "FTKl6VXYctEi",
        "outputId": "6e268759-1900-414d-e283-81c6096ac495"
      },
      "execution_count": null,
      "outputs": [
        {
          "output_type": "stream",
          "name": "stdout",
          "text": [
            "num rows: 9\n"
          ]
        }
      ]
    },
    {
      "cell_type": "code",
      "source": [
        "data_csvfile.columns"
      ],
      "metadata": {
        "colab": {
          "base_uri": "https://localhost:8080/"
        },
        "id": "3hn55Q68cxJL",
        "outputId": "c000b51a-6c62-4be3-d798-e0753d5f740a"
      },
      "execution_count": null,
      "outputs": [
        {
          "output_type": "execute_result",
          "data": {
            "text/plain": [
              "Index(['Warehouse', 'Hassan', 'Jodhpur', 'Trichy', 'Simla', 'VIjayawada',\n",
              "       'Dibrugarh', 'Raipur', 'Agartala', ' Astock'],\n",
              "      dtype='object')"
            ]
          },
          "metadata": {},
          "execution_count": 7
        }
      ]
    },
    {
      "cell_type": "code",
      "source": [
        "print('num  columns: ',len(data_csvfile.columns))"
      ],
      "metadata": {
        "colab": {
          "base_uri": "https://localhost:8080/"
        },
        "id": "6xeEvr2FdHTd",
        "outputId": "03306350-2093-491f-d180-4c398b1aae86"
      },
      "execution_count": null,
      "outputs": [
        {
          "output_type": "stream",
          "name": "stdout",
          "text": [
            "num  columns:  10\n"
          ]
        }
      ]
    },
    {
      "cell_type": "code",
      "source": [
        "model_lab5_ex1 = ConcreteModel()"
      ],
      "metadata": {
        "id": "bGfTBYysdLH4"
      },
      "execution_count": null,
      "outputs": []
    },
    {
      "cell_type": "code",
      "source": [
        "M = len(data_csvfile.index)-1\n",
        "print('num warehouses: ',M)"
      ],
      "metadata": {
        "colab": {
          "base_uri": "https://localhost:8080/"
        },
        "id": "EIisniAudQGK",
        "outputId": "40e09ad4-5f4c-4b52-f7eb-759d5c438f75"
      },
      "execution_count": null,
      "outputs": [
        {
          "output_type": "stream",
          "name": "stdout",
          "text": [
            "num warehouses:  8\n"
          ]
        }
      ]
    },
    {
      "cell_type": "code",
      "source": [
        "N = len(data_csvfile.columns)-2\n",
        "print('num Markets: ',N)"
      ],
      "metadata": {
        "colab": {
          "base_uri": "https://localhost:8080/"
        },
        "id": "aIpByTkZdYS3",
        "outputId": "e219a2be-1c8f-4dda-f9fe-414f5a21ac08"
      },
      "execution_count": null,
      "outputs": [
        {
          "output_type": "stream",
          "name": "stdout",
          "text": [
            "num Markets:  8\n"
          ]
        }
      ]
    },
    {
      "cell_type": "code",
      "source": [
        "row_indices = range(M)\n",
        "col_indices = range(N)\n",
        "\n",
        "print(row_indices)\n",
        "print(col_indices)"
      ],
      "metadata": {
        "colab": {
          "base_uri": "https://localhost:8080/"
        },
        "id": "xyVLAXamdeDv",
        "outputId": "6b38c38c-12ea-4576-f7b8-d951b8246fa4"
      },
      "execution_count": null,
      "outputs": [
        {
          "output_type": "stream",
          "name": "stdout",
          "text": [
            "range(0, 8)\n",
            "range(0, 8)\n"
          ]
        }
      ]
    },
    {
      "cell_type": "code",
      "source": [
        "for row_idx in row_indices:\n",
        "  for col_idx in col_indices:\n",
        "    print('cost[',row_idx,'][',col_idx+1,']:',data_csvfile.iloc[row_idx, col_idx+1])"
      ],
      "metadata": {
        "colab": {
          "base_uri": "https://localhost:8080/"
        },
        "id": "JCgYbwOldg14",
        "outputId": "3ef145ca-9762-4080-8b83-6e9a7a8ad6b0"
      },
      "execution_count": null,
      "outputs": [
        {
          "output_type": "stream",
          "name": "stdout",
          "text": [
            "cost[ 0 ][ 1 ]: 827\n",
            "cost[ 0 ][ 2 ]: 817\n",
            "cost[ 0 ][ 3 ]: 1470\n",
            "cost[ 0 ][ 4 ]: 2272\n",
            "cost[ 0 ][ 5 ]: 1615\n",
            "cost[ 0 ][ 6 ]: 3143\n",
            "cost[ 0 ][ 7 ]: 1264\n",
            "cost[ 0 ][ 8 ]: 4465\n",
            "cost[ 1 ][ 1 ]: 559\n",
            "cost[ 1 ][ 2 ]: 1832\n",
            "cost[ 1 ][ 3 ]: 751\n",
            "cost[ 1 ][ 4 ]: 3772\n",
            "cost[ 1 ][ 5 ]: 637\n",
            "cost[ 1 ][ 6 ]: 3773\n",
            "cost[ 1 ][ 7 ]: 1856\n",
            "cost[ 1 ][ 8 ]: 5459\n",
            "cost[ 2 ][ 1 ]: 1109\n",
            "cost[ 2 ][ 2 ]: 2443\n",
            "cost[ 2 ][ 3 ]: 577\n",
            "cost[ 2 ][ 4 ]: 3865\n",
            "cost[ 2 ][ 5 ]: 798\n",
            "cost[ 2 ][ 6 ]: 3521\n",
            "cost[ 2 ][ 7 ]: 1984\n",
            "cost[ 2 ][ 8 ]: 5303\n",
            "cost[ 3 ][ 1 ]: 2943\n",
            "cost[ 3 ][ 2 ]: 1471\n",
            "cost[ 3 ][ 3 ]: 4676\n",
            "cost[ 3 ][ 4 ]: 1337\n",
            "cost[ 3 ][ 5 ]: 2702\n",
            "cost[ 3 ][ 6 ]: 2741\n",
            "cost[ 3 ][ 7 ]: 2482\n",
            "cost[ 3 ][ 8 ]: 4148\n",
            "cost[ 4 ][ 1 ]: 3742\n",
            "cost[ 4 ][ 2 ]: 3089\n",
            "cost[ 4 ][ 3 ]: 2931\n",
            "cost[ 4 ][ 4 ]: 3199\n",
            "cost[ 4 ][ 5 ]: 2226\n",
            "cost[ 4 ][ 6 ]: 1739\n",
            "cost[ 4 ][ 7 ]: 1691\n",
            "cost[ 4 ][ 8 ]: 2128\n",
            "cost[ 5 ][ 1 ]: 2353\n",
            "cost[ 5 ][ 2 ]: 1160\n",
            "cost[ 5 ][ 3 ]: 3295\n",
            "cost[ 5 ][ 4 ]: 368\n",
            "cost[ 5 ][ 5 ]: 2369\n",
            "cost[ 5 ][ 6 ]: 2365\n",
            "cost[ 5 ][ 7 ]: 1293\n",
            "cost[ 5 ][ 8 ]: 3642\n",
            "cost[ 6 ][ 1 ]: 1356\n",
            "cost[ 6 ][ 2 ]: 1617\n",
            "cost[ 6 ][ 3 ]: 2045\n",
            "cost[ 6 ][ 4 ]: 2941\n",
            "cost[ 6 ][ 5 ]: 2334\n",
            "cost[ 6 ][ 6 ]: 4151\n",
            "cost[ 6 ][ 7 ]: 1937\n",
            "cost[ 6 ][ 8 ]: 4287\n",
            "cost[ 7 ][ 1 ]: 195\n",
            "cost[ 7 ][ 2 ]: 1862\n",
            "cost[ 7 ][ 3 ]: 1331\n",
            "cost[ 7 ][ 4 ]: 2921\n",
            "cost[ 7 ][ 5 ]: 402\n",
            "cost[ 7 ][ 6 ]: 2825\n",
            "cost[ 7 ][ 7 ]: 563\n",
            "cost[ 7 ][ 8 ]: 4441\n"
          ]
        }
      ]
    },
    {
      "cell_type": "code",
      "source": [
        "model_lab5_ex1.x = Var(row_indices, col_indices, domain= NonNegativeReals)\n",
        "model_lab5_ex1.objective = Objective(expr=sum(data_csvfile.iloc[i,j+1]*model_lab5_ex1.x[i,j] for i in row_indices for j in col_indices),sense=minimize)\n",
        "model_lab5_ex1.constraints = ConstraintList()"
      ],
      "metadata": {
        "id": "WaleAHPDdkiF"
      },
      "execution_count": null,
      "outputs": []
    },
    {
      "cell_type": "code",
      "source": [
        "for i in row_indices:\n",
        "  model_lab5_ex1.constraints.add(expr=sum(model_lab5_ex1.x[i,j] for j in col_indices) <= data_csvfile.iloc[i,N+1]) "
      ],
      "metadata": {
        "id": "9cU0gAhYd0bW"
      },
      "execution_count": null,
      "outputs": []
    },
    {
      "cell_type": "code",
      "source": [
        "for j in col_indices:\n",
        "  model_lab5_ex1.constraints.add(expr=sum(model_lab5_ex1.x[i,j] for i in row_indices) == data_csvfile.iloc[M,j+1])\n"
      ],
      "metadata": {
        "id": "F2awNrymebxv"
      },
      "execution_count": null,
      "outputs": []
    },
    {
      "cell_type": "code",
      "source": [
        "model_lab5_ex1.pprint()"
      ],
      "metadata": {
        "colab": {
          "base_uri": "https://localhost:8080/"
        },
        "id": "lePVD01weyUv",
        "outputId": "1e09a49c-a18a-4e9a-f744-476dfb7c65f4"
      },
      "execution_count": null,
      "outputs": [
        {
          "output_type": "stream",
          "name": "stdout",
          "text": [
            "4 Set Declarations\n",
            "    constraints_index : Size=1, Index=None, Ordered=Insertion\n",
            "        Key  : Dimen : Domain : Size : Members\n",
            "        None :     1 :    Any :   16 : {1, 2, 3, 4, 5, 6, 7, 8, 9, 10, 11, 12, 13, 14, 15, 16}\n",
            "    x_index : Size=1, Index=None, Ordered=True\n",
            "        Key  : Dimen : Domain              : Size : Members\n",
            "        None :     2 : x_index_0*x_index_1 :   64 : {(0, 0), (0, 1), (0, 2), (0, 3), (0, 4), (0, 5), (0, 6), (0, 7), (1, 0), (1, 1), (1, 2), (1, 3), (1, 4), (1, 5), (1, 6), (1, 7), (2, 0), (2, 1), (2, 2), (2, 3), (2, 4), (2, 5), (2, 6), (2, 7), (3, 0), (3, 1), (3, 2), (3, 3), (3, 4), (3, 5), (3, 6), (3, 7), (4, 0), (4, 1), (4, 2), (4, 3), (4, 4), (4, 5), (4, 6), (4, 7), (5, 0), (5, 1), (5, 2), (5, 3), (5, 4), (5, 5), (5, 6), (5, 7), (6, 0), (6, 1), (6, 2), (6, 3), (6, 4), (6, 5), (6, 6), (6, 7), (7, 0), (7, 1), (7, 2), (7, 3), (7, 4), (7, 5), (7, 6), (7, 7)}\n",
            "    x_index_0 : Size=1, Index=None, Ordered=Insertion\n",
            "        Key  : Dimen : Domain : Size : Members\n",
            "        None :     1 :    Any :    8 : {0, 1, 2, 3, 4, 5, 6, 7}\n",
            "    x_index_1 : Size=1, Index=None, Ordered=Insertion\n",
            "        Key  : Dimen : Domain : Size : Members\n",
            "        None :     1 :    Any :    8 : {0, 1, 2, 3, 4, 5, 6, 7}\n",
            "\n",
            "1 Var Declarations\n",
            "    x : Size=64, Index=x_index\n",
            "        Key    : Lower : Value : Upper : Fixed : Stale : Domain\n",
            "        (0, 0) :     0 :  None :  None : False :  True : NonNegativeReals\n",
            "        (0, 1) :     0 :  None :  None : False :  True : NonNegativeReals\n",
            "        (0, 2) :     0 :  None :  None : False :  True : NonNegativeReals\n",
            "        (0, 3) :     0 :  None :  None : False :  True : NonNegativeReals\n",
            "        (0, 4) :     0 :  None :  None : False :  True : NonNegativeReals\n",
            "        (0, 5) :     0 :  None :  None : False :  True : NonNegativeReals\n",
            "        (0, 6) :     0 :  None :  None : False :  True : NonNegativeReals\n",
            "        (0, 7) :     0 :  None :  None : False :  True : NonNegativeReals\n",
            "        (1, 0) :     0 :  None :  None : False :  True : NonNegativeReals\n",
            "        (1, 1) :     0 :  None :  None : False :  True : NonNegativeReals\n",
            "        (1, 2) :     0 :  None :  None : False :  True : NonNegativeReals\n",
            "        (1, 3) :     0 :  None :  None : False :  True : NonNegativeReals\n",
            "        (1, 4) :     0 :  None :  None : False :  True : NonNegativeReals\n",
            "        (1, 5) :     0 :  None :  None : False :  True : NonNegativeReals\n",
            "        (1, 6) :     0 :  None :  None : False :  True : NonNegativeReals\n",
            "        (1, 7) :     0 :  None :  None : False :  True : NonNegativeReals\n",
            "        (2, 0) :     0 :  None :  None : False :  True : NonNegativeReals\n",
            "        (2, 1) :     0 :  None :  None : False :  True : NonNegativeReals\n",
            "        (2, 2) :     0 :  None :  None : False :  True : NonNegativeReals\n",
            "        (2, 3) :     0 :  None :  None : False :  True : NonNegativeReals\n",
            "        (2, 4) :     0 :  None :  None : False :  True : NonNegativeReals\n",
            "        (2, 5) :     0 :  None :  None : False :  True : NonNegativeReals\n",
            "        (2, 6) :     0 :  None :  None : False :  True : NonNegativeReals\n",
            "        (2, 7) :     0 :  None :  None : False :  True : NonNegativeReals\n",
            "        (3, 0) :     0 :  None :  None : False :  True : NonNegativeReals\n",
            "        (3, 1) :     0 :  None :  None : False :  True : NonNegativeReals\n",
            "        (3, 2) :     0 :  None :  None : False :  True : NonNegativeReals\n",
            "        (3, 3) :     0 :  None :  None : False :  True : NonNegativeReals\n",
            "        (3, 4) :     0 :  None :  None : False :  True : NonNegativeReals\n",
            "        (3, 5) :     0 :  None :  None : False :  True : NonNegativeReals\n",
            "        (3, 6) :     0 :  None :  None : False :  True : NonNegativeReals\n",
            "        (3, 7) :     0 :  None :  None : False :  True : NonNegativeReals\n",
            "        (4, 0) :     0 :  None :  None : False :  True : NonNegativeReals\n",
            "        (4, 1) :     0 :  None :  None : False :  True : NonNegativeReals\n",
            "        (4, 2) :     0 :  None :  None : False :  True : NonNegativeReals\n",
            "        (4, 3) :     0 :  None :  None : False :  True : NonNegativeReals\n",
            "        (4, 4) :     0 :  None :  None : False :  True : NonNegativeReals\n",
            "        (4, 5) :     0 :  None :  None : False :  True : NonNegativeReals\n",
            "        (4, 6) :     0 :  None :  None : False :  True : NonNegativeReals\n",
            "        (4, 7) :     0 :  None :  None : False :  True : NonNegativeReals\n",
            "        (5, 0) :     0 :  None :  None : False :  True : NonNegativeReals\n",
            "        (5, 1) :     0 :  None :  None : False :  True : NonNegativeReals\n",
            "        (5, 2) :     0 :  None :  None : False :  True : NonNegativeReals\n",
            "        (5, 3) :     0 :  None :  None : False :  True : NonNegativeReals\n",
            "        (5, 4) :     0 :  None :  None : False :  True : NonNegativeReals\n",
            "        (5, 5) :     0 :  None :  None : False :  True : NonNegativeReals\n",
            "        (5, 6) :     0 :  None :  None : False :  True : NonNegativeReals\n",
            "        (5, 7) :     0 :  None :  None : False :  True : NonNegativeReals\n",
            "        (6, 0) :     0 :  None :  None : False :  True : NonNegativeReals\n",
            "        (6, 1) :     0 :  None :  None : False :  True : NonNegativeReals\n",
            "        (6, 2) :     0 :  None :  None : False :  True : NonNegativeReals\n",
            "        (6, 3) :     0 :  None :  None : False :  True : NonNegativeReals\n",
            "        (6, 4) :     0 :  None :  None : False :  True : NonNegativeReals\n",
            "        (6, 5) :     0 :  None :  None : False :  True : NonNegativeReals\n",
            "        (6, 6) :     0 :  None :  None : False :  True : NonNegativeReals\n",
            "        (6, 7) :     0 :  None :  None : False :  True : NonNegativeReals\n",
            "        (7, 0) :     0 :  None :  None : False :  True : NonNegativeReals\n",
            "        (7, 1) :     0 :  None :  None : False :  True : NonNegativeReals\n",
            "        (7, 2) :     0 :  None :  None : False :  True : NonNegativeReals\n",
            "        (7, 3) :     0 :  None :  None : False :  True : NonNegativeReals\n",
            "        (7, 4) :     0 :  None :  None : False :  True : NonNegativeReals\n",
            "        (7, 5) :     0 :  None :  None : False :  True : NonNegativeReals\n",
            "        (7, 6) :     0 :  None :  None : False :  True : NonNegativeReals\n",
            "        (7, 7) :     0 :  None :  None : False :  True : NonNegativeReals\n",
            "\n",
            "1 Objective Declarations\n",
            "    objective : Size=1, Index=None, Active=True\n",
            "        Key  : Active : Sense    : Expression\n",
            "        None :   True : minimize : 827*x[0,0] + 817*x[0,1] + 1470*x[0,2] + 2272*x[0,3] + 1615*x[0,4] + 3143*x[0,5] + 1264*x[0,6] + 4465*x[0,7] + 559*x[1,0] + 1832*x[1,1] + 751*x[1,2] + 3772*x[1,3] + 637*x[1,4] + 3773*x[1,5] + 1856*x[1,6] + 5459*x[1,7] + 1109*x[2,0] + 2443*x[2,1] + 577*x[2,2] + 3865*x[2,3] + 798*x[2,4] + 3521*x[2,5] + 1984*x[2,6] + 5303*x[2,7] + 2943*x[3,0] + 1471*x[3,1] + 4676*x[3,2] + 1337*x[3,3] + 2702*x[3,4] + 2741*x[3,5] + 2482*x[3,6] + 4148*x[3,7] + 3742*x[4,0] + 3089*x[4,1] + 2931*x[4,2] + 3199*x[4,3] + 2226*x[4,4] + 1739*x[4,5] + 1691*x[4,6] + 2128*x[4,7] + 2353*x[5,0] + 1160*x[5,1] + 3295*x[5,2] + 368*x[5,3] + 2369*x[5,4] + 2365*x[5,5] + 1293*x[5,6] + 3642*x[5,7] + 1356*x[6,0] + 1617*x[6,1] + 2045*x[6,2] + 2941*x[6,3] + 2334*x[6,4] + 4151*x[6,5] + 1937*x[6,6] + 4287*x[6,7] + 195*x[7,0] + 1862*x[7,1] + 1331*x[7,2] + 2921*x[7,3] + 402*x[7,4] + 2825*x[7,5] + 563*x[7,6] + 4441*x[7,7]\n",
            "\n",
            "1 Constraint Declarations\n",
            "    constraints : Size=16, Index=constraints_index, Active=True\n",
            "        Key : Lower : Body                                                                  : Upper : Active\n",
            "          1 :  -Inf : x[0,0] + x[0,1] + x[0,2] + x[0,3] + x[0,4] + x[0,5] + x[0,6] + x[0,7] : 350.0 :   True\n",
            "          2 :  -Inf : x[1,0] + x[1,1] + x[1,2] + x[1,3] + x[1,4] + x[1,5] + x[1,6] + x[1,7] : 185.0 :   True\n",
            "          3 :  -Inf : x[2,0] + x[2,1] + x[2,2] + x[2,3] + x[2,4] + x[2,5] + x[2,6] + x[2,7] : 305.0 :   True\n",
            "          4 :  -Inf : x[3,0] + x[3,1] + x[3,2] + x[3,3] + x[3,4] + x[3,5] + x[3,6] + x[3,7] : 180.0 :   True\n",
            "          5 :  -Inf : x[4,0] + x[4,1] + x[4,2] + x[4,3] + x[4,4] + x[4,5] + x[4,6] + x[4,7] : 205.0 :   True\n",
            "          6 :  -Inf : x[5,0] + x[5,1] + x[5,2] + x[5,3] + x[5,4] + x[5,5] + x[5,6] + x[5,7] : 175.0 :   True\n",
            "          7 :  -Inf : x[6,0] + x[6,1] + x[6,2] + x[6,3] + x[6,4] + x[6,5] + x[6,6] + x[6,7] : 325.0 :   True\n",
            "          8 :  -Inf : x[7,0] + x[7,1] + x[7,2] + x[7,3] + x[7,4] + x[7,5] + x[7,6] + x[7,7] : 370.0 :   True\n",
            "          9 : 205.0 : x[0,0] + x[1,0] + x[2,0] + x[3,0] + x[4,0] + x[5,0] + x[6,0] + x[7,0] : 205.0 :   True\n",
            "         10 : 300.0 : x[0,1] + x[1,1] + x[2,1] + x[3,1] + x[4,1] + x[5,1] + x[6,1] + x[7,1] : 300.0 :   True\n",
            "         11 : 425.0 : x[0,2] + x[1,2] + x[2,2] + x[3,2] + x[4,2] + x[5,2] + x[6,2] + x[7,2] : 425.0 :   True\n",
            "         12 : 270.0 : x[0,3] + x[1,3] + x[2,3] + x[3,3] + x[4,3] + x[5,3] + x[6,3] + x[7,3] : 270.0 :   True\n",
            "         13 : 375.0 : x[0,4] + x[1,4] + x[2,4] + x[3,4] + x[4,4] + x[5,4] + x[6,4] + x[7,4] : 375.0 :   True\n",
            "         14 : 225.0 : x[0,5] + x[1,5] + x[2,5] + x[3,5] + x[4,5] + x[5,5] + x[6,5] + x[7,5] : 225.0 :   True\n",
            "         15 : 185.0 : x[0,6] + x[1,6] + x[2,6] + x[3,6] + x[4,6] + x[5,6] + x[6,6] + x[7,6] : 185.0 :   True\n",
            "         16 : 110.0 : x[0,7] + x[1,7] + x[2,7] + x[3,7] + x[4,7] + x[5,7] + x[6,7] + x[7,7] : 110.0 :   True\n",
            "\n",
            "7 Declarations: x_index_0 x_index_1 x_index x objective constraints_index constraints\n"
          ]
        }
      ]
    },
    {
      "cell_type": "code",
      "source": [
        "!apt-get install -y -qq coinor-cbc"
      ],
      "metadata": {
        "id": "5N6LuqftjnvR",
        "colab": {
          "base_uri": "https://localhost:8080/"
        },
        "outputId": "7dae1307-597a-477c-98bb-1c26ebb8ed40"
      },
      "execution_count": null,
      "outputs": [
        {
          "output_type": "stream",
          "name": "stdout",
          "text": [
            "Selecting previously unselected package coinor-libcoinutils3v5.\n",
            "(Reading database ... 155569 files and directories currently installed.)\n",
            "Preparing to unpack .../0-coinor-libcoinutils3v5_2.10.14+repack1-1_amd64.deb ...\n",
            "Unpacking coinor-libcoinutils3v5 (2.10.14+repack1-1) ...\n",
            "Selecting previously unselected package coinor-libosi1v5.\n",
            "Preparing to unpack .../1-coinor-libosi1v5_0.107.9+repack1-1_amd64.deb ...\n",
            "Unpacking coinor-libosi1v5 (0.107.9+repack1-1) ...\n",
            "Selecting previously unselected package coinor-libclp1.\n",
            "Preparing to unpack .../2-coinor-libclp1_1.16.11+repack1-1_amd64.deb ...\n",
            "Unpacking coinor-libclp1 (1.16.11+repack1-1) ...\n",
            "Selecting previously unselected package coinor-libcgl1.\n",
            "Preparing to unpack .../3-coinor-libcgl1_0.59.10+repack1-1_amd64.deb ...\n",
            "Unpacking coinor-libcgl1 (0.59.10+repack1-1) ...\n",
            "Selecting previously unselected package coinor-libcbc3.\n",
            "Preparing to unpack .../4-coinor-libcbc3_2.9.9+repack1-1_amd64.deb ...\n",
            "Unpacking coinor-libcbc3 (2.9.9+repack1-1) ...\n",
            "Selecting previously unselected package coinor-cbc.\n",
            "Preparing to unpack .../5-coinor-cbc_2.9.9+repack1-1_amd64.deb ...\n",
            "Unpacking coinor-cbc (2.9.9+repack1-1) ...\n",
            "Setting up coinor-libcoinutils3v5 (2.10.14+repack1-1) ...\n",
            "Setting up coinor-libosi1v5 (0.107.9+repack1-1) ...\n",
            "Setting up coinor-libclp1 (1.16.11+repack1-1) ...\n",
            "Setting up coinor-libcgl1 (0.59.10+repack1-1) ...\n",
            "Setting up coinor-libcbc3 (2.9.9+repack1-1) ...\n",
            "Setting up coinor-cbc (2.9.9+repack1-1) ...\n",
            "Processing triggers for man-db (2.8.3-2ubuntu0.1) ...\n",
            "Processing triggers for libc-bin (2.27-3ubuntu1.5) ...\n"
          ]
        }
      ]
    },
    {
      "cell_type": "code",
      "source": [
        "opt_cbc = SolverFactory('cbc')"
      ],
      "metadata": {
        "id": "JSP_6u4jjzRR"
      },
      "execution_count": null,
      "outputs": []
    },
    {
      "cell_type": "code",
      "source": [
        "result = opt_cbc.solve(model_lab5_ex1)\n",
        "print('Solver status:', result.solver.status)\n",
        "print('Solver termination condition:',result.solver.termination_condition)"
      ],
      "metadata": {
        "colab": {
          "base_uri": "https://localhost:8080/"
        },
        "id": "WZ1YFMnKj4yw",
        "outputId": "7a9892a4-2f0d-489e-e02f-71a2afb0c0b2"
      },
      "execution_count": null,
      "outputs": [
        {
          "output_type": "stream",
          "name": "stdout",
          "text": [
            "Solver status: ok\n",
            "Solver termination condition: optimal\n"
          ]
        }
      ]
    },
    {
      "cell_type": "code",
      "source": [
        "# display solution\n",
        "print('\\nObjective = ', model_lab5_ex1.objective())\n",
        "\n",
        "print('\\nDecision Variables')\n",
        "for i in row_indices:\n",
        "  for j in col_indices:\n",
        "    print('Num EVs between ',data_csvfile['Warehouse'][i],' and ', data_csvfile.columns[j+1],':', model_lab5_ex1.x[i,j].value)\n",
        "\n",
        "print('\\nConstraints')\n",
        "model_lab5_ex1.constraints.display()"
      ],
      "metadata": {
        "colab": {
          "base_uri": "https://localhost:8080/"
        },
        "id": "_GgPf9vaj5Yf",
        "outputId": "a8737f7e-ec15-46f4-e937-c4374dde431c"
      },
      "execution_count": null,
      "outputs": [
        {
          "output_type": "stream",
          "name": "stdout",
          "text": [
            "\n",
            "Objective =  2192870.0\n",
            "\n",
            "Decision Variables\n",
            "Num EVs between  Ahmedabad   and  Hassan : 0.0\n",
            "Num EVs between  Ahmedabad   and  Jodhpur : 300.0\n",
            "Num EVs between  Ahmedabad   and  Trichy : 0.0\n",
            "Num EVs between  Ahmedabad   and  Simla : 0.0\n",
            "Num EVs between  Ahmedabad   and  VIjayawada : 0.0\n",
            "Num EVs between  Ahmedabad   and  Dibrugarh : 45.0\n",
            "Num EVs between  Ahmedabad   and  Raipur : 5.0\n",
            "Num EVs between  Ahmedabad   and  Agartala : 0.0\n",
            "Num EVs between  Bengaluru  and  Hassan : 0.0\n",
            "Num EVs between  Bengaluru  and  Jodhpur : 0.0\n",
            "Num EVs between  Bengaluru  and  Trichy : 120.0\n",
            "Num EVs between  Bengaluru  and  Simla : 0.0\n",
            "Num EVs between  Bengaluru  and  VIjayawada : 65.0\n",
            "Num EVs between  Bengaluru  and  Dibrugarh : 0.0\n",
            "Num EVs between  Bengaluru  and  Raipur : 0.0\n",
            "Num EVs between  Bengaluru  and  Agartala : 0.0\n",
            "Num EVs between  Channai  and  Hassan : 0.0\n",
            "Num EVs between  Channai  and  Jodhpur : 0.0\n",
            "Num EVs between  Channai  and  Trichy : 305.0\n",
            "Num EVs between  Channai  and  Simla : 0.0\n",
            "Num EVs between  Channai  and  VIjayawada : 0.0\n",
            "Num EVs between  Channai  and  Dibrugarh : 0.0\n",
            "Num EVs between  Channai  and  Raipur : 0.0\n",
            "Num EVs between  Channai  and  Agartala : 0.0\n",
            "Num EVs between  Delhi  and  Hassan : 0.0\n",
            "Num EVs between  Delhi  and  Jodhpur : 0.0\n",
            "Num EVs between  Delhi  and  Trichy : 0.0\n",
            "Num EVs between  Delhi  and  Simla : 95.0\n",
            "Num EVs between  Delhi  and  VIjayawada : 0.0\n",
            "Num EVs between  Delhi  and  Dibrugarh : 85.0\n",
            "Num EVs between  Delhi  and  Raipur : 0.0\n",
            "Num EVs between  Delhi  and  Agartala : 0.0\n",
            "Num EVs between  Kolkata  and  Hassan : 0.0\n",
            "Num EVs between  Kolkata  and  Jodhpur : 0.0\n",
            "Num EVs between  Kolkata  and  Trichy : 0.0\n",
            "Num EVs between  Kolkata  and  Simla : 0.0\n",
            "Num EVs between  Kolkata  and  VIjayawada : 0.0\n",
            "Num EVs between  Kolkata  and  Dibrugarh : 95.0\n",
            "Num EVs between  Kolkata  and  Raipur : 0.0\n",
            "Num EVs between  Kolkata  and  Agartala : 110.0\n",
            "Num EVs between  Lucknow  and  Hassan : 0.0\n",
            "Num EVs between  Lucknow  and  Jodhpur : 0.0\n",
            "Num EVs between  Lucknow  and  Trichy : 0.0\n",
            "Num EVs between  Lucknow  and  Simla : 175.0\n",
            "Num EVs between  Lucknow  and  VIjayawada : 0.0\n",
            "Num EVs between  Lucknow  and  Dibrugarh : 0.0\n",
            "Num EVs between  Lucknow  and  Raipur : 0.0\n",
            "Num EVs between  Lucknow  and  Agartala : 0.0\n",
            "Num EVs between  Mumbai  and  Hassan : 205.0\n",
            "Num EVs between  Mumbai  and  Jodhpur : 0.0\n",
            "Num EVs between  Mumbai  and  Trichy : 0.0\n",
            "Num EVs between  Mumbai  and  Simla : 0.0\n",
            "Num EVs between  Mumbai  and  VIjayawada : 0.0\n",
            "Num EVs between  Mumbai  and  Dibrugarh : 0.0\n",
            "Num EVs between  Mumbai  and  Raipur : 120.0\n",
            "Num EVs between  Mumbai  and  Agartala : 0.0\n",
            "Num EVs between  Hyderabad  and  Hassan : 0.0\n",
            "Num EVs between  Hyderabad  and  Jodhpur : 0.0\n",
            "Num EVs between  Hyderabad  and  Trichy : 0.0\n",
            "Num EVs between  Hyderabad  and  Simla : 0.0\n",
            "Num EVs between  Hyderabad  and  VIjayawada : 310.0\n",
            "Num EVs between  Hyderabad  and  Dibrugarh : 0.0\n",
            "Num EVs between  Hyderabad  and  Raipur : 60.0\n",
            "Num EVs between  Hyderabad  and  Agartala : 0.0\n",
            "\n",
            "Constraints\n",
            "constraints : Size=16\n",
            "    Key : Lower : Body  : Upper\n",
            "      1 :  None : 350.0 : 350.0\n",
            "      2 :  None : 185.0 : 185.0\n",
            "      3 :  None : 305.0 : 305.0\n",
            "      4 :  None : 180.0 : 180.0\n",
            "      5 :  None : 205.0 : 205.0\n",
            "      6 :  None : 175.0 : 175.0\n",
            "      7 :  None : 325.0 : 325.0\n",
            "      8 :  None : 370.0 : 370.0\n",
            "      9 : 205.0 : 205.0 : 205.0\n",
            "     10 : 300.0 : 300.0 : 300.0\n",
            "     11 : 425.0 : 425.0 : 425.0\n",
            "     12 : 270.0 : 270.0 : 270.0\n",
            "     13 : 375.0 : 375.0 : 375.0\n",
            "     14 : 225.0 : 225.0 : 225.0\n",
            "     15 : 185.0 : 185.0 : 185.0\n",
            "     16 : 110.0 : 110.0 : 110.0\n"
          ]
        }
      ]
    },
    {
      "cell_type": "markdown",
      "source": [
        "# Exercise 1(7)\n",
        "\n",
        "Num truck load of EVs between  Ahmedabad   and  Jodhpur : 300\n",
        "\n",
        "Num truck load of EVs between  Ahmedabad   and  Dibrugarh : 45\n",
        "\n",
        "Num EVs between  Ahmedabad   and  Raipur : 5\n",
        "\n",
        "Num EVs between  Bengaluru  and  Trichy : 120\n",
        "\n",
        "Num EVs between  Bengaluru  and  VIjayawada : 65\n",
        "\n",
        "Num EVs between  Channai  and  Trichy : 305\n",
        "\n",
        "Num EVs between  Delhi  and  Simla : 95\n",
        "\n",
        "Num EVs between  Delhi  and  Dibrugarh : 85\n",
        "\n",
        "Num EVs between  Kolkata  and  Dibrugarh : 95\n",
        "\n",
        "Num EVs between  Kolkata  and  Agartala : 110\n",
        "\n",
        "Num EVs between  Lucknow  and  Simla : 175\n",
        "\n",
        "Num EVs between  Mumbai  and  Hassan : 205\n",
        "\n",
        "Num EVs between  Mumbai  and  Raipur : 120\n",
        "\n",
        "Num EVs between  Hyderabad  and  VIjayawada : 310\n",
        "\n",
        "Num EVs between  Hyderabad  and  Raipur : 60\n",
        "\n",
        "Total cost to trasnport EVs by truck werehouse to market is : 2192870"
      ],
      "metadata": {
        "id": "zIOu__QmzK2y"
      }
    },
    {
      "cell_type": "markdown",
      "source": [
        "# Exercise 1(8)\n",
        "\n",
        "the Lucknow-Simla link is disrupted and no transportation is possible on the Lucknow-Simla links. Without changing the pyomo model, this is done by only change in .csv file, in csv file I will very incerese the Lucknow-Simla transportation cost.\n",
        "i.e new Lucknow-Simla transportation = 999999999\n",
        "\n",
        "and new objecive function is : \n",
        "\n",
        "\\begin{align}\n",
        "\\min  \\ 827 x_{11} + 817 x_{12} + 1470 x_{13} + 2272 x_{14} + 1615 x_{15} + 3143 x_{16} + 1264 x_{17} + 4465 x_{18} + 559 x_{21} + 1832 x_{22} + 751 x_{23} + 3772 x_{24} + 637 x_{25} + 3773 x_{26} + 1856 x_{27} + 5459 x_{28} + 1109 x_{31} + 2443 x_{32} + 577 x_{33} + 3865 x_{34} + 798 x_{35} + 3521 x_{36} + 1984 x_{37} + 5303 x_{38} + 2943 x_{41} + 1471 x_{42} + 4676 x_{43} + 1337 x_{44} + 2702 x_{45} + 2741 x_{46} + 2482 x_{47} + 4148 x_{48} + 3742 x_{51} + 3089 x_{52} + 2931 x_{53} + 3199 x_{54} + 2226 x_{55} + 1739 x_{56} + 1691 x_{57} + 2128 x_{58} + 2353 x_{61} + 1160 x_{62} + 3295 x_{63} + 999999999 x_{64} + 2369 x_{65} + 2365 x_{66} + 1293 x_{67} + 3642 x_{68} + 1356 x_{71} + 1617 x_{72} + 2045 x_{73} + 2941 x_{74} + 2334 x_{75} + 4151 x_{76} + 1937 x_{77} + 4287 x_{78} + 195 x_{81} + 1862 x_{82} + 1331 x_{83} + 2921 x_{84} + 402 x_{85} + 2825 x_{86} + 563 x_{87} + 4441 x_{88} \\nonumber \\\\\n",
        "\\end{align}\n",
        "\n",
        "and constraints are same."
      ],
      "metadata": {
        "id": "kt5CSE10zQbC"
      }
    },
    {
      "cell_type": "code",
      "source": [
        "data_csvfile.iloc[5,4]=999999999"
      ],
      "metadata": {
        "id": "2Kk3M6LWsJum"
      },
      "execution_count": null,
      "outputs": []
    },
    {
      "cell_type": "code",
      "source": [
        "model_lab5_ex1.objective.deactivate()\n",
        "model_lab5_ex1.objective = Objective(expr=sum(data_csvfile.iloc[i,j+1]*model_lab5_ex1.x[i,j] for i in row_indices for j in col_indices),sense=minimize)\n"
      ],
      "metadata": {
        "colab": {
          "base_uri": "https://localhost:8080/"
        },
        "id": "LXJQxeptxHi6",
        "outputId": "38a1b4cb-9750-4ddb-c15b-ecb85ec7d142"
      },
      "execution_count": null,
      "outputs": [
        {
          "output_type": "stream",
          "name": "stderr",
          "text": [
            "WARNING:pyomo.core:Implicitly replacing the Component attribute objective (type=<class 'pyomo.core.base.objective.ScalarObjective'>) on block unknown with a new Component (type=<class 'pyomo.core.base.objective.ScalarObjective'>).\n",
            "This is usually indicative of a modelling error.\n",
            "To avoid this warning, use block.del_component() and block.add_component().\n"
          ]
        }
      ]
    },
    {
      "cell_type": "code",
      "source": [
        "result = opt_cbc.solve(model_lab5_ex1)\n",
        "print('Solver status:', result.solver.status)\n",
        "print('Solver termination condition:',result.solver.termination_condition)"
      ],
      "metadata": {
        "colab": {
          "base_uri": "https://localhost:8080/"
        },
        "id": "-8X3b8OivQ6b",
        "outputId": "7254978b-ae18-485b-932f-9ce34e7f2242"
      },
      "execution_count": null,
      "outputs": [
        {
          "output_type": "stream",
          "name": "stdout",
          "text": [
            "Solver status: ok\n",
            "Solver termination condition: optimal\n"
          ]
        }
      ]
    },
    {
      "cell_type": "code",
      "source": [
        "# display solution\n",
        "print('\\nObjective = ', model_lab5_ex1.objective())\n",
        "\n",
        "print('\\nDecision Variables')\n",
        "for i in row_indices:\n",
        "  for j in col_indices:\n",
        "    print('Num truck load of EVs between ',data_csvfile['Warehouse'][i],' and ', data_csvfile.columns[j+1],':', model_lab5_ex1.x[i,j].value)\n",
        "\n",
        "print('\\nConstraints')\n",
        "model_lab5_ex1.constraints.display()"
      ],
      "metadata": {
        "colab": {
          "base_uri": "https://localhost:8080/"
        },
        "id": "7xyVuuvmvn3-",
        "outputId": "84347750-797d-45fc-d6ea-e3592cd00f06"
      },
      "execution_count": null,
      "outputs": [
        {
          "output_type": "stream",
          "name": "stdout",
          "text": [
            "\n",
            "Objective =  2518200.0\n",
            "\n",
            "Decision Variables\n",
            "Num truck load of EVs between  Ahmedabad   and  Hassan : 0.0\n",
            "Num truck load of EVs between  Ahmedabad   and  Jodhpur : 300.0\n",
            "Num truck load of EVs between  Ahmedabad   and  Trichy : 0.0\n",
            "Num truck load of EVs between  Ahmedabad   and  Simla : 0.0\n",
            "Num truck load of EVs between  Ahmedabad   and  VIjayawada : 0.0\n",
            "Num truck load of EVs between  Ahmedabad   and  Dibrugarh : 50.0\n",
            "Num truck load of EVs between  Ahmedabad   and  Raipur : 0.0\n",
            "Num truck load of EVs between  Ahmedabad   and  Agartala : 0.0\n",
            "Num truck load of EVs between  Bengaluru  and  Hassan : 0.0\n",
            "Num truck load of EVs between  Bengaluru  and  Jodhpur : 0.0\n",
            "Num truck load of EVs between  Bengaluru  and  Trichy : 120.0\n",
            "Num truck load of EVs between  Bengaluru  and  Simla : 0.0\n",
            "Num truck load of EVs between  Bengaluru  and  VIjayawada : 65.0\n",
            "Num truck load of EVs between  Bengaluru  and  Dibrugarh : 0.0\n",
            "Num truck load of EVs between  Bengaluru  and  Raipur : 0.0\n",
            "Num truck load of EVs between  Bengaluru  and  Agartala : 0.0\n",
            "Num truck load of EVs between  Channai  and  Hassan : 0.0\n",
            "Num truck load of EVs between  Channai  and  Jodhpur : 0.0\n",
            "Num truck load of EVs between  Channai  and  Trichy : 305.0\n",
            "Num truck load of EVs between  Channai  and  Simla : 0.0\n",
            "Num truck load of EVs between  Channai  and  VIjayawada : 0.0\n",
            "Num truck load of EVs between  Channai  and  Dibrugarh : 0.0\n",
            "Num truck load of EVs between  Channai  and  Raipur : 0.0\n",
            "Num truck load of EVs between  Channai  and  Agartala : 0.0\n",
            "Num truck load of EVs between  Delhi  and  Hassan : 0.0\n",
            "Num truck load of EVs between  Delhi  and  Jodhpur : 0.0\n",
            "Num truck load of EVs between  Delhi  and  Trichy : 0.0\n",
            "Num truck load of EVs between  Delhi  and  Simla : 180.0\n",
            "Num truck load of EVs between  Delhi  and  VIjayawada : 0.0\n",
            "Num truck load of EVs between  Delhi  and  Dibrugarh : 0.0\n",
            "Num truck load of EVs between  Delhi  and  Raipur : 0.0\n",
            "Num truck load of EVs between  Delhi  and  Agartala : 0.0\n",
            "Num truck load of EVs between  Kolkata  and  Hassan : 0.0\n",
            "Num truck load of EVs between  Kolkata  and  Jodhpur : 0.0\n",
            "Num truck load of EVs between  Kolkata  and  Trichy : 0.0\n",
            "Num truck load of EVs between  Kolkata  and  Simla : 0.0\n",
            "Num truck load of EVs between  Kolkata  and  VIjayawada : 0.0\n",
            "Num truck load of EVs between  Kolkata  and  Dibrugarh : 0.0\n",
            "Num truck load of EVs between  Kolkata  and  Raipur : 95.0\n",
            "Num truck load of EVs between  Kolkata  and  Agartala : 110.0\n",
            "Num truck load of EVs between  Lucknow  and  Hassan : 0.0\n",
            "Num truck load of EVs between  Lucknow  and  Jodhpur : 0.0\n",
            "Num truck load of EVs between  Lucknow  and  Trichy : 0.0\n",
            "Num truck load of EVs between  Lucknow  and  Simla : 0.0\n",
            "Num truck load of EVs between  Lucknow  and  VIjayawada : 0.0\n",
            "Num truck load of EVs between  Lucknow  and  Dibrugarh : 175.0\n",
            "Num truck load of EVs between  Lucknow  and  Raipur : 0.0\n",
            "Num truck load of EVs between  Lucknow  and  Agartala : 0.0\n",
            "Num truck load of EVs between  Mumbai  and  Hassan : 205.0\n",
            "Num truck load of EVs between  Mumbai  and  Jodhpur : 0.0\n",
            "Num truck load of EVs between  Mumbai  and  Trichy : 0.0\n",
            "Num truck load of EVs between  Mumbai  and  Simla : 90.0\n",
            "Num truck load of EVs between  Mumbai  and  VIjayawada : 0.0\n",
            "Num truck load of EVs between  Mumbai  and  Dibrugarh : 0.0\n",
            "Num truck load of EVs between  Mumbai  and  Raipur : 30.0\n",
            "Num truck load of EVs between  Mumbai  and  Agartala : 0.0\n",
            "Num truck load of EVs between  Hyderabad  and  Hassan : 0.0\n",
            "Num truck load of EVs between  Hyderabad  and  Jodhpur : 0.0\n",
            "Num truck load of EVs between  Hyderabad  and  Trichy : 0.0\n",
            "Num truck load of EVs between  Hyderabad  and  Simla : 0.0\n",
            "Num truck load of EVs between  Hyderabad  and  VIjayawada : 310.0\n",
            "Num truck load of EVs between  Hyderabad  and  Dibrugarh : 0.0\n",
            "Num truck load of EVs between  Hyderabad  and  Raipur : 60.0\n",
            "Num truck load of EVs between  Hyderabad  and  Agartala : 0.0\n",
            "\n",
            "Constraints\n",
            "constraints : Size=16\n",
            "    Key : Lower : Body  : Upper\n",
            "      1 :  None : 350.0 : 350.0\n",
            "      2 :  None : 185.0 : 185.0\n",
            "      3 :  None : 305.0 : 305.0\n",
            "      4 :  None : 180.0 : 180.0\n",
            "      5 :  None : 205.0 : 205.0\n",
            "      6 :  None : 175.0 : 175.0\n",
            "      7 :  None : 325.0 : 325.0\n",
            "      8 :  None : 370.0 : 370.0\n",
            "      9 : 205.0 : 205.0 : 205.0\n",
            "     10 : 300.0 : 300.0 : 300.0\n",
            "     11 : 425.0 : 425.0 : 425.0\n",
            "     12 : 270.0 : 270.0 : 270.0\n",
            "     13 : 375.0 : 375.0 : 375.0\n",
            "     14 : 225.0 : 225.0 : 225.0\n",
            "     15 : 185.0 : 185.0 : 185.0\n",
            "     16 : 110.0 : 110.0 : 110.0\n"
          ]
        }
      ]
    },
    {
      "cell_type": "markdown",
      "source": [
        "# Exercise 1(9)\n",
        "\n",
        "Num truck load of EVs between  Ahmedabad   and  Jodhpur : 300\n",
        "\n",
        "Num truck load of EVs between  Ahmedabad   and  Dibrugarh : 50\n",
        "\n",
        "Num truck load of EVs between  Bengaluru  and  Trichy : 120\n",
        "\n",
        "Num truck load of EVs between  Bengaluru  and  VIjayawada : 65\n",
        "\n",
        "Num truck load of EVs between  Channai  and  Trichy : 305\n",
        "\n",
        "Num truck load of EVs between  Delhi  and  Simla : 180\n",
        "\n",
        "Num truck load of EVs between  Kolkata  and  Raipur : 95\n",
        "\n",
        "Num truck load of EVs between  Kolkata  and  Agartala : 110\n",
        "\n",
        "Num truck load of EVs between  Lucknow  and  Dibrugarh : 175\n",
        "\n",
        "Num truck load of EVs between  Mumbai  and  Hassan : 205\n",
        "\n",
        "Num truck load of EVs between  Mumbai  and  Simla : 90\n",
        "\n",
        "Num truck load of EVs between  Mumbai  and  Raipur : 30\n",
        "\n",
        "Num truck load of EVs between  Hyderabad  and  VIjayawada : 310\n",
        "\n",
        "Num truck load of EVs between  Hyderabad  and  Raipur : 60\n",
        "\n",
        "in this solution Lucknow-Simla transportation is 0 because cost is very high.\n",
        "\n",
        "but after doing this total cost is increase\n",
        "i.e Total cost : 2518200\n"
      ],
      "metadata": {
        "id": "1Cljed2Rtc_Y"
      }
    },
    {
      "cell_type": "markdown",
      "source": [
        "# Exercise 1(10)\n",
        "\n",
        "the Lucknow-Simla link, the Kolkata-Dibrugarh link and Delhi-Raipur\n",
        "link is disrupted and no transportation is possible on the Lucknow-Simla link, the Kolkata-Dibrugarh link and Delhi-Raipur\n",
        "link. Without changing the pyomo model, this is done by only change in .csv file, in csv file I will very incerese the Lucknow-Simla link, the Kolkata-Dibrugarh link and Delhi-Raipur\n",
        "link transportation cost.\n",
        "i.e new Lucknow-Simla transportation = 999999999, \n",
        "new Kolkata-Dibrugarh link = 999999999\n",
        "new Delhi-Raipur link = 999999999\n",
        "\n",
        "and new objecive function is : \n",
        "\n",
        "\\begin{align}\n",
        "\\min  \\ 827 x_{11} + 817 x_{12} + 1470 x_{13} + 2272 x_{14} + 1615 x_{15} + 3143 x_{16} + 1264 x_{17} + 4465 x_{18} + 559 x_{21} + 1832 x_{22} + 751 x_{23} + 3772 x_{24} + 637 x_{25} + 3773 x_{26} + 1856 x_{27} + 5459 x_{28} + 1109 x_{31} + 2443 x_{32} + 577 x_{33} + 3865 x_{34} + 798 x_{35} + 3521 x_{36} + 1984 x_{37} + 5303 x_{38} + 2943 x_{41} + 1471 x_{42} + 4676 x_{43} + 1337 x_{44} + 2702 x_{45} + 2741 x_{46} + 999999999 x_{47} + 4148 x_{48} + 3742 x_{51} + 3089 x_{52} + 2931 x_{53} + 3199 x_{54} + 2226 x_{55} + 999999999 x_{56} + 1691 x_{57} + 2128 x_{58} + 2353 x_{61} + 1160 x_{62} + 3295 x_{63} + 999999999 x_{64} + 2369 x_{65} + 2365 x_{66} + 1293 x_{67} + 3642 x_{68} + 1356 x_{71} + 1617 x_{72} + 2045 x_{73} + 2941 x_{74} + 2334 x_{75} + 4151 x_{76} + 1937 x_{77} + 4287 x_{78} + 195 x_{81} + 1862 x_{82} + 1331 x_{83} + 2921 x_{84} + 402 x_{85} + 2825 x_{86} + 563 x_{87} + 4441 x_{88} \\nonumber \\\\\n",
        "\\end{align}\n",
        "\n",
        "and constraints are same."
      ],
      "metadata": {
        "id": "iYzQnmecv3wX"
      }
    },
    {
      "cell_type": "code",
      "source": [
        "data_csvfile.iloc[4,6]=999999999\n",
        "data_csvfile.iloc[3,7]=999999999"
      ],
      "metadata": {
        "id": "8aCu-gpsvsLs"
      },
      "execution_count": null,
      "outputs": []
    },
    {
      "cell_type": "code",
      "source": [
        "model_lab5_ex1.objective.deactivate()\n",
        "model_lab5_ex1.objective = Objective(expr=sum(data_csvfile.iloc[i,j+1]*model_lab5_ex1.x[i,j] for i in row_indices for j in col_indices),sense=minimize)"
      ],
      "metadata": {
        "colab": {
          "base_uri": "https://localhost:8080/"
        },
        "id": "_an4zZJby0pf",
        "outputId": "9721f8bd-90a1-4b56-ce4a-3fd599cb94d3"
      },
      "execution_count": null,
      "outputs": [
        {
          "output_type": "stream",
          "name": "stderr",
          "text": [
            "WARNING:pyomo.core:Implicitly replacing the Component attribute objective (type=<class 'pyomo.core.base.objective.ScalarObjective'>) on block unknown with a new Component (type=<class 'pyomo.core.base.objective.ScalarObjective'>).\n",
            "This is usually indicative of a modelling error.\n",
            "To avoid this warning, use block.del_component() and block.add_component().\n"
          ]
        }
      ]
    },
    {
      "cell_type": "code",
      "source": [
        "result = opt_cbc.solve(model_lab5_ex1)\n",
        "print('Solver status:', result.solver.status)\n",
        "print('Solver termination condition:',result.solver.termination_condition)"
      ],
      "metadata": {
        "colab": {
          "base_uri": "https://localhost:8080/"
        },
        "id": "xttXL0S4y8kW",
        "outputId": "bb8ce9b8-951a-4f83-b930-ad258028cf52"
      },
      "execution_count": null,
      "outputs": [
        {
          "output_type": "stream",
          "name": "stdout",
          "text": [
            "Solver status: ok\n",
            "Solver termination condition: optimal\n"
          ]
        }
      ]
    },
    {
      "cell_type": "code",
      "source": [
        "# display solution\n",
        "print('\\nObjective = ', model_lab5_ex1.objective())\n",
        "\n",
        "print('\\nDecision Variables')\n",
        "for i in row_indices:\n",
        "  for j in col_indices:\n",
        "    print('Num EVs between ',data_csvfile['Warehouse'][i],' and ', data_csvfile.columns[j+1],':', model_lab5_ex1.x[i,j].value)\n",
        "\n",
        "print('\\nConstraints')\n",
        "model_lab5_ex1.constraints.display()"
      ],
      "metadata": {
        "colab": {
          "base_uri": "https://localhost:8080/"
        },
        "id": "-dxMvwmFzBf7",
        "outputId": "1968898a-6679-4992-d042-68f36a323cbc"
      },
      "execution_count": null,
      "outputs": [
        {
          "output_type": "stream",
          "name": "stdout",
          "text": [
            "\n",
            "Objective =  2518200.0\n",
            "\n",
            "Decision Variables\n",
            "Num EVs between  Ahmedabad   and  Hassan : 0.0\n",
            "Num EVs between  Ahmedabad   and  Jodhpur : 300.0\n",
            "Num EVs between  Ahmedabad   and  Trichy : 0.0\n",
            "Num EVs between  Ahmedabad   and  Simla : 0.0\n",
            "Num EVs between  Ahmedabad   and  VIjayawada : 0.0\n",
            "Num EVs between  Ahmedabad   and  Dibrugarh : 50.0\n",
            "Num EVs between  Ahmedabad   and  Raipur : 0.0\n",
            "Num EVs between  Ahmedabad   and  Agartala : 0.0\n",
            "Num EVs between  Bengaluru  and  Hassan : 0.0\n",
            "Num EVs between  Bengaluru  and  Jodhpur : 0.0\n",
            "Num EVs between  Bengaluru  and  Trichy : 120.0\n",
            "Num EVs between  Bengaluru  and  Simla : 0.0\n",
            "Num EVs between  Bengaluru  and  VIjayawada : 65.0\n",
            "Num EVs between  Bengaluru  and  Dibrugarh : 0.0\n",
            "Num EVs between  Bengaluru  and  Raipur : 0.0\n",
            "Num EVs between  Bengaluru  and  Agartala : 0.0\n",
            "Num EVs between  Channai  and  Hassan : 0.0\n",
            "Num EVs between  Channai  and  Jodhpur : 0.0\n",
            "Num EVs between  Channai  and  Trichy : 305.0\n",
            "Num EVs between  Channai  and  Simla : 0.0\n",
            "Num EVs between  Channai  and  VIjayawada : 0.0\n",
            "Num EVs between  Channai  and  Dibrugarh : 0.0\n",
            "Num EVs between  Channai  and  Raipur : 0.0\n",
            "Num EVs between  Channai  and  Agartala : 0.0\n",
            "Num EVs between  Delhi  and  Hassan : 0.0\n",
            "Num EVs between  Delhi  and  Jodhpur : 0.0\n",
            "Num EVs between  Delhi  and  Trichy : 0.0\n",
            "Num EVs between  Delhi  and  Simla : 180.0\n",
            "Num EVs between  Delhi  and  VIjayawada : 0.0\n",
            "Num EVs between  Delhi  and  Dibrugarh : 0.0\n",
            "Num EVs between  Delhi  and  Raipur : 0.0\n",
            "Num EVs between  Delhi  and  Agartala : 0.0\n",
            "Num EVs between  Kolkata  and  Hassan : 0.0\n",
            "Num EVs between  Kolkata  and  Jodhpur : 0.0\n",
            "Num EVs between  Kolkata  and  Trichy : 0.0\n",
            "Num EVs between  Kolkata  and  Simla : 0.0\n",
            "Num EVs between  Kolkata  and  VIjayawada : 0.0\n",
            "Num EVs between  Kolkata  and  Dibrugarh : 0.0\n",
            "Num EVs between  Kolkata  and  Raipur : 95.0\n",
            "Num EVs between  Kolkata  and  Agartala : 110.0\n",
            "Num EVs between  Lucknow  and  Hassan : 0.0\n",
            "Num EVs between  Lucknow  and  Jodhpur : 0.0\n",
            "Num EVs between  Lucknow  and  Trichy : 0.0\n",
            "Num EVs between  Lucknow  and  Simla : 0.0\n",
            "Num EVs between  Lucknow  and  VIjayawada : 0.0\n",
            "Num EVs between  Lucknow  and  Dibrugarh : 175.0\n",
            "Num EVs between  Lucknow  and  Raipur : 0.0\n",
            "Num EVs between  Lucknow  and  Agartala : 0.0\n",
            "Num EVs between  Mumbai  and  Hassan : 205.0\n",
            "Num EVs between  Mumbai  and  Jodhpur : 0.0\n",
            "Num EVs between  Mumbai  and  Trichy : 0.0\n",
            "Num EVs between  Mumbai  and  Simla : 90.0\n",
            "Num EVs between  Mumbai  and  VIjayawada : 0.0\n",
            "Num EVs between  Mumbai  and  Dibrugarh : 0.0\n",
            "Num EVs between  Mumbai  and  Raipur : 30.0\n",
            "Num EVs between  Mumbai  and  Agartala : 0.0\n",
            "Num EVs between  Hyderabad  and  Hassan : 0.0\n",
            "Num EVs between  Hyderabad  and  Jodhpur : 0.0\n",
            "Num EVs between  Hyderabad  and  Trichy : 0.0\n",
            "Num EVs between  Hyderabad  and  Simla : 0.0\n",
            "Num EVs between  Hyderabad  and  VIjayawada : 310.0\n",
            "Num EVs between  Hyderabad  and  Dibrugarh : 0.0\n",
            "Num EVs between  Hyderabad  and  Raipur : 60.0\n",
            "Num EVs between  Hyderabad  and  Agartala : 0.0\n",
            "\n",
            "Constraints\n",
            "constraints : Size=16\n",
            "    Key : Lower : Body  : Upper\n",
            "      1 :  None : 350.0 : 350.0\n",
            "      2 :  None : 185.0 : 185.0\n",
            "      3 :  None : 305.0 : 305.0\n",
            "      4 :  None : 180.0 : 180.0\n",
            "      5 :  None : 205.0 : 205.0\n",
            "      6 :  None : 175.0 : 175.0\n",
            "      7 :  None : 325.0 : 325.0\n",
            "      8 :  None : 370.0 : 370.0\n",
            "      9 : 205.0 : 205.0 : 205.0\n",
            "     10 : 300.0 : 300.0 : 300.0\n",
            "     11 : 425.0 : 425.0 : 425.0\n",
            "     12 : 270.0 : 270.0 : 270.0\n",
            "     13 : 375.0 : 375.0 : 375.0\n",
            "     14 : 225.0 : 225.0 : 225.0\n",
            "     15 : 185.0 : 185.0 : 185.0\n",
            "     16 : 110.0 : 110.0 : 110.0\n"
          ]
        }
      ]
    },
    {
      "cell_type": "markdown",
      "source": [
        "# Exercise 1(11)\n",
        "\n",
        "Num EVs between  Ahmedabad   and  Jodhpur : 300\n",
        "\n",
        "Num EVs between  Ahmedabad   and  Dibrugarh : 50\n",
        "\n",
        "Num EVs between  Bengaluru  and  Trichy : 120\n",
        "\n",
        "Num EVs between  Bengaluru  and  VIjayawada : 65\n",
        "\n",
        "Num EVs between  Channai  and  Trichy : 305\n",
        "\n",
        "Num EVs between  Delhi  and  Simla : 180\n",
        "\n",
        "Num EVs between  Kolkata  and  Raipur : 95\n",
        "\n",
        "Num EVs between  Kolkata  and  Agartala : 110\n",
        "\n",
        "Num EVs between  Lucknow  and  Dibrugarh : 175\n",
        "\n",
        "Num EVs between  Mumbai  and  Hassan : 205\n",
        "\n",
        "Num EVs between  Mumbai  and  Simla : 90\n",
        "\n",
        "Num EVs between  Mumbai  and  Raipur : 30\n",
        "\n",
        "Num EVs between  Hyderabad  and  VIjayawada : 310\n",
        "\n",
        "Num EVs between  Hyderabad  and  Raipur : 60\n",
        "\n",
        "in this solution the Lucknow-Simla , the Kolkata-Dibrugarh  and Delhi-Raipur transportation is 0 because cost is very high.\n",
        "\n",
        "but after doing this total cost is same as above solution because the Kolkata-Dibrugarh and Delhi-Raipur transportation have already zero means there is no truck to transport the EVs in this link.\n",
        "\n",
        "\n",
        "i.e Total cost : 2518200\n"
      ],
      "metadata": {
        "id": "P87ogSTp7BAN"
      }
    },
    {
      "cell_type": "code",
      "source": [],
      "metadata": {
        "id": "ZqgKu38gzFtP"
      },
      "execution_count": null,
      "outputs": []
    }
  ]
}