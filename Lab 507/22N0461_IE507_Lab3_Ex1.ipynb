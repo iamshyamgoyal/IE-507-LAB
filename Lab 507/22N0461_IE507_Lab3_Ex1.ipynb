{
  "nbformat": 4,
  "nbformat_minor": 0,
  "metadata": {
    "colab": {
      "name": "22N0461_IE507_Lab3_Ex1.ipynb",
      "provenance": []
    },
    "kernelspec": {
      "name": "python3",
      "display_name": "Python 3"
    },
    "language_info": {
      "name": "python"
    }
  },
  "cells": [
    {
      "cell_type": "markdown",
      "source": [
        "# ***Exercise 1  Solution***"
      ],
      "metadata": {
        "id": "6fUyRm1oIH-9"
      }
    },
    {
      "cell_type": "code",
      "execution_count": null,
      "metadata": {
        "colab": {
          "base_uri": "https://localhost:8080/"
        },
        "id": "FJKBC8hH-T1o",
        "outputId": "865e9038-707a-497c-a3c0-4373854bbf9f"
      },
      "outputs": [
        {
          "output_type": "stream",
          "name": "stdout",
          "text": [
            "\u001b[K     |████████████████████████████████| 9.7 MB 11.3 MB/s \n",
            "\u001b[K     |████████████████████████████████| 49 kB 5.3 MB/s \n",
            "\u001b[?25h"
          ]
        }
      ],
      "source": [
        "!pip install -q pyomo"
      ]
    },
    {
      "cell_type": "code",
      "source": [
        "from pyomo.environ import *"
      ],
      "metadata": {
        "id": "ojisRaIR-jNh"
      },
      "execution_count": null,
      "outputs": []
    },
    {
      "cell_type": "code",
      "source": [
        "import numpy as np"
      ],
      "metadata": {
        "id": "_-bcsUiY-tjf"
      },
      "execution_count": null,
      "outputs": []
    },
    {
      "cell_type": "code",
      "source": [
        "model1 = ConcreteModel()"
      ],
      "metadata": {
        "id": "GND2a1uL-wU0"
      },
      "execution_count": null,
      "outputs": []
    },
    {
      "cell_type": "code",
      "source": [
        "N = 3\n",
        "M = 3"
      ],
      "metadata": {
        "id": "zaP97gmL-4kh"
      },
      "execution_count": null,
      "outputs": []
    },
    {
      "cell_type": "code",
      "source": [
        "lower_bound = np.array([2,1,1])\n",
        "upper_bound = np.array([np.inf]*3)\n",
        "obj_coef_c = np.array([2,-2,2])\n",
        "constr_coef_A = np.array([[2,-1,2],[1,-4,2],[-2,2,1]])\n",
        "constr_rhs = np.array([6,-15,-8])\n",
        "row_indices = np.arange(M)\n",
        "print(row_indices)\n",
        "col_indices = np.arange(N)\n",
        "print(col_indices)"
      ],
      "metadata": {
        "colab": {
          "base_uri": "https://localhost:8080/"
        },
        "id": "53B8ICb6-_Fl",
        "outputId": "276f8382-cd83-4873-f99d-ab2e022b1dee"
      },
      "execution_count": null,
      "outputs": [
        {
          "output_type": "stream",
          "name": "stdout",
          "text": [
            "[0 1 2]\n",
            "[0 1 2]\n"
          ]
        }
      ]
    },
    {
      "cell_type": "code",
      "source": [
        "model1.x = Var(col_indices)\n",
        "model1.constraints = ConstraintList()"
      ],
      "metadata": {
        "id": "E1pmRP4gAXzr"
      },
      "execution_count": null,
      "outputs": []
    },
    {
      "cell_type": "code",
      "source": [
        "for i in col_indices:\n",
        "  model1.x[i].setlb(lower_bound[i])\n",
        "  model1.x[i].setub(upper_bound[i])"
      ],
      "metadata": {
        "id": "DyDAPJgoA0cS"
      },
      "execution_count": null,
      "outputs": []
    },
    {
      "cell_type": "code",
      "source": [
        "for i in row_indices:\n",
        "  model1.constraints.add(sum(constr_coef_A[i][j]*model1.x[j] for j in col_indices ) <= constr_rhs[i])"
      ],
      "metadata": {
        "id": "vpaklNZyBOvt"
      },
      "execution_count": null,
      "outputs": []
    },
    {
      "cell_type": "code",
      "source": [
        "model1.objective = Objective(expr =summation(obj_coef_c,model1.x), sense=minimize)\n",
        "model1.pprint() "
      ],
      "metadata": {
        "colab": {
          "base_uri": "https://localhost:8080/"
        },
        "id": "If0OtsL9B6ge",
        "outputId": "6208bd51-95a4-4416-f032-b124e5a6daff"
      },
      "execution_count": null,
      "outputs": [
        {
          "output_type": "stream",
          "name": "stdout",
          "text": [
            "2 Set Declarations\n",
            "    constraints_index : Size=1, Index=None, Ordered=Insertion\n",
            "        Key  : Dimen : Domain : Size : Members\n",
            "        None :     1 :    Any :    3 : {1, 2, 3}\n",
            "    x_index : Size=1, Index=None, Ordered=False\n",
            "        Key  : Dimen : Domain : Size : Members\n",
            "        None :     1 :    Any :    3 : {0, 1, 2}\n",
            "\n",
            "1 Var Declarations\n",
            "    x : Size=3, Index=x_index\n",
            "        Key : Lower : Value : Upper : Fixed : Stale : Domain\n",
            "          0 :     2 :  None :  None : False :  True :  Reals\n",
            "          1 :     1 :  None :  None : False :  True :  Reals\n",
            "          2 :     1 :  None :  None : False :  True :  Reals\n",
            "\n",
            "1 Objective Declarations\n",
            "    objective : Size=1, Index=None, Active=True\n",
            "        Key  : Active : Sense    : Expression\n",
            "        None :   True : minimize : 2*x[0] - 2*x[1] + 2*x[2]\n",
            "\n",
            "1 Constraint Declarations\n",
            "    constraints : Size=3, Index=constraints_index, Active=True\n",
            "        Key : Lower : Body                    : Upper : Active\n",
            "          1 :  -Inf :  2*x[0] - x[1] + 2*x[2] :   6.0 :   True\n",
            "          2 :  -Inf :  x[0] - 4*x[1] + 2*x[2] : -15.0 :   True\n",
            "          3 :  -Inf : -2*x[0] + 2*x[1] + x[2] :  -8.0 :   True\n",
            "\n",
            "5 Declarations: x_index x constraints_index constraints objective\n"
          ]
        }
      ]
    },
    {
      "cell_type": "code",
      "source": [
        "\n",
        "!apt-get install -y -qq glpk-utils"
      ],
      "metadata": {
        "colab": {
          "base_uri": "https://localhost:8080/"
        },
        "id": "kxBoFpcFEi3l",
        "outputId": "de4198db-0f40-42c1-8ce9-a8f564a03d1b"
      },
      "execution_count": null,
      "outputs": [
        {
          "output_type": "stream",
          "name": "stdout",
          "text": [
            "Selecting previously unselected package libsuitesparseconfig5:amd64.\n",
            "(Reading database ... 155676 files and directories currently installed.)\n",
            "Preparing to unpack .../libsuitesparseconfig5_1%3a5.1.2-2_amd64.deb ...\n",
            "Unpacking libsuitesparseconfig5:amd64 (1:5.1.2-2) ...\n",
            "Selecting previously unselected package libamd2:amd64.\n",
            "Preparing to unpack .../libamd2_1%3a5.1.2-2_amd64.deb ...\n",
            "Unpacking libamd2:amd64 (1:5.1.2-2) ...\n",
            "Selecting previously unselected package libcolamd2:amd64.\n",
            "Preparing to unpack .../libcolamd2_1%3a5.1.2-2_amd64.deb ...\n",
            "Unpacking libcolamd2:amd64 (1:5.1.2-2) ...\n",
            "Selecting previously unselected package libglpk40:amd64.\n",
            "Preparing to unpack .../libglpk40_4.65-1_amd64.deb ...\n",
            "Unpacking libglpk40:amd64 (4.65-1) ...\n",
            "Selecting previously unselected package glpk-utils.\n",
            "Preparing to unpack .../glpk-utils_4.65-1_amd64.deb ...\n",
            "Unpacking glpk-utils (4.65-1) ...\n",
            "Setting up libsuitesparseconfig5:amd64 (1:5.1.2-2) ...\n",
            "Setting up libcolamd2:amd64 (1:5.1.2-2) ...\n",
            "Setting up libamd2:amd64 (1:5.1.2-2) ...\n",
            "Setting up libglpk40:amd64 (4.65-1) ...\n",
            "Setting up glpk-utils (4.65-1) ...\n",
            "Processing triggers for libc-bin (2.27-3ubuntu1.5) ...\n",
            "Processing triggers for man-db (2.8.3-2ubuntu0.1) ...\n"
          ]
        }
      ]
    },
    {
      "cell_type": "markdown",
      "source": [
        "***Exercise 1(1) glpk solution***"
      ],
      "metadata": {
        "id": "XyGAzFFiIq8M"
      }
    },
    {
      "cell_type": "code",
      "source": [
        "opt = SolverFactory('glpk', executable='/usr/bin/glpsol')\n",
        "#.solve(model1).write()\n",
        "result = opt.solve(model1)\n",
        "print(result)\n",
        "\n",
        "print('Solver status:', result.solver.status)\n",
        "print('Solver termination condition:',result.solver.termination_condition)"
      ],
      "metadata": {
        "colab": {
          "base_uri": "https://localhost:8080/"
        },
        "id": "-BPrGdMSFREQ",
        "outputId": "f74e7c85-9202-4b86-9bb7-7b9eb9ab5ffc"
      },
      "execution_count": null,
      "outputs": [
        {
          "output_type": "stream",
          "name": "stdout",
          "text": [
            "\n",
            "Problem: \n",
            "- Name: unknown\n",
            "  Lower bound: -inf\n",
            "  Upper bound: inf\n",
            "  Number of objectives: 1\n",
            "  Number of constraints: 4\n",
            "  Number of variables: 4\n",
            "  Number of nonzeros: 10\n",
            "  Sense: minimize\n",
            "Solver: \n",
            "- Status: ok\n",
            "  Termination condition: other\n",
            "  Statistics: \n",
            "    Branch and bound: \n",
            "      Number of bounded subproblems: 0\n",
            "      Number of created subproblems: 0\n",
            "  Error rc: 0\n",
            "  Time: 0.018027305603027344\n",
            "\n",
            "Solver status: ok\n",
            "Solver termination condition: other\n"
          ]
        }
      ]
    },
    {
      "cell_type": "code",
      "source": [
        "!apt-get install -y -qq coinor-cbc"
      ],
      "metadata": {
        "colab": {
          "base_uri": "https://localhost:8080/"
        },
        "id": "HaqlmWtEGrIC",
        "outputId": "c04561a7-735d-4cf4-c96b-d7cd3f5610e3"
      },
      "execution_count": null,
      "outputs": [
        {
          "output_type": "stream",
          "name": "stdout",
          "text": [
            "Selecting previously unselected package coinor-libcoinutils3v5.\n",
            "(Reading database ... \r(Reading database ... 5%\r(Reading database ... 10%\r(Reading database ... 15%\r(Reading database ... 20%\r(Reading database ... 25%\r(Reading database ... 30%\r(Reading database ... 35%\r(Reading database ... 40%\r(Reading database ... 45%\r(Reading database ... 50%\r(Reading database ... 55%\r(Reading database ... 60%\r(Reading database ... 65%\r(Reading database ... 70%\r(Reading database ... 75%\r(Reading database ... 80%\r(Reading database ... 85%\r(Reading database ... 90%\r(Reading database ... 95%\r(Reading database ... 100%\r(Reading database ... 155879 files and directories currently installed.)\n",
            "Preparing to unpack .../0-coinor-libcoinutils3v5_2.10.14+repack1-1_amd64.deb ...\n",
            "Unpacking coinor-libcoinutils3v5 (2.10.14+repack1-1) ...\n",
            "Selecting previously unselected package coinor-libosi1v5.\n",
            "Preparing to unpack .../1-coinor-libosi1v5_0.107.9+repack1-1_amd64.deb ...\n",
            "Unpacking coinor-libosi1v5 (0.107.9+repack1-1) ...\n",
            "Selecting previously unselected package coinor-libclp1.\n",
            "Preparing to unpack .../2-coinor-libclp1_1.16.11+repack1-1_amd64.deb ...\n",
            "Unpacking coinor-libclp1 (1.16.11+repack1-1) ...\n",
            "Selecting previously unselected package coinor-libcgl1.\n",
            "Preparing to unpack .../3-coinor-libcgl1_0.59.10+repack1-1_amd64.deb ...\n",
            "Unpacking coinor-libcgl1 (0.59.10+repack1-1) ...\n",
            "Selecting previously unselected package coinor-libcbc3.\n",
            "Preparing to unpack .../4-coinor-libcbc3_2.9.9+repack1-1_amd64.deb ...\n",
            "Unpacking coinor-libcbc3 (2.9.9+repack1-1) ...\n",
            "Selecting previously unselected package coinor-cbc.\n",
            "Preparing to unpack .../5-coinor-cbc_2.9.9+repack1-1_amd64.deb ...\n",
            "Unpacking coinor-cbc (2.9.9+repack1-1) ...\n",
            "Setting up coinor-libcoinutils3v5 (2.10.14+repack1-1) ...\n",
            "Setting up coinor-libosi1v5 (0.107.9+repack1-1) ...\n",
            "Setting up coinor-libclp1 (1.16.11+repack1-1) ...\n",
            "Setting up coinor-libcgl1 (0.59.10+repack1-1) ...\n",
            "Setting up coinor-libcbc3 (2.9.9+repack1-1) ...\n",
            "Setting up coinor-cbc (2.9.9+repack1-1) ...\n",
            "Processing triggers for man-db (2.8.3-2ubuntu0.1) ...\n",
            "Processing triggers for libc-bin (2.27-3ubuntu1.5) ...\n"
          ]
        }
      ]
    },
    {
      "cell_type": "code",
      "source": [
        "opt_cbc = SolverFactory('cbc')"
      ],
      "metadata": {
        "id": "1RzyolRzF2Hv"
      },
      "execution_count": null,
      "outputs": []
    },
    {
      "cell_type": "markdown",
      "source": [
        "***Exercise 1(1) cbc solution***"
      ],
      "metadata": {
        "id": "jyByQp8-JZxG"
      }
    },
    {
      "cell_type": "code",
      "source": [
        "result = opt_cbc.solve(model1)\n",
        "print(result)\n",
        "\n",
        "print('Solver status:', result.solver.status)\n",
        "print('Solver termination condition:',result.solver.termination_condition)"
      ],
      "metadata": {
        "colab": {
          "base_uri": "https://localhost:8080/"
        },
        "id": "LeOTAA_6Gynn",
        "outputId": "c9c84c4f-fda8-4a33-8407-4569da5bdbe5"
      },
      "execution_count": null,
      "outputs": [
        {
          "output_type": "stream",
          "name": "stderr",
          "text": [
            "WARNING:pyomo.core:Loading a SolverResults object with a warning status into model.name=\"unknown\";\n",
            "  - termination condition: infeasible\n",
            "  - message from solver: <undefined>\n"
          ]
        },
        {
          "output_type": "stream",
          "name": "stdout",
          "text": [
            "\n",
            "Problem: \n",
            "- Name: unknown\n",
            "  Lower bound: None\n",
            "  Upper bound: inf\n",
            "  Number of objectives: 1\n",
            "  Number of constraints: 4\n",
            "  Number of variables: 4\n",
            "  Number of nonzeros: 3\n",
            "  Sense: minimize\n",
            "Solver: \n",
            "- Status: warning\n",
            "  User time: -1.0\n",
            "  System time: 0.0\n",
            "  Wallclock time: 0.0\n",
            "  Termination condition: infeasible\n",
            "  Termination message: Model was proven to be infeasible.\n",
            "  Statistics: \n",
            "    Branch and bound: \n",
            "      Number of bounded subproblems: 0\n",
            "      Number of created subproblems: 0\n",
            "    Black box: \n",
            "      Number of iterations: 0\n",
            "  Error rc: 0\n",
            "  Time: 0.048810720443725586\n",
            "\n",
            "Solver status: warning\n",
            "Solver termination condition: infeasible\n",
            "Solver time: 0.048810720443725586\n"
          ]
        }
      ]
    },
    {
      "cell_type": "markdown",
      "source": [
        "***Exercise 1(1) Explanation***\n",
        "\n",
        "$ \\text{ there is no meaning of Solver status and Solver termination condition because } \\\\ \\text{In glpk solution lower bound is -inf and upper bound is +inf means no specific solution (infeasible solution) and Solver status is OK and Solver termination condition is other means no more informartion about this problem by glpk Solver} \\\\ \\text{But in cbc, Solver status is waning and Solver termination condition is Infeasible}  $"
      ],
      "metadata": {
        "id": "StxQdrTEtJ5U"
      }
    },
    {
      "cell_type": "markdown",
      "source": [
        "***Exercise 1(2)(A) Solution***\n",
        "\n",
        " Change the optimization problem to a maximization problem and re-solve."
      ],
      "metadata": {
        "id": "g2y0xANEJ12e"
      }
    },
    {
      "cell_type": "code",
      "source": [
        "model1.objective.set_sense(maximize)"
      ],
      "metadata": {
        "id": "94Qz3fWhHXBv"
      },
      "execution_count": null,
      "outputs": []
    },
    {
      "cell_type": "code",
      "source": [
        "model1.pprint()"
      ],
      "metadata": {
        "colab": {
          "base_uri": "https://localhost:8080/"
        },
        "id": "Xsa6ET6hKTcn",
        "outputId": "2470c78f-5fda-4e2a-b281-68ef049d7287"
      },
      "execution_count": null,
      "outputs": [
        {
          "output_type": "stream",
          "name": "stdout",
          "text": [
            "2 Set Declarations\n",
            "    constraints_index : Size=1, Index=None, Ordered=Insertion\n",
            "        Key  : Dimen : Domain : Size : Members\n",
            "        None :     1 :    Any :    3 : {1, 2, 3}\n",
            "    x_index : Size=1, Index=None, Ordered=False\n",
            "        Key  : Dimen : Domain : Size : Members\n",
            "        None :     1 :    Any :    3 : {0, 1, 2}\n",
            "\n",
            "1 Var Declarations\n",
            "    x : Size=3, Index=x_index\n",
            "        Key : Lower : Value : Upper : Fixed : Stale : Domain\n",
            "          0 :     2 :  None :  None : False :  True :  Reals\n",
            "          1 :     1 :  None :  None : False :  True :  Reals\n",
            "          2 :     1 :  None :  None : False :  True :  Reals\n",
            "\n",
            "1 Objective Declarations\n",
            "    objective : Size=1, Index=None, Active=True\n",
            "        Key  : Active : Sense    : Expression\n",
            "        None :   True : maximize : 2*x[0] - 2*x[1] + 2*x[2]\n",
            "\n",
            "1 Constraint Declarations\n",
            "    constraints : Size=3, Index=constraints_index, Active=True\n",
            "        Key : Lower : Body                    : Upper : Active\n",
            "          1 :  -Inf :  2*x[0] - x[1] + 2*x[2] :   6.0 :   True\n",
            "          2 :  -Inf :  x[0] - 4*x[1] + 2*x[2] : -15.0 :   True\n",
            "          3 :  -Inf : -2*x[0] + 2*x[1] + x[2] :  -8.0 :   True\n",
            "\n",
            "5 Declarations: x_index x constraints_index constraints objective\n"
          ]
        }
      ]
    },
    {
      "cell_type": "code",
      "source": [
        "result = opt_cbc.solve(model1)\n",
        "print(result)\n",
        "\n",
        "print('Solver status:', result.solver.status)\n",
        "print('Solver termination condition:',result.solver.termination_condition)"
      ],
      "metadata": {
        "colab": {
          "base_uri": "https://localhost:8080/"
        },
        "id": "FyJSx-1vKhBz",
        "outputId": "7ed6a575-2ca3-4c0f-c38e-fb8be99faf54"
      },
      "execution_count": null,
      "outputs": [
        {
          "output_type": "stream",
          "name": "stderr",
          "text": [
            "WARNING:pyomo.core:Loading a SolverResults object with a warning status into model.name=\"unknown\";\n",
            "  - termination condition: infeasible\n",
            "  - message from solver: <undefined>\n"
          ]
        },
        {
          "output_type": "stream",
          "name": "stdout",
          "text": [
            "\n",
            "Problem: \n",
            "- Name: unknown\n",
            "  Lower bound: -inf\n",
            "  Upper bound: None\n",
            "  Number of objectives: 1\n",
            "  Number of constraints: 4\n",
            "  Number of variables: 4\n",
            "  Number of nonzeros: 3\n",
            "  Sense: maximize\n",
            "Solver: \n",
            "- Status: warning\n",
            "  User time: -1.0\n",
            "  System time: 0.0\n",
            "  Wallclock time: 0.0\n",
            "  Termination condition: infeasible\n",
            "  Termination message: Model was proven to be infeasible.\n",
            "  Statistics: \n",
            "    Branch and bound: \n",
            "      Number of bounded subproblems: 0\n",
            "      Number of created subproblems: 0\n",
            "    Black box: \n",
            "      Number of iterations: 0\n",
            "  Error rc: 0\n",
            "  Time: 0.01684284210205078\n",
            "\n",
            "Solver status: warning\n",
            "Solver termination condition: infeasible\n",
            "Solver time: 0.01684284210205078\n"
          ]
        }
      ]
    },
    {
      "cell_type": "markdown",
      "source": [
        "In this case Solver status is warning and Solver termination condition is infeasible"
      ],
      "metadata": {
        "id": "72WhKgtIwv1Q"
      }
    },
    {
      "cell_type": "markdown",
      "source": [
        "***Exercise 1(2)(B) Solution***\n",
        "\n",
        "Add upper bounds on x2, x3 as x2 ≤ 5, x3 ≤ 10 and re-solve."
      ],
      "metadata": {
        "id": "OZ_VdeQNLgIa"
      }
    },
    {
      "cell_type": "code",
      "source": [
        "model1.objective.set_sense(minimize)"
      ],
      "metadata": {
        "id": "zlfFIAYdPFCj"
      },
      "execution_count": null,
      "outputs": []
    },
    {
      "cell_type": "code",
      "source": [
        "\n",
        "model1.x[1].setub(5)\n",
        "model1.x[2].setub(10)\n",
        "model1.pprint()"
      ],
      "metadata": {
        "colab": {
          "base_uri": "https://localhost:8080/"
        },
        "id": "Hp855PQmLHZQ",
        "outputId": "346a9e75-2a11-43ec-b3c6-03664b43f23e"
      },
      "execution_count": null,
      "outputs": [
        {
          "output_type": "stream",
          "name": "stdout",
          "text": [
            "2 Set Declarations\n",
            "    constraints_index : Size=1, Index=None, Ordered=Insertion\n",
            "        Key  : Dimen : Domain : Size : Members\n",
            "        None :     1 :    Any :    3 : {1, 2, 3}\n",
            "    x_index : Size=1, Index=None, Ordered=False\n",
            "        Key  : Dimen : Domain : Size : Members\n",
            "        None :     1 :    Any :    3 : {0, 1, 2}\n",
            "\n",
            "1 Var Declarations\n",
            "    x : Size=3, Index=x_index\n",
            "        Key : Lower : Value : Upper : Fixed : Stale : Domain\n",
            "          0 :     2 :  None :  None : False :  True :  Reals\n",
            "          1 :     1 :  None :     5 : False :  True :  Reals\n",
            "          2 :     1 :  None :    10 : False :  True :  Reals\n",
            "\n",
            "1 Objective Declarations\n",
            "    objective : Size=1, Index=None, Active=True\n",
            "        Key  : Active : Sense    : Expression\n",
            "        None :   True : minimize : 2*x[0] - 2*x[1] + 2*x[2]\n",
            "\n",
            "1 Constraint Declarations\n",
            "    constraints : Size=3, Index=constraints_index, Active=True\n",
            "        Key : Lower : Body                    : Upper : Active\n",
            "          1 :  -Inf :  2*x[0] - x[1] + 2*x[2] :   6.0 :   True\n",
            "          2 :  -Inf :  x[0] - 4*x[1] + 2*x[2] : -15.0 :   True\n",
            "          3 :  -Inf : -2*x[0] + 2*x[1] + x[2] :  -8.0 :   True\n",
            "\n",
            "5 Declarations: x_index x constraints_index constraints objective\n"
          ]
        }
      ]
    },
    {
      "cell_type": "code",
      "source": [
        "result = opt_cbc.solve(model1)\n",
        "print(result)\n",
        "\n",
        "print('Solver status:', result.solver.status)\n",
        "print('Solver termination condition:',result.solver.termination_condition)\n",
        "print('Solver time:',result.solver.time)"
      ],
      "metadata": {
        "colab": {
          "base_uri": "https://localhost:8080/"
        },
        "id": "Dx1mXc8mMBEe",
        "outputId": "ee6e57ff-e396-4c0c-f34d-f3b87d0d20c7"
      },
      "execution_count": null,
      "outputs": [
        {
          "output_type": "stream",
          "name": "stderr",
          "text": [
            "WARNING:pyomo.core:Loading a SolverResults object with a warning status into model.name=\"unknown\";\n",
            "  - termination condition: infeasible\n",
            "  - message from solver: <undefined>\n"
          ]
        },
        {
          "output_type": "stream",
          "name": "stdout",
          "text": [
            "\n",
            "Problem: \n",
            "- Name: unknown\n",
            "  Lower bound: None\n",
            "  Upper bound: inf\n",
            "  Number of objectives: 1\n",
            "  Number of constraints: 4\n",
            "  Number of variables: 4\n",
            "  Number of nonzeros: 3\n",
            "  Sense: minimize\n",
            "Solver: \n",
            "- Status: warning\n",
            "  User time: -1.0\n",
            "  System time: 0.0\n",
            "  Wallclock time: 0.0\n",
            "  Termination condition: infeasible\n",
            "  Termination message: Model was proven to be infeasible.\n",
            "  Statistics: \n",
            "    Branch and bound: \n",
            "      Number of bounded subproblems: 0\n",
            "      Number of created subproblems: 0\n",
            "    Black box: \n",
            "      Number of iterations: 0\n",
            "  Error rc: 0\n",
            "  Time: 0.01507711410522461\n",
            "\n",
            "Solver status: warning\n",
            "Solver termination condition: infeasible\n",
            "Solver time: 0.01507711410522461\n"
          ]
        }
      ]
    },
    {
      "cell_type": "markdown",
      "source": [
        "In this case Solver status is warning and Solver termination condition is infeasible"
      ],
      "metadata": {
        "id": "2IXhm4kzxirF"
      }
    },
    {
      "cell_type": "markdown",
      "source": [
        "***Exercise 1(2)(C) Solution***\n",
        "\n",
        "Add a new constraint −x2 + x3 ≤ 16 and re-solve."
      ],
      "metadata": {
        "id": "hYg6X-ldM9dc"
      }
    },
    {
      "cell_type": "code",
      "source": [
        "model1.x[1].setub(np.inf)\n",
        "model1.x[2].setub(np.inf)\n",
        "model1.pprint()"
      ],
      "metadata": {
        "colab": {
          "base_uri": "https://localhost:8080/"
        },
        "id": "J3-s3LPKPuCw",
        "outputId": "fb7df91b-1a26-4766-c16c-9990f1f84d36"
      },
      "execution_count": null,
      "outputs": [
        {
          "output_type": "stream",
          "name": "stdout",
          "text": [
            "2 Set Declarations\n",
            "    constraints_index : Size=1, Index=None, Ordered=Insertion\n",
            "        Key  : Dimen : Domain : Size : Members\n",
            "        None :     1 :    Any :    3 : {1, 2, 3}\n",
            "    x_index : Size=1, Index=None, Ordered=False\n",
            "        Key  : Dimen : Domain : Size : Members\n",
            "        None :     1 :    Any :    3 : {0, 1, 2}\n",
            "\n",
            "1 Var Declarations\n",
            "    x : Size=3, Index=x_index\n",
            "        Key : Lower : Value : Upper : Fixed : Stale : Domain\n",
            "          0 :     2 :  None :  None : False :  True :  Reals\n",
            "          1 :     1 :  None :  None : False :  True :  Reals\n",
            "          2 :     1 :  None :  None : False :  True :  Reals\n",
            "\n",
            "1 Objective Declarations\n",
            "    objective : Size=1, Index=None, Active=True\n",
            "        Key  : Active : Sense    : Expression\n",
            "        None :   True : minimize : 2*x[0] - 2*x[1] + 2*x[2]\n",
            "\n",
            "1 Constraint Declarations\n",
            "    constraints : Size=3, Index=constraints_index, Active=True\n",
            "        Key : Lower : Body                    : Upper : Active\n",
            "          1 :  -Inf :  2*x[0] - x[1] + 2*x[2] :   6.0 :   True\n",
            "          2 :  -Inf :  x[0] - 4*x[1] + 2*x[2] : -15.0 :   True\n",
            "          3 :  -Inf : -2*x[0] + 2*x[1] + x[2] :  -8.0 :   True\n",
            "\n",
            "5 Declarations: x_index x constraints_index constraints objective\n"
          ]
        }
      ]
    },
    {
      "cell_type": "code",
      "source": [
        "new_constr_coef = [0,-1,1]\n",
        "new_constr_rhs = 16\n",
        "model1.constraints.add(sum(new_constr_coef[j]*model1.x[j] for j in col_indices) <= new_constr_rhs)\n",
        "model1.pprint()"
      ],
      "metadata": {
        "colab": {
          "base_uri": "https://localhost:8080/"
        },
        "id": "07NIDqhHMyCD",
        "outputId": "0de2edaa-017e-411a-fa93-5465862da04e"
      },
      "execution_count": null,
      "outputs": [
        {
          "output_type": "stream",
          "name": "stdout",
          "text": [
            "2 Set Declarations\n",
            "    constraints_index : Size=1, Index=None, Ordered=Insertion\n",
            "        Key  : Dimen : Domain : Size : Members\n",
            "        None :     1 :    Any :    4 : {1, 2, 3, 4}\n",
            "    x_index : Size=1, Index=None, Ordered=False\n",
            "        Key  : Dimen : Domain : Size : Members\n",
            "        None :     1 :    Any :    3 : {0, 1, 2}\n",
            "\n",
            "1 Var Declarations\n",
            "    x : Size=3, Index=x_index\n",
            "        Key : Lower : Value : Upper : Fixed : Stale : Domain\n",
            "          0 :     2 :  None :  None : False :  True :  Reals\n",
            "          1 :     1 :  None :  None : False :  True :  Reals\n",
            "          2 :     1 :  None :  None : False :  True :  Reals\n",
            "\n",
            "1 Objective Declarations\n",
            "    objective : Size=1, Index=None, Active=True\n",
            "        Key  : Active : Sense    : Expression\n",
            "        None :   True : minimize : 2*x[0] - 2*x[1] + 2*x[2]\n",
            "\n",
            "1 Constraint Declarations\n",
            "    constraints : Size=4, Index=constraints_index, Active=True\n",
            "        Key : Lower : Body                    : Upper : Active\n",
            "          1 :  -Inf :  2*x[0] - x[1] + 2*x[2] :   6.0 :   True\n",
            "          2 :  -Inf :  x[0] - 4*x[1] + 2*x[2] : -15.0 :   True\n",
            "          3 :  -Inf : -2*x[0] + 2*x[1] + x[2] :  -8.0 :   True\n",
            "          4 :  -Inf :           - x[1] + x[2] :  16.0 :   True\n",
            "\n",
            "5 Declarations: x_index x constraints_index constraints objective\n"
          ]
        }
      ]
    },
    {
      "cell_type": "code",
      "source": [
        "result = opt_cbc.solve(model1)\n",
        "print(result)\n",
        "\n",
        "print('Solver status:', result.solver.status)\n",
        "print('Solver termination condition:',result.solver.termination_condition)\n",
        "print('Solver time:',result.solver.time)"
      ],
      "metadata": {
        "colab": {
          "base_uri": "https://localhost:8080/"
        },
        "id": "4Y6w9tcyNUSQ",
        "outputId": "ffbdeb17-d806-4972-e57b-8eb00d8ffe94"
      },
      "execution_count": null,
      "outputs": [
        {
          "output_type": "stream",
          "name": "stderr",
          "text": [
            "WARNING:pyomo.core:Loading a SolverResults object with a warning status into model.name=\"unknown\";\n",
            "  - termination condition: infeasible\n",
            "  - message from solver: <undefined>\n"
          ]
        },
        {
          "output_type": "stream",
          "name": "stdout",
          "text": [
            "\n",
            "Problem: \n",
            "- Name: unknown\n",
            "  Lower bound: None\n",
            "  Upper bound: 11.0\n",
            "  Number of objectives: 1\n",
            "  Number of constraints: 5\n",
            "  Number of variables: 4\n",
            "  Number of nonzeros: 0\n",
            "  Sense: minimize\n",
            "Solver: \n",
            "- Status: warning\n",
            "  User time: -1.0\n",
            "  System time: 0.0\n",
            "  Wallclock time: 0.0\n",
            "  Termination condition: infeasible\n",
            "  Termination message: Model was proven to be infeasible.\n",
            "  Statistics: \n",
            "    Branch and bound: \n",
            "      Number of bounded subproblems: 0\n",
            "      Number of created subproblems: 0\n",
            "    Black box: \n",
            "      Number of iterations: 0\n",
            "  Error rc: 0\n",
            "  Time: 0.014501094818115234\n",
            "\n",
            "Solver status: warning\n",
            "Solver termination condition: infeasible\n",
            "Solver time: 0.014501094818115234\n"
          ]
        }
      ]
    },
    {
      "cell_type": "markdown",
      "source": [
        "In this case Solver status is warning and Solver termination condition is infeasible"
      ],
      "metadata": {
        "id": "kq2dx_J5xq1Q"
      }
    },
    {
      "cell_type": "markdown",
      "source": [
        "***Exercise 1(2)(D) Solution***\n",
        "\n",
        "Deactivate the objective of problem (OP) and construct a new objective of the form\n",
        "min x1 + 2x2 + 3x3 and deactivate the constraint 2x1 − x2 + 2x3 ≤ 6 and add a different\n",
        "constraint x2 + x3 ≥ 25."
      ],
      "metadata": {
        "id": "dWr9LOCxN95R"
      }
    },
    {
      "cell_type": "code",
      "source": [
        "model1.constraints[4].deactivate()\n",
        "model1.constraints[1].deactivate()"
      ],
      "metadata": {
        "id": "ZUGBHVHQN0TO"
      },
      "execution_count": null,
      "outputs": []
    },
    {
      "cell_type": "code",
      "source": [
        "model1.new_objective = Objective(expr = model1.x[0] + 2*model1.x[1] + 3*model1.x[2] , sense = minimize )\n",
        "model1.constraints.add(expr = model1.x[1]+ model1.x[2] >= 25)\n",
        "model1.objective.deactivate()\n",
        "model1.pprint()"
      ],
      "metadata": {
        "colab": {
          "base_uri": "https://localhost:8080/"
        },
        "id": "wRq010WnQwO8",
        "outputId": "eecd52b6-0df7-4868-e809-32ddc4e686a2"
      },
      "execution_count": null,
      "outputs": [
        {
          "output_type": "stream",
          "name": "stdout",
          "text": [
            "2 Set Declarations\n",
            "    constraints_index : Size=1, Index=None, Ordered=Insertion\n",
            "        Key  : Dimen : Domain : Size : Members\n",
            "        None :     1 :    Any :    5 : {1, 2, 3, 4, 5}\n",
            "    x_index : Size=1, Index=None, Ordered=False\n",
            "        Key  : Dimen : Domain : Size : Members\n",
            "        None :     1 :    Any :    3 : {0, 1, 2}\n",
            "\n",
            "1 Var Declarations\n",
            "    x : Size=3, Index=x_index\n",
            "        Key : Lower : Value : Upper : Fixed : Stale : Domain\n",
            "          0 :     2 :  None :  None : False :  True :  Reals\n",
            "          1 :     1 :  None :  None : False :  True :  Reals\n",
            "          2 :     1 :  None :  None : False :  True :  Reals\n",
            "\n",
            "2 Objective Declarations\n",
            "    new_objective : Size=1, Index=None, Active=True\n",
            "        Key  : Active : Sense    : Expression\n",
            "        None :   True : minimize : x[0] + 2*x[1] + 3*x[2]\n",
            "    objective : Size=1, Index=None, Active=False\n",
            "        Key  : Active : Sense    : Expression\n",
            "        None :  False : minimize : 2*x[0] - 2*x[1] + 2*x[2]\n",
            "\n",
            "1 Constraint Declarations\n",
            "    constraints : Size=5, Index=constraints_index, Active=True\n",
            "        Key : Lower : Body                    : Upper : Active\n",
            "          1 :  -Inf :  2*x[0] - x[1] + 2*x[2] :   6.0 :  False\n",
            "          2 :  -Inf :  x[0] - 4*x[1] + 2*x[2] : -15.0 :   True\n",
            "          3 :  -Inf : -2*x[0] + 2*x[1] + x[2] :  -8.0 :   True\n",
            "          4 :  -Inf :           - x[1] + x[2] :  16.0 :  False\n",
            "          5 :  25.0 :             x[1] + x[2] :  +Inf :   True\n",
            "\n",
            "6 Declarations: x_index x constraints_index constraints objective new_objective\n"
          ]
        }
      ]
    },
    {
      "cell_type": "code",
      "source": [
        "result = opt_cbc.solve(model1)\n",
        "print(result)\n",
        "\n",
        "print('Solver status:', result.solver.status)\n",
        "print('Solver termination condition:',result.solver.termination_condition)\n",
        "print('Solver time:',result.solver.time)"
      ],
      "metadata": {
        "colab": {
          "base_uri": "https://localhost:8080/"
        },
        "id": "McDttV53SHTT",
        "outputId": "c9e7952d-f91c-47b0-a652-fe57482cde91"
      },
      "execution_count": null,
      "outputs": [
        {
          "output_type": "stream",
          "name": "stdout",
          "text": [
            "\n",
            "Problem: \n",
            "- Name: unknown\n",
            "  Lower bound: 79.5\n",
            "  Upper bound: 79.5\n",
            "  Number of objectives: 1\n",
            "  Number of constraints: 4\n",
            "  Number of variables: 4\n",
            "  Number of nonzeros: 3\n",
            "  Sense: minimize\n",
            "Solver: \n",
            "- Status: ok\n",
            "  User time: -1.0\n",
            "  System time: 0.0\n",
            "  Wallclock time: 0.0\n",
            "  Termination condition: optimal\n",
            "  Termination message: Model was solved to optimality (subject to tolerances), and an optimal solution is available.\n",
            "  Statistics: \n",
            "    Branch and bound: \n",
            "      Number of bounded subproblems: None\n",
            "      Number of created subproblems: None\n",
            "    Black box: \n",
            "      Number of iterations: 2\n",
            "  Error rc: 0\n",
            "  Time: 0.016977787017822266\n",
            "Solution: \n",
            "- number of solutions: 0\n",
            "  number of solutions displayed: 0\n",
            "\n",
            "Solver status: ok\n",
            "Solver termination condition: optimal\n",
            "Solver time: 0.016977787017822266\n"
          ]
        }
      ]
    },
    {
      "cell_type": "code",
      "source": [
        "# display solution\n",
        "print('\\nObjective = ', model1.new_objective())\n",
        "\n",
        "print('\\nDecision Variables')\n",
        "for i in col_indices:\n",
        "  print('x[',i,'] = ', model1.x[i].value)\n",
        "print('\\nConstraints')\n",
        "model1.constraints.display()"
      ],
      "metadata": {
        "id": "p84eyw4aU2_B",
        "colab": {
          "base_uri": "https://localhost:8080/"
        },
        "outputId": "a88cb327-f9c9-4690-f9f0-81509e14536f"
      },
      "execution_count": null,
      "outputs": [
        {
          "output_type": "stream",
          "name": "stdout",
          "text": [
            "\n",
            "Objective =  79.5\n",
            "\n",
            "Decision Variables\n",
            "x[ 0 ] =  28.5\n",
            "x[ 1 ] =  24.0\n",
            "x[ 2 ] =  1.0\n",
            "\n",
            "Constraints\n",
            "constraints : Size=5\n",
            "    Key : Lower : Body  : Upper\n",
            "      2 :  None : -65.5 : -15.0\n",
            "      3 :  None :  -8.0 :  -8.0\n",
            "      5 :  25.0 :  25.0 :  None\n"
          ]
        }
      ]
    },
    {
      "cell_type": "markdown",
      "source": [
        "In this case Solver status is ok and Solver termination condition is optimal"
      ],
      "metadata": {
        "id": "fhIgFa4Fx8Jg"
      }
    },
    {
      "cell_type": "markdown",
      "source": [
        "In this case Constraint 1(constraint no 2) is inactive because LHS and RHS are not equal BUT Constraints 2(constraint no.3) and 3(constraint no.5) are Active because LHS and RHS are equal."
      ],
      "metadata": {
        "id": "AQ1GN4c9yo1R"
      }
    },
    {
      "cell_type": "code",
      "source": [
        ""
      ],
      "metadata": {
        "id": "dpVUZIinITjx"
      },
      "execution_count": null,
      "outputs": []
    }
  ]
}