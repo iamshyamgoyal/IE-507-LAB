{
  "nbformat": 4,
  "nbformat_minor": 0,
  "metadata": {
    "colab": {
      "provenance": [],
      "collapsed_sections": []
    },
    "kernelspec": {
      "name": "python3",
      "display_name": "Python 3"
    },
    "language_info": {
      "name": "python"
    }
  },
  "cells": [
    {
      "cell_type": "markdown",
      "source": [
        "## **Exercise 2 Solution**"
      ],
      "metadata": {
        "id": "CF-Gx6NP-FhD"
      }
    },
    {
      "cell_type": "markdown",
      "source": [
        "# Exercise 2(1)\n",
        "\n",
        "For solving this problem, we can associate a decision variable $x_{ij}$ for denoting the factory $i$ assign to a location $j$.\n",
        "\n",
        "Let $i$ take values from the set $\\{1,2,3,4,5,6,7,8,9,10,11,12\\}$ corresponding to factory number. \n",
        "Let $j$ take values from the set $\\{1,2,3,4,5,6,7,8,9,10,11,12\\}$ corresponding to location number.\n",
        "\n",
        "here we have assign each location have one factory so decision varible $x_{ij}$ have only two value {0,1} means if facory is not assign then take vlaue 0 and if assign the take value 1. \n",
        "\n",
        "Now we shall formulate the objective function. Since $x_{ij}$ facory $i$ is assign at location $j$, and since we know the assigning the cost of each factory $i$ is assign the location $j$, we have minimize the total asigning cost:\n",
        "\n",
        "\n",
        "min $A_{ij}$ * $x_{ij}$\n",
        "\n",
        "where A = [[21 25 18 19 23 24 16 17 21 23 19 21]\n",
        "\n",
        "\n",
        "[19 22 19 19 23 21 15 20 16 17 17 24]\n",
        "\n",
        "\n",
        "[21 19 20 18 22 24 14 16 18 16 20 24]\n",
        "\n",
        "\n",
        "[19 22 17 17 22 22 18 18 20 21 23 23]\n",
        "\n",
        "\n",
        "[18 22 15 15 23 23 21 25 24 19 21 23]\n",
        "\n",
        "\n",
        "[23 19 19 14 24 21 23 21 20 20 22 19]\n",
        "\n",
        "\n",
        "[21 16 27 17 26 27 16 19 24 20 20 23]\n",
        "\n",
        "\n",
        "[22 17 21 15 23 24 24 20 22 19 23 21]\n",
        "\n",
        "\n",
        "[23 24 18 19 22 23 21 18 23 15 25 21]\n",
        "\n",
        "\n",
        "[18 21 21 18 26 24 18 17 18 20 21 20]\n",
        "\n",
        "\n",
        "[19 12 21 19 23 20 22 19 17 19 20 24]\n",
        "\n",
        "\n",
        "[18 22 24 17 21 28 18 16 22 24 25 24]]\n",
        "\n",
        "s.t.\n",
        "\n",
        "\\begin{align}\n",
        "\\sum_{j=1}^{12} x_{1j} &= 1 \\nonumber \\\\\n",
        "\\sum_{j=1}^{12} x_{2j} &= 1 \\nonumber \\\\\n",
        "\\sum_{j=1}^{12} x_{3j} &= 1 \\nonumber \\\\\n",
        "\\sum_{j=1}^{12} x_{4j} &= 1 \\nonumber \\\\\n",
        "\\sum_{j=1}^{12} x_{5j} &= 1 \\nonumber \\\\\n",
        "\\sum_{j=1}^{12} x_{6j} &= 1 \\nonumber \\\\\n",
        "\\sum_{j=1}^{12} x_{7j} &= 1 \\nonumber \\\\\n",
        "\\sum_{j=1}^{12} x_{8j} &= 1 \\nonumber \\\\\n",
        "\\sum_{j=1}^{12} x_{9j} &= 1 \\nonumber \\\\\n",
        "\\sum_{j=1}^{12} x_{10j} &= 1 \\nonumber \\\\\n",
        "\\sum_{j=1}^{12} x_{11j} &= 1 \\nonumber \\\\\n",
        "\\sum_{j=1}^{12} x_{12j} &= 1 \\nonumber \\\\\n",
        "\\text{ and } \\nonumber \\\\ \n",
        "\\sum_{i=1}^{12} x_{i1} &= 1 \\nonumber \\\\\n",
        "\\sum_{i=1}^{12} x_{i2} &= 1 \\nonumber \\\\\n",
        "\\sum_{i=1}^{12} x_{i3} &= 1 \\nonumber \\\\\n",
        "\\sum_{i=1}^{12} x_{i4} &= 1 \\nonumber \\\\\n",
        "\\sum_{i=1}^{12} x_{i5} &= 1 \\nonumber \\\\\n",
        "\\sum_{i=1}^{12} x_{i6} &= 1 \\nonumber \\\\\n",
        "\\sum_{i=1}^{12} x_{i7} &= 1 \\nonumber \\\\\n",
        "\\sum_{i=1}^{12} x_{i8} &= 1 \\nonumber \\\\\n",
        "\\sum_{i=1}^{12} x_{i9} &= 1 \\nonumber \\\\\n",
        "\\sum_{i=1}^{12} x_{i10} &= 1 \\nonumber \\\\\n",
        "\\sum_{i=1}^{12} x_{i11} &= 1 \\nonumber \\\\\n",
        "\\sum_{i=1}^{12} x_{i12} &= 1 \\nonumber \\\\\n",
        "\\text{ and } \\nonumber \\\\ \n",
        "x_{ij} &= {0,1} \\ \\forall i \\in \\{1,2,3,4,5,6,7,8,9,10,11,12\\}, \\ \\forall j \\in \\{1,2,3,4,5,6,7,8,9,10,11,12\\}. \\nonumber\n",
        "\\end{align}\n",
        "\n",
        "\n",
        "\n"
      ],
      "metadata": {
        "id": "8Z4oh5Ka-Atz"
      }
    },
    {
      "cell_type": "code",
      "execution_count": null,
      "metadata": {
        "id": "mf3pbqb8zgsy"
      },
      "outputs": [],
      "source": [
        "!pip install -q pyomo\n",
        "from pyomo.environ import*\n",
        "import numpy as np"
      ]
    },
    {
      "cell_type": "code",
      "source": [
        "data_txtfile = np.loadtxt(\"lab6_ex2.txt\",delimiter=\" \")"
      ],
      "metadata": {
        "id": "4A0QOgKPFY-S"
      },
      "execution_count": null,
      "outputs": []
    },
    {
      "cell_type": "code",
      "source": [
        "print(data_txtfile)\n",
        "print('Num rows:',data_txtfile.shape[0])\n",
        "print('Num cols:',data_txtfile.shape[1])"
      ],
      "metadata": {
        "colab": {
          "base_uri": "https://localhost:8080/"
        },
        "id": "G4_JhfQDGFWY",
        "outputId": "c7ac4eb8-8922-4e00-8777-44dd81051352"
      },
      "execution_count": null,
      "outputs": [
        {
          "output_type": "stream",
          "name": "stdout",
          "text": [
            "[[21. 25. 18. 19. 23. 24. 16. 17. 21. 23. 19. 21.]\n",
            " [19. 22. 19. 19. 23. 21. 15. 20. 16. 17. 17. 24.]\n",
            " [21. 19. 20. 18. 22. 24. 14. 16. 18. 16. 20. 24.]\n",
            " [19. 22. 17. 17. 22. 22. 18. 18. 20. 21. 23. 23.]\n",
            " [18. 22. 15. 15. 23. 23. 21. 25. 24. 19. 21. 23.]\n",
            " [23. 19. 19. 14. 24. 21. 23. 21. 20. 20. 22. 19.]\n",
            " [21. 16. 27. 17. 26. 27. 16. 19. 24. 20. 20. 23.]\n",
            " [22. 17. 21. 15. 23. 24. 24. 20. 22. 19. 23. 21.]\n",
            " [23. 24. 18. 19. 22. 23. 21. 18. 23. 15. 25. 21.]\n",
            " [18. 21. 21. 18. 26. 24. 18. 17. 18. 20. 21. 20.]\n",
            " [19. 12. 21. 19. 23. 20. 22. 19. 17. 19. 20. 24.]\n",
            " [18. 22. 24. 17. 21. 28. 18. 16. 22. 24. 25. 24.]]\n",
            "Num rows: 12\n",
            "Num cols: 12\n"
          ]
        }
      ]
    },
    {
      "cell_type": "code",
      "source": [
        "model_lab6 = ConcreteModel()"
      ],
      "metadata": {
        "id": "b0jYR_H0GRSV"
      },
      "execution_count": null,
      "outputs": []
    },
    {
      "cell_type": "code",
      "source": [
        "data_txtfile.shape"
      ],
      "metadata": {
        "colab": {
          "base_uri": "https://localhost:8080/"
        },
        "id": "EK9CbMwwIt5e",
        "outputId": "fcd22676-493e-49ad-932f-9fae344b26f1"
      },
      "execution_count": null,
      "outputs": [
        {
          "output_type": "execute_result",
          "data": {
            "text/plain": [
              "(12, 12)"
            ]
          },
          "metadata": {},
          "execution_count": 5
        }
      ]
    },
    {
      "cell_type": "code",
      "source": [
        "row_indices = range(data_txtfile.shape[0])\n",
        "col_indices = range(data_txtfile.shape[1])"
      ],
      "metadata": {
        "id": "EMH61KD7XUSe"
      },
      "execution_count": null,
      "outputs": []
    },
    {
      "cell_type": "code",
      "source": [
        "model_lab6.x = Var(row_indices,col_indices,domain = Binary)"
      ],
      "metadata": {
        "id": "eSnjY8_XX8Oy"
      },
      "execution_count": null,
      "outputs": []
    },
    {
      "cell_type": "code",
      "source": [
        "model_lab6.objective = Objective(expr=sum(model_lab6.x[i,j]*data_txtfile[i,j] for i in row_indices for j in col_indices), sense=minimize)"
      ],
      "metadata": {
        "id": "6QjMl7YWa66W"
      },
      "execution_count": null,
      "outputs": []
    },
    {
      "cell_type": "code",
      "source": [
        "model_lab6.constraints = ConstraintList() "
      ],
      "metadata": {
        "id": "1m_kgrfab0Ku"
      },
      "execution_count": null,
      "outputs": []
    },
    {
      "cell_type": "code",
      "source": [
        "for i in row_indices:\n",
        "  model_lab6.constraints.add(expr=sum(model_lab6.x[i,j] for j in col_indices) == 1)\n",
        "\n",
        "for i in row_indices:\n",
        "   model_lab6.constraints.add(expr=sum(model_lab6.x[j,i] for j in col_indices)==1) "
      ],
      "metadata": {
        "id": "s2jNMXZUcQ60"
      },
      "execution_count": null,
      "outputs": []
    },
    {
      "cell_type": "code",
      "source": [
        "model_lab6.pprint()"
      ],
      "metadata": {
        "colab": {
          "base_uri": "https://localhost:8080/"
        },
        "id": "hZuh6mXrDm7l",
        "outputId": "f6b935ef-c7ab-4644-f97e-09faa2b61216"
      },
      "execution_count": null,
      "outputs": [
        {
          "output_type": "stream",
          "name": "stdout",
          "text": [
            "4 Set Declarations\n",
            "    constraints_index : Size=1, Index=None, Ordered=Insertion\n",
            "        Key  : Dimen : Domain : Size : Members\n",
            "        None :     1 :    Any :   24 : {1, 2, 3, 4, 5, 6, 7, 8, 9, 10, 11, 12, 13, 14, 15, 16, 17, 18, 19, 20, 21, 22, 23, 24}\n",
            "    x_index : Size=1, Index=None, Ordered=True\n",
            "        Key  : Dimen : Domain              : Size : Members\n",
            "        None :     2 : x_index_0*x_index_1 :  144 : {(0, 0), (0, 1), (0, 2), (0, 3), (0, 4), (0, 5), (0, 6), (0, 7), (0, 8), (0, 9), (0, 10), (0, 11), (1, 0), (1, 1), (1, 2), (1, 3), (1, 4), (1, 5), (1, 6), (1, 7), (1, 8), (1, 9), (1, 10), (1, 11), (2, 0), (2, 1), (2, 2), (2, 3), (2, 4), (2, 5), (2, 6), (2, 7), (2, 8), (2, 9), (2, 10), (2, 11), (3, 0), (3, 1), (3, 2), (3, 3), (3, 4), (3, 5), (3, 6), (3, 7), (3, 8), (3, 9), (3, 10), (3, 11), (4, 0), (4, 1), (4, 2), (4, 3), (4, 4), (4, 5), (4, 6), (4, 7), (4, 8), (4, 9), (4, 10), (4, 11), (5, 0), (5, 1), (5, 2), (5, 3), (5, 4), (5, 5), (5, 6), (5, 7), (5, 8), (5, 9), (5, 10), (5, 11), (6, 0), (6, 1), (6, 2), (6, 3), (6, 4), (6, 5), (6, 6), (6, 7), (6, 8), (6, 9), (6, 10), (6, 11), (7, 0), (7, 1), (7, 2), (7, 3), (7, 4), (7, 5), (7, 6), (7, 7), (7, 8), (7, 9), (7, 10), (7, 11), (8, 0), (8, 1), (8, 2), (8, 3), (8, 4), (8, 5), (8, 6), (8, 7), (8, 8), (8, 9), (8, 10), (8, 11), (9, 0), (9, 1), (9, 2), (9, 3), (9, 4), (9, 5), (9, 6), (9, 7), (9, 8), (9, 9), (9, 10), (9, 11), (10, 0), (10, 1), (10, 2), (10, 3), (10, 4), (10, 5), (10, 6), (10, 7), (10, 8), (10, 9), (10, 10), (10, 11), (11, 0), (11, 1), (11, 2), (11, 3), (11, 4), (11, 5), (11, 6), (11, 7), (11, 8), (11, 9), (11, 10), (11, 11)}\n",
            "    x_index_0 : Size=1, Index=None, Ordered=Insertion\n",
            "        Key  : Dimen : Domain : Size : Members\n",
            "        None :     1 :    Any :   12 : {0, 1, 2, 3, 4, 5, 6, 7, 8, 9, 10, 11}\n",
            "    x_index_1 : Size=1, Index=None, Ordered=Insertion\n",
            "        Key  : Dimen : Domain : Size : Members\n",
            "        None :     1 :    Any :   12 : {0, 1, 2, 3, 4, 5, 6, 7, 8, 9, 10, 11}\n",
            "\n",
            "1 Var Declarations\n",
            "    x : Size=144, Index=x_index\n",
            "        Key      : Lower : Value : Upper : Fixed : Stale : Domain\n",
            "          (0, 0) :   inf :   0.0 :  -inf : False : False : Binary\n",
            "          (0, 1) :   inf :   0.0 :  -inf : False : False : Binary\n",
            "          (0, 2) :   inf :   0.0 :  -inf : False : False : Binary\n",
            "          (0, 3) :   inf :   0.0 :  -inf : False : False : Binary\n",
            "          (0, 4) :   inf :   0.0 :  -inf : False : False : Binary\n",
            "          (0, 5) :   inf :   0.0 :  -inf : False : False : Binary\n",
            "          (0, 6) :   inf :   0.0 :  -inf : False : False : Binary\n",
            "          (0, 7) :   inf :   0.0 :  -inf : False : False : Binary\n",
            "          (0, 8) :   inf :   0.0 :  -inf : False : False : Binary\n",
            "          (0, 9) :   inf :   0.0 :  -inf : False : False : Binary\n",
            "         (0, 10) :   inf :   1.0 :  -inf : False : False : Binary\n",
            "         (0, 11) :   inf :   0.0 :  -inf : False : False : Binary\n",
            "          (1, 0) :   inf :   0.0 :  -inf : False : False : Binary\n",
            "          (1, 1) :   inf :   0.0 :  -inf : False : False : Binary\n",
            "          (1, 2) :   inf :   0.0 :  -inf : False : False : Binary\n",
            "          (1, 3) :   inf :   0.0 :  -inf : False : False : Binary\n",
            "          (1, 4) :   inf :   0.0 :  -inf : False : False : Binary\n",
            "          (1, 5) :   inf :   0.0 :  -inf : False : False : Binary\n",
            "          (1, 6) :   inf :   0.0 :  -inf : False : False : Binary\n",
            "          (1, 7) :   inf :   0.0 :  -inf : False : False : Binary\n",
            "          (1, 8) :   inf :   1.0 :  -inf : False : False : Binary\n",
            "          (1, 9) :   inf :   0.0 :  -inf : False : False : Binary\n",
            "         (1, 10) :   inf :   0.0 :  -inf : False : False : Binary\n",
            "         (1, 11) :   inf :   0.0 :  -inf : False : False : Binary\n",
            "          (2, 0) :   inf :   0.0 :  -inf : False : False : Binary\n",
            "          (2, 1) :   inf :   0.0 :  -inf : False : False : Binary\n",
            "          (2, 2) :   inf :   0.0 :  -inf : False : False : Binary\n",
            "          (2, 3) :   inf :   0.0 :  -inf : False : False : Binary\n",
            "          (2, 4) :   inf :   0.0 :  -inf : False : False : Binary\n",
            "          (2, 5) :   inf :   0.0 :  -inf : False : False : Binary\n",
            "          (2, 6) :   inf :   0.0 :  -inf : False : False : Binary\n",
            "          (2, 7) :   inf :   1.0 :  -inf : False : False : Binary\n",
            "          (2, 8) :   inf :   0.0 :  -inf : False : False : Binary\n",
            "          (2, 9) :   inf :   0.0 :  -inf : False : False : Binary\n",
            "         (2, 10) :   inf :   0.0 :  -inf : False : False : Binary\n",
            "         (2, 11) :   inf :   0.0 :  -inf : False : False : Binary\n",
            "          (3, 0) :   inf :   0.0 :  -inf : False : False : Binary\n",
            "          (3, 1) :   inf :   0.0 :  -inf : False : False : Binary\n",
            "          (3, 2) :   inf :   0.0 :  -inf : False : False : Binary\n",
            "          (3, 3) :   inf :   0.0 :  -inf : False : False : Binary\n",
            "          (3, 4) :   inf :   0.0 :  -inf : False : False : Binary\n",
            "          (3, 5) :   inf :   1.0 :  -inf : False : False : Binary\n",
            "          (3, 6) :   inf :   0.0 :  -inf : False : False : Binary\n",
            "          (3, 7) :   inf :   0.0 :  -inf : False : False : Binary\n",
            "          (3, 8) :   inf :   0.0 :  -inf : False : False : Binary\n",
            "          (3, 9) :   inf :   0.0 :  -inf : False : False : Binary\n",
            "         (3, 10) :   inf :   0.0 :  -inf : False : False : Binary\n",
            "         (3, 11) :   inf :   0.0 :  -inf : False : False : Binary\n",
            "          (4, 0) :   inf :   0.0 :  -inf : False : False : Binary\n",
            "          (4, 1) :   inf :   0.0 :  -inf : False : False : Binary\n",
            "          (4, 2) :   inf :   1.0 :  -inf : False : False : Binary\n",
            "          (4, 3) :   inf :   0.0 :  -inf : False : False : Binary\n",
            "          (4, 4) :   inf :   0.0 :  -inf : False : False : Binary\n",
            "          (4, 5) :   inf :   0.0 :  -inf : False : False : Binary\n",
            "          (4, 6) :   inf :   0.0 :  -inf : False : False : Binary\n",
            "          (4, 7) :   inf :   0.0 :  -inf : False : False : Binary\n",
            "          (4, 8) :   inf :   0.0 :  -inf : False : False : Binary\n",
            "          (4, 9) :   inf :   0.0 :  -inf : False : False : Binary\n",
            "         (4, 10) :   inf :   0.0 :  -inf : False : False : Binary\n",
            "         (4, 11) :   inf :   0.0 :  -inf : False : False : Binary\n",
            "          (5, 0) :   inf :   0.0 :  -inf : False : False : Binary\n",
            "          (5, 1) :   inf :   0.0 :  -inf : False : False : Binary\n",
            "          (5, 2) :   inf :   0.0 :  -inf : False : False : Binary\n",
            "          (5, 3) :   inf :   0.0 :  -inf : False : False : Binary\n",
            "          (5, 4) :   inf :   0.0 :  -inf : False : False : Binary\n",
            "          (5, 5) :   inf :   0.0 :  -inf : False : False : Binary\n",
            "          (5, 6) :   inf :   0.0 :  -inf : False : False : Binary\n",
            "          (5, 7) :   inf :   0.0 :  -inf : False : False : Binary\n",
            "          (5, 8) :   inf :   0.0 :  -inf : False : False : Binary\n",
            "          (5, 9) :   inf :   0.0 :  -inf : False : False : Binary\n",
            "         (5, 10) :   inf :   0.0 :  -inf : False : False : Binary\n",
            "         (5, 11) :   inf :   1.0 :  -inf : False : False : Binary\n",
            "          (6, 0) :   inf :   0.0 :  -inf : False : False : Binary\n",
            "          (6, 1) :   inf :   0.0 :  -inf : False : False : Binary\n",
            "          (6, 2) :   inf :   0.0 :  -inf : False : False : Binary\n",
            "          (6, 3) :   inf :   0.0 :  -inf : False : False : Binary\n",
            "          (6, 4) :   inf :   0.0 :  -inf : False : False : Binary\n",
            "          (6, 5) :   inf :   0.0 :  -inf : False : False : Binary\n",
            "          (6, 6) :   inf :   1.0 :  -inf : False : False : Binary\n",
            "          (6, 7) :   inf :   0.0 :  -inf : False : False : Binary\n",
            "          (6, 8) :   inf :   0.0 :  -inf : False : False : Binary\n",
            "          (6, 9) :   inf :   0.0 :  -inf : False : False : Binary\n",
            "         (6, 10) :   inf :   0.0 :  -inf : False : False : Binary\n",
            "         (6, 11) :   inf :   0.0 :  -inf : False : False : Binary\n",
            "          (7, 0) :   inf :   0.0 :  -inf : False : False : Binary\n",
            "          (7, 1) :   inf :   0.0 :  -inf : False : False : Binary\n",
            "          (7, 2) :   inf :   0.0 :  -inf : False : False : Binary\n",
            "          (7, 3) :   inf :   1.0 :  -inf : False : False : Binary\n",
            "          (7, 4) :   inf :   0.0 :  -inf : False : False : Binary\n",
            "          (7, 5) :   inf :   0.0 :  -inf : False : False : Binary\n",
            "          (7, 6) :   inf :   0.0 :  -inf : False : False : Binary\n",
            "          (7, 7) :   inf :   0.0 :  -inf : False : False : Binary\n",
            "          (7, 8) :   inf :   0.0 :  -inf : False : False : Binary\n",
            "          (7, 9) :   inf :   0.0 :  -inf : False : False : Binary\n",
            "         (7, 10) :   inf :   0.0 :  -inf : False : False : Binary\n",
            "         (7, 11) :   inf :   0.0 :  -inf : False : False : Binary\n",
            "          (8, 0) :   inf :   0.0 :  -inf : False : False : Binary\n",
            "          (8, 1) :   inf :   0.0 :  -inf : False : False : Binary\n",
            "          (8, 2) :   inf :   0.0 :  -inf : False : False : Binary\n",
            "          (8, 3) :   inf :   0.0 :  -inf : False : False : Binary\n",
            "          (8, 4) :   inf :   0.0 :  -inf : False : False : Binary\n",
            "          (8, 5) :   inf :   0.0 :  -inf : False : False : Binary\n",
            "          (8, 6) :   inf :   0.0 :  -inf : False : False : Binary\n",
            "          (8, 7) :   inf :   0.0 :  -inf : False : False : Binary\n",
            "          (8, 8) :   inf :   0.0 :  -inf : False : False : Binary\n",
            "          (8, 9) :   inf :   1.0 :  -inf : False : False : Binary\n",
            "         (8, 10) :   inf :   0.0 :  -inf : False : False : Binary\n",
            "         (8, 11) :   inf :   0.0 :  -inf : False : False : Binary\n",
            "          (9, 0) :   inf :   1.0 :  -inf : False : False : Binary\n",
            "          (9, 1) :   inf :   0.0 :  -inf : False : False : Binary\n",
            "          (9, 2) :   inf :   0.0 :  -inf : False : False : Binary\n",
            "          (9, 3) :   inf :   0.0 :  -inf : False : False : Binary\n",
            "          (9, 4) :   inf :   0.0 :  -inf : False : False : Binary\n",
            "          (9, 5) :   inf :   0.0 :  -inf : False : False : Binary\n",
            "          (9, 6) :   inf :   0.0 :  -inf : False : False : Binary\n",
            "          (9, 7) :   inf :   0.0 :  -inf : False : False : Binary\n",
            "          (9, 8) :   inf :   0.0 :  -inf : False : False : Binary\n",
            "          (9, 9) :   inf :   0.0 :  -inf : False : False : Binary\n",
            "         (9, 10) :   inf :   0.0 :  -inf : False : False : Binary\n",
            "         (9, 11) :   inf :   0.0 :  -inf : False : False : Binary\n",
            "         (10, 0) :   inf :   0.0 :  -inf : False : False : Binary\n",
            "         (10, 1) :   inf :   1.0 :  -inf : False : False : Binary\n",
            "         (10, 2) :   inf :   0.0 :  -inf : False : False : Binary\n",
            "         (10, 3) :   inf :   0.0 :  -inf : False : False : Binary\n",
            "         (10, 4) :   inf :   0.0 :  -inf : False : False : Binary\n",
            "         (10, 5) :   inf :   0.0 :  -inf : False : False : Binary\n",
            "         (10, 6) :   inf :   0.0 :  -inf : False : False : Binary\n",
            "         (10, 7) :   inf :   0.0 :  -inf : False : False : Binary\n",
            "         (10, 8) :   inf :   0.0 :  -inf : False : False : Binary\n",
            "         (10, 9) :   inf :   0.0 :  -inf : False : False : Binary\n",
            "        (10, 10) :   inf :   0.0 :  -inf : False : False : Binary\n",
            "        (10, 11) :   inf :   0.0 :  -inf : False : False : Binary\n",
            "         (11, 0) :   inf :   0.0 :  -inf : False : False : Binary\n",
            "         (11, 1) :   inf :   0.0 :  -inf : False : False : Binary\n",
            "         (11, 2) :   inf :   0.0 :  -inf : False : False : Binary\n",
            "         (11, 3) :   inf :   0.0 :  -inf : False : False : Binary\n",
            "         (11, 4) :   inf :   1.0 :  -inf : False : False : Binary\n",
            "         (11, 5) :   inf :   0.0 :  -inf : False : False : Binary\n",
            "         (11, 6) :   inf :   0.0 :  -inf : False : False : Binary\n",
            "         (11, 7) :   inf :   0.0 :  -inf : False : False : Binary\n",
            "         (11, 8) :   inf :   0.0 :  -inf : False : False : Binary\n",
            "         (11, 9) :   inf :   0.0 :  -inf : False : False : Binary\n",
            "        (11, 10) :   inf :   0.0 :  -inf : False : False : Binary\n",
            "        (11, 11) :   inf :   0.0 :  -inf : False : False : Binary\n",
            "\n",
            "1 Objective Declarations\n",
            "    objective : Size=1, Index=None, Active=True\n",
            "        Key  : Active : Sense    : Expression\n",
            "        None :   True : minimize : 21.0*x[0,0] + 25.0*x[0,1] + 18.0*x[0,2] + 19.0*x[0,3] + 23.0*x[0,4] + 24.0*x[0,5] + 16.0*x[0,6] + 17.0*x[0,7] + 21.0*x[0,8] + 23.0*x[0,9] + 19.0*x[0,10] + 21.0*x[0,11] + 19.0*x[1,0] + 22.0*x[1,1] + 19.0*x[1,2] + 19.0*x[1,3] + 23.0*x[1,4] + 21.0*x[1,5] + 15.0*x[1,6] + 20.0*x[1,7] + 16.0*x[1,8] + 17.0*x[1,9] + 17.0*x[1,10] + 24.0*x[1,11] + 21.0*x[2,0] + 19.0*x[2,1] + 20.0*x[2,2] + 18.0*x[2,3] + 22.0*x[2,4] + 24.0*x[2,5] + 14.0*x[2,6] + 16.0*x[2,7] + 18.0*x[2,8] + 16.0*x[2,9] + 20.0*x[2,10] + 24.0*x[2,11] + 19.0*x[3,0] + 22.0*x[3,1] + 17.0*x[3,2] + 17.0*x[3,3] + 22.0*x[3,4] + 22.0*x[3,5] + 18.0*x[3,6] + 18.0*x[3,7] + 20.0*x[3,8] + 21.0*x[3,9] + 23.0*x[3,10] + 23.0*x[3,11] + 18.0*x[4,0] + 22.0*x[4,1] + 15.0*x[4,2] + 15.0*x[4,3] + 23.0*x[4,4] + 23.0*x[4,5] + 21.0*x[4,6] + 25.0*x[4,7] + 24.0*x[4,8] + 19.0*x[4,9] + 21.0*x[4,10] + 23.0*x[4,11] + 23.0*x[5,0] + 19.0*x[5,1] + 19.0*x[5,2] + 14.0*x[5,3] + 24.0*x[5,4] + 21.0*x[5,5] + 23.0*x[5,6] + 21.0*x[5,7] + 20.0*x[5,8] + 20.0*x[5,9] + 22.0*x[5,10] + 19.0*x[5,11] + 21.0*x[6,0] + 16.0*x[6,1] + 27.0*x[6,2] + 17.0*x[6,3] + 26.0*x[6,4] + 27.0*x[6,5] + 16.0*x[6,6] + 19.0*x[6,7] + 24.0*x[6,8] + 20.0*x[6,9] + 20.0*x[6,10] + 23.0*x[6,11] + 22.0*x[7,0] + 17.0*x[7,1] + 21.0*x[7,2] + 15.0*x[7,3] + 23.0*x[7,4] + 24.0*x[7,5] + 24.0*x[7,6] + 20.0*x[7,7] + 22.0*x[7,8] + 19.0*x[7,9] + 23.0*x[7,10] + 21.0*x[7,11] + 23.0*x[8,0] + 24.0*x[8,1] + 18.0*x[8,2] + 19.0*x[8,3] + 22.0*x[8,4] + 23.0*x[8,5] + 21.0*x[8,6] + 18.0*x[8,7] + 23.0*x[8,8] + 15.0*x[8,9] + 25.0*x[8,10] + 21.0*x[8,11] + 18.0*x[9,0] + 21.0*x[9,1] + 21.0*x[9,2] + 18.0*x[9,3] + 26.0*x[9,4] + 24.0*x[9,5] + 18.0*x[9,6] + 17.0*x[9,7] + 18.0*x[9,8] + 20.0*x[9,9] + 21.0*x[9,10] + 20.0*x[9,11] + 19.0*x[10,0] + 12.0*x[10,1] + 21.0*x[10,2] + 19.0*x[10,3] + 23.0*x[10,4] + 20.0*x[10,5] + 22.0*x[10,6] + 19.0*x[10,7] + 17.0*x[10,8] + 19.0*x[10,9] + 20.0*x[10,10] + 24.0*x[10,11] + 18.0*x[11,0] + 22.0*x[11,1] + 24.0*x[11,2] + 17.0*x[11,3] + 21.0*x[11,4] + 28.0*x[11,5] + 18.0*x[11,6] + 16.0*x[11,7] + 22.0*x[11,8] + 24.0*x[11,9] + 25.0*x[11,10] + 24.0*x[11,11]\n",
            "\n",
            "1 Constraint Declarations\n",
            "    constraints : Size=24, Index=constraints_index, Active=True\n",
            "        Key : Lower : Body                                                                                                                    : Upper : Active\n",
            "          1 :   1.0 :             x[0,0] + x[0,1] + x[0,2] + x[0,3] + x[0,4] + x[0,5] + x[0,6] + x[0,7] + x[0,8] + x[0,9] + x[0,10] + x[0,11] :   1.0 :   True\n",
            "          2 :   1.0 :             x[1,0] + x[1,1] + x[1,2] + x[1,3] + x[1,4] + x[1,5] + x[1,6] + x[1,7] + x[1,8] + x[1,9] + x[1,10] + x[1,11] :   1.0 :   True\n",
            "          3 :   1.0 :             x[2,0] + x[2,1] + x[2,2] + x[2,3] + x[2,4] + x[2,5] + x[2,6] + x[2,7] + x[2,8] + x[2,9] + x[2,10] + x[2,11] :   1.0 :   True\n",
            "          4 :   1.0 :             x[3,0] + x[3,1] + x[3,2] + x[3,3] + x[3,4] + x[3,5] + x[3,6] + x[3,7] + x[3,8] + x[3,9] + x[3,10] + x[3,11] :   1.0 :   True\n",
            "          5 :   1.0 :             x[4,0] + x[4,1] + x[4,2] + x[4,3] + x[4,4] + x[4,5] + x[4,6] + x[4,7] + x[4,8] + x[4,9] + x[4,10] + x[4,11] :   1.0 :   True\n",
            "          6 :   1.0 :             x[5,0] + x[5,1] + x[5,2] + x[5,3] + x[5,4] + x[5,5] + x[5,6] + x[5,7] + x[5,8] + x[5,9] + x[5,10] + x[5,11] :   1.0 :   True\n",
            "          7 :   1.0 :             x[6,0] + x[6,1] + x[6,2] + x[6,3] + x[6,4] + x[6,5] + x[6,6] + x[6,7] + x[6,8] + x[6,9] + x[6,10] + x[6,11] :   1.0 :   True\n",
            "          8 :   1.0 :             x[7,0] + x[7,1] + x[7,2] + x[7,3] + x[7,4] + x[7,5] + x[7,6] + x[7,7] + x[7,8] + x[7,9] + x[7,10] + x[7,11] :   1.0 :   True\n",
            "          9 :   1.0 :             x[8,0] + x[8,1] + x[8,2] + x[8,3] + x[8,4] + x[8,5] + x[8,6] + x[8,7] + x[8,8] + x[8,9] + x[8,10] + x[8,11] :   1.0 :   True\n",
            "         10 :   1.0 :             x[9,0] + x[9,1] + x[9,2] + x[9,3] + x[9,4] + x[9,5] + x[9,6] + x[9,7] + x[9,8] + x[9,9] + x[9,10] + x[9,11] :   1.0 :   True\n",
            "         11 :   1.0 : x[10,0] + x[10,1] + x[10,2] + x[10,3] + x[10,4] + x[10,5] + x[10,6] + x[10,7] + x[10,8] + x[10,9] + x[10,10] + x[10,11] :   1.0 :   True\n",
            "         12 :   1.0 : x[11,0] + x[11,1] + x[11,2] + x[11,3] + x[11,4] + x[11,5] + x[11,6] + x[11,7] + x[11,8] + x[11,9] + x[11,10] + x[11,11] :   1.0 :   True\n",
            "         13 :   1.0 :             x[0,0] + x[1,0] + x[2,0] + x[3,0] + x[4,0] + x[5,0] + x[6,0] + x[7,0] + x[8,0] + x[9,0] + x[10,0] + x[11,0] :   1.0 :   True\n",
            "         14 :   1.0 :             x[0,1] + x[1,1] + x[2,1] + x[3,1] + x[4,1] + x[5,1] + x[6,1] + x[7,1] + x[8,1] + x[9,1] + x[10,1] + x[11,1] :   1.0 :   True\n",
            "         15 :   1.0 :             x[0,2] + x[1,2] + x[2,2] + x[3,2] + x[4,2] + x[5,2] + x[6,2] + x[7,2] + x[8,2] + x[9,2] + x[10,2] + x[11,2] :   1.0 :   True\n",
            "         16 :   1.0 :             x[0,3] + x[1,3] + x[2,3] + x[3,3] + x[4,3] + x[5,3] + x[6,3] + x[7,3] + x[8,3] + x[9,3] + x[10,3] + x[11,3] :   1.0 :   True\n",
            "         17 :   1.0 :             x[0,4] + x[1,4] + x[2,4] + x[3,4] + x[4,4] + x[5,4] + x[6,4] + x[7,4] + x[8,4] + x[9,4] + x[10,4] + x[11,4] :   1.0 :   True\n",
            "         18 :   1.0 :             x[0,5] + x[1,5] + x[2,5] + x[3,5] + x[4,5] + x[5,5] + x[6,5] + x[7,5] + x[8,5] + x[9,5] + x[10,5] + x[11,5] :   1.0 :   True\n",
            "         19 :   1.0 :             x[0,6] + x[1,6] + x[2,6] + x[3,6] + x[4,6] + x[5,6] + x[6,6] + x[7,6] + x[8,6] + x[9,6] + x[10,6] + x[11,6] :   1.0 :   True\n",
            "         20 :   1.0 :             x[0,7] + x[1,7] + x[2,7] + x[3,7] + x[4,7] + x[5,7] + x[6,7] + x[7,7] + x[8,7] + x[9,7] + x[10,7] + x[11,7] :   1.0 :   True\n",
            "         21 :   1.0 :             x[0,8] + x[1,8] + x[2,8] + x[3,8] + x[4,8] + x[5,8] + x[6,8] + x[7,8] + x[8,8] + x[9,8] + x[10,8] + x[11,8] :   1.0 :   True\n",
            "         22 :   1.0 :             x[0,9] + x[1,9] + x[2,9] + x[3,9] + x[4,9] + x[5,9] + x[6,9] + x[7,9] + x[8,9] + x[9,9] + x[10,9] + x[11,9] :   1.0 :   True\n",
            "         23 :   1.0 : x[0,10] + x[1,10] + x[2,10] + x[3,10] + x[4,10] + x[5,10] + x[6,10] + x[7,10] + x[8,10] + x[9,10] + x[10,10] + x[11,10] :   1.0 :   True\n",
            "         24 :   1.0 : x[0,11] + x[1,11] + x[2,11] + x[3,11] + x[4,11] + x[5,11] + x[6,11] + x[7,11] + x[8,11] + x[9,11] + x[10,11] + x[11,11] :   1.0 :   True\n",
            "\n",
            "7 Declarations: x_index_0 x_index_1 x_index x objective constraints_index constraints\n"
          ]
        }
      ]
    },
    {
      "cell_type": "code",
      "source": [
        "!apt-get install -y -qq coinor-cbc"
      ],
      "metadata": {
        "colab": {
          "base_uri": "https://localhost:8080/"
        },
        "id": "VPglcuGIdEA1",
        "outputId": "ed19c672-0460-42db-b780-94a2a4e4f3d9"
      },
      "execution_count": null,
      "outputs": [
        {
          "output_type": "stream",
          "name": "stdout",
          "text": [
            "Selecting previously unselected package coinor-libcoinutils3v5.\n",
            "(Reading database ... 155569 files and directories currently installed.)\n",
            "Preparing to unpack .../0-coinor-libcoinutils3v5_2.10.14+repack1-1_amd64.deb ...\n",
            "Unpacking coinor-libcoinutils3v5 (2.10.14+repack1-1) ...\n",
            "Selecting previously unselected package coinor-libosi1v5.\n",
            "Preparing to unpack .../1-coinor-libosi1v5_0.107.9+repack1-1_amd64.deb ...\n",
            "Unpacking coinor-libosi1v5 (0.107.9+repack1-1) ...\n",
            "Selecting previously unselected package coinor-libclp1.\n",
            "Preparing to unpack .../2-coinor-libclp1_1.16.11+repack1-1_amd64.deb ...\n",
            "Unpacking coinor-libclp1 (1.16.11+repack1-1) ...\n",
            "Selecting previously unselected package coinor-libcgl1.\n",
            "Preparing to unpack .../3-coinor-libcgl1_0.59.10+repack1-1_amd64.deb ...\n",
            "Unpacking coinor-libcgl1 (0.59.10+repack1-1) ...\n",
            "Selecting previously unselected package coinor-libcbc3.\n",
            "Preparing to unpack .../4-coinor-libcbc3_2.9.9+repack1-1_amd64.deb ...\n",
            "Unpacking coinor-libcbc3 (2.9.9+repack1-1) ...\n",
            "Selecting previously unselected package coinor-cbc.\n",
            "Preparing to unpack .../5-coinor-cbc_2.9.9+repack1-1_amd64.deb ...\n",
            "Unpacking coinor-cbc (2.9.9+repack1-1) ...\n",
            "Setting up coinor-libcoinutils3v5 (2.10.14+repack1-1) ...\n",
            "Setting up coinor-libosi1v5 (0.107.9+repack1-1) ...\n",
            "Setting up coinor-libclp1 (1.16.11+repack1-1) ...\n",
            "Setting up coinor-libcgl1 (0.59.10+repack1-1) ...\n",
            "Setting up coinor-libcbc3 (2.9.9+repack1-1) ...\n",
            "Setting up coinor-cbc (2.9.9+repack1-1) ...\n",
            "Processing triggers for man-db (2.8.3-2ubuntu0.1) ...\n",
            "Processing triggers for libc-bin (2.27-3ubuntu1.5) ...\n"
          ]
        }
      ]
    },
    {
      "cell_type": "code",
      "source": [
        "opt_cbc = SolverFactory('cbc')"
      ],
      "metadata": {
        "id": "Vq5gQfOGYUnh"
      },
      "execution_count": null,
      "outputs": []
    },
    {
      "cell_type": "code",
      "source": [
        "result = opt_cbc.solve(model_lab6)\n",
        "print('Solver status:', result.solver.status)\n",
        "print('Solver termination condition:',result.solver.termination_condition)"
      ],
      "metadata": {
        "colab": {
          "base_uri": "https://localhost:8080/"
        },
        "id": "IqTZY_zHYfj4",
        "outputId": "ddfe58b9-aac0-4877-a034-c0086f922367"
      },
      "execution_count": null,
      "outputs": [
        {
          "output_type": "stream",
          "name": "stdout",
          "text": [
            "Solver status: ok\n",
            "Solver termination condition: optimal\n"
          ]
        }
      ]
    },
    {
      "cell_type": "code",
      "source": [
        "# display solution\n",
        "print('\\nObjective = ', model_lab6.objective())\n",
        "\n",
        "print('\\nDecision Variables')\n",
        "for i in row_indices:\n",
        "  for j in col_indices:\n",
        "    if model_lab6.x[i,j].value==1:\n",
        "      print('factory' ,i+1, 'is located to',j+1)\n",
        "\n",
        "print('\\nConstraints')\n",
        "model_lab6.constraints.display()"
      ],
      "metadata": {
        "colab": {
          "base_uri": "https://localhost:8080/"
        },
        "id": "WVb-ergAZFDV",
        "outputId": "eb077068-c2a0-4bcd-d869-30e029c0862b"
      },
      "execution_count": null,
      "outputs": [
        {
          "output_type": "stream",
          "name": "stdout",
          "text": [
            "\n",
            "Objective =  204.0\n",
            "\n",
            "Decision Variables\n",
            "factory 1 is located to 11\n",
            "factory 2 is located to 9\n",
            "factory 3 is located to 8\n",
            "factory 4 is located to 6\n",
            "factory 5 is located to 3\n",
            "factory 6 is located to 12\n",
            "factory 7 is located to 7\n",
            "factory 8 is located to 4\n",
            "factory 9 is located to 10\n",
            "factory 10 is located to 1\n",
            "factory 11 is located to 2\n",
            "factory 12 is located to 5\n",
            "\n",
            "Constraints\n",
            "constraints : Size=24\n",
            "    Key : Lower : Body : Upper\n",
            "      1 :   1.0 :  1.0 :   1.0\n",
            "      2 :   1.0 :  1.0 :   1.0\n",
            "      3 :   1.0 :  1.0 :   1.0\n",
            "      4 :   1.0 :  1.0 :   1.0\n",
            "      5 :   1.0 :  1.0 :   1.0\n",
            "      6 :   1.0 :  1.0 :   1.0\n",
            "      7 :   1.0 :  1.0 :   1.0\n",
            "      8 :   1.0 :  1.0 :   1.0\n",
            "      9 :   1.0 :  1.0 :   1.0\n",
            "     10 :   1.0 :  1.0 :   1.0\n",
            "     11 :   1.0 :  1.0 :   1.0\n",
            "     12 :   1.0 :  1.0 :   1.0\n",
            "     13 :   1.0 :  1.0 :   1.0\n",
            "     14 :   1.0 :  1.0 :   1.0\n",
            "     15 :   1.0 :  1.0 :   1.0\n",
            "     16 :   1.0 :  1.0 :   1.0\n",
            "     17 :   1.0 :  1.0 :   1.0\n",
            "     18 :   1.0 :  1.0 :   1.0\n",
            "     19 :   1.0 :  1.0 :   1.0\n",
            "     20 :   1.0 :  1.0 :   1.0\n",
            "     21 :   1.0 :  1.0 :   1.0\n",
            "     22 :   1.0 :  1.0 :   1.0\n",
            "     23 :   1.0 :  1.0 :   1.0\n",
            "     24 :   1.0 :  1.0 :   1.0\n"
          ]
        }
      ]
    },
    {
      "cell_type": "markdown",
      "source": [
        "# Exercise 2(8)\n",
        "\n",
        "factory 1 is located to 11\n",
        "\n",
        "factory 2 is located to 9\n",
        "\n",
        "factory 3 is located to 8\n",
        "\n",
        "factory 4 is located to 6\n",
        "\n",
        "factory 5 is located to 3\n",
        "\n",
        "factory 6 is located to 12\n",
        "\n",
        "factory 7 is located to 7\n",
        "\n",
        "factory 8 is located to 4\n",
        "\n",
        "factory 9 is located to 10\n",
        "\n",
        "factory 10 is located to 1\n",
        "\n",
        "factory 11 is located to 2\n",
        "\n",
        "factory 12 is located to 5"
      ],
      "metadata": {
        "id": "xtjpJXc8GpHe"
      }
    },
    {
      "cell_type": "markdown",
      "source": [
        "# Exercise 2(9)"
      ],
      "metadata": {
        "id": "D_zxunD4G_Kr"
      }
    },
    {
      "cell_type": "code",
      "source": [
        "model_lab6.x.domain = Reals"
      ],
      "metadata": {
        "id": "XFQRiRs5ZN7F"
      },
      "execution_count": null,
      "outputs": []
    },
    {
      "cell_type": "code",
      "source": [
        "model_lab6.x.setub(1)\n",
        "model_lab6.x.setlb(0)"
      ],
      "metadata": {
        "id": "HviL8vM4ZXn5"
      },
      "execution_count": null,
      "outputs": []
    },
    {
      "cell_type": "code",
      "source": [
        "result = opt_cbc.solve(model_lab6)\n",
        "print('Solver status:', result.solver.status)\n",
        "print('Solver termination condition:',result.solver.termination_condition)"
      ],
      "metadata": {
        "colab": {
          "base_uri": "https://localhost:8080/"
        },
        "id": "8xx366MmaaP8",
        "outputId": "1a974f99-190f-41e3-adf4-ba478282c872"
      },
      "execution_count": null,
      "outputs": [
        {
          "output_type": "stream",
          "name": "stdout",
          "text": [
            "Solver status: ok\n",
            "Solver termination condition: optimal\n"
          ]
        }
      ]
    },
    {
      "cell_type": "code",
      "source": [
        "# display solution\n",
        "print('\\nObjective = ', model_lab6.objective())\n",
        "\n",
        "print('\\nDecision Variables')\n",
        "for i in row_indices:\n",
        "  for j in col_indices:\n",
        "    if model_lab6.x[i,j].value==1:\n",
        "      print('factory' ,i+1, 'is located to',j+1)\n",
        "\n",
        "print('\\nConstraints')\n",
        "model_lab6.constraints.display()"
      ],
      "metadata": {
        "colab": {
          "base_uri": "https://localhost:8080/"
        },
        "id": "6A5E1EU2eFUi",
        "outputId": "99b19a49-b788-4f2d-fa6d-30c935b48719"
      },
      "execution_count": null,
      "outputs": [
        {
          "output_type": "stream",
          "name": "stdout",
          "text": [
            "\n",
            "Objective =  204.0\n",
            "\n",
            "Decision Variables\n",
            "factory 1 is located to 11\n",
            "factory 2 is located to 9\n",
            "factory 3 is located to 8\n",
            "factory 4 is located to 6\n",
            "factory 5 is located to 3\n",
            "factory 6 is located to 12\n",
            "factory 7 is located to 7\n",
            "factory 8 is located to 4\n",
            "factory 9 is located to 10\n",
            "factory 10 is located to 1\n",
            "factory 11 is located to 2\n",
            "factory 12 is located to 5\n",
            "\n",
            "Constraints\n",
            "constraints : Size=24\n",
            "    Key : Lower : Body : Upper\n",
            "      1 :   1.0 :  1.0 :   1.0\n",
            "      2 :   1.0 :  1.0 :   1.0\n",
            "      3 :   1.0 :  1.0 :   1.0\n",
            "      4 :   1.0 :  1.0 :   1.0\n",
            "      5 :   1.0 :  1.0 :   1.0\n",
            "      6 :   1.0 :  1.0 :   1.0\n",
            "      7 :   1.0 :  1.0 :   1.0\n",
            "      8 :   1.0 :  1.0 :   1.0\n",
            "      9 :   1.0 :  1.0 :   1.0\n",
            "     10 :   1.0 :  1.0 :   1.0\n",
            "     11 :   1.0 :  1.0 :   1.0\n",
            "     12 :   1.0 :  1.0 :   1.0\n",
            "     13 :   1.0 :  1.0 :   1.0\n",
            "     14 :   1.0 :  1.0 :   1.0\n",
            "     15 :   1.0 :  1.0 :   1.0\n",
            "     16 :   1.0 :  1.0 :   1.0\n",
            "     17 :   1.0 :  1.0 :   1.0\n",
            "     18 :   1.0 :  1.0 :   1.0\n",
            "     19 :   1.0 :  1.0 :   1.0\n",
            "     20 :   1.0 :  1.0 :   1.0\n",
            "     21 :   1.0 :  1.0 :   1.0\n",
            "     22 :   1.0 :  1.0 :   1.0\n",
            "     23 :   1.0 :  1.0 :   1.0\n",
            "     24 :   1.0 :  1.0 :   1.0\n"
          ]
        }
      ]
    },
    {
      "cell_type": "markdown",
      "source": [
        "# Exercise 2(10)\n",
        "\n",
        "the optimal solution cost for both problem is same. and the value of the varible still integer valued because no changes in solution in binary domain and real domain. or 1 factory assign 1 locaton."
      ],
      "metadata": {
        "id": "-Pj7tKUvHOiz"
      }
    },
    {
      "cell_type": "markdown",
      "source": [
        "# Exercise 2(12)\n",
        "\n",
        "Now suppose that, due to some reason, facility 3 cannot be assigned to location 4, facility 9 cannot be assigned to location 6 and facility 4 cannot be assigned to location 10. this is change in txt file while I am very much increase the setup cost.  \n"
      ],
      "metadata": {
        "id": "J_qZIGnPItkP"
      }
    },
    {
      "cell_type": "code",
      "source": [
        "data_txtfile[2,3] = 99999999\n",
        "data_txtfile[8,5] = 999999999\n",
        "data_txtfile[3,9] = 9999999999"
      ],
      "metadata": {
        "id": "fftmHMOTZlep"
      },
      "execution_count": null,
      "outputs": []
    },
    {
      "cell_type": "code",
      "source": [
        "model_lab6.x.setub(-np.inf)\n",
        "model_lab6.x.setlb(np.inf)"
      ],
      "metadata": {
        "id": "-DIRb54yZ9qC"
      },
      "execution_count": null,
      "outputs": []
    },
    {
      "cell_type": "code",
      "source": [
        "model_lab6.x.domain = Binary"
      ],
      "metadata": {
        "id": "quuyagCjeMMh"
      },
      "execution_count": null,
      "outputs": []
    },
    {
      "cell_type": "code",
      "source": [
        "result = opt_cbc.solve(model_lab6)\n",
        "print('Solver status:', result.solver.status)\n",
        "print('Solver termination condition:',result.solver.termination_condition)"
      ],
      "metadata": {
        "colab": {
          "base_uri": "https://localhost:8080/"
        },
        "id": "s5dJXNqdeOTt",
        "outputId": "b7ecf3e0-f083-4985-b4a4-7830a91de6c0"
      },
      "execution_count": null,
      "outputs": [
        {
          "output_type": "stream",
          "name": "stderr",
          "text": [
            "WARNING:pyomo.core:Loading a SolverResults object with a warning status into model.name=\"unknown\";\n",
            "  - termination condition: infeasible\n",
            "  - message from solver: <undefined>\n"
          ]
        },
        {
          "output_type": "stream",
          "name": "stdout",
          "text": [
            "Solver status: warning\n",
            "Solver termination condition: infeasible\n"
          ]
        }
      ]
    },
    {
      "cell_type": "code",
      "source": [
        "# display solution\n",
        "print('\\nObjective = ', model_lab6.objective())\n",
        "\n",
        "print('\\nDecision Variables')\n",
        "for i in row_indices:\n",
        "  for j in col_indices:\n",
        "    if model_lab6.x[i,j].value==1:\n",
        "      print('factory' ,i+1, 'is located to',j+1)\n",
        "\n",
        "print('\\nConstraints')\n",
        "model_lab6.constraints.display()"
      ],
      "metadata": {
        "colab": {
          "base_uri": "https://localhost:8080/"
        },
        "id": "dfSkgn9VeS6z",
        "outputId": "d2ec28aa-bd06-43e5-800d-9a69c2a20866"
      },
      "execution_count": null,
      "outputs": [
        {
          "output_type": "stream",
          "name": "stdout",
          "text": [
            "\n",
            "Objective =  204.0\n",
            "\n",
            "Decision Variables\n",
            "factory 1 is located to 11\n",
            "factory 2 is located to 9\n",
            "factory 3 is located to 8\n",
            "factory 4 is located to 6\n",
            "factory 5 is located to 3\n",
            "factory 6 is located to 12\n",
            "factory 7 is located to 7\n",
            "factory 8 is located to 4\n",
            "factory 9 is located to 10\n",
            "factory 10 is located to 1\n",
            "factory 11 is located to 2\n",
            "factory 12 is located to 5\n",
            "\n",
            "Constraints\n",
            "constraints : Size=24\n",
            "    Key : Lower : Body : Upper\n",
            "      1 :   1.0 :  1.0 :   1.0\n",
            "      2 :   1.0 :  1.0 :   1.0\n",
            "      3 :   1.0 :  1.0 :   1.0\n",
            "      4 :   1.0 :  1.0 :   1.0\n",
            "      5 :   1.0 :  1.0 :   1.0\n",
            "      6 :   1.0 :  1.0 :   1.0\n",
            "      7 :   1.0 :  1.0 :   1.0\n",
            "      8 :   1.0 :  1.0 :   1.0\n",
            "      9 :   1.0 :  1.0 :   1.0\n",
            "     10 :   1.0 :  1.0 :   1.0\n",
            "     11 :   1.0 :  1.0 :   1.0\n",
            "     12 :   1.0 :  1.0 :   1.0\n",
            "     13 :   1.0 :  1.0 :   1.0\n",
            "     14 :   1.0 :  1.0 :   1.0\n",
            "     15 :   1.0 :  1.0 :   1.0\n",
            "     16 :   1.0 :  1.0 :   1.0\n",
            "     17 :   1.0 :  1.0 :   1.0\n",
            "     18 :   1.0 :  1.0 :   1.0\n",
            "     19 :   1.0 :  1.0 :   1.0\n",
            "     20 :   1.0 :  1.0 :   1.0\n",
            "     21 :   1.0 :  1.0 :   1.0\n",
            "     22 :   1.0 :  1.0 :   1.0\n",
            "     23 :   1.0 :  1.0 :   1.0\n",
            "     24 :   1.0 :  1.0 :   1.0\n"
          ]
        }
      ]
    },
    {
      "cell_type": "markdown",
      "source": [
        "After solving this problem, solution is same because already have not assign the facility 3 to lpcation 4,facility 9 to lpcation 6 and facility 4 to lpcation 10"
      ],
      "metadata": {
        "id": "AxoxpeP2HMsR"
      }
    },
    {
      "cell_type": "code",
      "source": [],
      "metadata": {
        "id": "wf8ajSOwe0tW"
      },
      "execution_count": null,
      "outputs": []
    }
  ]
}