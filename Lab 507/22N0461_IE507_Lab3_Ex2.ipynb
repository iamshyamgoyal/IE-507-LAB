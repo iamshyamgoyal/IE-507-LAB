{
  "nbformat": 4,
  "nbformat_minor": 0,
  "metadata": {
    "colab": {
      "name": "22N0461_IE507_Lab3_Ex2.ipynb",
      "provenance": [],
      "collapsed_sections": []
    },
    "kernelspec": {
      "name": "python3",
      "display_name": "Python 3"
    },
    "language_info": {
      "name": "python"
    }
  },
  "cells": [
    {
      "cell_type": "markdown",
      "source": [
        "# *Exercise 2 Solution*"
      ],
      "metadata": {
        "id": "EDJfX7yJJaE1"
      }
    },
    {
      "cell_type": "markdown",
      "source": [
        "#  Exercise 2(1) Solution\n",
        "\n",
        "$ \\text{Define a indicator function which take a value 0 and 1, } \\\\ x_i = 1 \\text{ if } C_j \\text{ is selected , } 0 \\text{ otherwise} \\\\ \\text{ here } i = 1,2,3,....10 \\text{ and } j = 0,1,2,....9 \\\\ $\n",
        "\n",
        " $ \\text{As a credit course example, let us consider} $\n",
        "$\\max \\ 4 x_1 + 3 x_2 + 6 x_3 + 5 x_4 + 2 x_5 + 6 x_6 + 4 x_7 + 8 x_8 + 8 x_9 + 6 x_{10}\\\\ \\text{ s.t. }   \n",
        "4 x_1 + 3 x_2 + 6 x_3 + 5 x_4 + 2 x_5 + 6 x_6 + 4 x_7 + 8 x_8 + 8 x_9 + 6 x_{10} \\geq 26 \\\\ x_3+ x_8 \\leq 1 \\\\ x_2+ x_{10} \\leq 1 \\\\ x_3+ x_9 \\leq 1 \\\\ -x_5 + x_{10} \\leq 0 \\\\ 1 \\leq x_1 + x_2 + x_3+ x_4 \\leq 2 \\\\ x_6 + x_{10} \\leq 1 \\\\ x_7 + x_9 + x_{10} \\leq 2 \\\\ 4 \\leq x_1 + x_2 + x_3 + x_4 + x_5 + x_6 + x_7 + x_8 + x_9 + x_{10} \\leq 8$.\n"
      ],
      "metadata": {
        "id": "K4CNWtuolNDn"
      }
    },
    {
      "cell_type": "code",
      "source": [
        "!pip install -q pyomo"
      ],
      "metadata": {
        "id": "WJKLWEwBJkde"
      },
      "execution_count": 142,
      "outputs": []
    },
    {
      "cell_type": "code",
      "source": [
        "from pyomo.environ import *"
      ],
      "metadata": {
        "id": "wMv8OzGbthxB"
      },
      "execution_count": 143,
      "outputs": []
    },
    {
      "cell_type": "code",
      "source": [
        "import numpy as np"
      ],
      "metadata": {
        "id": "QVasdLuttrlx"
      },
      "execution_count": 144,
      "outputs": []
    },
    {
      "cell_type": "code",
      "source": [
        "model2 = ConcreteModel()"
      ],
      "metadata": {
        "id": "Vd3dbx95tuh8"
      },
      "execution_count": 145,
      "outputs": []
    },
    {
      "cell_type": "code",
      "source": [
        "N = 10\n",
        "M = 11"
      ],
      "metadata": {
        "id": "1-eT3D5ltzDi"
      },
      "execution_count": 146,
      "outputs": []
    },
    {
      "cell_type": "code",
      "source": [
        "obj_coef_c = np.array([4,3,6,5,2,6,4,8,8,6])\n",
        "\n",
        "constr_coef_A = np.array([[-4,-3,-6,-5,-2,-6,-4,-8,-8,-6],\n",
        "                          [0,0,1,0,0,0,0,1,0,0],\n",
        "                          [0,1,0,0,0,0,0,0,0,1],\n",
        "                          [0,0,1,0,0,0,0,0,1,0],\n",
        "                          [0,0,0,0,-1,0,0,0,0,1],\n",
        "                          [1,1,1,1,0,0,0,0,0,0],\n",
        "                          [-1,-1,-1,-1,0,0,0,0,0,0],\n",
        "                          [0,0,0,0,0,1,0,0,0,1],\n",
        "                          [0,0,0,0,0,0,1,0,1,1],\n",
        "                          [1,1,1,1,1,1,1,1,1,1],\n",
        "                          [-1,-1,-1,-1,-1,-1,-1,-1,-1,-1]\n",
        "                          ])\n",
        "\n",
        "constr_coef_rhs = np.array([-26,1,1,1,0,2,-1,1,2,8,-4])\n",
        "\n",
        "row_indices = np.arange(M)\n",
        "col_indices = np.arange(N)\n",
        "\n",
        "print(row_indices)\n",
        "print(col_indices)"
      ],
      "metadata": {
        "colab": {
          "base_uri": "https://localhost:8080/"
        },
        "id": "4exq_MF-uQYO",
        "outputId": "f798bf3a-de52-46b2-80ac-46a2d7478160"
      },
      "execution_count": 147,
      "outputs": [
        {
          "output_type": "stream",
          "name": "stdout",
          "text": [
            "[ 0  1  2  3  4  5  6  7  8  9 10]\n",
            "[0 1 2 3 4 5 6 7 8 9]\n"
          ]
        }
      ]
    },
    {
      "cell_type": "code",
      "source": [
        "model2.x = Var(col_indices, domain = Binary)\n",
        "model2.constraints = ConstraintList()"
      ],
      "metadata": {
        "id": "bF_k-vqqvu0a"
      },
      "execution_count": 148,
      "outputs": []
    },
    {
      "cell_type": "code",
      "source": [
        "for i in row_indices:\n",
        "  model2.constraints.add(sum(constr_coef_A[i][j]*model2.x[j] for j in col_indices) <= constr_coef_rhs[i])"
      ],
      "metadata": {
        "id": "H6P9CdVzx6I4"
      },
      "execution_count": 149,
      "outputs": []
    },
    {
      "cell_type": "code",
      "source": [
        "model2.objective = Objective(expr = summation(obj_coef_c , model2.x) , sense = maximize )"
      ],
      "metadata": {
        "id": "5NKwWVacylXE"
      },
      "execution_count": 150,
      "outputs": []
    },
    {
      "cell_type": "code",
      "source": [
        "model2.pprint()"
      ],
      "metadata": {
        "colab": {
          "base_uri": "https://localhost:8080/"
        },
        "id": "oyRICQQNzPfb",
        "outputId": "e02ac863-ee31-44af-fee8-24fa52c6aceb"
      },
      "execution_count": 151,
      "outputs": [
        {
          "output_type": "stream",
          "name": "stdout",
          "text": [
            "2 Set Declarations\n",
            "    constraints_index : Size=1, Index=None, Ordered=Insertion\n",
            "        Key  : Dimen : Domain : Size : Members\n",
            "        None :     1 :    Any :   11 : {1, 2, 3, 4, 5, 6, 7, 8, 9, 10, 11}\n",
            "    x_index : Size=1, Index=None, Ordered=False\n",
            "        Key  : Dimen : Domain : Size : Members\n",
            "        None :     1 :    Any :   10 : {0, 1, 2, 3, 4, 5, 6, 7, 8, 9}\n",
            "\n",
            "1 Var Declarations\n",
            "    x : Size=10, Index=x_index\n",
            "        Key : Lower : Value : Upper : Fixed : Stale : Domain\n",
            "          0 :     0 :  None :     1 : False :  True : Binary\n",
            "          1 :     0 :  None :     1 : False :  True : Binary\n",
            "          2 :     0 :  None :     1 : False :  True : Binary\n",
            "          3 :     0 :  None :     1 : False :  True : Binary\n",
            "          4 :     0 :  None :     1 : False :  True : Binary\n",
            "          5 :     0 :  None :     1 : False :  True : Binary\n",
            "          6 :     0 :  None :     1 : False :  True : Binary\n",
            "          7 :     0 :  None :     1 : False :  True : Binary\n",
            "          8 :     0 :  None :     1 : False :  True : Binary\n",
            "          9 :     0 :  None :     1 : False :  True : Binary\n",
            "\n",
            "1 Objective Declarations\n",
            "    objective : Size=1, Index=None, Active=True\n",
            "        Key  : Active : Sense    : Expression\n",
            "        None :   True : maximize : 4*x[0] + 3*x[1] + 6*x[2] + 5*x[3] + 2*x[4] + 6*x[5] + 4*x[6] + 8*x[7] + 8*x[8] + 6*x[9]\n",
            "\n",
            "1 Constraint Declarations\n",
            "    constraints : Size=11, Index=constraints_index, Active=True\n",
            "        Key : Lower : Body                                                                                     : Upper : Active\n",
            "          1 :  -Inf : -4*x[0] - 3*x[1] - 6*x[2] - 5*x[3] - 2*x[4] - 6*x[5] - 4*x[6] - 8*x[7] - 8*x[8] - 6*x[9] : -26.0 :   True\n",
            "          2 :  -Inf :                                                                              x[2] + x[7] :   1.0 :   True\n",
            "          3 :  -Inf :                                                                              x[1] + x[9] :   1.0 :   True\n",
            "          4 :  -Inf :                                                                              x[2] + x[8] :   1.0 :   True\n",
            "          5 :  -Inf :                                                                            - x[4] + x[9] :   0.0 :   True\n",
            "          6 :  -Inf :                                                                x[0] + x[1] + x[2] + x[3] :   2.0 :   True\n",
            "          7 :  -Inf :                                                              - x[0] - x[1] - x[2] - x[3] :  -1.0 :   True\n",
            "          8 :  -Inf :                                                                              x[5] + x[9] :   1.0 :   True\n",
            "          9 :  -Inf :                                                                       x[6] + x[8] + x[9] :   2.0 :   True\n",
            "         10 :  -Inf :                      x[0] + x[1] + x[2] + x[3] + x[4] + x[5] + x[6] + x[7] + x[8] + x[9] :   8.0 :   True\n",
            "         11 :  -Inf :                    - x[0] - x[1] - x[2] - x[3] - x[4] - x[5] - x[6] - x[7] - x[8] - x[9] :  -4.0 :   True\n",
            "\n",
            "5 Declarations: x_index x constraints_index constraints objective\n"
          ]
        }
      ]
    },
    {
      "cell_type": "code",
      "source": [
        "!apt-get install -y -qq coinor-cbc"
      ],
      "metadata": {
        "id": "q4N6lB224eZG"
      },
      "execution_count": 152,
      "outputs": []
    },
    {
      "cell_type": "code",
      "source": [
        "opt_cbc = SolverFactory('cbc')"
      ],
      "metadata": {
        "id": "m6c1RJDZ4oxM"
      },
      "execution_count": 153,
      "outputs": []
    },
    {
      "cell_type": "markdown",
      "source": [
        "#  Exercise 2(3) Solution"
      ],
      "metadata": {
        "id": "JylaWlNksLzc"
      }
    },
    {
      "cell_type": "code",
      "source": [
        "result = opt_cbc.solve(model2)\n",
        "print(result)\n",
        "\n",
        "print('Solver status:', result.solver.status)\n",
        "print('Solver termination condition:',result.solver.termination_condition)\n",
        "print('Solver time:',result.solver.time)"
      ],
      "metadata": {
        "colab": {
          "base_uri": "https://localhost:8080/"
        },
        "id": "okA237xO5L1Q",
        "outputId": "a16b2e1b-0c0b-471a-d8d4-6b1522c5455f"
      },
      "execution_count": 154,
      "outputs": [
        {
          "output_type": "stream",
          "name": "stdout",
          "text": [
            "\n",
            "Problem: \n",
            "- Name: unknown\n",
            "  Lower bound: 37.0\n",
            "  Upper bound: 37.0\n",
            "  Number of objectives: 1\n",
            "  Number of constraints: 11\n",
            "  Number of variables: 10\n",
            "  Number of binary variables: 10\n",
            "  Number of integer variables: 10\n",
            "  Number of nonzeros: 10\n",
            "  Sense: maximize\n",
            "Solver: \n",
            "- Status: ok\n",
            "  User time: -1.0\n",
            "  System time: 0.0\n",
            "  Wallclock time: 0.0\n",
            "  Termination condition: optimal\n",
            "  Termination message: Model was solved to optimality (subject to tolerances), and an optimal solution is available.\n",
            "  Statistics: \n",
            "    Branch and bound: \n",
            "      Number of bounded subproblems: 0\n",
            "      Number of created subproblems: 0\n",
            "    Black box: \n",
            "      Number of iterations: 0\n",
            "  Error rc: 0\n",
            "  Time: 0.020865917205810547\n",
            "Solution: \n",
            "- number of solutions: 0\n",
            "  number of solutions displayed: 0\n",
            "\n",
            "Solver status: ok\n",
            "Solver termination condition: optimal\n",
            "Solver time: 0.020865917205810547\n"
          ]
        }
      ]
    },
    {
      "cell_type": "code",
      "source": [
        "# display solution\n",
        "print('\\nObjective = ', model2.objective())\n",
        "\n",
        "print('\\nDecision Variables')\n",
        "for i in col_indices:\n",
        "  print('x[',i,'] = ', model2.x[i].value)\n",
        "print('\\nConstraints')\n",
        "model2.constraints.display()"
      ],
      "metadata": {
        "id": "q4nSpzKy5RyQ",
        "colab": {
          "base_uri": "https://localhost:8080/"
        },
        "outputId": "fe826906-cfd0-477e-a0af-29010d6e8b38"
      },
      "execution_count": 155,
      "outputs": [
        {
          "output_type": "stream",
          "name": "stdout",
          "text": [
            "\n",
            "Objective =  37.0\n",
            "\n",
            "Decision Variables\n",
            "x[ 0 ] =  1.0\n",
            "x[ 1 ] =  0.0\n",
            "x[ 2 ] =  0.0\n",
            "x[ 3 ] =  1.0\n",
            "x[ 4 ] =  1.0\n",
            "x[ 5 ] =  1.0\n",
            "x[ 6 ] =  1.0\n",
            "x[ 7 ] =  1.0\n",
            "x[ 8 ] =  1.0\n",
            "x[ 9 ] =  0.0\n",
            "\n",
            "Constraints\n",
            "constraints : Size=11\n",
            "    Key : Lower : Body  : Upper\n",
            "      1 :  None : -37.0 : -26.0\n",
            "      2 :  None :   1.0 :   1.0\n",
            "      3 :  None :   0.0 :   1.0\n",
            "      4 :  None :   1.0 :   1.0\n",
            "      5 :  None :  -1.0 :   0.0\n",
            "      6 :  None :   2.0 :   2.0\n",
            "      7 :  None :  -2.0 :  -1.0\n",
            "      8 :  None :   1.0 :   1.0\n",
            "      9 :  None :   2.0 :   2.0\n",
            "     10 :  None :   7.0 :   8.0\n",
            "     11 :  None :  -7.0 :  -4.0\n"
          ]
        }
      ]
    },
    {
      "cell_type": "markdown",
      "source": [
        "#  Exercise 2(4) Solution"
      ],
      "metadata": {
        "id": "q3QiYmG4Hlcb"
      }
    },
    {
      "cell_type": "code",
      "source": [
        "!pip install -q pyomo"
      ],
      "metadata": {
        "id": "rJjUGlLU6F5N"
      },
      "execution_count": 156,
      "outputs": []
    },
    {
      "cell_type": "code",
      "source": [
        "from pyomo.environ import *"
      ],
      "metadata": {
        "id": "X6WTqDXU6OJQ"
      },
      "execution_count": 157,
      "outputs": []
    },
    {
      "cell_type": "code",
      "source": [
        "import numpy as np"
      ],
      "metadata": {
        "id": "fkn1qxjz6S_d"
      },
      "execution_count": 158,
      "outputs": []
    },
    {
      "cell_type": "code",
      "source": [
        "model2_4 = ConcreteModel()"
      ],
      "metadata": {
        "id": "4FSKSbO16Yx0"
      },
      "execution_count": 159,
      "outputs": []
    },
    {
      "cell_type": "code",
      "source": [
        "N = 10\n",
        "M = 11"
      ],
      "metadata": {
        "id": "5t0KLEBr6k9L"
      },
      "execution_count": 160,
      "outputs": []
    },
    {
      "cell_type": "code",
      "source": [
        "lb = np.array([0]*10)\n",
        "ub = np.array([1]*10)"
      ],
      "metadata": {
        "id": "dSUgK27s9Uh5"
      },
      "execution_count": 161,
      "outputs": []
    },
    {
      "cell_type": "code",
      "source": [
        "obj_coef_c = np.array([4,3,6,5,2,6,4,8,8,6])\n",
        "\n",
        "constr_coef_A = np.array([[-4,-3,-6,-5,-2,-6,-4,-8,-8,-6],\n",
        "                          [0,0,1,0,0,0,0,1,0,0],\n",
        "                          [0,1,0,0,0,0,0,0,0,1],\n",
        "                          [0,0,1,0,0,0,0,0,1,0],\n",
        "                          [0,0,0,0,-1,0,0,0,0,1],\n",
        "                          [1,1,1,1,0,0,0,0,0,0],\n",
        "                          [-1,-1,-1,-1,0,0,0,0,0,0],\n",
        "                          [0,0,0,0,0,1,0,0,0,1],\n",
        "                          [0,0,0,0,0,0,1,0,1,1],\n",
        "                          [1,1,1,1,1,1,1,1,1,1],\n",
        "                          [-1,-1,-1,-1,-1,-1,-1,-1,-1,-1]\n",
        "                          ])\n",
        "\n",
        "constr_coef_rhs = np.array([-26,1,1,1,0,2,-1,1,2,8,-4])\n",
        "\n",
        "row_indices = np.arange(M)\n",
        "col_indices = np.arange(N)\n",
        "\n",
        "print(row_indices)\n",
        "print(col_indices)"
      ],
      "metadata": {
        "colab": {
          "base_uri": "https://localhost:8080/"
        },
        "id": "XTUNe1Gc6t8o",
        "outputId": "a89739fa-110e-4541-dff5-ed6f40799bb5"
      },
      "execution_count": 162,
      "outputs": [
        {
          "output_type": "stream",
          "name": "stdout",
          "text": [
            "[ 0  1  2  3  4  5  6  7  8  9 10]\n",
            "[0 1 2 3 4 5 6 7 8 9]\n"
          ]
        }
      ]
    },
    {
      "cell_type": "code",
      "source": [
        "model2_4.x = Var(col_indices, domain = Reals)\n",
        "model2_4.constraints = ConstraintList()"
      ],
      "metadata": {
        "id": "CZXj53p2675T"
      },
      "execution_count": 163,
      "outputs": []
    },
    {
      "cell_type": "code",
      "source": [
        "for i in col_indices:\n",
        "  model2_4.x[i].setlb(lb[i])\n",
        "  model2_4.x[i].setub(ub[i])"
      ],
      "metadata": {
        "id": "X4G4dtus_hyw"
      },
      "execution_count": 164,
      "outputs": []
    },
    {
      "cell_type": "code",
      "source": [
        "for i in row_indices:\n",
        "  model2_4.constraints.add(sum(constr_coef_A[i][j]*model2_4.x[j] for j in col_indices) <= constr_coef_rhs[i])"
      ],
      "metadata": {
        "id": "AMCpgExf8ITS"
      },
      "execution_count": 165,
      "outputs": []
    },
    {
      "cell_type": "code",
      "source": [
        "model2_4.objective = Objective(expr = summation(obj_coef_c , model2_4.x) , sense = maximize )\n",
        "model2_4.pprint()"
      ],
      "metadata": {
        "colab": {
          "base_uri": "https://localhost:8080/"
        },
        "id": "AutELd128KGF",
        "outputId": "1069617a-24db-46cf-b5e0-e2880d176585"
      },
      "execution_count": 166,
      "outputs": [
        {
          "output_type": "stream",
          "name": "stdout",
          "text": [
            "2 Set Declarations\n",
            "    constraints_index : Size=1, Index=None, Ordered=Insertion\n",
            "        Key  : Dimen : Domain : Size : Members\n",
            "        None :     1 :    Any :   11 : {1, 2, 3, 4, 5, 6, 7, 8, 9, 10, 11}\n",
            "    x_index : Size=1, Index=None, Ordered=False\n",
            "        Key  : Dimen : Domain : Size : Members\n",
            "        None :     1 :    Any :   10 : {0, 1, 2, 3, 4, 5, 6, 7, 8, 9}\n",
            "\n",
            "1 Var Declarations\n",
            "    x : Size=10, Index=x_index\n",
            "        Key : Lower : Value : Upper : Fixed : Stale : Domain\n",
            "          0 :     0 :  None :     1 : False :  True :  Reals\n",
            "          1 :     0 :  None :     1 : False :  True :  Reals\n",
            "          2 :     0 :  None :     1 : False :  True :  Reals\n",
            "          3 :     0 :  None :     1 : False :  True :  Reals\n",
            "          4 :     0 :  None :     1 : False :  True :  Reals\n",
            "          5 :     0 :  None :     1 : False :  True :  Reals\n",
            "          6 :     0 :  None :     1 : False :  True :  Reals\n",
            "          7 :     0 :  None :     1 : False :  True :  Reals\n",
            "          8 :     0 :  None :     1 : False :  True :  Reals\n",
            "          9 :     0 :  None :     1 : False :  True :  Reals\n",
            "\n",
            "1 Objective Declarations\n",
            "    objective : Size=1, Index=None, Active=True\n",
            "        Key  : Active : Sense    : Expression\n",
            "        None :   True : maximize : 4*x[0] + 3*x[1] + 6*x[2] + 5*x[3] + 2*x[4] + 6*x[5] + 4*x[6] + 8*x[7] + 8*x[8] + 6*x[9]\n",
            "\n",
            "1 Constraint Declarations\n",
            "    constraints : Size=11, Index=constraints_index, Active=True\n",
            "        Key : Lower : Body                                                                                     : Upper : Active\n",
            "          1 :  -Inf : -4*x[0] - 3*x[1] - 6*x[2] - 5*x[3] - 2*x[4] - 6*x[5] - 4*x[6] - 8*x[7] - 8*x[8] - 6*x[9] : -26.0 :   True\n",
            "          2 :  -Inf :                                                                              x[2] + x[7] :   1.0 :   True\n",
            "          3 :  -Inf :                                                                              x[1] + x[9] :   1.0 :   True\n",
            "          4 :  -Inf :                                                                              x[2] + x[8] :   1.0 :   True\n",
            "          5 :  -Inf :                                                                            - x[4] + x[9] :   0.0 :   True\n",
            "          6 :  -Inf :                                                                x[0] + x[1] + x[2] + x[3] :   2.0 :   True\n",
            "          7 :  -Inf :                                                              - x[0] - x[1] - x[2] - x[3] :  -1.0 :   True\n",
            "          8 :  -Inf :                                                                              x[5] + x[9] :   1.0 :   True\n",
            "          9 :  -Inf :                                                                       x[6] + x[8] + x[9] :   2.0 :   True\n",
            "         10 :  -Inf :                      x[0] + x[1] + x[2] + x[3] + x[4] + x[5] + x[6] + x[7] + x[8] + x[9] :   8.0 :   True\n",
            "         11 :  -Inf :                    - x[0] - x[1] - x[2] - x[3] - x[4] - x[5] - x[6] - x[7] - x[8] - x[9] :  -4.0 :   True\n",
            "\n",
            "5 Declarations: x_index x constraints_index constraints objective\n"
          ]
        }
      ]
    },
    {
      "cell_type": "code",
      "source": [
        "!apt-get install -y -qq coinor-cbc"
      ],
      "metadata": {
        "id": "MCHo9oAA8aC4"
      },
      "execution_count": 167,
      "outputs": []
    },
    {
      "cell_type": "code",
      "source": [
        "opt_cbc = SolverFactory('cbc')"
      ],
      "metadata": {
        "id": "uH5EjUfd8jLN"
      },
      "execution_count": 168,
      "outputs": []
    },
    {
      "cell_type": "code",
      "source": [
        "result = opt_cbc.solve(model2_4)\n",
        "print(result)\n",
        "\n",
        "print('Solver status:', result.solver.status)\n",
        "print('Solver termination condition:',result.solver.termination_condition)"
      ],
      "metadata": {
        "colab": {
          "base_uri": "https://localhost:8080/"
        },
        "id": "EFxZENAs8rJ-",
        "outputId": "e56220d0-69cf-460c-aba7-64b844ba455a"
      },
      "execution_count": 169,
      "outputs": [
        {
          "output_type": "stream",
          "name": "stdout",
          "text": [
            "\n",
            "Problem: \n",
            "- Name: unknown\n",
            "  Lower bound: 37.0\n",
            "  Upper bound: 37.0\n",
            "  Number of objectives: 1\n",
            "  Number of constraints: 12\n",
            "  Number of variables: 11\n",
            "  Number of nonzeros: 10\n",
            "  Sense: maximize\n",
            "Solver: \n",
            "- Status: ok\n",
            "  User time: -1.0\n",
            "  System time: 0.0\n",
            "  Wallclock time: 0.0\n",
            "  Termination condition: optimal\n",
            "  Termination message: Model was solved to optimality (subject to tolerances), and an optimal solution is available.\n",
            "  Statistics: \n",
            "    Branch and bound: \n",
            "      Number of bounded subproblems: None\n",
            "      Number of created subproblems: None\n",
            "    Black box: \n",
            "      Number of iterations: 4\n",
            "  Error rc: 0\n",
            "  Time: 0.019642114639282227\n",
            "Solution: \n",
            "- number of solutions: 0\n",
            "  number of solutions displayed: 0\n",
            "\n",
            "Solver status: ok\n",
            "Solver termination condition: optimal\n"
          ]
        }
      ]
    },
    {
      "cell_type": "code",
      "source": [
        "# display solution\n",
        "print('\\nObjective = ', model2_4.objective())\n",
        "\n",
        "print('\\nDecision Variables')\n",
        "for i in col_indices:\n",
        "  print('x[',i,'] = ', model2_4.x[i].value)\n",
        "print('\\nConstraints')\n",
        "model2_4.constraints.display()"
      ],
      "metadata": {
        "colab": {
          "base_uri": "https://localhost:8080/"
        },
        "id": "nVof_TYgH7VK",
        "outputId": "0a3e5479-852c-4284-e7c6-d95248753f2a"
      },
      "execution_count": 170,
      "outputs": [
        {
          "output_type": "stream",
          "name": "stdout",
          "text": [
            "\n",
            "Objective =  37.0\n",
            "\n",
            "Decision Variables\n",
            "x[ 0 ] =  1.0\n",
            "x[ 1 ] =  0.0\n",
            "x[ 2 ] =  0.0\n",
            "x[ 3 ] =  1.0\n",
            "x[ 4 ] =  1.0\n",
            "x[ 5 ] =  1.0\n",
            "x[ 6 ] =  1.0\n",
            "x[ 7 ] =  1.0\n",
            "x[ 8 ] =  1.0\n",
            "x[ 9 ] =  0.0\n",
            "\n",
            "Constraints\n",
            "constraints : Size=11\n",
            "    Key : Lower : Body  : Upper\n",
            "      1 :  None : -37.0 : -26.0\n",
            "      2 :  None :   1.0 :   1.0\n",
            "      3 :  None :   0.0 :   1.0\n",
            "      4 :  None :   1.0 :   1.0\n",
            "      5 :  None :  -1.0 :   0.0\n",
            "      6 :  None :   2.0 :   2.0\n",
            "      7 :  None :  -2.0 :  -1.0\n",
            "      8 :  None :   1.0 :   1.0\n",
            "      9 :  None :   2.0 :   2.0\n",
            "     10 :  None :   7.0 :   8.0\n",
            "     11 :  None :  -7.0 :  -4.0\n"
          ]
        }
      ]
    },
    {
      "cell_type": "markdown",
      "source": [
        "In this case answer is same as in domain binary and in domain reals."
      ],
      "metadata": {
        "id": "-JHbJpZaHtxE"
      }
    },
    {
      "cell_type": "markdown",
      "source": [
        "#  Exercise 2(6) Solution"
      ],
      "metadata": {
        "id": "c-wIJp4IzlxR"
      }
    },
    {
      "cell_type": "code",
      "source": [
        "model2_6 = ConcreteModel()"
      ],
      "metadata": {
        "id": "l64EVcI-D725"
      },
      "execution_count": 171,
      "outputs": []
    },
    {
      "cell_type": "code",
      "source": [
        "N = 11\n",
        "M = 12"
      ],
      "metadata": {
        "id": "5hM7P2FKEYOV"
      },
      "execution_count": 172,
      "outputs": []
    },
    {
      "cell_type": "code",
      "source": [
        "obj_coef_c = np.array([4,3,6,5,2,6,4,8,8,6,12])\n",
        "\n",
        "constr_coef_A = np.array([[-4,-3,-6,-5,-2,-6,-4,-8,-8,-6,-12],\n",
        "                          [0,0,1,0,0,0,0,1,0,0,0],\n",
        "                          [0,1,0,0,0,0,0,0,0,1,0],\n",
        "                          [0,0,1,0,0,0,0,0,1,0,0],\n",
        "                          [0,0,0,0,-1,0,0,0,0,1,0],\n",
        "                          [1,1,1,1,0,0,0,0,0,0,0],\n",
        "                          [-1,-1,-1,-1,0,0,0,0,0,0,0],\n",
        "                          [0,0,0,0,0,1,0,0,0,1,0],\n",
        "                          [0,0,0,0,0,0,1,0,1,1,0],\n",
        "                          [1,1,1,1,1,1,1,1,1,1,1],\n",
        "                          [-1,-1,-1,-1,-1,-1,-1,-1,-1,-1,-1],\n",
        "                          [0,0,0,0,0,1,1,0,0,0,1]\n",
        "                          ])\n",
        "\n",
        "constr_coef_rhs = np.array([-26,1,1,1,0,2,-1,1,2,8,-4,1])\n",
        "\n",
        "row_indices = np.arange(M)\n",
        "col_indices = np.arange(N)\n",
        "\n",
        "print(row_indices)\n",
        "print(col_indices)"
      ],
      "metadata": {
        "colab": {
          "base_uri": "https://localhost:8080/"
        },
        "id": "PTKSLQBWEgqH",
        "outputId": "70db32cd-f4b6-4c99-f06c-00342ce95113"
      },
      "execution_count": 173,
      "outputs": [
        {
          "output_type": "stream",
          "name": "stdout",
          "text": [
            "[ 0  1  2  3  4  5  6  7  8  9 10 11]\n",
            "[ 0  1  2  3  4  5  6  7  8  9 10]\n"
          ]
        }
      ]
    },
    {
      "cell_type": "code",
      "source": [
        "model2_6.x = Var(col_indices, domain = Binary)\n",
        "model2_6.constraints = ConstraintList()"
      ],
      "metadata": {
        "id": "g6wkNewWE-VP"
      },
      "execution_count": 174,
      "outputs": []
    },
    {
      "cell_type": "code",
      "source": [
        "for i in row_indices:\n",
        "  model2_6.constraints.add(sum(constr_coef_A[i][j]*model2_6.x[j] for j in col_indices) <= constr_coef_rhs[i])"
      ],
      "metadata": {
        "id": "MLoDElBGFDw_"
      },
      "execution_count": 175,
      "outputs": []
    },
    {
      "cell_type": "code",
      "source": [
        "model2_6.objective = Objective(expr = summation(obj_coef_c , model2_6.x) , sense = maximize )"
      ],
      "metadata": {
        "id": "iFIjdrk6FWSM"
      },
      "execution_count": 176,
      "outputs": []
    },
    {
      "cell_type": "code",
      "source": [
        "model2_6.pprint()"
      ],
      "metadata": {
        "colab": {
          "base_uri": "https://localhost:8080/"
        },
        "id": "gXHIJm6GG0ER",
        "outputId": "07e148a0-8181-44b5-d726-621ee118e8d8"
      },
      "execution_count": 177,
      "outputs": [
        {
          "output_type": "stream",
          "name": "stdout",
          "text": [
            "2 Set Declarations\n",
            "    constraints_index : Size=1, Index=None, Ordered=Insertion\n",
            "        Key  : Dimen : Domain : Size : Members\n",
            "        None :     1 :    Any :   12 : {1, 2, 3, 4, 5, 6, 7, 8, 9, 10, 11, 12}\n",
            "    x_index : Size=1, Index=None, Ordered=False\n",
            "        Key  : Dimen : Domain : Size : Members\n",
            "        None :     1 :    Any :   11 : {0, 1, 2, 3, 4, 5, 6, 7, 8, 9, 10}\n",
            "\n",
            "1 Var Declarations\n",
            "    x : Size=11, Index=x_index\n",
            "        Key : Lower : Value : Upper : Fixed : Stale : Domain\n",
            "          0 :     0 :  None :     1 : False :  True : Binary\n",
            "          1 :     0 :  None :     1 : False :  True : Binary\n",
            "          2 :     0 :  None :     1 : False :  True : Binary\n",
            "          3 :     0 :  None :     1 : False :  True : Binary\n",
            "          4 :     0 :  None :     1 : False :  True : Binary\n",
            "          5 :     0 :  None :     1 : False :  True : Binary\n",
            "          6 :     0 :  None :     1 : False :  True : Binary\n",
            "          7 :     0 :  None :     1 : False :  True : Binary\n",
            "          8 :     0 :  None :     1 : False :  True : Binary\n",
            "          9 :     0 :  None :     1 : False :  True : Binary\n",
            "         10 :     0 :  None :     1 : False :  True : Binary\n",
            "\n",
            "1 Objective Declarations\n",
            "    objective : Size=1, Index=None, Active=True\n",
            "        Key  : Active : Sense    : Expression\n",
            "        None :   True : maximize : 4*x[0] + 3*x[1] + 6*x[2] + 5*x[3] + 2*x[4] + 6*x[5] + 4*x[6] + 8*x[7] + 8*x[8] + 6*x[9] + 12*x[10]\n",
            "\n",
            "1 Constraint Declarations\n",
            "    constraints : Size=12, Index=constraints_index, Active=True\n",
            "        Key : Lower : Body                                                                                                : Upper : Active\n",
            "          1 :  -Inf : -4*x[0] - 3*x[1] - 6*x[2] - 5*x[3] - 2*x[4] - 6*x[5] - 4*x[6] - 8*x[7] - 8*x[8] - 6*x[9] - 12*x[10] : -26.0 :   True\n",
            "          2 :  -Inf :                                                                                         x[2] + x[7] :   1.0 :   True\n",
            "          3 :  -Inf :                                                                                         x[1] + x[9] :   1.0 :   True\n",
            "          4 :  -Inf :                                                                                         x[2] + x[8] :   1.0 :   True\n",
            "          5 :  -Inf :                                                                                       - x[4] + x[9] :   0.0 :   True\n",
            "          6 :  -Inf :                                                                           x[0] + x[1] + x[2] + x[3] :   2.0 :   True\n",
            "          7 :  -Inf :                                                                         - x[0] - x[1] - x[2] - x[3] :  -1.0 :   True\n",
            "          8 :  -Inf :                                                                                         x[5] + x[9] :   1.0 :   True\n",
            "          9 :  -Inf :                                                                                  x[6] + x[8] + x[9] :   2.0 :   True\n",
            "         10 :  -Inf :                         x[0] + x[1] + x[2] + x[3] + x[4] + x[5] + x[6] + x[7] + x[8] + x[9] + x[10] :   8.0 :   True\n",
            "         11 :  -Inf :                       - x[0] - x[1] - x[2] - x[3] - x[4] - x[5] - x[6] - x[7] - x[8] - x[9] - x[10] :  -4.0 :   True\n",
            "         12 :  -Inf :                                                                                 x[5] + x[6] + x[10] :   1.0 :   True\n",
            "\n",
            "5 Declarations: x_index x constraints_index constraints objective\n"
          ]
        }
      ]
    },
    {
      "cell_type": "code",
      "source": [
        "!apt-get install -y -qq coinor-cbc"
      ],
      "metadata": {
        "id": "cUN3jz8iG4Xy"
      },
      "execution_count": 178,
      "outputs": []
    },
    {
      "cell_type": "code",
      "source": [
        "opt_cbc = SolverFactory('cbc')"
      ],
      "metadata": {
        "id": "N7zqI2gvG8vA"
      },
      "execution_count": 179,
      "outputs": []
    },
    {
      "cell_type": "code",
      "source": [
        "result = opt_cbc.solve(model2_6)\n",
        "print(result)\n",
        "\n",
        "print('Solver status:', result.solver.status)\n",
        "print('Solver termination condition:',result.solver.termination_condition)\n",
        "print('Solver time:',result.solver.time)"
      ],
      "metadata": {
        "colab": {
          "base_uri": "https://localhost:8080/"
        },
        "id": "UrfWbP5eG_V1",
        "outputId": "667974eb-3bdb-482e-eebf-c17e7c371bc8"
      },
      "execution_count": 180,
      "outputs": [
        {
          "output_type": "stream",
          "name": "stdout",
          "text": [
            "\n",
            "Problem: \n",
            "- Name: unknown\n",
            "  Lower bound: 45.0\n",
            "  Upper bound: 45.0\n",
            "  Number of objectives: 1\n",
            "  Number of constraints: 12\n",
            "  Number of variables: 11\n",
            "  Number of binary variables: 11\n",
            "  Number of integer variables: 11\n",
            "  Number of nonzeros: 11\n",
            "  Sense: maximize\n",
            "Solver: \n",
            "- Status: ok\n",
            "  User time: -1.0\n",
            "  System time: 0.0\n",
            "  Wallclock time: 0.0\n",
            "  Termination condition: optimal\n",
            "  Termination message: Model was solved to optimality (subject to tolerances), and an optimal solution is available.\n",
            "  Statistics: \n",
            "    Branch and bound: \n",
            "      Number of bounded subproblems: 0\n",
            "      Number of created subproblems: 0\n",
            "    Black box: \n",
            "      Number of iterations: 0\n",
            "  Error rc: 0\n",
            "  Time: 0.020169496536254883\n",
            "Solution: \n",
            "- number of solutions: 0\n",
            "  number of solutions displayed: 0\n",
            "\n",
            "Solver status: ok\n",
            "Solver termination condition: optimal\n",
            "Solver time: 0.020169496536254883\n"
          ]
        }
      ]
    },
    {
      "cell_type": "markdown",
      "source": [
        "#  Exercise 2(8) Solution"
      ],
      "metadata": {
        "id": "QKlCZyc3J2FM"
      }
    },
    {
      "cell_type": "code",
      "source": [
        "model2_8 = ConcreteModel()"
      ],
      "metadata": {
        "id": "bxg5IRclHC27"
      },
      "execution_count": 181,
      "outputs": []
    },
    {
      "cell_type": "code",
      "source": [
        "N = 11\n",
        "M = 12"
      ],
      "metadata": {
        "id": "zB1d2oAyKJbL"
      },
      "execution_count": 182,
      "outputs": []
    },
    {
      "cell_type": "code",
      "source": [
        "lb = np.array([0]*11)\n",
        "ub = np.array([1]*11)"
      ],
      "metadata": {
        "id": "K3aKBdM1LXeL"
      },
      "execution_count": 183,
      "outputs": []
    },
    {
      "cell_type": "code",
      "source": [
        "obj_coef_c = np.array([4,3,6,5,2,6,4,8,8,6,12])\n",
        "\n",
        "constr_coef_A = np.array([[-4,-3,-6,-5,-2,-6,-4,-8,-8,-6,-12],\n",
        "                          [0,0,1,0,0,0,0,1,0,0,0],\n",
        "                          [0,1,0,0,0,0,0,0,0,1,0],\n",
        "                          [0,0,1,0,0,0,0,0,1,0,0],\n",
        "                          [0,0,0,0,-1,0,0,0,0,1,0],\n",
        "                          [1,1,1,1,0,0,0,0,0,0,0],\n",
        "                          [-1,-1,-1,-1,0,0,0,0,0,0,0],\n",
        "                          [0,0,0,0,0,1,0,0,0,1,0],\n",
        "                          [0,0,0,0,0,0,1,0,1,1,0],\n",
        "                          [1,1,1,1,1,1,1,1,1,1,1],\n",
        "                          [-1,-1,-1,-1,-1,-1,-1,-1,-1,-1,-1],\n",
        "                          [0,0,0,0,0,1,1,0,0,0,1]\n",
        "                          ])\n",
        "\n",
        "constr_coef_rhs = np.array([-26,1,1,1,0,2,-1,1,2,8,-4,1])\n",
        "\n",
        "row_indices = np.arange(M)\n",
        "col_indices = np.arange(N)\n",
        "\n",
        "print(row_indices)\n",
        "print(col_indices)"
      ],
      "metadata": {
        "colab": {
          "base_uri": "https://localhost:8080/"
        },
        "id": "X0MXTCOtKLYB",
        "outputId": "a2cc3931-9247-4f39-a759-2d388984c2b4"
      },
      "execution_count": 184,
      "outputs": [
        {
          "output_type": "stream",
          "name": "stdout",
          "text": [
            "[ 0  1  2  3  4  5  6  7  8  9 10 11]\n",
            "[ 0  1  2  3  4  5  6  7  8  9 10]\n"
          ]
        }
      ]
    },
    {
      "cell_type": "code",
      "source": [
        "model2_8.x = Var(col_indices, domain = Reals)\n",
        "model2_8.constraints = ConstraintList()"
      ],
      "metadata": {
        "id": "cMbTrosFKPM8"
      },
      "execution_count": 185,
      "outputs": []
    },
    {
      "cell_type": "code",
      "source": [
        "for i in col_indices:\n",
        "  model2_8.x[i].setlb(lb[i])\n",
        "  model2_8.x[i].setub(ub[i])"
      ],
      "metadata": {
        "id": "Xk_ygjQ1Lhc9"
      },
      "execution_count": 186,
      "outputs": []
    },
    {
      "cell_type": "code",
      "source": [
        "for i in row_indices:\n",
        "  model2_8.constraints.add(sum(constr_coef_A[i][j]*model2_8.x[j] for j in col_indices) <= constr_coef_rhs[i])"
      ],
      "metadata": {
        "id": "lgK3SnH1KpQ1"
      },
      "execution_count": 187,
      "outputs": []
    },
    {
      "cell_type": "code",
      "source": [
        "model2_8.objective = Objective(expr = summation(obj_coef_c , model2_8.x) , sense = maximize )"
      ],
      "metadata": {
        "id": "BloSvJ5oKtVA"
      },
      "execution_count": 188,
      "outputs": []
    },
    {
      "cell_type": "code",
      "source": [
        "model2_8.pprint()"
      ],
      "metadata": {
        "colab": {
          "base_uri": "https://localhost:8080/"
        },
        "id": "ouuxHlfnK1MD",
        "outputId": "20301176-0a8a-47a6-c842-60f27486fb16"
      },
      "execution_count": 189,
      "outputs": [
        {
          "output_type": "stream",
          "name": "stdout",
          "text": [
            "2 Set Declarations\n",
            "    constraints_index : Size=1, Index=None, Ordered=Insertion\n",
            "        Key  : Dimen : Domain : Size : Members\n",
            "        None :     1 :    Any :   12 : {1, 2, 3, 4, 5, 6, 7, 8, 9, 10, 11, 12}\n",
            "    x_index : Size=1, Index=None, Ordered=False\n",
            "        Key  : Dimen : Domain : Size : Members\n",
            "        None :     1 :    Any :   11 : {0, 1, 2, 3, 4, 5, 6, 7, 8, 9, 10}\n",
            "\n",
            "1 Var Declarations\n",
            "    x : Size=11, Index=x_index\n",
            "        Key : Lower : Value : Upper : Fixed : Stale : Domain\n",
            "          0 :     0 :  None :     1 : False :  True :  Reals\n",
            "          1 :     0 :  None :     1 : False :  True :  Reals\n",
            "          2 :     0 :  None :     1 : False :  True :  Reals\n",
            "          3 :     0 :  None :     1 : False :  True :  Reals\n",
            "          4 :     0 :  None :     1 : False :  True :  Reals\n",
            "          5 :     0 :  None :     1 : False :  True :  Reals\n",
            "          6 :     0 :  None :     1 : False :  True :  Reals\n",
            "          7 :     0 :  None :     1 : False :  True :  Reals\n",
            "          8 :     0 :  None :     1 : False :  True :  Reals\n",
            "          9 :     0 :  None :     1 : False :  True :  Reals\n",
            "         10 :     0 :  None :     1 : False :  True :  Reals\n",
            "\n",
            "1 Objective Declarations\n",
            "    objective : Size=1, Index=None, Active=True\n",
            "        Key  : Active : Sense    : Expression\n",
            "        None :   True : maximize : 4*x[0] + 3*x[1] + 6*x[2] + 5*x[3] + 2*x[4] + 6*x[5] + 4*x[6] + 8*x[7] + 8*x[8] + 6*x[9] + 12*x[10]\n",
            "\n",
            "1 Constraint Declarations\n",
            "    constraints : Size=12, Index=constraints_index, Active=True\n",
            "        Key : Lower : Body                                                                                                : Upper : Active\n",
            "          1 :  -Inf : -4*x[0] - 3*x[1] - 6*x[2] - 5*x[3] - 2*x[4] - 6*x[5] - 4*x[6] - 8*x[7] - 8*x[8] - 6*x[9] - 12*x[10] : -26.0 :   True\n",
            "          2 :  -Inf :                                                                                         x[2] + x[7] :   1.0 :   True\n",
            "          3 :  -Inf :                                                                                         x[1] + x[9] :   1.0 :   True\n",
            "          4 :  -Inf :                                                                                         x[2] + x[8] :   1.0 :   True\n",
            "          5 :  -Inf :                                                                                       - x[4] + x[9] :   0.0 :   True\n",
            "          6 :  -Inf :                                                                           x[0] + x[1] + x[2] + x[3] :   2.0 :   True\n",
            "          7 :  -Inf :                                                                         - x[0] - x[1] - x[2] - x[3] :  -1.0 :   True\n",
            "          8 :  -Inf :                                                                                         x[5] + x[9] :   1.0 :   True\n",
            "          9 :  -Inf :                                                                                  x[6] + x[8] + x[9] :   2.0 :   True\n",
            "         10 :  -Inf :                         x[0] + x[1] + x[2] + x[3] + x[4] + x[5] + x[6] + x[7] + x[8] + x[9] + x[10] :   8.0 :   True\n",
            "         11 :  -Inf :                       - x[0] - x[1] - x[2] - x[3] - x[4] - x[5] - x[6] - x[7] - x[8] - x[9] - x[10] :  -4.0 :   True\n",
            "         12 :  -Inf :                                                                                 x[5] + x[6] + x[10] :   1.0 :   True\n",
            "\n",
            "5 Declarations: x_index x constraints_index constraints objective\n"
          ]
        }
      ]
    },
    {
      "cell_type": "code",
      "source": [
        "!apt-get install -y -qq coinor-cbc"
      ],
      "metadata": {
        "id": "_gEkoQZ1K86i"
      },
      "execution_count": 190,
      "outputs": []
    },
    {
      "cell_type": "code",
      "source": [
        "opt_cbc = SolverFactory('cbc')"
      ],
      "metadata": {
        "id": "zhRplgClLAvB"
      },
      "execution_count": 191,
      "outputs": []
    },
    {
      "cell_type": "code",
      "source": [
        "result = opt_cbc.solve(model2_8)\n",
        "print(result)\n",
        "\n",
        "print('Solver status:', result.solver.status)\n",
        "print('Solver termination condition:',result.solver.termination_condition)\n",
        "print('Solver time:',result.solver.time)"
      ],
      "metadata": {
        "colab": {
          "base_uri": "https://localhost:8080/"
        },
        "id": "ccI5vuPlLCBH",
        "outputId": "257bf266-c391-4e03-ce1b-386c749ef6e4"
      },
      "execution_count": 192,
      "outputs": [
        {
          "output_type": "stream",
          "name": "stdout",
          "text": [
            "\n",
            "Problem: \n",
            "- Name: unknown\n",
            "  Lower bound: 45.0\n",
            "  Upper bound: 45.0\n",
            "  Number of objectives: 1\n",
            "  Number of constraints: 13\n",
            "  Number of variables: 12\n",
            "  Number of nonzeros: 11\n",
            "  Sense: maximize\n",
            "Solver: \n",
            "- Status: ok\n",
            "  User time: -1.0\n",
            "  System time: 0.0\n",
            "  Wallclock time: 0.0\n",
            "  Termination condition: optimal\n",
            "  Termination message: Model was solved to optimality (subject to tolerances), and an optimal solution is available.\n",
            "  Statistics: \n",
            "    Branch and bound: \n",
            "      Number of bounded subproblems: None\n",
            "      Number of created subproblems: None\n",
            "    Black box: \n",
            "      Number of iterations: 6\n",
            "  Error rc: 0\n",
            "  Time: 0.02167534828186035\n",
            "Solution: \n",
            "- number of solutions: 0\n",
            "  number of solutions displayed: 0\n",
            "\n",
            "Solver status: ok\n",
            "Solver termination condition: optimal\n",
            "Solver time: 0.02167534828186035\n"
          ]
        }
      ]
    }
  ]
}