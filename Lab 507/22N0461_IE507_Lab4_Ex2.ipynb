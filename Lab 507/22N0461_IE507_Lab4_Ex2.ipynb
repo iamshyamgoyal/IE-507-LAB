{
  "nbformat": 4,
  "nbformat_minor": 0,
  "metadata": {
    "colab": {
      "name": "22N0461_IE507_Lab4_Ex2.ipynb",
      "provenance": [],
      "collapsed_sections": []
    },
    "kernelspec": {
      "name": "python3",
      "display_name": "Python 3"
    },
    "language_info": {
      "name": "python"
    }
  },
  "cells": [
    {
      "cell_type": "markdown",
      "source": [
        "# ***Exercise 2 Solution***"
      ],
      "metadata": {
        "id": "YM23QWbG53Hx"
      }
    },
    {
      "cell_type": "markdown",
      "source": [
        "# **Exercise 2(4)**"
      ],
      "metadata": {
        "id": "Sb7m1QHf6QXa"
      }
    },
    {
      "cell_type": "markdown",
      "source": [
        "$ \\text{Let } x_i \\text{ be the number of drones to manufacture }$\n",
        "$ \\text{Max } 11 x_1 + 13 x_2 + 9 x_3 + 15 x_4 + 12 x_5 \\\\ \\text{s.t. } 5.7 x_1 + 4.5 x_2 + 3.75 x_3 + 4.85 x_4 + 3.45 x_5 \\leq 84 \\\\ \\ \\ \\ \\ \\ \\ 6.5 x_1 + 8 x_2 + 10.5 x_3 + 11.75 x_4 + 14.5 x_5 \\leq 78\n",
        "$"
      ],
      "metadata": {
        "id": "uJCgBOHv2Mt_"
      }
    },
    {
      "cell_type": "code",
      "execution_count": null,
      "metadata": {
        "id": "Ej7pVVYLWBaE",
        "colab": {
          "base_uri": "https://localhost:8080/"
        },
        "outputId": "736375ee-3f7b-41e2-d657-3247b70afee5"
      },
      "outputs": [
        {
          "output_type": "stream",
          "name": "stdout",
          "text": [
            "\u001b[K     |████████████████████████████████| 9.7 MB 4.2 MB/s \n",
            "\u001b[K     |████████████████████████████████| 49 kB 5.6 MB/s \n",
            "\u001b[?25h"
          ]
        }
      ],
      "source": [
        "!pip install -q pyomo"
      ]
    },
    {
      "cell_type": "code",
      "source": [
        "from pyomo.environ import * "
      ],
      "metadata": {
        "id": "BEhqypqiWb2P"
      },
      "execution_count": null,
      "outputs": []
    },
    {
      "cell_type": "code",
      "source": [
        "import numpy as np"
      ],
      "metadata": {
        "id": "4lq_hzC4Wgdi"
      },
      "execution_count": null,
      "outputs": []
    },
    {
      "cell_type": "code",
      "source": [
        "import pandas as pd"
      ],
      "metadata": {
        "id": "Q50h_1AZWjQj"
      },
      "execution_count": null,
      "outputs": []
    },
    {
      "cell_type": "code",
      "source": [
        "data_csvfile = pd.read_csv('lab4_ex3.csv')"
      ],
      "metadata": {
        "id": "Wu8kH55GWnsi"
      },
      "execution_count": null,
      "outputs": []
    },
    {
      "cell_type": "code",
      "source": [
        "print (type(data_csvfile))"
      ],
      "metadata": {
        "colab": {
          "base_uri": "https://localhost:8080/"
        },
        "id": "LcuUDrKHaaHw",
        "outputId": "6fec746e-1e01-40b6-e4bb-3014f34d531a"
      },
      "execution_count": null,
      "outputs": [
        {
          "output_type": "stream",
          "name": "stdout",
          "text": [
            "<class 'pandas.core.frame.DataFrame'>\n"
          ]
        }
      ]
    },
    {
      "cell_type": "code",
      "source": [
        "data_csvfile.columns"
      ],
      "metadata": {
        "colab": {
          "base_uri": "https://localhost:8080/"
        },
        "id": "ncJO3vjGailI",
        "outputId": "3ec85a75-404f-4fcc-aecf-8a41e2e916fa"
      },
      "execution_count": null,
      "outputs": [
        {
          "output_type": "execute_result",
          "data": {
            "text/plain": [
              "Index(['Drone Model', 'CC (kgs)', 'Cost (in cr. of rs.)', 'parking (sq. m.)'], dtype='object')"
            ]
          },
          "metadata": {},
          "execution_count": 7
        }
      ]
    },
    {
      "cell_type": "code",
      "source": [
        "data_csvfile['Drone Model']"
      ],
      "metadata": {
        "colab": {
          "base_uri": "https://localhost:8080/"
        },
        "id": "hpDV0p5uamFf",
        "outputId": "163a806d-daa9-4685-d061-4a01dc32e0f4"
      },
      "execution_count": null,
      "outputs": [
        {
          "output_type": "execute_result",
          "data": {
            "text/plain": [
              "0     SHREY\n",
              "1    DHARAN\n",
              "2     SATVA\n",
              "3     ADHYA\n",
              "4    PRAVAT\n",
              "Name: Drone Model, dtype: object"
            ]
          },
          "metadata": {},
          "execution_count": 8
        }
      ]
    },
    {
      "cell_type": "code",
      "source": [
        "data_csvfile['CC (kgs)']"
      ],
      "metadata": {
        "colab": {
          "base_uri": "https://localhost:8080/"
        },
        "id": "y7YXxkdJa3iz",
        "outputId": "afaac178-8bff-4684-e188-11700f53b1a3"
      },
      "execution_count": null,
      "outputs": [
        {
          "output_type": "execute_result",
          "data": {
            "text/plain": [
              "0    11\n",
              "1    13\n",
              "2     9\n",
              "3    15\n",
              "4    12\n",
              "Name: CC (kgs), dtype: int64"
            ]
          },
          "metadata": {},
          "execution_count": 9
        }
      ]
    },
    {
      "cell_type": "code",
      "source": [
        "data_csvfile['Cost (in cr. of rs.)']"
      ],
      "metadata": {
        "colab": {
          "base_uri": "https://localhost:8080/"
        },
        "id": "YAg1pVJ5a-Hu",
        "outputId": "94c7b287-7f93-4697-afaa-eafb4e82a5ec"
      },
      "execution_count": null,
      "outputs": [
        {
          "output_type": "execute_result",
          "data": {
            "text/plain": [
              "0     6.50\n",
              "1     8.00\n",
              "2    10.50\n",
              "3    11.75\n",
              "4    14.50\n",
              "Name: Cost (in cr. of rs.), dtype: float64"
            ]
          },
          "metadata": {},
          "execution_count": 10
        }
      ]
    },
    {
      "cell_type": "code",
      "source": [
        "data_csvfile['parking (sq. m.)']"
      ],
      "metadata": {
        "colab": {
          "base_uri": "https://localhost:8080/"
        },
        "id": "VnIu4T5HbEnb",
        "outputId": "66bae462-fa95-4d96-c612-664e30daf45f"
      },
      "execution_count": null,
      "outputs": [
        {
          "output_type": "execute_result",
          "data": {
            "text/plain": [
              "0    5.75\n",
              "1    4.50\n",
              "2    3.75\n",
              "3    4.85\n",
              "4    3.45\n",
              "Name: parking (sq. m.), dtype: float64"
            ]
          },
          "metadata": {},
          "execution_count": 11
        }
      ]
    },
    {
      "cell_type": "code",
      "source": [
        "data_csvfile.index\n",
        "len(data_csvfile.index)"
      ],
      "metadata": {
        "colab": {
          "base_uri": "https://localhost:8080/"
        },
        "id": "8s8tkFPgbLSX",
        "outputId": "e6f16df5-92a0-48d6-e456-4e9ba4571eac"
      },
      "execution_count": null,
      "outputs": [
        {
          "output_type": "execute_result",
          "data": {
            "text/plain": [
              "5"
            ]
          },
          "metadata": {},
          "execution_count": 12
        }
      ]
    },
    {
      "cell_type": "code",
      "source": [
        "model2 = ConcreteModel()"
      ],
      "metadata": {
        "id": "pbf6-uQQcCQ4"
      },
      "execution_count": null,
      "outputs": []
    },
    {
      "cell_type": "code",
      "source": [
        "N = len(data_csvfile.index)\n",
        "M = 2"
      ],
      "metadata": {
        "id": "_659w_4VcL3Y"
      },
      "execution_count": null,
      "outputs": []
    },
    {
      "cell_type": "code",
      "source": [
        "col_indices = range(N)"
      ],
      "metadata": {
        "id": "BB5bJFzFcRJv"
      },
      "execution_count": null,
      "outputs": []
    },
    {
      "cell_type": "code",
      "source": [
        "model2.x = Var(col_indices , domain = NonNegativeIntegers)"
      ],
      "metadata": {
        "id": "HadT4bBHcoOr"
      },
      "execution_count": null,
      "outputs": []
    },
    {
      "cell_type": "code",
      "source": [
        "model2.objective = Objective(expr=summation(data_csvfile['CC (kgs)'], model2.x),sense=maximize)"
      ],
      "metadata": {
        "id": "9o_Mxb0qctrO"
      },
      "execution_count": null,
      "outputs": []
    },
    {
      "cell_type": "code",
      "source": [
        "model2.constraints = ConstraintList()"
      ],
      "metadata": {
        "id": "-FWlMZn2c3R5"
      },
      "execution_count": null,
      "outputs": []
    },
    {
      "cell_type": "code",
      "source": [
        "model2.constraints.add(summation(data_csvfile['parking (sq. m.)'], model2.x) <= 84)"
      ],
      "metadata": {
        "colab": {
          "base_uri": "https://localhost:8080/"
        },
        "id": "Cat_6qxKdZvX",
        "outputId": "221b7cf5-a294-40f8-a616-90d125943b92"
      },
      "execution_count": null,
      "outputs": [
        {
          "output_type": "execute_result",
          "data": {
            "text/plain": [
              "<pyomo.core.base.constraint._GeneralConstraintData at 0x7f22bd3c9fa0>"
            ]
          },
          "metadata": {},
          "execution_count": 19
        }
      ]
    },
    {
      "cell_type": "code",
      "source": [
        "model2.constraints.add(summation(data_csvfile['Cost (in cr. of rs.)'], model2.x) <= 78)"
      ],
      "metadata": {
        "colab": {
          "base_uri": "https://localhost:8080/"
        },
        "id": "4nTmYRf-e8en",
        "outputId": "69d2a56b-9a2e-48cb-d7eb-5899892b1aea"
      },
      "execution_count": null,
      "outputs": [
        {
          "output_type": "execute_result",
          "data": {
            "text/plain": [
              "<pyomo.core.base.constraint._GeneralConstraintData at 0x7f22bd3b8b40>"
            ]
          },
          "metadata": {},
          "execution_count": 20
        }
      ]
    },
    {
      "cell_type": "code",
      "source": [
        "lower_bound = 0\n",
        "upper_bound = np.inf"
      ],
      "metadata": {
        "id": "a-aYfxnrgafJ"
      },
      "execution_count": null,
      "outputs": []
    },
    {
      "cell_type": "code",
      "source": [
        "for j in col_indices:\n",
        "  model2.x[j].setlb(lower_bound)\n",
        "  model2.x[j].setub(upper_bound)"
      ],
      "metadata": {
        "id": "odUwG0iQgfEy"
      },
      "execution_count": null,
      "outputs": []
    },
    {
      "cell_type": "code",
      "source": [
        "model2.pprint()"
      ],
      "metadata": {
        "colab": {
          "base_uri": "https://localhost:8080/"
        },
        "id": "4H4cEWOHgilP",
        "outputId": "fbf2233f-b628-46ae-e717-d03f260fa73f"
      },
      "execution_count": null,
      "outputs": [
        {
          "output_type": "stream",
          "name": "stdout",
          "text": [
            "2 Set Declarations\n",
            "    constraints_index : Size=1, Index=None, Ordered=Insertion\n",
            "        Key  : Dimen : Domain : Size : Members\n",
            "        None :     1 :    Any :    2 : {1, 2}\n",
            "    x_index : Size=1, Index=None, Ordered=Insertion\n",
            "        Key  : Dimen : Domain : Size : Members\n",
            "        None :     1 :    Any :    5 : {0, 1, 2, 3, 4}\n",
            "\n",
            "1 Var Declarations\n",
            "    x : Size=5, Index=x_index\n",
            "        Key : Lower : Value : Upper : Fixed : Stale : Domain\n",
            "          0 :     0 :  None :  None : False :  True : NonNegativeIntegers\n",
            "          1 :     0 :  None :  None : False :  True : NonNegativeIntegers\n",
            "          2 :     0 :  None :  None : False :  True : NonNegativeIntegers\n",
            "          3 :     0 :  None :  None : False :  True : NonNegativeIntegers\n",
            "          4 :     0 :  None :  None : False :  True : NonNegativeIntegers\n",
            "\n",
            "1 Objective Declarations\n",
            "    objective : Size=1, Index=None, Active=True\n",
            "        Key  : Active : Sense    : Expression\n",
            "        None :   True : maximize : 11*x[0] + 13*x[1] + 9*x[2] + 15*x[3] + 12*x[4]\n",
            "\n",
            "1 Constraint Declarations\n",
            "    constraints : Size=2, Index=constraints_index, Active=True\n",
            "        Key : Lower : Body                                                     : Upper : Active\n",
            "          1 :  -Inf : 5.75*x[0] + 4.5*x[1] + 3.75*x[2] + 4.85*x[3] + 3.45*x[4] :  84.0 :   True\n",
            "          2 :  -Inf : 6.5*x[0] + 8.0*x[1] + 10.5*x[2] + 11.75*x[3] + 14.5*x[4] :  78.0 :   True\n",
            "\n",
            "5 Declarations: x_index x objective constraints_index constraints\n"
          ]
        }
      ]
    },
    {
      "cell_type": "code",
      "source": [
        "!apt-get install -y -qq coinor-cbc"
      ],
      "metadata": {
        "id": "tx4KxXWCgrDE",
        "colab": {
          "base_uri": "https://localhost:8080/"
        },
        "outputId": "57905efd-2a48-4e00-e36f-5401c030073a"
      },
      "execution_count": null,
      "outputs": [
        {
          "output_type": "stream",
          "name": "stdout",
          "text": [
            "Selecting previously unselected package coinor-libcoinutils3v5.\n",
            "(Reading database ... 155676 files and directories currently installed.)\n",
            "Preparing to unpack .../0-coinor-libcoinutils3v5_2.10.14+repack1-1_amd64.deb ...\n",
            "Unpacking coinor-libcoinutils3v5 (2.10.14+repack1-1) ...\n",
            "Selecting previously unselected package coinor-libosi1v5.\n",
            "Preparing to unpack .../1-coinor-libosi1v5_0.107.9+repack1-1_amd64.deb ...\n",
            "Unpacking coinor-libosi1v5 (0.107.9+repack1-1) ...\n",
            "Selecting previously unselected package coinor-libclp1.\n",
            "Preparing to unpack .../2-coinor-libclp1_1.16.11+repack1-1_amd64.deb ...\n",
            "Unpacking coinor-libclp1 (1.16.11+repack1-1) ...\n",
            "Selecting previously unselected package coinor-libcgl1.\n",
            "Preparing to unpack .../3-coinor-libcgl1_0.59.10+repack1-1_amd64.deb ...\n",
            "Unpacking coinor-libcgl1 (0.59.10+repack1-1) ...\n",
            "Selecting previously unselected package coinor-libcbc3.\n",
            "Preparing to unpack .../4-coinor-libcbc3_2.9.9+repack1-1_amd64.deb ...\n",
            "Unpacking coinor-libcbc3 (2.9.9+repack1-1) ...\n",
            "Selecting previously unselected package coinor-cbc.\n",
            "Preparing to unpack .../5-coinor-cbc_2.9.9+repack1-1_amd64.deb ...\n",
            "Unpacking coinor-cbc (2.9.9+repack1-1) ...\n",
            "Setting up coinor-libcoinutils3v5 (2.10.14+repack1-1) ...\n",
            "Setting up coinor-libosi1v5 (0.107.9+repack1-1) ...\n",
            "Setting up coinor-libclp1 (1.16.11+repack1-1) ...\n",
            "Setting up coinor-libcgl1 (0.59.10+repack1-1) ...\n",
            "Setting up coinor-libcbc3 (2.9.9+repack1-1) ...\n",
            "Setting up coinor-cbc (2.9.9+repack1-1) ...\n",
            "Processing triggers for man-db (2.8.3-2ubuntu0.1) ...\n",
            "Processing triggers for libc-bin (2.27-3ubuntu1.5) ...\n"
          ]
        }
      ]
    },
    {
      "cell_type": "code",
      "source": [
        "opt_cbc = SolverFactory('cbc')"
      ],
      "metadata": {
        "id": "sSf22Bfbg4CS"
      },
      "execution_count": null,
      "outputs": []
    },
    {
      "cell_type": "markdown",
      "source": [
        "# **Exercise 2(6)**"
      ],
      "metadata": {
        "id": "zw4aZ79SmqSw"
      }
    },
    {
      "cell_type": "code",
      "source": [
        "result = opt_cbc.solve(model2)\n",
        "print('Solver status:', result.solver.status)\n",
        "print('Solver termination condition:',result.solver.termination_condition)"
      ],
      "metadata": {
        "colab": {
          "base_uri": "https://localhost:8080/"
        },
        "id": "mXMbnM_Ig7jy",
        "outputId": "651b74be-59a9-41df-f361-30f0a754ab37"
      },
      "execution_count": null,
      "outputs": [
        {
          "output_type": "stream",
          "name": "stdout",
          "text": [
            "Solver status: ok\n",
            "Solver termination condition: optimal\n"
          ]
        }
      ]
    },
    {
      "cell_type": "code",
      "source": [
        "# display solution\n",
        "print('\\nObjective = ', model2.objective())\n",
        "\n",
        "print('\\nDecision Variables')\n",
        "for i in col_indices:\n",
        "  print('Num slots for medium ',data_csvfile['Drone Model'][i], model2.x[i].value)\n",
        "\n",
        "print('\\nConstraints')\n",
        "model2.constraints.display()"
      ],
      "metadata": {
        "colab": {
          "base_uri": "https://localhost:8080/"
        },
        "id": "kaPW0qsAg-gS",
        "outputId": "bd357ae1-7460-4ff0-ce31-3945e97ccb33"
      },
      "execution_count": null,
      "outputs": [
        {
          "output_type": "stream",
          "name": "stdout",
          "text": [
            "\n",
            "Objective =  132.0\n",
            "\n",
            "Decision Variables\n",
            "Num slots for medium  SHREY 12.0\n",
            "Num slots for medium  DHARAN 0.0\n",
            "Num slots for medium  SATVA 0.0\n",
            "Num slots for medium  ADHYA 0.0\n",
            "Num slots for medium  PRAVAT 0.0\n",
            "\n",
            "Constraints\n",
            "constraints : Size=2\n",
            "    Key : Lower : Body : Upper\n",
            "      1 :  None : 69.0 :  84.0\n",
            "      2 :  None : 78.0 :  78.0\n"
          ]
        }
      ]
    },
    {
      "cell_type": "markdown",
      "source": [
        "# **Exercise 2(7)**"
      ],
      "metadata": {
        "id": "taKPi5MfmY1-"
      }
    },
    {
      "cell_type": "code",
      "source": [
        "model2.x.domain = Reals"
      ],
      "metadata": {
        "id": "iGbQ7CijhIYa"
      },
      "execution_count": null,
      "outputs": []
    },
    {
      "cell_type": "code",
      "source": [
        "model2.pprint()"
      ],
      "metadata": {
        "colab": {
          "base_uri": "https://localhost:8080/"
        },
        "id": "RcjEuWPLk2i6",
        "outputId": "8377498e-bd81-42d8-be90-bb1acfdbfb1f"
      },
      "execution_count": null,
      "outputs": [
        {
          "output_type": "stream",
          "name": "stdout",
          "text": [
            "2 Set Declarations\n",
            "    constraints_index : Size=1, Index=None, Ordered=Insertion\n",
            "        Key  : Dimen : Domain : Size : Members\n",
            "        None :     1 :    Any :    2 : {1, 2}\n",
            "    x_index : Size=1, Index=None, Ordered=Insertion\n",
            "        Key  : Dimen : Domain : Size : Members\n",
            "        None :     1 :    Any :    5 : {0, 1, 2, 3, 4}\n",
            "\n",
            "1 Var Declarations\n",
            "    x : Size=5, Index=x_index\n",
            "        Key : Lower : Value : Upper : Fixed : Stale : Domain\n",
            "          0 :     0 :  12.0 :  None : False : False :  Reals\n",
            "          1 :     0 :   0.0 :  None : False : False :  Reals\n",
            "          2 :     0 :   0.0 :  None : False : False :  Reals\n",
            "          3 :     0 :   0.0 :  None : False : False :  Reals\n",
            "          4 :     0 :   0.0 :  None : False : False :  Reals\n",
            "\n",
            "1 Objective Declarations\n",
            "    objective : Size=1, Index=None, Active=True\n",
            "        Key  : Active : Sense    : Expression\n",
            "        None :   True : maximize : 11*x[0] + 13*x[1] + 9*x[2] + 15*x[3] + 12*x[4]\n",
            "\n",
            "1 Constraint Declarations\n",
            "    constraints : Size=2, Index=constraints_index, Active=True\n",
            "        Key : Lower : Body                                                     : Upper : Active\n",
            "          1 :  -Inf : 5.75*x[0] + 4.5*x[1] + 3.75*x[2] + 4.85*x[3] + 3.45*x[4] :  84.0 :   True\n",
            "          2 :  -Inf : 6.5*x[0] + 8.0*x[1] + 10.5*x[2] + 11.75*x[3] + 14.5*x[4] :  78.0 :   True\n",
            "\n",
            "5 Declarations: x_index x objective constraints_index constraints\n"
          ]
        }
      ]
    },
    {
      "cell_type": "code",
      "source": [
        "result = opt_cbc.solve(model2)\n",
        "print('Solver status:', result.solver.status)\n",
        "print('Solver termination condition:',result.solver.termination_condition)"
      ],
      "metadata": {
        "colab": {
          "base_uri": "https://localhost:8080/"
        },
        "id": "YqTjXHG7lcLf",
        "outputId": "7b3601bc-028a-49e8-8548-24bee42602e6"
      },
      "execution_count": null,
      "outputs": [
        {
          "output_type": "stream",
          "name": "stdout",
          "text": [
            "Solver status: ok\n",
            "Solver termination condition: optimal\n"
          ]
        }
      ]
    },
    {
      "cell_type": "code",
      "source": [
        "# display solution\n",
        "print('\\nObjective = ', model2.objective())\n",
        "\n",
        "print('\\nDecision Variables')\n",
        "for i in col_indices:\n",
        "  print('Num of drone model ',data_csvfile['Drone Model'][i], model2.x[i].value)\n",
        "\n",
        "print('\\nConstraints')\n",
        "model2.constraints.display()"
      ],
      "metadata": {
        "colab": {
          "base_uri": "https://localhost:8080/"
        },
        "id": "J3YLVWt7lkOW",
        "outputId": "28acee9f-a17f-4b7c-abc6-4cfdb2b1b03e"
      },
      "execution_count": null,
      "outputs": [
        {
          "output_type": "stream",
          "name": "stdout",
          "text": [
            "\n",
            "Objective =  132.0\n",
            "\n",
            "Decision Variables\n",
            "Num of drone model  SHREY 12.0\n",
            "Num of drone model  DHARAN 0.0\n",
            "Num of drone model  SATVA 0.0\n",
            "Num of drone model  ADHYA 0.0\n",
            "Num of drone model  PRAVAT 0.0\n",
            "\n",
            "Constraints\n",
            "constraints : Size=2\n",
            "    Key : Lower : Body : Upper\n",
            "      1 :  None : 69.0 :  84.0\n",
            "      2 :  None : 78.0 :  78.0\n"
          ]
        }
      ]
    },
    {
      "cell_type": "markdown",
      "source": [
        "# **Exercise 2(8)**"
      ],
      "metadata": {
        "id": "ODCgZK5emJ-3"
      }
    },
    {
      "cell_type": "markdown",
      "source": [
        "The solution of MLIP is not obatined by merely rounding the soltion of the LP. because by LP the objective function and the solution is integer. and both Solution by LP or by MILP are equal"
      ],
      "metadata": {
        "id": "T7oCV_kd7v4I"
      }
    },
    {
      "cell_type": "markdown",
      "source": [
        "# **Exercise 2(9)**\n",
        "\n",
        "The budget decrease in crores rupees is 76\n",
        "\n",
        "and Parking space incresed in units is 87 \n",
        "$ \\text{New Constraints} \\\\\n",
        "\\text{s.t. } 6.5 x_1 + 8 x_2 + 10.5 x_3 + 11.75 x_4 + 14.5 x_5 \\leq 76 \\\\ \\ \\ \\ \\ \\ \\ 5.7 x_1 + 4.5 x_2 + 3.75 x_3 + 4.85 x_4 + 3.45 x_5 \\leq 87$"
      ],
      "metadata": {
        "id": "s2mwU2BWnFQB"
      }
    },
    {
      "cell_type": "markdown",
      "source": [
        "by LP"
      ],
      "metadata": {
        "id": "AqlMnGDLyBDo"
      }
    },
    {
      "cell_type": "code",
      "source": [
        "for i in range(1,3):\n",
        "  model2.constraints[i].deactivate()"
      ],
      "metadata": {
        "id": "L3VoctqSfLmq"
      },
      "execution_count": null,
      "outputs": []
    },
    {
      "cell_type": "code",
      "source": [
        "model2.constraints.add(summation(data_csvfile['Cost (in cr. of rs.)'],model2.x) <= 76)\n",
        "model2.constraints.add(summation(data_csvfile['parking (sq. m.)'],model2.x)<= 87)"
      ],
      "metadata": {
        "colab": {
          "base_uri": "https://localhost:8080/"
        },
        "id": "WB8q2oWrfdhJ",
        "outputId": "29ca0445-1ed5-4729-8671-d2c165d63f30"
      },
      "execution_count": null,
      "outputs": [
        {
          "output_type": "execute_result",
          "data": {
            "text/plain": [
              "<pyomo.core.base.constraint._GeneralConstraintData at 0x7f22bd3d5e50>"
            ]
          },
          "metadata": {},
          "execution_count": 33
        }
      ]
    },
    {
      "cell_type": "code",
      "source": [
        "model2.pprint()"
      ],
      "metadata": {
        "colab": {
          "base_uri": "https://localhost:8080/"
        },
        "id": "DyfdOqWvgLI5",
        "outputId": "b3db31de-ae86-4daa-fd9e-6171d93d1a7e"
      },
      "execution_count": null,
      "outputs": [
        {
          "output_type": "stream",
          "name": "stdout",
          "text": [
            "2 Set Declarations\n",
            "    constraints_index : Size=1, Index=None, Ordered=Insertion\n",
            "        Key  : Dimen : Domain : Size : Members\n",
            "        None :     1 :    Any :    4 : {1, 2, 3, 4}\n",
            "    x_index : Size=1, Index=None, Ordered=Insertion\n",
            "        Key  : Dimen : Domain : Size : Members\n",
            "        None :     1 :    Any :    5 : {0, 1, 2, 3, 4}\n",
            "\n",
            "1 Var Declarations\n",
            "    x : Size=5, Index=x_index\n",
            "        Key : Lower : Value : Upper : Fixed : Stale : Domain\n",
            "          0 :     0 :  12.0 :  None : False : False :  Reals\n",
            "          1 :     0 :   0.0 :  None : False : False :  Reals\n",
            "          2 :     0 :   0.0 :  None : False : False :  Reals\n",
            "          3 :     0 :   0.0 :  None : False : False :  Reals\n",
            "          4 :     0 :   0.0 :  None : False : False :  Reals\n",
            "\n",
            "1 Objective Declarations\n",
            "    objective : Size=1, Index=None, Active=True\n",
            "        Key  : Active : Sense    : Expression\n",
            "        None :   True : maximize : 11*x[0] + 13*x[1] + 9*x[2] + 15*x[3] + 12*x[4]\n",
            "\n",
            "1 Constraint Declarations\n",
            "    constraints : Size=4, Index=constraints_index, Active=True\n",
            "        Key : Lower : Body                                                     : Upper : Active\n",
            "          1 :  -Inf : 5.75*x[0] + 4.5*x[1] + 3.75*x[2] + 4.85*x[3] + 3.45*x[4] :  84.0 :  False\n",
            "          2 :  -Inf : 6.5*x[0] + 8.0*x[1] + 10.5*x[2] + 11.75*x[3] + 14.5*x[4] :  78.0 :  False\n",
            "          3 :  -Inf : 6.5*x[0] + 8.0*x[1] + 10.5*x[2] + 11.75*x[3] + 14.5*x[4] :  76.0 :   True\n",
            "          4 :  -Inf : 5.75*x[0] + 4.5*x[1] + 3.75*x[2] + 4.85*x[3] + 3.45*x[4] :  87.0 :   True\n",
            "\n",
            "5 Declarations: x_index x objective constraints_index constraints\n"
          ]
        }
      ]
    },
    {
      "cell_type": "code",
      "source": [
        "result = opt_cbc.solve(model2)\n",
        "print('Solver status:', result.solver.status)\n",
        "print('Solver termination condition:',result.solver.termination_condition)"
      ],
      "metadata": {
        "colab": {
          "base_uri": "https://localhost:8080/"
        },
        "id": "GeYtK7jngOTI",
        "outputId": "4d3bad96-bcd8-46ef-cd86-49c5a1c4c0a7"
      },
      "execution_count": null,
      "outputs": [
        {
          "output_type": "stream",
          "name": "stdout",
          "text": [
            "Solver status: ok\n",
            "Solver termination condition: optimal\n"
          ]
        }
      ]
    },
    {
      "cell_type": "code",
      "source": [
        "# display solution\n",
        "print('\\nObjective = ', model2.objective())\n",
        "\n",
        "print('\\nDecision Variables')\n",
        "for i in col_indices:\n",
        "  print('Num of drone model ',data_csvfile['Drone Model'][i], model2.x[i].value)\n",
        "\n",
        "print('\\nConstraints')\n",
        "model2.constraints.display()"
      ],
      "metadata": {
        "colab": {
          "base_uri": "https://localhost:8080/"
        },
        "id": "i3lIe6jbgerw",
        "outputId": "1a82a811-d122-4d79-ed60-67252c6dffac"
      },
      "execution_count": null,
      "outputs": [
        {
          "output_type": "stream",
          "name": "stdout",
          "text": [
            "\n",
            "Objective =  128.615388\n",
            "\n",
            "Decision Variables\n",
            "Num of drone model  SHREY 11.692308\n",
            "Num of drone model  DHARAN 0.0\n",
            "Num of drone model  SATVA 0.0\n",
            "Num of drone model  ADHYA 0.0\n",
            "Num of drone model  PRAVAT 0.0\n",
            "\n",
            "Constraints\n",
            "constraints : Size=4\n",
            "    Key : Lower : Body              : Upper\n",
            "      3 :  None : 76.00000200000001 :  76.0\n",
            "      4 :  None :         67.230771 :  87.0\n"
          ]
        }
      ]
    },
    {
      "cell_type": "markdown",
      "source": [
        "by MLIP"
      ],
      "metadata": {
        "id": "jWDqerlBza7k"
      }
    },
    {
      "cell_type": "code",
      "source": [
        "model2.x.domain=NonNegativeIntegers\n"
      ],
      "metadata": {
        "id": "fJ7QKDc7lIlC"
      },
      "execution_count": null,
      "outputs": []
    },
    {
      "cell_type": "code",
      "source": [
        "model2.pprint()"
      ],
      "metadata": {
        "colab": {
          "base_uri": "https://localhost:8080/"
        },
        "id": "TaqXLyX1pifM",
        "outputId": "cc5f1f34-7648-476e-f54d-b59a30a11a4e"
      },
      "execution_count": null,
      "outputs": [
        {
          "output_type": "stream",
          "name": "stdout",
          "text": [
            "2 Set Declarations\n",
            "    constraints_index : Size=1, Index=None, Ordered=Insertion\n",
            "        Key  : Dimen : Domain : Size : Members\n",
            "        None :     1 :    Any :    4 : {1, 2, 3, 4}\n",
            "    x_index : Size=1, Index=None, Ordered=Insertion\n",
            "        Key  : Dimen : Domain : Size : Members\n",
            "        None :     1 :    Any :    5 : {0, 1, 2, 3, 4}\n",
            "\n",
            "1 Var Declarations\n",
            "    x : Size=5, Index=x_index\n",
            "        Key : Lower : Value     : Upper : Fixed : Stale : Domain\n",
            "          0 :     0 : 11.692308 :  None : False : False : NonNegativeIntegers\n",
            "          1 :     0 :       0.0 :  None : False : False : NonNegativeIntegers\n",
            "          2 :     0 :       0.0 :  None : False : False : NonNegativeIntegers\n",
            "          3 :     0 :       0.0 :  None : False : False : NonNegativeIntegers\n",
            "          4 :     0 :       0.0 :  None : False : False : NonNegativeIntegers\n",
            "\n",
            "1 Objective Declarations\n",
            "    objective : Size=1, Index=None, Active=True\n",
            "        Key  : Active : Sense    : Expression\n",
            "        None :   True : maximize : 11*x[0] + 13*x[1] + 9*x[2] + 15*x[3] + 12*x[4]\n",
            "\n",
            "1 Constraint Declarations\n",
            "    constraints : Size=4, Index=constraints_index, Active=True\n",
            "        Key : Lower : Body                                                     : Upper : Active\n",
            "          1 :  -Inf : 5.75*x[0] + 4.5*x[1] + 3.75*x[2] + 4.85*x[3] + 3.45*x[4] :  84.0 :  False\n",
            "          2 :  -Inf : 6.5*x[0] + 8.0*x[1] + 10.5*x[2] + 11.75*x[3] + 14.5*x[4] :  78.0 :  False\n",
            "          3 :  -Inf : 6.5*x[0] + 8.0*x[1] + 10.5*x[2] + 11.75*x[3] + 14.5*x[4] :  76.0 :   True\n",
            "          4 :  -Inf : 5.75*x[0] + 4.5*x[1] + 3.75*x[2] + 4.85*x[3] + 3.45*x[4] :  87.0 :   True\n",
            "\n",
            "5 Declarations: x_index x objective constraints_index constraints\n"
          ]
        }
      ]
    },
    {
      "cell_type": "code",
      "source": [
        "result = opt_cbc.solve(model2)\n",
        "print('Solver status', result.solver.status)\n",
        "print('Solver termination condition:',result.solver.termination_condition)"
      ],
      "metadata": {
        "colab": {
          "base_uri": "https://localhost:8080/"
        },
        "id": "vRlb_vCUpmab",
        "outputId": "b8092c3b-05b7-4c66-d06b-818beb63fbbf"
      },
      "execution_count": null,
      "outputs": [
        {
          "output_type": "stream",
          "name": "stdout",
          "text": [
            "Solver status ok\n",
            "Solver termination condition: optimal\n"
          ]
        }
      ]
    },
    {
      "cell_type": "code",
      "source": [
        "# display solution\n",
        "print('\\nObjective = ', model2.objective())\n",
        "\n",
        "print('\\nDecision Variables')\n",
        "for i in col_indices:\n",
        "  print('Num of drone model ',data_csvfile['Drone Model'][i], model2.x[i].value)\n",
        "\n",
        "print('\\nConstraints')\n",
        "model2.constraints.display()"
      ],
      "metadata": {
        "colab": {
          "base_uri": "https://localhost:8080/"
        },
        "id": "O0mqhmlcpr7b",
        "outputId": "a8110585-a991-4316-f6ed-98a6b1891dc9"
      },
      "execution_count": null,
      "outputs": [
        {
          "output_type": "stream",
          "name": "stdout",
          "text": [
            "\n",
            "Objective =  127.0\n",
            "\n",
            "Decision Variables\n",
            "Num of drone model  SHREY 8.0\n",
            "Num of drone model  DHARAN 3.0\n",
            "Num of drone model  SATVA 0.0\n",
            "Num of drone model  ADHYA 0.0\n",
            "Num of drone model  PRAVAT 0.0\n",
            "\n",
            "Constraints\n",
            "constraints : Size=4\n",
            "    Key : Lower : Body : Upper\n",
            "      3 :  None : 76.0 :  76.0\n",
            "      4 :  None : 59.5 :  87.0\n"
          ]
        }
      ]
    },
    {
      "cell_type": "markdown",
      "source": [
        "In this case when budget is decresed and parking is increased then objective function is decrease BUT by LP objective function and solution are float value i.e infeasble solution.\n",
        "\n",
        "\n",
        "therefore by MILP objective function is decrease"
      ],
      "metadata": {
        "id": "UpRmIf6V9IET"
      }
    },
    {
      "cell_type": "markdown",
      "source": [
        "# **Exercise 2(10)(1)**\n",
        "\n",
        "The budget decrease in crores rupees is 74\n",
        "\n",
        "and Parking space incresed in units is 88\n",
        "\n",
        "$ \\text{New Constraints} \\\\\n",
        "\\text{s.t. } 6.5 x_1 + 8 x_2 + 10.5 x_3 + 11.75 x_4 + 14.5 x_5 \\leq 74 \\\\ \\ \\ \\ \\ \\ \\ 5.7 x_1 + 4.5 x_2 + 3.75 x_3 + 4.85 x_4 + 3.45 x_5 \\leq 88\n",
        "$"
      ],
      "metadata": {
        "id": "wwjoYL7uzj7R"
      }
    },
    {
      "cell_type": "markdown",
      "source": [
        "by MILP"
      ],
      "metadata": {
        "id": "fK-Ikw0E0FsH"
      }
    },
    {
      "cell_type": "code",
      "source": [
        "for i in range(3,5):\n",
        "  model2.constraints[i].deactivate()"
      ],
      "metadata": {
        "id": "oJltuJXMp3Mz"
      },
      "execution_count": null,
      "outputs": []
    },
    {
      "cell_type": "code",
      "source": [
        "model2.constraints.add(summation(data_csvfile['Cost (in cr. of rs.)'],model2.x)<=74)\n",
        "model2.constraints.add(summation(data_csvfile['parking (sq. m.)'],model2.x)<=88)"
      ],
      "metadata": {
        "colab": {
          "base_uri": "https://localhost:8080/"
        },
        "id": "I7wZM6GmqHA5",
        "outputId": "cf88e63e-7601-4d68-cc64-35dcbd5aa848"
      },
      "execution_count": null,
      "outputs": [
        {
          "output_type": "execute_result",
          "data": {
            "text/plain": [
              "<pyomo.core.base.constraint._GeneralConstraintData at 0x7f22bd3b84b0>"
            ]
          },
          "metadata": {},
          "execution_count": 42
        }
      ]
    },
    {
      "cell_type": "code",
      "source": [
        "model2.pprint()"
      ],
      "metadata": {
        "colab": {
          "base_uri": "https://localhost:8080/"
        },
        "id": "p-4sm5cTqokj",
        "outputId": "9352ea35-68f7-4d5e-df83-9110f52a2399"
      },
      "execution_count": null,
      "outputs": [
        {
          "output_type": "stream",
          "name": "stdout",
          "text": [
            "2 Set Declarations\n",
            "    constraints_index : Size=1, Index=None, Ordered=Insertion\n",
            "        Key  : Dimen : Domain : Size : Members\n",
            "        None :     1 :    Any :    6 : {1, 2, 3, 4, 5, 6}\n",
            "    x_index : Size=1, Index=None, Ordered=Insertion\n",
            "        Key  : Dimen : Domain : Size : Members\n",
            "        None :     1 :    Any :    5 : {0, 1, 2, 3, 4}\n",
            "\n",
            "1 Var Declarations\n",
            "    x : Size=5, Index=x_index\n",
            "        Key : Lower : Value : Upper : Fixed : Stale : Domain\n",
            "          0 :     0 :   8.0 :  None : False : False : NonNegativeIntegers\n",
            "          1 :     0 :   3.0 :  None : False : False : NonNegativeIntegers\n",
            "          2 :     0 :   0.0 :  None : False : False : NonNegativeIntegers\n",
            "          3 :     0 :   0.0 :  None : False : False : NonNegativeIntegers\n",
            "          4 :     0 :   0.0 :  None : False : False : NonNegativeIntegers\n",
            "\n",
            "1 Objective Declarations\n",
            "    objective : Size=1, Index=None, Active=True\n",
            "        Key  : Active : Sense    : Expression\n",
            "        None :   True : maximize : 11*x[0] + 13*x[1] + 9*x[2] + 15*x[3] + 12*x[4]\n",
            "\n",
            "1 Constraint Declarations\n",
            "    constraints : Size=6, Index=constraints_index, Active=True\n",
            "        Key : Lower : Body                                                     : Upper : Active\n",
            "          1 :  -Inf : 5.75*x[0] + 4.5*x[1] + 3.75*x[2] + 4.85*x[3] + 3.45*x[4] :  84.0 :  False\n",
            "          2 :  -Inf : 6.5*x[0] + 8.0*x[1] + 10.5*x[2] + 11.75*x[3] + 14.5*x[4] :  78.0 :  False\n",
            "          3 :  -Inf : 6.5*x[0] + 8.0*x[1] + 10.5*x[2] + 11.75*x[3] + 14.5*x[4] :  76.0 :  False\n",
            "          4 :  -Inf : 5.75*x[0] + 4.5*x[1] + 3.75*x[2] + 4.85*x[3] + 3.45*x[4] :  87.0 :  False\n",
            "          5 :  -Inf : 6.5*x[0] + 8.0*x[1] + 10.5*x[2] + 11.75*x[3] + 14.5*x[4] :  74.0 :   True\n",
            "          6 :  -Inf : 5.75*x[0] + 4.5*x[1] + 3.75*x[2] + 4.85*x[3] + 3.45*x[4] :  88.0 :   True\n",
            "\n",
            "5 Declarations: x_index x objective constraints_index constraints\n"
          ]
        }
      ]
    },
    {
      "cell_type": "code",
      "source": [
        "result = opt_cbc.solve(model2)\n",
        "print('Solver status', result.solver.status)\n",
        "print('Solver termination condition:',result.solver.termination_condition)"
      ],
      "metadata": {
        "colab": {
          "base_uri": "https://localhost:8080/"
        },
        "id": "RgETdHCUq1EJ",
        "outputId": "eac228e0-9e75-44c2-ece3-d499b68c2ec1"
      },
      "execution_count": null,
      "outputs": [
        {
          "output_type": "stream",
          "name": "stdout",
          "text": [
            "Solver status ok\n",
            "Solver termination condition: optimal\n"
          ]
        }
      ]
    },
    {
      "cell_type": "code",
      "source": [
        "# display solution\n",
        "print('\\nObjective = ', model2.objective())\n",
        "\n",
        "print('\\nDecision Variables')\n",
        "for i in col_indices:\n",
        "  print('Num of drone model ',data_csvfile['Drone Model'][i], model2.x[i].value)\n",
        "\n",
        "print('\\nConstraints')\n",
        "model2.constraints.display()"
      ],
      "metadata": {
        "colab": {
          "base_uri": "https://localhost:8080/"
        },
        "id": "_YP93-Y0q7PY",
        "outputId": "bcf6970a-8ffd-4cc1-96da-75fb8fc944c8"
      },
      "execution_count": null,
      "outputs": [
        {
          "output_type": "stream",
          "name": "stdout",
          "text": [
            "\n",
            "Objective =  123.0\n",
            "\n",
            "Decision Variables\n",
            "Num of drone model  SHREY 10.0\n",
            "Num of drone model  DHARAN 1.0\n",
            "Num of drone model  SATVA 0.0\n",
            "Num of drone model  ADHYA 0.0\n",
            "Num of drone model  PRAVAT 0.0\n",
            "\n",
            "Constraints\n",
            "constraints : Size=6\n",
            "    Key : Lower : Body : Upper\n",
            "      5 :  None : 73.0 :  74.0\n",
            "      6 :  None : 62.0 :  88.0\n"
          ]
        }
      ]
    },
    {
      "cell_type": "markdown",
      "source": [
        "by LP"
      ],
      "metadata": {
        "id": "1egprFxQ0M0H"
      }
    },
    {
      "cell_type": "code",
      "source": [
        "model2.x.domain = Reals"
      ],
      "metadata": {
        "id": "vJKSG3oqrK0f"
      },
      "execution_count": null,
      "outputs": []
    },
    {
      "cell_type": "code",
      "source": [
        "model2.pprint()"
      ],
      "metadata": {
        "colab": {
          "base_uri": "https://localhost:8080/"
        },
        "id": "uVxkyRMErTaS",
        "outputId": "4e8d2111-0124-4554-a225-3c9dff086302"
      },
      "execution_count": null,
      "outputs": [
        {
          "output_type": "stream",
          "name": "stdout",
          "text": [
            "2 Set Declarations\n",
            "    constraints_index : Size=1, Index=None, Ordered=Insertion\n",
            "        Key  : Dimen : Domain : Size : Members\n",
            "        None :     1 :    Any :    6 : {1, 2, 3, 4, 5, 6}\n",
            "    x_index : Size=1, Index=None, Ordered=Insertion\n",
            "        Key  : Dimen : Domain : Size : Members\n",
            "        None :     1 :    Any :    5 : {0, 1, 2, 3, 4}\n",
            "\n",
            "1 Var Declarations\n",
            "    x : Size=5, Index=x_index\n",
            "        Key : Lower : Value : Upper : Fixed : Stale : Domain\n",
            "          0 :     0 :  10.0 :  None : False : False :  Reals\n",
            "          1 :     0 :   1.0 :  None : False : False :  Reals\n",
            "          2 :     0 :   0.0 :  None : False : False :  Reals\n",
            "          3 :     0 :   0.0 :  None : False : False :  Reals\n",
            "          4 :     0 :   0.0 :  None : False : False :  Reals\n",
            "\n",
            "1 Objective Declarations\n",
            "    objective : Size=1, Index=None, Active=True\n",
            "        Key  : Active : Sense    : Expression\n",
            "        None :   True : maximize : 11*x[0] + 13*x[1] + 9*x[2] + 15*x[3] + 12*x[4]\n",
            "\n",
            "1 Constraint Declarations\n",
            "    constraints : Size=6, Index=constraints_index, Active=True\n",
            "        Key : Lower : Body                                                     : Upper : Active\n",
            "          1 :  -Inf : 5.75*x[0] + 4.5*x[1] + 3.75*x[2] + 4.85*x[3] + 3.45*x[4] :  84.0 :  False\n",
            "          2 :  -Inf : 6.5*x[0] + 8.0*x[1] + 10.5*x[2] + 11.75*x[3] + 14.5*x[4] :  78.0 :  False\n",
            "          3 :  -Inf : 6.5*x[0] + 8.0*x[1] + 10.5*x[2] + 11.75*x[3] + 14.5*x[4] :  76.0 :  False\n",
            "          4 :  -Inf : 5.75*x[0] + 4.5*x[1] + 3.75*x[2] + 4.85*x[3] + 3.45*x[4] :  87.0 :  False\n",
            "          5 :  -Inf : 6.5*x[0] + 8.0*x[1] + 10.5*x[2] + 11.75*x[3] + 14.5*x[4] :  74.0 :   True\n",
            "          6 :  -Inf : 5.75*x[0] + 4.5*x[1] + 3.75*x[2] + 4.85*x[3] + 3.45*x[4] :  88.0 :   True\n",
            "\n",
            "5 Declarations: x_index x objective constraints_index constraints\n"
          ]
        }
      ]
    },
    {
      "cell_type": "code",
      "source": [
        "result = opt_cbc.solve(model2)\n",
        "print('Solver status', result.solver.status)\n",
        "print('Solver termination condition:',result.solver.termination_condition)"
      ],
      "metadata": {
        "colab": {
          "base_uri": "https://localhost:8080/"
        },
        "id": "wIVIr4xVrVa5",
        "outputId": "507061ba-03fe-470b-9fd8-bcc8757df0b9"
      },
      "execution_count": null,
      "outputs": [
        {
          "output_type": "stream",
          "name": "stdout",
          "text": [
            "Solver status ok\n",
            "Solver termination condition: optimal\n"
          ]
        }
      ]
    },
    {
      "cell_type": "code",
      "source": [
        "# display solution\n",
        "print('\\nObjective = ', model2.objective())\n",
        "\n",
        "print('\\nDecision Variables')\n",
        "for i in col_indices:\n",
        "  print('Num of drone model ',data_csvfile['Drone Model'][i], model2.x[i].value)\n",
        "\n",
        "print('\\nConstraints')\n",
        "model2.constraints.display()"
      ],
      "metadata": {
        "colab": {
          "base_uri": "https://localhost:8080/"
        },
        "id": "O_w4SRcPrXVE",
        "outputId": "d5835bd9-7301-4d54-87f6-0243f1625512"
      },
      "execution_count": null,
      "outputs": [
        {
          "output_type": "stream",
          "name": "stdout",
          "text": [
            "\n",
            "Objective =  125.230765\n",
            "\n",
            "Decision Variables\n",
            "Num of drone model  SHREY 11.384615\n",
            "Num of drone model  DHARAN 0.0\n",
            "Num of drone model  SATVA 0.0\n",
            "Num of drone model  ADHYA 0.0\n",
            "Num of drone model  PRAVAT 0.0\n",
            "\n",
            "Constraints\n",
            "constraints : Size=6\n",
            "    Key : Lower : Body        : Upper\n",
            "      5 :  None :  73.9999975 :  74.0\n",
            "      6 :  None : 65.46153625 :  88.0\n"
          ]
        }
      ]
    },
    {
      "cell_type": "markdown",
      "source": [
        "In this case also, when budget is decresed and parking is increased then objective function is decrease BUT by LP objective function and solution are float value i.e infeasble solution.\n",
        "\n",
        "\n",
        "therefore by MILP objective function is decrease"
      ],
      "metadata": {
        "id": "zkoKptzG_4MW"
      }
    },
    {
      "cell_type": "markdown",
      "source": [
        "# **Exercise 2(10)(2)**\n",
        "\n",
        "The budget decrease in crores rupees is 72\n",
        "\n",
        "and Parking space incresed in units is 89\n",
        "\n",
        "$ \\text{New Constraints} \\\\\n",
        "\\text{s.t. } 6.5 x_1 + 8 x_2 + 10.5 x_3 + 11.75 x_4 + 14.5 x_5 \\leq 72 \\\\ \\ \\ \\ \\ \\ \\ 5.7 x_1 + 4.5 x_2 + 3.75 x_3 + 4.85 x_4 + 3.45 x_5 \\leq 89$"
      ],
      "metadata": {
        "id": "kZY85GPX0P1Q"
      }
    },
    {
      "cell_type": "markdown",
      "source": [
        "by LP"
      ],
      "metadata": {
        "id": "dhat1uSc0Z91"
      }
    },
    {
      "cell_type": "code",
      "source": [
        "for i in range(5,7):\n",
        "  model2.constraints[i].deactivate()"
      ],
      "metadata": {
        "id": "a5vIkoE3rcjR"
      },
      "execution_count": null,
      "outputs": []
    },
    {
      "cell_type": "code",
      "source": [
        "model2.constraints.add(summation(data_csvfile['Cost (in cr. of rs.)'],model2.x)<=72)\n",
        "model2.constraints.add(summation(data_csvfile['parking (sq. m.)'],model2.x)<=89)"
      ],
      "metadata": {
        "colab": {
          "base_uri": "https://localhost:8080/"
        },
        "id": "yGAUdY3zro_C",
        "outputId": "6cdb9481-fb23-429f-fa3b-96593aba7250"
      },
      "execution_count": null,
      "outputs": [
        {
          "output_type": "execute_result",
          "data": {
            "text/plain": [
              "<pyomo.core.base.constraint._GeneralConstraintData at 0x7f22c2d4f7c0>"
            ]
          },
          "metadata": {},
          "execution_count": 51
        }
      ]
    },
    {
      "cell_type": "code",
      "source": [
        "model2.pprint()"
      ],
      "metadata": {
        "colab": {
          "base_uri": "https://localhost:8080/"
        },
        "id": "cx0P4pwMsKsp",
        "outputId": "031650fc-a147-4b08-e95b-a8264ff0012f"
      },
      "execution_count": null,
      "outputs": [
        {
          "output_type": "stream",
          "name": "stdout",
          "text": [
            "2 Set Declarations\n",
            "    constraints_index : Size=1, Index=None, Ordered=Insertion\n",
            "        Key  : Dimen : Domain : Size : Members\n",
            "        None :     1 :    Any :    8 : {1, 2, 3, 4, 5, 6, 7, 8}\n",
            "    x_index : Size=1, Index=None, Ordered=Insertion\n",
            "        Key  : Dimen : Domain : Size : Members\n",
            "        None :     1 :    Any :    5 : {0, 1, 2, 3, 4}\n",
            "\n",
            "1 Var Declarations\n",
            "    x : Size=5, Index=x_index\n",
            "        Key : Lower : Value     : Upper : Fixed : Stale : Domain\n",
            "          0 :     0 : 11.384615 :  None : False : False :  Reals\n",
            "          1 :     0 :       0.0 :  None : False : False :  Reals\n",
            "          2 :     0 :       0.0 :  None : False : False :  Reals\n",
            "          3 :     0 :       0.0 :  None : False : False :  Reals\n",
            "          4 :     0 :       0.0 :  None : False : False :  Reals\n",
            "\n",
            "1 Objective Declarations\n",
            "    objective : Size=1, Index=None, Active=True\n",
            "        Key  : Active : Sense    : Expression\n",
            "        None :   True : maximize : 11*x[0] + 13*x[1] + 9*x[2] + 15*x[3] + 12*x[4]\n",
            "\n",
            "1 Constraint Declarations\n",
            "    constraints : Size=8, Index=constraints_index, Active=True\n",
            "        Key : Lower : Body                                                     : Upper : Active\n",
            "          1 :  -Inf : 5.75*x[0] + 4.5*x[1] + 3.75*x[2] + 4.85*x[3] + 3.45*x[4] :  84.0 :  False\n",
            "          2 :  -Inf : 6.5*x[0] + 8.0*x[1] + 10.5*x[2] + 11.75*x[3] + 14.5*x[4] :  78.0 :  False\n",
            "          3 :  -Inf : 6.5*x[0] + 8.0*x[1] + 10.5*x[2] + 11.75*x[3] + 14.5*x[4] :  76.0 :  False\n",
            "          4 :  -Inf : 5.75*x[0] + 4.5*x[1] + 3.75*x[2] + 4.85*x[3] + 3.45*x[4] :  87.0 :  False\n",
            "          5 :  -Inf : 6.5*x[0] + 8.0*x[1] + 10.5*x[2] + 11.75*x[3] + 14.5*x[4] :  74.0 :  False\n",
            "          6 :  -Inf : 5.75*x[0] + 4.5*x[1] + 3.75*x[2] + 4.85*x[3] + 3.45*x[4] :  88.0 :  False\n",
            "          7 :  -Inf : 6.5*x[0] + 8.0*x[1] + 10.5*x[2] + 11.75*x[3] + 14.5*x[4] :  72.0 :   True\n",
            "          8 :  -Inf : 5.75*x[0] + 4.5*x[1] + 3.75*x[2] + 4.85*x[3] + 3.45*x[4] :  89.0 :   True\n",
            "\n",
            "5 Declarations: x_index x objective constraints_index constraints\n"
          ]
        }
      ]
    },
    {
      "cell_type": "code",
      "source": [
        "result = opt_cbc.solve(model2)\n",
        "print('Solver status', result.solver.status)\n",
        "print('Solver termination condition:',result.solver.termination_condition)"
      ],
      "metadata": {
        "colab": {
          "base_uri": "https://localhost:8080/"
        },
        "id": "Q2kqdT5PsO5j",
        "outputId": "aa7e4088-9328-44a9-ce29-540c6e96e891"
      },
      "execution_count": null,
      "outputs": [
        {
          "output_type": "stream",
          "name": "stdout",
          "text": [
            "Solver status ok\n",
            "Solver termination condition: optimal\n"
          ]
        }
      ]
    },
    {
      "cell_type": "code",
      "source": [
        "# display solution\n",
        "print('\\nObjective = ', model2.objective())\n",
        "\n",
        "print('\\nDecision Variables')\n",
        "for i in col_indices:\n",
        "  print('Num of drone model ',data_csvfile['Drone Model'][i], model2.x[i].value)\n",
        "\n",
        "print('\\nConstraints')\n",
        "model2.constraints.display()"
      ],
      "metadata": {
        "colab": {
          "base_uri": "https://localhost:8080/"
        },
        "id": "-kgLlJdBsUe2",
        "outputId": "8122abf8-9725-43cd-d453-1a7be3342bd1"
      },
      "execution_count": null,
      "outputs": [
        {
          "output_type": "stream",
          "name": "stdout",
          "text": [
            "\n",
            "Objective =  121.84615300000002\n",
            "\n",
            "Decision Variables\n",
            "Num of drone model  SHREY 11.076923\n",
            "Num of drone model  DHARAN 0.0\n",
            "Num of drone model  SATVA 0.0\n",
            "Num of drone model  ADHYA 0.0\n",
            "Num of drone model  PRAVAT 0.0\n",
            "\n",
            "Constraints\n",
            "constraints : Size=8\n",
            "    Key : Lower : Body               : Upper\n",
            "      7 :  None :         71.9999995 :  72.0\n",
            "      8 :  None : 63.692307250000006 :  89.0\n"
          ]
        }
      ]
    },
    {
      "cell_type": "markdown",
      "source": [
        "by MILP"
      ],
      "metadata": {
        "id": "yOGcAqgv0hQK"
      }
    },
    {
      "cell_type": "code",
      "source": [
        "model2.x.domain = NonNegativeIntegers"
      ],
      "metadata": {
        "id": "8tmxOmtAsXls"
      },
      "execution_count": null,
      "outputs": []
    },
    {
      "cell_type": "code",
      "source": [
        "model2.pprint()"
      ],
      "metadata": {
        "colab": {
          "base_uri": "https://localhost:8080/"
        },
        "id": "zaHjx9gxsk5J",
        "outputId": "4138356b-150d-4ccc-cf70-0dc175d023c5"
      },
      "execution_count": null,
      "outputs": [
        {
          "output_type": "stream",
          "name": "stdout",
          "text": [
            "2 Set Declarations\n",
            "    constraints_index : Size=1, Index=None, Ordered=Insertion\n",
            "        Key  : Dimen : Domain : Size : Members\n",
            "        None :     1 :    Any :    8 : {1, 2, 3, 4, 5, 6, 7, 8}\n",
            "    x_index : Size=1, Index=None, Ordered=Insertion\n",
            "        Key  : Dimen : Domain : Size : Members\n",
            "        None :     1 :    Any :    5 : {0, 1, 2, 3, 4}\n",
            "\n",
            "1 Var Declarations\n",
            "    x : Size=5, Index=x_index\n",
            "        Key : Lower : Value     : Upper : Fixed : Stale : Domain\n",
            "          0 :     0 : 11.076923 :  None : False : False : NonNegativeIntegers\n",
            "          1 :     0 :       0.0 :  None : False : False : NonNegativeIntegers\n",
            "          2 :     0 :       0.0 :  None : False : False : NonNegativeIntegers\n",
            "          3 :     0 :       0.0 :  None : False : False : NonNegativeIntegers\n",
            "          4 :     0 :       0.0 :  None : False : False : NonNegativeIntegers\n",
            "\n",
            "1 Objective Declarations\n",
            "    objective : Size=1, Index=None, Active=True\n",
            "        Key  : Active : Sense    : Expression\n",
            "        None :   True : maximize : 11*x[0] + 13*x[1] + 9*x[2] + 15*x[3] + 12*x[4]\n",
            "\n",
            "1 Constraint Declarations\n",
            "    constraints : Size=8, Index=constraints_index, Active=True\n",
            "        Key : Lower : Body                                                     : Upper : Active\n",
            "          1 :  -Inf : 5.75*x[0] + 4.5*x[1] + 3.75*x[2] + 4.85*x[3] + 3.45*x[4] :  84.0 :  False\n",
            "          2 :  -Inf : 6.5*x[0] + 8.0*x[1] + 10.5*x[2] + 11.75*x[3] + 14.5*x[4] :  78.0 :  False\n",
            "          3 :  -Inf : 6.5*x[0] + 8.0*x[1] + 10.5*x[2] + 11.75*x[3] + 14.5*x[4] :  76.0 :  False\n",
            "          4 :  -Inf : 5.75*x[0] + 4.5*x[1] + 3.75*x[2] + 4.85*x[3] + 3.45*x[4] :  87.0 :  False\n",
            "          5 :  -Inf : 6.5*x[0] + 8.0*x[1] + 10.5*x[2] + 11.75*x[3] + 14.5*x[4] :  74.0 :  False\n",
            "          6 :  -Inf : 5.75*x[0] + 4.5*x[1] + 3.75*x[2] + 4.85*x[3] + 3.45*x[4] :  88.0 :  False\n",
            "          7 :  -Inf : 6.5*x[0] + 8.0*x[1] + 10.5*x[2] + 11.75*x[3] + 14.5*x[4] :  72.0 :   True\n",
            "          8 :  -Inf : 5.75*x[0] + 4.5*x[1] + 3.75*x[2] + 4.85*x[3] + 3.45*x[4] :  89.0 :   True\n",
            "\n",
            "5 Declarations: x_index x objective constraints_index constraints\n"
          ]
        }
      ]
    },
    {
      "cell_type": "code",
      "source": [
        "result = opt_cbc.solve(model2)\n",
        "print('Solver status', result.solver.status)\n",
        "print('Solver termination condition:',result.solver.termination_condition)"
      ],
      "metadata": {
        "colab": {
          "base_uri": "https://localhost:8080/"
        },
        "id": "_xCABhbRsnH-",
        "outputId": "98168087-977a-4083-aae0-44405989701d"
      },
      "execution_count": null,
      "outputs": [
        {
          "output_type": "stream",
          "name": "stdout",
          "text": [
            "Solver status ok\n",
            "Solver termination condition: optimal\n"
          ]
        }
      ]
    },
    {
      "cell_type": "code",
      "source": [
        "# display solution\n",
        "print('\\nObjective = ', model2.objective())\n",
        "\n",
        "print('\\nDecision Variables')\n",
        "for i in col_indices:\n",
        "  print('Num of drone model ',data_csvfile['Drone Model'][i], model2.x[i].value)\n",
        "\n",
        "print('\\nConstraints')\n",
        "model2.constraints.display()"
      ],
      "metadata": {
        "colab": {
          "base_uri": "https://localhost:8080/"
        },
        "id": "VmeQg2BkspQx",
        "outputId": "3764e599-c1f4-4a4d-cfca-ae4c3c70f6fd"
      },
      "execution_count": null,
      "outputs": [
        {
          "output_type": "stream",
          "name": "stdout",
          "text": [
            "\n",
            "Objective =  121.0\n",
            "\n",
            "Decision Variables\n",
            "Num of drone model  SHREY 11.0\n",
            "Num of drone model  DHARAN 0.0\n",
            "Num of drone model  SATVA 0.0\n",
            "Num of drone model  ADHYA 0.0\n",
            "Num of drone model  PRAVAT 0.0\n",
            "\n",
            "Constraints\n",
            "constraints : Size=8\n",
            "    Key : Lower : Body  : Upper\n",
            "      7 :  None :  71.5 :  72.0\n",
            "      8 :  None : 63.25 :  89.0\n"
          ]
        }
      ]
    },
    {
      "cell_type": "markdown",
      "source": [
        "In this case also, when budget is decresed and parking is increased then objective function is decrease BUT by LP objective function and solution are float value i.e infeasble solution.\n",
        "\n",
        "\n",
        "therefore by MILP objective function is decrease"
      ],
      "metadata": {
        "id": "ZAK7wMX7A_6E"
      }
    },
    {
      "cell_type": "markdown",
      "source": [
        "# **Exercise 2(10)(3)**\n",
        "\n",
        "The budget decrease in crores rupees is 70\n",
        "\n",
        "and Parking space incresed in units is 90\n",
        "\n",
        "$ \\text{New Constraints} \\\\\n",
        "\\text{s.t. } 6.5 x_1 + 8 x_2 + 10.5 x_3 + 11.75 x_4 + 14.5 x_5 \\leq 70 \\\\ \\ \\ \\ \\ \\ \\ 5.7 x_1 + 4.5 x_2 + 3.75 x_3 + 4.85 x_4 + 3.45 x_5 \\leq 90$"
      ],
      "metadata": {
        "id": "sKoak3iN0uxQ"
      }
    },
    {
      "cell_type": "markdown",
      "source": [
        "by MILP"
      ],
      "metadata": {
        "id": "-BHtMnJz00Aq"
      }
    },
    {
      "cell_type": "code",
      "source": [
        "for i in range(7,9):\n",
        "  model2.constraints[i].deactivate()"
      ],
      "metadata": {
        "id": "ufdt54wQt12J"
      },
      "execution_count": null,
      "outputs": []
    },
    {
      "cell_type": "code",
      "source": [
        "model2.constraints.add(summation(data_csvfile['Cost (in cr. of rs.)'],model2.x)<=70)\n",
        "model2.constraints.add(summation(data_csvfile['parking (sq. m.)'],model2.x)<=90)"
      ],
      "metadata": {
        "colab": {
          "base_uri": "https://localhost:8080/"
        },
        "id": "_S47pyr2suxA",
        "outputId": "9017e245-2168-4e7e-d182-9d5f83569063"
      },
      "execution_count": null,
      "outputs": [
        {
          "output_type": "execute_result",
          "data": {
            "text/plain": [
              "<pyomo.core.base.constraint._GeneralConstraintData at 0x7f22bd38aec0>"
            ]
          },
          "metadata": {},
          "execution_count": 60
        }
      ]
    },
    {
      "cell_type": "code",
      "source": [
        "model2.pprint()"
      ],
      "metadata": {
        "colab": {
          "base_uri": "https://localhost:8080/"
        },
        "id": "UaKQgVartOEF",
        "outputId": "5657c770-886f-4dfb-e450-cdf631bdd2b0"
      },
      "execution_count": null,
      "outputs": [
        {
          "output_type": "stream",
          "name": "stdout",
          "text": [
            "2 Set Declarations\n",
            "    constraints_index : Size=1, Index=None, Ordered=Insertion\n",
            "        Key  : Dimen : Domain : Size : Members\n",
            "        None :     1 :    Any :   10 : {1, 2, 3, 4, 5, 6, 7, 8, 9, 10}\n",
            "    x_index : Size=1, Index=None, Ordered=Insertion\n",
            "        Key  : Dimen : Domain : Size : Members\n",
            "        None :     1 :    Any :    5 : {0, 1, 2, 3, 4}\n",
            "\n",
            "1 Var Declarations\n",
            "    x : Size=5, Index=x_index\n",
            "        Key : Lower : Value : Upper : Fixed : Stale : Domain\n",
            "          0 :     0 :  11.0 :  None : False : False : NonNegativeIntegers\n",
            "          1 :     0 :   0.0 :  None : False : False : NonNegativeIntegers\n",
            "          2 :     0 :   0.0 :  None : False : False : NonNegativeIntegers\n",
            "          3 :     0 :   0.0 :  None : False : False : NonNegativeIntegers\n",
            "          4 :     0 :   0.0 :  None : False : False : NonNegativeIntegers\n",
            "\n",
            "1 Objective Declarations\n",
            "    objective : Size=1, Index=None, Active=True\n",
            "        Key  : Active : Sense    : Expression\n",
            "        None :   True : maximize : 11*x[0] + 13*x[1] + 9*x[2] + 15*x[3] + 12*x[4]\n",
            "\n",
            "1 Constraint Declarations\n",
            "    constraints : Size=10, Index=constraints_index, Active=True\n",
            "        Key : Lower : Body                                                     : Upper : Active\n",
            "          1 :  -Inf : 5.75*x[0] + 4.5*x[1] + 3.75*x[2] + 4.85*x[3] + 3.45*x[4] :  84.0 :  False\n",
            "          2 :  -Inf : 6.5*x[0] + 8.0*x[1] + 10.5*x[2] + 11.75*x[3] + 14.5*x[4] :  78.0 :  False\n",
            "          3 :  -Inf : 6.5*x[0] + 8.0*x[1] + 10.5*x[2] + 11.75*x[3] + 14.5*x[4] :  76.0 :  False\n",
            "          4 :  -Inf : 5.75*x[0] + 4.5*x[1] + 3.75*x[2] + 4.85*x[3] + 3.45*x[4] :  87.0 :  False\n",
            "          5 :  -Inf : 6.5*x[0] + 8.0*x[1] + 10.5*x[2] + 11.75*x[3] + 14.5*x[4] :  74.0 :  False\n",
            "          6 :  -Inf : 5.75*x[0] + 4.5*x[1] + 3.75*x[2] + 4.85*x[3] + 3.45*x[4] :  88.0 :  False\n",
            "          7 :  -Inf : 6.5*x[0] + 8.0*x[1] + 10.5*x[2] + 11.75*x[3] + 14.5*x[4] :  72.0 :  False\n",
            "          8 :  -Inf : 5.75*x[0] + 4.5*x[1] + 3.75*x[2] + 4.85*x[3] + 3.45*x[4] :  89.0 :  False\n",
            "          9 :  -Inf : 6.5*x[0] + 8.0*x[1] + 10.5*x[2] + 11.75*x[3] + 14.5*x[4] :  70.0 :   True\n",
            "         10 :  -Inf : 5.75*x[0] + 4.5*x[1] + 3.75*x[2] + 4.85*x[3] + 3.45*x[4] :  90.0 :   True\n",
            "\n",
            "5 Declarations: x_index x objective constraints_index constraints\n"
          ]
        }
      ]
    },
    {
      "cell_type": "code",
      "source": [
        "result = opt_cbc.solve(model2)\n",
        "print('Solver status', result.solver.status)\n",
        "print('Solver termination condition:',result.solver.termination_condition)"
      ],
      "metadata": {
        "colab": {
          "base_uri": "https://localhost:8080/"
        },
        "id": "n3dtVCYHtU7w",
        "outputId": "534c80d4-56fa-4e96-8794-031deaa23a9b"
      },
      "execution_count": null,
      "outputs": [
        {
          "output_type": "stream",
          "name": "stdout",
          "text": [
            "Solver status ok\n",
            "Solver termination condition: optimal\n"
          ]
        }
      ]
    },
    {
      "cell_type": "code",
      "source": [
        "# display solution\n",
        "print('\\nObjective = ', model2.objective())\n",
        "\n",
        "print('\\nDecision Variables')\n",
        "for i in col_indices:\n",
        "  print('Num of drone model ',data_csvfile['Drone Model'][i], model2.x[i].value)\n",
        "\n",
        "print('\\nConstraints')\n",
        "model2.constraints.display()"
      ],
      "metadata": {
        "colab": {
          "base_uri": "https://localhost:8080/"
        },
        "id": "Toz-nG9-tWjl",
        "outputId": "e325a21c-75a4-440f-8c02-888ae001da19"
      },
      "execution_count": null,
      "outputs": [
        {
          "output_type": "stream",
          "name": "stdout",
          "text": [
            "\n",
            "Objective =  116.0\n",
            "\n",
            "Decision Variables\n",
            "Num of drone model  SHREY 7.0\n",
            "Num of drone model  DHARAN 3.0\n",
            "Num of drone model  SATVA 0.0\n",
            "Num of drone model  ADHYA 0.0\n",
            "Num of drone model  PRAVAT 0.0\n",
            "\n",
            "Constraints\n",
            "constraints : Size=10\n",
            "    Key : Lower : Body  : Upper\n",
            "      9 :  None :  69.5 :  70.0\n",
            "     10 :  None : 53.75 :  90.0\n"
          ]
        }
      ]
    },
    {
      "cell_type": "markdown",
      "source": [
        "by LP"
      ],
      "metadata": {
        "id": "1mewIXwx1I61"
      }
    },
    {
      "cell_type": "code",
      "source": [
        "model2.x.domain = Reals"
      ],
      "metadata": {
        "id": "8onKUk4JtZ4p"
      },
      "execution_count": null,
      "outputs": []
    },
    {
      "cell_type": "code",
      "source": [
        "model2.pprint()"
      ],
      "metadata": {
        "colab": {
          "base_uri": "https://localhost:8080/"
        },
        "id": "uEi64K1Juf4V",
        "outputId": "bffd9723-1b5e-48b6-fba2-d4984cd89e43"
      },
      "execution_count": null,
      "outputs": [
        {
          "output_type": "stream",
          "name": "stdout",
          "text": [
            "2 Set Declarations\n",
            "    constraints_index : Size=1, Index=None, Ordered=Insertion\n",
            "        Key  : Dimen : Domain : Size : Members\n",
            "        None :     1 :    Any :   10 : {1, 2, 3, 4, 5, 6, 7, 8, 9, 10}\n",
            "    x_index : Size=1, Index=None, Ordered=Insertion\n",
            "        Key  : Dimen : Domain : Size : Members\n",
            "        None :     1 :    Any :    5 : {0, 1, 2, 3, 4}\n",
            "\n",
            "1 Var Declarations\n",
            "    x : Size=5, Index=x_index\n",
            "        Key : Lower : Value : Upper : Fixed : Stale : Domain\n",
            "          0 :     0 :   7.0 :  None : False : False :  Reals\n",
            "          1 :     0 :   3.0 :  None : False : False :  Reals\n",
            "          2 :     0 :   0.0 :  None : False : False :  Reals\n",
            "          3 :     0 :   0.0 :  None : False : False :  Reals\n",
            "          4 :     0 :   0.0 :  None : False : False :  Reals\n",
            "\n",
            "1 Objective Declarations\n",
            "    objective : Size=1, Index=None, Active=True\n",
            "        Key  : Active : Sense    : Expression\n",
            "        None :   True : maximize : 11*x[0] + 13*x[1] + 9*x[2] + 15*x[3] + 12*x[4]\n",
            "\n",
            "1 Constraint Declarations\n",
            "    constraints : Size=10, Index=constraints_index, Active=True\n",
            "        Key : Lower : Body                                                     : Upper : Active\n",
            "          1 :  -Inf : 5.75*x[0] + 4.5*x[1] + 3.75*x[2] + 4.85*x[3] + 3.45*x[4] :  84.0 :  False\n",
            "          2 :  -Inf : 6.5*x[0] + 8.0*x[1] + 10.5*x[2] + 11.75*x[3] + 14.5*x[4] :  78.0 :  False\n",
            "          3 :  -Inf : 6.5*x[0] + 8.0*x[1] + 10.5*x[2] + 11.75*x[3] + 14.5*x[4] :  76.0 :  False\n",
            "          4 :  -Inf : 5.75*x[0] + 4.5*x[1] + 3.75*x[2] + 4.85*x[3] + 3.45*x[4] :  87.0 :  False\n",
            "          5 :  -Inf : 6.5*x[0] + 8.0*x[1] + 10.5*x[2] + 11.75*x[3] + 14.5*x[4] :  74.0 :  False\n",
            "          6 :  -Inf : 5.75*x[0] + 4.5*x[1] + 3.75*x[2] + 4.85*x[3] + 3.45*x[4] :  88.0 :  False\n",
            "          7 :  -Inf : 6.5*x[0] + 8.0*x[1] + 10.5*x[2] + 11.75*x[3] + 14.5*x[4] :  72.0 :  False\n",
            "          8 :  -Inf : 5.75*x[0] + 4.5*x[1] + 3.75*x[2] + 4.85*x[3] + 3.45*x[4] :  89.0 :  False\n",
            "          9 :  -Inf : 6.5*x[0] + 8.0*x[1] + 10.5*x[2] + 11.75*x[3] + 14.5*x[4] :  70.0 :   True\n",
            "         10 :  -Inf : 5.75*x[0] + 4.5*x[1] + 3.75*x[2] + 4.85*x[3] + 3.45*x[4] :  90.0 :   True\n",
            "\n",
            "5 Declarations: x_index x objective constraints_index constraints\n"
          ]
        }
      ]
    },
    {
      "cell_type": "code",
      "source": [
        "result = opt_cbc.solve(model2)\n",
        "print('Solver status', result.solver.status)\n",
        "print('Solver termination condition:',result.solver.termination_condition)"
      ],
      "metadata": {
        "colab": {
          "base_uri": "https://localhost:8080/"
        },
        "id": "u0rRBmF4uiXs",
        "outputId": "d9a753c8-bc98-4cbf-93b2-5cb87270c07d"
      },
      "execution_count": null,
      "outputs": [
        {
          "output_type": "stream",
          "name": "stdout",
          "text": [
            "Solver status ok\n",
            "Solver termination condition: optimal\n"
          ]
        }
      ]
    },
    {
      "cell_type": "code",
      "source": [
        "# display solution\n",
        "print('\\nObjective = ', model2.objective())\n",
        "\n",
        "print('\\nDecision Variables')\n",
        "for i in col_indices:\n",
        "  print('Num of drone model ',data_csvfile['Drone Model'][i], model2.x[i].value)\n",
        "\n",
        "print('\\nConstraints')\n",
        "model2.constraints.display()"
      ],
      "metadata": {
        "colab": {
          "base_uri": "https://localhost:8080/"
        },
        "id": "N4oMJSIOuuJ1",
        "outputId": "06da60f0-4e62-4ad9-8c88-e92dc520ed97"
      },
      "execution_count": null,
      "outputs": [
        {
          "output_type": "stream",
          "name": "stdout",
          "text": [
            "\n",
            "Objective =  118.461541\n",
            "\n",
            "Decision Variables\n",
            "Num of drone model  SHREY 10.769231\n",
            "Num of drone model  DHARAN 0.0\n",
            "Num of drone model  SATVA 0.0\n",
            "Num of drone model  ADHYA 0.0\n",
            "Num of drone model  PRAVAT 0.0\n",
            "\n",
            "Constraints\n",
            "constraints : Size=10\n",
            "    Key : Lower : Body               : Upper\n",
            "      9 :  None :         70.0000015 :  70.0\n",
            "     10 :  None : 61.923078249999996 :  90.0\n"
          ]
        }
      ]
    },
    {
      "cell_type": "markdown",
      "source": [
        "In this case also, when budget is decresed and parking is increased then objective function is decrease BUT by LP objective function and solution are float value i.e infeasble solution.\n",
        "\n",
        "\n",
        "therefore by MILP objective function is decrease"
      ],
      "metadata": {
        "id": "2uTJuSGuBPAI"
      }
    },
    {
      "cell_type": "markdown",
      "source": [
        "# **Exercise 2(10)(4)**\n",
        "\n",
        "The budget decrease in crores rupees is 68\n",
        "\n",
        "and Parking space incresed in units is 91\n",
        "\n",
        "$ \\text{New Constraints} \\\\\n",
        "\\text{s.t. } 6.5 x_1 + 8 x_2 + 10.5 x_3 + 11.75 x_4 + 14.5 x_5 \\leq 68 \\\\ \\ \\ \\ \\ \\ \\ 5.7 x_1 + 4.5 x_2 + 3.75 x_3 + 4.85 x_4 + 3.45 x_5 \\leq 91$"
      ],
      "metadata": {
        "id": "TnfDPbOz1NPe"
      }
    },
    {
      "cell_type": "markdown",
      "source": [
        "by LP"
      ],
      "metadata": {
        "id": "Y7frrRtn1USY"
      }
    },
    {
      "cell_type": "code",
      "source": [
        "for i in range(9,11):\n",
        "  model2.constraints[i].deactivate()"
      ],
      "metadata": {
        "id": "iNdYXkSmu2Yd"
      },
      "execution_count": null,
      "outputs": []
    },
    {
      "cell_type": "code",
      "source": [
        "model2.constraints.add(summation(data_csvfile['Cost (in cr. of rs.)'],model2.x)<=68)\n",
        "model2.constraints.add(summation(data_csvfile['parking (sq. m.)'],model2.x)<=91)"
      ],
      "metadata": {
        "colab": {
          "base_uri": "https://localhost:8080/"
        },
        "id": "yrvsDxbPvG-V",
        "outputId": "04535d3c-d961-4567-abb2-7f98da61d99c"
      },
      "execution_count": null,
      "outputs": [
        {
          "output_type": "execute_result",
          "data": {
            "text/plain": [
              "<pyomo.core.base.constraint._GeneralConstraintData at 0x7f22bcb1ec20>"
            ]
          },
          "metadata": {},
          "execution_count": 69
        }
      ]
    },
    {
      "cell_type": "code",
      "source": [
        "model2.pprint()"
      ],
      "metadata": {
        "colab": {
          "base_uri": "https://localhost:8080/"
        },
        "id": "AyalZeTDvf5R",
        "outputId": "45dafeff-e54a-42b7-b921-d85dcd439fe7"
      },
      "execution_count": null,
      "outputs": [
        {
          "output_type": "stream",
          "name": "stdout",
          "text": [
            "2 Set Declarations\n",
            "    constraints_index : Size=1, Index=None, Ordered=Insertion\n",
            "        Key  : Dimen : Domain : Size : Members\n",
            "        None :     1 :    Any :   12 : {1, 2, 3, 4, 5, 6, 7, 8, 9, 10, 11, 12}\n",
            "    x_index : Size=1, Index=None, Ordered=Insertion\n",
            "        Key  : Dimen : Domain : Size : Members\n",
            "        None :     1 :    Any :    5 : {0, 1, 2, 3, 4}\n",
            "\n",
            "1 Var Declarations\n",
            "    x : Size=5, Index=x_index\n",
            "        Key : Lower : Value     : Upper : Fixed : Stale : Domain\n",
            "          0 :     0 : 10.769231 :  None : False : False :  Reals\n",
            "          1 :     0 :       0.0 :  None : False : False :  Reals\n",
            "          2 :     0 :       0.0 :  None : False : False :  Reals\n",
            "          3 :     0 :       0.0 :  None : False : False :  Reals\n",
            "          4 :     0 :       0.0 :  None : False : False :  Reals\n",
            "\n",
            "1 Objective Declarations\n",
            "    objective : Size=1, Index=None, Active=True\n",
            "        Key  : Active : Sense    : Expression\n",
            "        None :   True : maximize : 11*x[0] + 13*x[1] + 9*x[2] + 15*x[3] + 12*x[4]\n",
            "\n",
            "1 Constraint Declarations\n",
            "    constraints : Size=12, Index=constraints_index, Active=True\n",
            "        Key : Lower : Body                                                     : Upper : Active\n",
            "          1 :  -Inf : 5.75*x[0] + 4.5*x[1] + 3.75*x[2] + 4.85*x[3] + 3.45*x[4] :  84.0 :  False\n",
            "          2 :  -Inf : 6.5*x[0] + 8.0*x[1] + 10.5*x[2] + 11.75*x[3] + 14.5*x[4] :  78.0 :  False\n",
            "          3 :  -Inf : 6.5*x[0] + 8.0*x[1] + 10.5*x[2] + 11.75*x[3] + 14.5*x[4] :  76.0 :  False\n",
            "          4 :  -Inf : 5.75*x[0] + 4.5*x[1] + 3.75*x[2] + 4.85*x[3] + 3.45*x[4] :  87.0 :  False\n",
            "          5 :  -Inf : 6.5*x[0] + 8.0*x[1] + 10.5*x[2] + 11.75*x[3] + 14.5*x[4] :  74.0 :  False\n",
            "          6 :  -Inf : 5.75*x[0] + 4.5*x[1] + 3.75*x[2] + 4.85*x[3] + 3.45*x[4] :  88.0 :  False\n",
            "          7 :  -Inf : 6.5*x[0] + 8.0*x[1] + 10.5*x[2] + 11.75*x[3] + 14.5*x[4] :  72.0 :  False\n",
            "          8 :  -Inf : 5.75*x[0] + 4.5*x[1] + 3.75*x[2] + 4.85*x[3] + 3.45*x[4] :  89.0 :  False\n",
            "          9 :  -Inf : 6.5*x[0] + 8.0*x[1] + 10.5*x[2] + 11.75*x[3] + 14.5*x[4] :  70.0 :  False\n",
            "         10 :  -Inf : 5.75*x[0] + 4.5*x[1] + 3.75*x[2] + 4.85*x[3] + 3.45*x[4] :  90.0 :  False\n",
            "         11 :  -Inf : 6.5*x[0] + 8.0*x[1] + 10.5*x[2] + 11.75*x[3] + 14.5*x[4] :  68.0 :   True\n",
            "         12 :  -Inf : 5.75*x[0] + 4.5*x[1] + 3.75*x[2] + 4.85*x[3] + 3.45*x[4] :  91.0 :   True\n",
            "\n",
            "5 Declarations: x_index x objective constraints_index constraints\n"
          ]
        }
      ]
    },
    {
      "cell_type": "code",
      "source": [
        "result = opt_cbc.solve(model2)\n",
        "print('Solver status', result.solver.status)\n",
        "print('Solver termination condition:',result.solver.termination_condition)"
      ],
      "metadata": {
        "colab": {
          "base_uri": "https://localhost:8080/"
        },
        "id": "TL8H_5e0vjYn",
        "outputId": "c0c39473-5fe4-42a4-a586-fc313d3635ec"
      },
      "execution_count": null,
      "outputs": [
        {
          "output_type": "stream",
          "name": "stdout",
          "text": [
            "Solver status ok\n",
            "Solver termination condition: optimal\n"
          ]
        }
      ]
    },
    {
      "cell_type": "code",
      "source": [
        "# display solution\n",
        "print('\\nObjective = ', model2.objective())\n",
        "\n",
        "print('\\nDecision Variables')\n",
        "for i in col_indices:\n",
        "  print('Num of drone model ',data_csvfile['Drone Model'][i], model2.x[i].value)\n",
        "\n",
        "print('\\nConstraints')\n",
        "model2.constraints.display()"
      ],
      "metadata": {
        "colab": {
          "base_uri": "https://localhost:8080/"
        },
        "id": "YpKQE31avzcE",
        "outputId": "81c22701-4eea-4205-f382-611d5c0f2771"
      },
      "execution_count": null,
      "outputs": [
        {
          "output_type": "stream",
          "name": "stdout",
          "text": [
            "\n",
            "Objective =  115.07691799999999\n",
            "\n",
            "Decision Variables\n",
            "Num of drone model  SHREY 10.461538\n",
            "Num of drone model  DHARAN 0.0\n",
            "Num of drone model  SATVA 0.0\n",
            "Num of drone model  ADHYA 0.0\n",
            "Num of drone model  PRAVAT 0.0\n",
            "\n",
            "Constraints\n",
            "constraints : Size=12\n",
            "    Key : Lower : Body               : Upper\n",
            "     11 :  None :          67.999997 :  68.0\n",
            "     12 :  None : 60.153843499999994 :  91.0\n"
          ]
        }
      ]
    },
    {
      "cell_type": "markdown",
      "source": [
        "by MILP"
      ],
      "metadata": {
        "id": "BslvHqAd1Xze"
      }
    },
    {
      "cell_type": "code",
      "source": [
        "model2.x.domain = NonNegativeIntegers"
      ],
      "metadata": {
        "id": "hha4HgwTv4qu"
      },
      "execution_count": null,
      "outputs": []
    },
    {
      "cell_type": "code",
      "source": [
        "model2.pprint()"
      ],
      "metadata": {
        "colab": {
          "base_uri": "https://localhost:8080/"
        },
        "id": "pOKmqUT0xdKi",
        "outputId": "956fc5db-220c-449a-fdcf-4270df89e865"
      },
      "execution_count": null,
      "outputs": [
        {
          "output_type": "stream",
          "name": "stdout",
          "text": [
            "2 Set Declarations\n",
            "    constraints_index : Size=1, Index=None, Ordered=Insertion\n",
            "        Key  : Dimen : Domain : Size : Members\n",
            "        None :     1 :    Any :   12 : {1, 2, 3, 4, 5, 6, 7, 8, 9, 10, 11, 12}\n",
            "    x_index : Size=1, Index=None, Ordered=Insertion\n",
            "        Key  : Dimen : Domain : Size : Members\n",
            "        None :     1 :    Any :    5 : {0, 1, 2, 3, 4}\n",
            "\n",
            "1 Var Declarations\n",
            "    x : Size=5, Index=x_index\n",
            "        Key : Lower : Value     : Upper : Fixed : Stale : Domain\n",
            "          0 :     0 : 10.461538 :  None : False : False : NonNegativeIntegers\n",
            "          1 :     0 :       0.0 :  None : False : False : NonNegativeIntegers\n",
            "          2 :     0 :       0.0 :  None : False : False : NonNegativeIntegers\n",
            "          3 :     0 :       0.0 :  None : False : False : NonNegativeIntegers\n",
            "          4 :     0 :       0.0 :  None : False : False : NonNegativeIntegers\n",
            "\n",
            "1 Objective Declarations\n",
            "    objective : Size=1, Index=None, Active=True\n",
            "        Key  : Active : Sense    : Expression\n",
            "        None :   True : maximize : 11*x[0] + 13*x[1] + 9*x[2] + 15*x[3] + 12*x[4]\n",
            "\n",
            "1 Constraint Declarations\n",
            "    constraints : Size=12, Index=constraints_index, Active=True\n",
            "        Key : Lower : Body                                                     : Upper : Active\n",
            "          1 :  -Inf : 5.75*x[0] + 4.5*x[1] + 3.75*x[2] + 4.85*x[3] + 3.45*x[4] :  84.0 :  False\n",
            "          2 :  -Inf : 6.5*x[0] + 8.0*x[1] + 10.5*x[2] + 11.75*x[3] + 14.5*x[4] :  78.0 :  False\n",
            "          3 :  -Inf : 6.5*x[0] + 8.0*x[1] + 10.5*x[2] + 11.75*x[3] + 14.5*x[4] :  76.0 :  False\n",
            "          4 :  -Inf : 5.75*x[0] + 4.5*x[1] + 3.75*x[2] + 4.85*x[3] + 3.45*x[4] :  87.0 :  False\n",
            "          5 :  -Inf : 6.5*x[0] + 8.0*x[1] + 10.5*x[2] + 11.75*x[3] + 14.5*x[4] :  74.0 :  False\n",
            "          6 :  -Inf : 5.75*x[0] + 4.5*x[1] + 3.75*x[2] + 4.85*x[3] + 3.45*x[4] :  88.0 :  False\n",
            "          7 :  -Inf : 6.5*x[0] + 8.0*x[1] + 10.5*x[2] + 11.75*x[3] + 14.5*x[4] :  72.0 :  False\n",
            "          8 :  -Inf : 5.75*x[0] + 4.5*x[1] + 3.75*x[2] + 4.85*x[3] + 3.45*x[4] :  89.0 :  False\n",
            "          9 :  -Inf : 6.5*x[0] + 8.0*x[1] + 10.5*x[2] + 11.75*x[3] + 14.5*x[4] :  70.0 :  False\n",
            "         10 :  -Inf : 5.75*x[0] + 4.5*x[1] + 3.75*x[2] + 4.85*x[3] + 3.45*x[4] :  90.0 :  False\n",
            "         11 :  -Inf : 6.5*x[0] + 8.0*x[1] + 10.5*x[2] + 11.75*x[3] + 14.5*x[4] :  68.0 :   True\n",
            "         12 :  -Inf : 5.75*x[0] + 4.5*x[1] + 3.75*x[2] + 4.85*x[3] + 3.45*x[4] :  91.0 :   True\n",
            "\n",
            "5 Declarations: x_index x objective constraints_index constraints\n"
          ]
        }
      ]
    },
    {
      "cell_type": "code",
      "source": [
        "result = opt_cbc.solve(model2)\n",
        "print('Solver status', result.solver.status)\n",
        "print('Solver termination condition:',result.solver.termination_condition)"
      ],
      "metadata": {
        "colab": {
          "base_uri": "https://localhost:8080/"
        },
        "id": "LPKIb3E2xl_R",
        "outputId": "46cd7ebb-350f-4e4c-9996-626f6648036a"
      },
      "execution_count": null,
      "outputs": [
        {
          "output_type": "stream",
          "name": "stdout",
          "text": [
            "Solver status ok\n",
            "Solver termination condition: optimal\n"
          ]
        }
      ]
    },
    {
      "cell_type": "code",
      "source": [
        "# display solution\n",
        "print('\\nObjective = ', model2.objective())\n",
        "\n",
        "print('\\nDecision Variables')\n",
        "for i in col_indices:\n",
        "  print('Num of drone model ',data_csvfile['Drone Model'][i], model2.x[i].value)\n",
        "\n",
        "print('\\nConstraints')\n",
        "model2.constraints.display()"
      ],
      "metadata": {
        "colab": {
          "base_uri": "https://localhost:8080/"
        },
        "id": "5GO2MoDexpeK",
        "outputId": "effe9d71-d64c-45d4-874a-611a1a78fe1e"
      },
      "execution_count": null,
      "outputs": [
        {
          "output_type": "stream",
          "name": "stdout",
          "text": [
            "\n",
            "Objective =  114.0\n",
            "\n",
            "Decision Variables\n",
            "Num of drone model  SHREY 8.0\n",
            "Num of drone model  DHARAN 2.0\n",
            "Num of drone model  SATVA 0.0\n",
            "Num of drone model  ADHYA 0.0\n",
            "Num of drone model  PRAVAT 0.0\n",
            "\n",
            "Constraints\n",
            "constraints : Size=12\n",
            "    Key : Lower : Body : Upper\n",
            "     11 :  None : 68.0 :  68.0\n",
            "     12 :  None : 55.0 :  91.0\n"
          ]
        }
      ]
    },
    {
      "cell_type": "markdown",
      "source": [
        "In this case also, when budget is decresed and parking is increased then objective function is decrease BUT by LP objective function and solution are float value i.e infeasble solution.\n",
        "\n",
        "\n",
        "therefore by MILP objective function is decrease"
      ],
      "metadata": {
        "id": "_B_kSDAhDH1Q"
      }
    },
    {
      "cell_type": "markdown",
      "source": [
        "# Observations about the optimal solutions\n",
        "my observation, when budget is decresed and parking is increased in all above 4 example then objective function is decrease consequetely by MILP. and by LP all above 4 example solution is infeasible.\n"
      ],
      "metadata": {
        "id": "VhghsTYiDT7u"
      }
    }
  ]
}