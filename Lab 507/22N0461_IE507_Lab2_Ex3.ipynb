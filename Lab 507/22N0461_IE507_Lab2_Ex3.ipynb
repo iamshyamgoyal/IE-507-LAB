{
  "nbformat": 4,
  "nbformat_minor": 0,
  "metadata": {
    "colab": {
      "name": "22N0461_IE507_Lab2_Ex3.ipynb",
      "provenance": [],
      "collapsed_sections": []
    },
    "kernelspec": {
      "name": "python3",
      "display_name": "Python 3"
    },
    "language_info": {
      "name": "python"
    }
  },
  "cells": [
    {
      "cell_type": "markdown",
      "source": [
        "# Exercise 3 Solution\n"
      ],
      "metadata": {
        "id": "fSc_7oPwIa0Y"
      }
    },
    {
      "cell_type": "markdown",
      "source": [
        "$\\large{\\textbf{Exercise 3(1):}}\\\\ \\text{let us consider } x_1 , x_2 , ....., x_{10} \\text{ is available alloys A-1, A-2,.....A-10 respectively }  $\n",
        "\n",
        "$\\ min \\ 82 x_1 + 102 x_2 + 150 x_3 + 105 x_4 + 95 x_5 + 84 x_6 + 88 x_7 + 125 X_8 + 70 x_9 + 64 x_{10}  \\\\ \\text{ s.t. }   \n",
        "20 x_1 + 25 x_2 + 10 x_3 + 30 x_4 + 12.5 x_5 + 35 x_6 + 47 x_7 + 10 X_8 + 20 x_9 + 50 x_{10} = 11687.5, \\\\ \\ \\ \\ \\ \\ \\ \\  75 x_1 + 65 x_2 + 70 x_3 + 60 x_4 + 85 x_5 + 52.5 x_6 + 42.5 x_7 + 40 X_8 + 35 x_9 + 40 x_{10} = 24437.5, \\\\ \\ \\ \\ \\ \\ \\ \\  5 x_1 + 10 x_2 + 20 x_3 + 10 x_4 + 2.5 x_5 + 12.5 x_6 + 10 x_7 + 50 X_8 + 45 x_9 + 10 x_{10} = 6375 \\\\ 15\\leq x_1\\leq +\\infty,\\\\ 16 \\leq x_2 \\leq +\\infty, \\\\  \\ \\ 9 \\leq x_3 \\leq +\\infty, \\\\ 17.5 \\leq x_4 \\leq +\\infty, \\\\ 12 \\leq x_5 \\leq +\\infty, \\\\ 18.5 \\leq x_6 \\leq +\\infty, \\\\ 2.5 \\leq x_7 \\leq +\\infty, \\\\ 0.5 \\leq x_8 \\leq +\\infty, \\\\ 9.5 \\leq x_9 \\leq +\\infty, \\\\ \\ \\  8 \\leq x_{10} \\leq +\\infty $."
      ],
      "metadata": {
        "id": "qyGPCyW3IoRF"
      }
    },
    {
      "cell_type": "code",
      "execution_count": 1,
      "metadata": {
        "id": "_ctHInYlHIr5",
        "colab": {
          "base_uri": "https://localhost:8080/"
        },
        "outputId": "95244da2-8658-4d1e-d3cf-47df8e7cc2ec"
      },
      "outputs": [
        {
          "output_type": "stream",
          "name": "stdout",
          "text": [
            "\u001b[K     |████████████████████████████████| 9.6 MB 5.3 MB/s \n",
            "\u001b[K     |████████████████████████████████| 49 kB 5.2 MB/s \n",
            "\u001b[?25h"
          ]
        }
      ],
      "source": [
        "!pip install -q pyomo"
      ]
    },
    {
      "cell_type": "code",
      "source": [
        "from pyomo.environ import*"
      ],
      "metadata": {
        "id": "E-7NE_kCJJc5"
      },
      "execution_count": 2,
      "outputs": []
    },
    {
      "cell_type": "code",
      "source": [
        "import numpy as np"
      ],
      "metadata": {
        "id": "CEcllew4JPv0"
      },
      "execution_count": 3,
      "outputs": []
    },
    {
      "cell_type": "code",
      "source": [
        "model3 = ConcreteModel()"
      ],
      "metadata": {
        "id": "0D9FD2rkJS-C"
      },
      "execution_count": 4,
      "outputs": []
    },
    {
      "cell_type": "code",
      "source": [
        "N = 10"
      ],
      "metadata": {
        "id": "Y_7FdiUUJXTZ"
      },
      "execution_count": 5,
      "outputs": []
    },
    {
      "cell_type": "code",
      "source": [
        "M = 3"
      ],
      "metadata": {
        "id": "Oqr498AjJ48D"
      },
      "execution_count": 6,
      "outputs": []
    },
    {
      "cell_type": "code",
      "source": [
        "obj_coef_c = np.array([82, 102, 150, 105, 95, 84, 88, 125, 70, 64])"
      ],
      "metadata": {
        "id": "7_jgovcCJ7en"
      },
      "execution_count": 7,
      "outputs": []
    },
    {
      "cell_type": "code",
      "source": [
        "constr_coef_A = np.array([[20, 25, 10, 30, 12.5, 35, 47.5, 10, 20, 50],[75 ,65, 70, 60, 85, 52.5, 42.5, 40, 35, 40],[5, 10, 20, 10, 2.5, 12.5, 10, 50, 45, 10]])"
      ],
      "metadata": {
        "id": "GqIaHYqOKZKJ"
      },
      "execution_count": 8,
      "outputs": []
    },
    {
      "cell_type": "code",
      "source": [
        "constr_rhs_b = [11687.5, 24437.5, 6375]\n"
      ],
      "metadata": {
        "id": "GoatpDSbMSWP"
      },
      "execution_count": 9,
      "outputs": []
    },
    {
      "cell_type": "code",
      "source": [
        "lower_bound  = np.array([15, 16, 9, 17.5, 12, 18.5, 2.5, 0.5, 9.5, 8])\n",
        "upper_bound = np.array([np.inf]*10)"
      ],
      "metadata": {
        "id": "ku7oq7uDNYVu"
      },
      "execution_count": 10,
      "outputs": []
    },
    {
      "cell_type": "code",
      "source": [
        "col_indices = np.arange(N)\n",
        "row_indices = np.arange(M)"
      ],
      "metadata": {
        "id": "y_-YP_SXOnZM"
      },
      "execution_count": 11,
      "outputs": []
    },
    {
      "cell_type": "code",
      "source": [
        "model3.x = Var(col_indices)\n"
      ],
      "metadata": {
        "id": "Ota3pehDYWwb"
      },
      "execution_count": 12,
      "outputs": []
    },
    {
      "cell_type": "code",
      "source": [
        "model3.constraints = ConstraintList()"
      ],
      "metadata": {
        "id": "3YgTXrdLYGf1"
      },
      "execution_count": 13,
      "outputs": []
    },
    {
      "cell_type": "code",
      "source": [
        "for i in row_indices:\n",
        "  model3.constraints.add(sum(constr_coef_A[i][j]*model3.x[j] for j in col_indices) == constr_rhs_b[i])"
      ],
      "metadata": {
        "id": "ZwdnWETcPigg"
      },
      "execution_count": 14,
      "outputs": []
    },
    {
      "cell_type": "code",
      "source": [
        "for j in col_indices:\n",
        "  model3.x[j].setlb(lower_bound[j])\n",
        "  model3.x[j].setub(upper_bound[j])"
      ],
      "metadata": {
        "id": "Ha3gfQ_TPqdv"
      },
      "execution_count": 15,
      "outputs": []
    },
    {
      "cell_type": "code",
      "source": [
        "model3.objective = Objective(expr = sum(obj_coef_c[j]*model3.x[j] for j in col_indices)-5001.5 , sense = minimize)"
      ],
      "metadata": {
        "id": "rE5qzUb-ZMfx"
      },
      "execution_count": 16,
      "outputs": []
    },
    {
      "cell_type": "code",
      "source": [
        "model3.pprint()"
      ],
      "metadata": {
        "colab": {
          "base_uri": "https://localhost:8080/"
        },
        "id": "JPo7E0DnaJom",
        "outputId": "d8531ebe-fc12-470c-8b40-f5e6b3690f22"
      },
      "execution_count": 17,
      "outputs": [
        {
          "output_type": "stream",
          "name": "stdout",
          "text": [
            "2 Set Declarations\n",
            "    constraints_index : Size=1, Index=None, Ordered=Insertion\n",
            "        Key  : Dimen : Domain : Size : Members\n",
            "        None :     1 :    Any :    3 : {1, 2, 3}\n",
            "    x_index : Size=1, Index=None, Ordered=False\n",
            "        Key  : Dimen : Domain : Size : Members\n",
            "        None :     1 :    Any :   10 : {0, 1, 2, 3, 4, 5, 6, 7, 8, 9}\n",
            "\n",
            "1 Var Declarations\n",
            "    x : Size=10, Index=x_index\n",
            "        Key : Lower : Value : Upper : Fixed : Stale : Domain\n",
            "          0 :  15.0 :  None :  None : False :  True :  Reals\n",
            "          1 :  16.0 :  None :  None : False :  True :  Reals\n",
            "          2 :   9.0 :  None :  None : False :  True :  Reals\n",
            "          3 :  17.5 :  None :  None : False :  True :  Reals\n",
            "          4 :  12.0 :  None :  None : False :  True :  Reals\n",
            "          5 :  18.5 :  None :  None : False :  True :  Reals\n",
            "          6 :   2.5 :  None :  None : False :  True :  Reals\n",
            "          7 :   0.5 :  None :  None : False :  True :  Reals\n",
            "          8 :   9.5 :  None :  None : False :  True :  Reals\n",
            "          9 :   8.0 :  None :  None : False :  True :  Reals\n",
            "\n",
            "1 Objective Declarations\n",
            "    objective : Size=1, Index=None, Active=True\n",
            "        Key  : Active : Sense    : Expression\n",
            "        None :   True : minimize : 82*x[0] + 102*x[1] + 150*x[2] + 105*x[3] + 95*x[4] + 84*x[5] + 88*x[6] + 125*x[7] + 70*x[8] + 64*x[9] - 5001.5\n",
            "\n",
            "1 Constraint Declarations\n",
            "    constraints : Size=3, Index=constraints_index, Active=True\n",
            "        Key : Lower   : Body                                                                                                                  : Upper   : Active\n",
            "          1 : 11687.5 : 20.0*x[0] + 25.0*x[1] + 10.0*x[2] + 30.0*x[3] + 12.5*x[4] + 35.0*x[5] + 47.5*x[6] + 10.0*x[7] + 20.0*x[8] + 50.0*x[9] : 11687.5 :   True\n",
            "          2 : 24437.5 : 75.0*x[0] + 65.0*x[1] + 70.0*x[2] + 60.0*x[3] + 85.0*x[4] + 52.5*x[5] + 42.5*x[6] + 40.0*x[7] + 35.0*x[8] + 40.0*x[9] : 24437.5 :   True\n",
            "          3 :  6375.0 :   5.0*x[0] + 10.0*x[1] + 20.0*x[2] + 10.0*x[3] + 2.5*x[4] + 12.5*x[5] + 10.0*x[6] + 50.0*x[7] + 45.0*x[8] + 10.0*x[9] :  6375.0 :   True\n",
            "\n",
            "5 Declarations: x_index x constraints_index constraints objective\n"
          ]
        }
      ]
    },
    {
      "cell_type": "code",
      "source": [
        "!apt-get install -y -qq glpk-utils"
      ],
      "metadata": {
        "id": "mIEn6k9ZaMz6",
        "colab": {
          "base_uri": "https://localhost:8080/"
        },
        "outputId": "117a5b89-06f7-44c0-f051-966bfad4b5dd"
      },
      "execution_count": 18,
      "outputs": [
        {
          "output_type": "stream",
          "name": "stdout",
          "text": [
            "Selecting previously unselected package libsuitesparseconfig5:amd64.\n",
            "(Reading database ... 155680 files and directories currently installed.)\n",
            "Preparing to unpack .../libsuitesparseconfig5_1%3a5.1.2-2_amd64.deb ...\n",
            "Unpacking libsuitesparseconfig5:amd64 (1:5.1.2-2) ...\n",
            "Selecting previously unselected package libamd2:amd64.\n",
            "Preparing to unpack .../libamd2_1%3a5.1.2-2_amd64.deb ...\n",
            "Unpacking libamd2:amd64 (1:5.1.2-2) ...\n",
            "Selecting previously unselected package libcolamd2:amd64.\n",
            "Preparing to unpack .../libcolamd2_1%3a5.1.2-2_amd64.deb ...\n",
            "Unpacking libcolamd2:amd64 (1:5.1.2-2) ...\n",
            "Selecting previously unselected package libglpk40:amd64.\n",
            "Preparing to unpack .../libglpk40_4.65-1_amd64.deb ...\n",
            "Unpacking libglpk40:amd64 (4.65-1) ...\n",
            "Selecting previously unselected package glpk-utils.\n",
            "Preparing to unpack .../glpk-utils_4.65-1_amd64.deb ...\n",
            "Unpacking glpk-utils (4.65-1) ...\n",
            "Setting up libsuitesparseconfig5:amd64 (1:5.1.2-2) ...\n",
            "Setting up libcolamd2:amd64 (1:5.1.2-2) ...\n",
            "Setting up libamd2:amd64 (1:5.1.2-2) ...\n",
            "Setting up libglpk40:amd64 (4.65-1) ...\n",
            "Setting up glpk-utils (4.65-1) ...\n",
            "Processing triggers for libc-bin (2.27-3ubuntu1.5) ...\n",
            "Processing triggers for man-db (2.8.3-2ubuntu0.1) ...\n"
          ]
        }
      ]
    },
    {
      "cell_type": "code",
      "source": [
        "SolverFactory('glpk', executable='/usr/bin/glpsol').solve(model3).write()"
      ],
      "metadata": {
        "colab": {
          "base_uri": "https://localhost:8080/"
        },
        "id": "z3aomnTtfex4",
        "outputId": "939826b8-f7bd-4ded-b0f4-362ceae4ae02"
      },
      "execution_count": 19,
      "outputs": [
        {
          "output_type": "stream",
          "name": "stdout",
          "text": [
            "# ==========================================================\n",
            "# = Solver Results                                         =\n",
            "# ==========================================================\n",
            "# ----------------------------------------------------------\n",
            "#   Problem Information\n",
            "# ----------------------------------------------------------\n",
            "Problem: \n",
            "- Name: unknown\n",
            "  Lower bound: 28747.1875\n",
            "  Upper bound: 28747.1875\n",
            "  Number of objectives: 1\n",
            "  Number of constraints: 4\n",
            "  Number of variables: 11\n",
            "  Number of nonzeros: 31\n",
            "  Sense: minimize\n",
            "# ----------------------------------------------------------\n",
            "#   Solver Information\n",
            "# ----------------------------------------------------------\n",
            "Solver: \n",
            "- Status: ok\n",
            "  Termination condition: optimal\n",
            "  Statistics: \n",
            "    Branch and bound: \n",
            "      Number of bounded subproblems: 0\n",
            "      Number of created subproblems: 0\n",
            "  Error rc: 0\n",
            "  Time: 0.011474132537841797\n",
            "# ----------------------------------------------------------\n",
            "#   Solution Information\n",
            "# ----------------------------------------------------------\n",
            "Solution: \n",
            "- number of solutions: 0\n",
            "  number of solutions displayed: 0\n"
          ]
        }
      ]
    },
    {
      "cell_type": "markdown",
      "source": [
        "**Exercise 3(3) Solution**"
      ],
      "metadata": {
        "id": "-SxA8DM00QiM"
      }
    },
    {
      "cell_type": "code",
      "source": [
        "print('\\nObjective = ', model3.objective())\n",
        "\n",
        "print('\\nDecision Variables')\n",
        "for i in col_indices:\n",
        "  print('x[',i,'] = ', model3.x[i].value)\n",
        "\n",
        "print('\\nConstraints')\n",
        "model3.constraints.display()"
      ],
      "metadata": {
        "id": "Mb1CPjuPfshs",
        "colab": {
          "base_uri": "https://localhost:8080/"
        },
        "outputId": "f1dc3c18-10c0-4d73-9e0b-44e25cf47ff0"
      },
      "execution_count": 20,
      "outputs": [
        {
          "output_type": "stream",
          "name": "stdout",
          "text": [
            "\n",
            "Objective =  28747.1875\n",
            "\n",
            "Decision Variables\n",
            "x[ 0 ] =  173.078125\n",
            "x[ 1 ] =  16.0\n",
            "x[ 2 ] =  9.0\n",
            "x[ 3 ] =  17.5\n",
            "x[ 4 ] =  12.0\n",
            "x[ 5 ] =  18.5\n",
            "x[ 6 ] =  2.5\n",
            "x[ 7 ] =  0.5\n",
            "x[ 8 ] =  83.546875\n",
            "x[ 9 ] =  92.375\n",
            "\n",
            "Constraints\n",
            "constraints : Size=3\n",
            "    Key : Lower   : Body    : Upper\n",
            "      1 : 11687.5 : 11687.5 : 11687.5\n",
            "      2 : 24437.5 : 24437.5 : 24437.5\n",
            "      3 :  6375.0 :  6375.0 :  6375.0\n"
          ]
        }
      ]
    },
    {
      "cell_type": "markdown",
      "source": [
        "**Exercise 3(4) Solution**"
      ],
      "metadata": {
        "id": "CwEs1L8fodBo"
      }
    },
    {
      "cell_type": "markdown",
      "source": [
        "$ \\text{A-1 > A-10 > A-9 these are three alloys are ranked high in terms of the quantities to be bought } \\\\ \\\\ \\text{A-8  A-7  A-3 these are alloys are ranked low}$"
      ],
      "metadata": {
        "id": "ZNcupsZ2ooqC"
      }
    },
    {
      "cell_type": "markdown",
      "source": [
        "**Exercise 3(5) Solution**"
      ],
      "metadata": {
        "id": "uzgicsl9sHJs"
      }
    },
    {
      "cell_type": "markdown",
      "source": [
        "$ \\text{YES ,because all alloy A-1, A-2, .... , A-10 are completely utilized (all alloy is equal and greater than to house stock)}$"
      ],
      "metadata": {
        "id": "pBjaUKKTsKHC"
      }
    },
    {
      "cell_type": "markdown",
      "source": [
        "**Exercise 3(6) Solution**"
      ],
      "metadata": {
        "id": "ZQzNDl-qtBqg"
      }
    },
    {
      "cell_type": "markdown",
      "source": [
        "$ \\text{YES ,because these alloy A-2, A-3 , A-4, A-5, A-6, A-7, A-8 are need not be acquired from market (these alloy are equal to house stock) }$"
      ],
      "metadata": {
        "id": "cGRM7ci-tHGI"
      }
    },
    {
      "cell_type": "code",
      "source": [
        ""
      ],
      "metadata": {
        "id": "RqUdfJ5_vboa"
      },
      "execution_count": null,
      "outputs": []
    }
  ]
}