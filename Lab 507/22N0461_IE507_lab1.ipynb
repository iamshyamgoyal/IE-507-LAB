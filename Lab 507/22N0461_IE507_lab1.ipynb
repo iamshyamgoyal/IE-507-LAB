{
  "nbformat": 4,
  "nbformat_minor": 0,
  "metadata": {
    "colab": {
      "name": "22N0461_IE507_lab1.ipynb",
      "provenance": [],
      "collapsed_sections": []
    },
    "kernelspec": {
      "name": "python3",
      "display_name": "Python 3"
    }
  },
  "cells": [
    {
      "cell_type": "markdown",
      "source": [
        "Exercise 1 solution"
      ],
      "metadata": {
        "id": "SmLGHS8u-Z3L"
      }
    },
    {
      "cell_type": "code",
      "metadata": {
        "id": "1r_yYUofSTFB",
        "colab": {
          "base_uri": "https://localhost:8080/"
        },
        "outputId": "8f8fa070-2b62-4f89-eafb-5bceecbd611b"
      },
      "source": [
        "!pip install -q pyomo"
      ],
      "execution_count": 1,
      "outputs": [
        {
          "output_type": "stream",
          "name": "stdout",
          "text": [
            "\u001b[K     |████████████████████████████████| 9.6 MB 27.8 MB/s \n",
            "\u001b[K     |████████████████████████████████| 49 kB 4.7 MB/s \n",
            "\u001b[?25h"
          ]
        }
      ]
    },
    {
      "cell_type": "code",
      "metadata": {
        "id": "j4opCPZrSak0"
      },
      "source": [
        "from pyomo.environ import *"
      ],
      "execution_count": 2,
      "outputs": []
    },
    {
      "cell_type": "code",
      "metadata": {
        "id": "HYj3zpsvSih4"
      },
      "source": [
        "# create a model\n",
        "model1 = ConcreteModel()"
      ],
      "execution_count": 3,
      "outputs": []
    },
    {
      "cell_type": "code",
      "metadata": {
        "id": "XvRZqCV8d_-e"
      },
      "source": [
        "# declare decision variables\n",
        "model1.x1 = Var(domain=Reals)\n",
        "model1.x2 = Var(domain=Reals)\n",
        "model1.x3 = Var(domain=Reals)\n",
        "model1.x4 = Var(domain=Reals)\n",
        "model1.x5 = Var(domain=Reals)\n",
        "model1.x6 = Var(domain=Reals)\n",
        "model1.x7 = Var(domain=Reals)"
      ],
      "execution_count": 4,
      "outputs": []
    },
    {
      "cell_type": "code",
      "metadata": {
        "id": "sN7eq44-eCfY"
      },
      "source": [
        "# declare objective\n",
        "model1.cost = Objective(expr = -3*model1.x1 - 2*model1.x2 + 8*model1.x3 - 7*model1.x4 + 0.19*model1.x5 +11*model1.x6 + 20.2*model1.x7, sense=minimize)"
      ],
      "execution_count": 5,
      "outputs": []
    },
    {
      "cell_type": "code",
      "metadata": {
        "id": "T1CaFM_DeFly"
      },
      "source": [
        "# declare constraints\n",
        "model1.constr1 = Constraint(expr = model1.x1 + model1.x2 + model1.x3 + model1.x4 + model1.x5 + model1.x6 + model1.x7 <= 256)\n",
        "model1.constr2 = Constraint(expr = model1.x1 + model1.x2 + model1.x3 + model1.x4 + model1.x5 + model1.x6 + model1.x7 >= 256)\n",
        "\n",
        "model1.constr3 = Constraint(expr = -1*model1.x2 + model1.x3 >= 10)\n",
        "model1.constr4 = Constraint(expr = -3*model1.x1 + model1.x5 - 12*model1.x6 <= 105)\n",
        "model1.constr5 = Constraint(expr = 18.5*model1.x2 + 30.5*model1.x4 - model1.x7 >= 28)\n",
        "model1.constr6 = Constraint(expr = -1*model1.x3 - 4*model1.x5 + model1.x7 >= 31)\n",
        "model1.constr7 = Constraint(expr = model1.x1 >= -5)\n",
        "model1.constr8 = Constraint(expr = model1.x2 >= 0)\n",
        "model1.constr9 = Constraint(expr = model1.x3 >= 5)\n",
        "model1.constr10 = Constraint(expr = model1.x4 >= -3)\n",
        "model1.constr11 = Constraint(expr = model1.x5 >= -4)\n",
        "model1.constr12 = Constraint(expr = model1.x6 >= 0)\n",
        "model1.constr13 = Constraint(expr = model1.x7 >= 10)"
      ],
      "execution_count": 6,
      "outputs": []
    },
    {
      "cell_type": "code",
      "metadata": {
        "id": "hLjlmRD8eG_X",
        "colab": {
          "base_uri": "https://localhost:8080/"
        },
        "outputId": "93edfd14-94ef-4162-a973-4cf07df3ea46"
      },
      "source": [
        "model1.pprint()"
      ],
      "execution_count": 7,
      "outputs": [
        {
          "output_type": "stream",
          "name": "stdout",
          "text": [
            "7 Var Declarations\n",
            "    x1 : Size=1, Index=None\n",
            "        Key  : Lower : Value : Upper : Fixed : Stale : Domain\n",
            "        None :  None :  None :  None : False :  True :  Reals\n",
            "    x2 : Size=1, Index=None\n",
            "        Key  : Lower : Value : Upper : Fixed : Stale : Domain\n",
            "        None :  None :  None :  None : False :  True :  Reals\n",
            "    x3 : Size=1, Index=None\n",
            "        Key  : Lower : Value : Upper : Fixed : Stale : Domain\n",
            "        None :  None :  None :  None : False :  True :  Reals\n",
            "    x4 : Size=1, Index=None\n",
            "        Key  : Lower : Value : Upper : Fixed : Stale : Domain\n",
            "        None :  None :  None :  None : False :  True :  Reals\n",
            "    x5 : Size=1, Index=None\n",
            "        Key  : Lower : Value : Upper : Fixed : Stale : Domain\n",
            "        None :  None :  None :  None : False :  True :  Reals\n",
            "    x6 : Size=1, Index=None\n",
            "        Key  : Lower : Value : Upper : Fixed : Stale : Domain\n",
            "        None :  None :  None :  None : False :  True :  Reals\n",
            "    x7 : Size=1, Index=None\n",
            "        Key  : Lower : Value : Upper : Fixed : Stale : Domain\n",
            "        None :  None :  None :  None : False :  True :  Reals\n",
            "\n",
            "1 Objective Declarations\n",
            "    cost : Size=1, Index=None, Active=True\n",
            "        Key  : Active : Sense    : Expression\n",
            "        None :   True : minimize : -3*x1 - 2*x2 + 8*x3 - 7*x4 + 0.19*x5 + 11*x6 + 20.2*x7\n",
            "\n",
            "13 Constraint Declarations\n",
            "    constr1 : Size=1, Index=None, Active=True\n",
            "        Key  : Lower : Body                             : Upper : Active\n",
            "        None :  -Inf : x1 + x2 + x3 + x4 + x5 + x6 + x7 : 256.0 :   True\n",
            "    constr10 : Size=1, Index=None, Active=True\n",
            "        Key  : Lower : Body : Upper : Active\n",
            "        None :  -3.0 :   x4 :  +Inf :   True\n",
            "    constr11 : Size=1, Index=None, Active=True\n",
            "        Key  : Lower : Body : Upper : Active\n",
            "        None :  -4.0 :   x5 :  +Inf :   True\n",
            "    constr12 : Size=1, Index=None, Active=True\n",
            "        Key  : Lower : Body : Upper : Active\n",
            "        None :   0.0 :   x6 :  +Inf :   True\n",
            "    constr13 : Size=1, Index=None, Active=True\n",
            "        Key  : Lower : Body : Upper : Active\n",
            "        None :  10.0 :   x7 :  +Inf :   True\n",
            "    constr2 : Size=1, Index=None, Active=True\n",
            "        Key  : Lower : Body                             : Upper : Active\n",
            "        None : 256.0 : x1 + x2 + x3 + x4 + x5 + x6 + x7 :  +Inf :   True\n",
            "    constr3 : Size=1, Index=None, Active=True\n",
            "        Key  : Lower : Body      : Upper : Active\n",
            "        None :  10.0 : - x2 + x3 :  +Inf :   True\n",
            "    constr4 : Size=1, Index=None, Active=True\n",
            "        Key  : Lower : Body               : Upper : Active\n",
            "        None :  -Inf : -3*x1 + x5 - 12*x6 : 105.0 :   True\n",
            "    constr5 : Size=1, Index=None, Active=True\n",
            "        Key  : Lower : Body                   : Upper : Active\n",
            "        None :  28.0 : 18.5*x2 + 30.5*x4 - x7 :  +Inf :   True\n",
            "    constr6 : Size=1, Index=None, Active=True\n",
            "        Key  : Lower : Body             : Upper : Active\n",
            "        None :  31.0 : - x3 - 4*x5 + x7 :  +Inf :   True\n",
            "    constr7 : Size=1, Index=None, Active=True\n",
            "        Key  : Lower : Body : Upper : Active\n",
            "        None :  -5.0 :   x1 :  +Inf :   True\n",
            "    constr8 : Size=1, Index=None, Active=True\n",
            "        Key  : Lower : Body : Upper : Active\n",
            "        None :   0.0 :   x2 :  +Inf :   True\n",
            "    constr9 : Size=1, Index=None, Active=True\n",
            "        Key  : Lower : Body : Upper : Active\n",
            "        None :   5.0 :   x3 :  +Inf :   True\n",
            "\n",
            "21 Declarations: x1 x2 x3 x4 x5 x6 x7 cost constr1 constr2 constr3 constr4 constr5 constr6 constr7 constr8 constr9 constr10 constr11 constr12 constr13\n"
          ]
        }
      ]
    },
    {
      "cell_type": "code",
      "metadata": {
        "id": "rhSG6IRMfclR",
        "colab": {
          "base_uri": "https://localhost:8080/"
        },
        "outputId": "995e678e-99ba-46a7-d3c0-3a620d2e6e4b"
      },
      "source": [
        "!apt-get install -y -qq glpk-utils"
      ],
      "execution_count": 8,
      "outputs": [
        {
          "output_type": "stream",
          "name": "stdout",
          "text": [
            "Selecting previously unselected package libsuitesparseconfig5:amd64.\n",
            "(Reading database ... 155673 files and directories currently installed.)\n",
            "Preparing to unpack .../libsuitesparseconfig5_1%3a5.1.2-2_amd64.deb ...\n",
            "Unpacking libsuitesparseconfig5:amd64 (1:5.1.2-2) ...\n",
            "Selecting previously unselected package libamd2:amd64.\n",
            "Preparing to unpack .../libamd2_1%3a5.1.2-2_amd64.deb ...\n",
            "Unpacking libamd2:amd64 (1:5.1.2-2) ...\n",
            "Selecting previously unselected package libcolamd2:amd64.\n",
            "Preparing to unpack .../libcolamd2_1%3a5.1.2-2_amd64.deb ...\n",
            "Unpacking libcolamd2:amd64 (1:5.1.2-2) ...\n",
            "Selecting previously unselected package libglpk40:amd64.\n",
            "Preparing to unpack .../libglpk40_4.65-1_amd64.deb ...\n",
            "Unpacking libglpk40:amd64 (4.65-1) ...\n",
            "Selecting previously unselected package glpk-utils.\n",
            "Preparing to unpack .../glpk-utils_4.65-1_amd64.deb ...\n",
            "Unpacking glpk-utils (4.65-1) ...\n",
            "Setting up libsuitesparseconfig5:amd64 (1:5.1.2-2) ...\n",
            "Setting up libcolamd2:amd64 (1:5.1.2-2) ...\n",
            "Setting up libamd2:amd64 (1:5.1.2-2) ...\n",
            "Setting up libglpk40:amd64 (4.65-1) ...\n",
            "Setting up glpk-utils (4.65-1) ...\n",
            "Processing triggers for libc-bin (2.27-3ubuntu1.3) ...\n",
            "Processing triggers for man-db (2.8.3-2ubuntu0.1) ...\n"
          ]
        }
      ]
    },
    {
      "cell_type": "code",
      "metadata": {
        "id": "Sq3CpPcCeIBC",
        "colab": {
          "base_uri": "https://localhost:8080/"
        },
        "outputId": "b4257a59-84c4-4b95-c235-3c7d05a5f5b9"
      },
      "source": [
        "SolverFactory('glpk', executable='/usr/bin/glpsol').solve(model1).write()"
      ],
      "execution_count": 9,
      "outputs": [
        {
          "output_type": "stream",
          "name": "stdout",
          "text": [
            "# ==========================================================\n",
            "# = Solver Results                                         =\n",
            "# ==========================================================\n",
            "# ----------------------------------------------------------\n",
            "#   Problem Information\n",
            "# ----------------------------------------------------------\n",
            "Problem: \n",
            "- Name: unknown\n",
            "  Lower bound: -1010.76\n",
            "  Upper bound: -1010.76\n",
            "  Number of objectives: 1\n",
            "  Number of constraints: 14\n",
            "  Number of variables: 8\n",
            "  Number of nonzeros: 33\n",
            "  Sense: minimize\n",
            "# ----------------------------------------------------------\n",
            "#   Solver Information\n",
            "# ----------------------------------------------------------\n",
            "Solver: \n",
            "- Status: ok\n",
            "  Termination condition: optimal\n",
            "  Statistics: \n",
            "    Branch and bound: \n",
            "      Number of bounded subproblems: 0\n",
            "      Number of created subproblems: 0\n",
            "  Error rc: 0\n",
            "  Time: 0.011990070343017578\n",
            "# ----------------------------------------------------------\n",
            "#   Solution Information\n",
            "# ----------------------------------------------------------\n",
            "Solution: \n",
            "- number of solutions: 0\n",
            "  number of solutions displayed: 0\n"
          ]
        }
      ]
    },
    {
      "cell_type": "code",
      "metadata": {
        "id": "WQZHDR3afKj5",
        "colab": {
          "base_uri": "https://localhost:8080/"
        },
        "outputId": "1a7065d3-cf67-4463-bb73-e8df67c5f221"
      },
      "source": [
        "# display solution\n",
        "print('/nExercise1 (3)')\n",
        "print('\\nCost = ', model1.cost())\n",
        "\n",
        "print('\\nDecision Variables')\n",
        "print('x1 = ', model1.x1())\n",
        "print('x2 = ', model1.x2())\n",
        "print('x3 = ', model1.x3())\n",
        "print('x4 = ', model1.x4())\n",
        "print('x5 = ', model1.x5())\n",
        "print('x6 = ', model1.x6())\n",
        "print('x7 = ', model1.x7())\n",
        "\n",
        "print('\\nConstraints')\n",
        "print('Constraint 1  = ', model1.constr1())\n",
        "print('Constraint 2  = ', model1.constr2())\n",
        "print('Constraint 3  = ', model1.constr3())\n",
        "print('Constraint 4  = ', model1.constr4())\n",
        "print('Constraint 5  = ', model1.constr5())\n",
        "print('Constraint 6  = ', model1.constr6())\n",
        "print('Constraint 7  = ', model1.constr7())\n",
        "print('Constraint 8  = ', model1.constr8())\n",
        "print('Constraint 9  = ', model1.constr9())\n",
        "print('Constraint 10  = ', model1.constr10())\n",
        "print('Constraint 11 = ', model1.constr11())\n",
        "print('Constraint 12 = ', model1.constr12())\n",
        "print('Constraint 13  = ', model1.constr13())"
      ],
      "execution_count": 10,
      "outputs": [
        {
          "output_type": "stream",
          "name": "stdout",
          "text": [
            "/nExercise1 (3)\n",
            "\n",
            "Cost =  -1010.760000000002\n",
            "\n",
            "Decision Variables\n",
            "x1 =  -5.0\n",
            "x2 =  0.0\n",
            "x3 =  10.0\n",
            "x4 =  230.0\n",
            "x5 =  -4.0\n",
            "x6 =  0.0\n",
            "x7 =  24.9999999999999\n",
            "\n",
            "Constraints\n",
            "Constraint 1  =  255.9999999999999\n",
            "Constraint 2  =  255.9999999999999\n",
            "Constraint 3  =  10.0\n",
            "Constraint 4  =  11.0\n",
            "Constraint 5  =  6990.0\n",
            "Constraint 6  =  30.9999999999999\n",
            "Constraint 7  =  -5.0\n",
            "Constraint 8  =  0.0\n",
            "Constraint 9  =  10.0\n",
            "Constraint 10  =  230.0\n",
            "Constraint 11 =  -4.0\n",
            "Constraint 12 =  0.0\n",
            "Constraint 13  =  24.9999999999999\n"
          ]
        }
      ]
    },
    {
      "cell_type": "markdown",
      "source": [
        "Exercise1 (4)-> \n",
        "\n",
        "constraint1 \n",
        "\n",
        "x1 + x2 + x3 + x4 + x5 + x6 + x7 = 256 is Active \n",
        "because L.H.S is -5+0+10+230-4+0+24 = 256 = R.H.S\n",
        "\n",
        "constraint3\n",
        "\n",
        "-x2+x3 >=10 is Active\n",
        "because L.H.S is -(0)+(10) = 10 = R.H.S\n",
        "\n",
        "constraints4\n",
        "\n",
        "-3x1+x5-12x6<=105  is Inactive\n",
        "because L.H.S is -3(-5)+(-4)-12(0) = 11 != R.H.S\n",
        "\n",
        "constraints5\n",
        "\n",
        "18.5x2+30.5x4-x7 >= 28 is inactive\n",
        "because L.H.S is 18.5(0)+30.5(230)-(-5) = 6990 != R.H.S\n",
        "\n",
        "constraints6\n",
        "\n",
        "-x3-4x5+x7>= 31 is Active\n",
        "because L.H.S is -(10)-4(-4)+(25) = 31 = R.H.S\n"
      ],
      "metadata": {
        "id": "eolnf0rHIFEI"
      }
    },
    {
      "cell_type": "markdown",
      "source": [
        "Exercise 2 Solution"
      ],
      "metadata": {
        "id": "eWetXRo9NdCj"
      }
    },
    {
      "cell_type": "markdown",
      "source": [
        "$ \\max \\ \\ 0.08x_1+0.036x_2+0.0156x_3+0.033x_4+0.054x_5+0.0125y \\\\ \\textbf{s.t.} \\ \\ 3x_1-3x_2+5x_3-x_4+x_5-y\\leq 180 \\\\ \\ \\ \\ x_3+2x_4+4y\\geq 30 \\\\ \\ \\ 3x_1+3.6x_2-1.5x_3+5.6x_4-1.8x_5+6x_6<=0 \\\\ \\ 7x_1-2x_2-3x_3+4x_4+5x_5-6x_6+12y<=0 \\\\ \\ x_1,x_2,x_3,x_4,x_5,x_6,\\geq 0 \\\\ \\ y\\in \\ [-0.2,5.5] $"
      ],
      "metadata": {
        "id": "ep-FXrvlhGV7"
      }
    },
    {
      "cell_type": "code",
      "source": [
        "!pip install -q pyomo"
      ],
      "metadata": {
        "id": "A5Ooq9nGOiNt"
      },
      "execution_count": 11,
      "outputs": []
    },
    {
      "cell_type": "code",
      "source": [
        "from pyomo.environ import *"
      ],
      "metadata": {
        "id": "SYC5MCLAOn07"
      },
      "execution_count": 12,
      "outputs": []
    },
    {
      "cell_type": "code",
      "source": [
        "model2 = ConcreteModel()"
      ],
      "metadata": {
        "id": "vv30gJLUJHZA"
      },
      "execution_count": 13,
      "outputs": []
    },
    {
      "cell_type": "code",
      "source": [
        "model2.x1 = Var(within=NonNegativeReals)\n",
        "model2.x2 = Var(within=NonNegativeReals)\n",
        "model2.x3 = Var(within=NonNegativeReals)\n",
        "model2.x4 = Var(within=NonNegativeReals)\n",
        "model2.x5 = Var(within=NonNegativeReals)\n",
        "model2.x6 = Var(within=NonNegativeReals)\n",
        "model2.y = Var(domain=Reals)"
      ],
      "metadata": {
        "id": "eF0G_5dwOMHr"
      },
      "execution_count": 14,
      "outputs": []
    },
    {
      "cell_type": "code",
      "source": [
        "model2.cost = Objective(expr = 0.082*model2.x1 + 0.036*model2.x2 + 0.0156*model2.x3 + 0.033*model2.x4 + 0.0125*model2.y, sense=maximize)"
      ],
      "metadata": {
        "id": "IVSdVZHBPMzS"
      },
      "execution_count": 15,
      "outputs": []
    },
    {
      "cell_type": "code",
      "source": [
        "model2.constr1 = Constraint(expr = 3*model2.x1 - 3*model2.x2 + 5*model2.x3 - model2.x4 + model2.x5 - model2.y <= 80)\n",
        "model2.constr2 = Constraint(expr = model2.x3 + 2*model2.x4 + 4*model2.y >= 30)\n",
        "\n",
        "model2.constr3 = Constraint(expr = 3*model2.x1 + 3.6*model2.x2 -1.5*model2.x3 + 5.6*model2.x4 - 1.8*model2.x5 + 6*model2.x6 <= 0)\n",
        "model2.constr4 = Constraint(expr = 7*model2.x1 - 2*model2.x2 - 3*model2.x3 + 4*model2.x4 + 5*model2.x5 - 6*model2.x6 + 12*model2.y <= 0)\n",
        "\n",
        "model2.constr5 = Constraint(expr = model2.y <= 5.5)\n",
        "model2.constr6 = Constraint(expr = model2.y >= -0.2)\n"
      ],
      "metadata": {
        "id": "TqNpNij2P2qb"
      },
      "execution_count": 16,
      "outputs": []
    },
    {
      "cell_type": "code",
      "source": [
        "model2.pprint()"
      ],
      "metadata": {
        "colab": {
          "base_uri": "https://localhost:8080/"
        },
        "id": "xczXpqA1TzsH",
        "outputId": "768006ab-3835-46e3-8194-01e9238831c8"
      },
      "execution_count": 17,
      "outputs": [
        {
          "output_type": "stream",
          "name": "stdout",
          "text": [
            "7 Var Declarations\n",
            "    x1 : Size=1, Index=None\n",
            "        Key  : Lower : Value : Upper : Fixed : Stale : Domain\n",
            "        None :     0 :  None :  None : False :  True : NonNegativeReals\n",
            "    x2 : Size=1, Index=None\n",
            "        Key  : Lower : Value : Upper : Fixed : Stale : Domain\n",
            "        None :     0 :  None :  None : False :  True : NonNegativeReals\n",
            "    x3 : Size=1, Index=None\n",
            "        Key  : Lower : Value : Upper : Fixed : Stale : Domain\n",
            "        None :     0 :  None :  None : False :  True : NonNegativeReals\n",
            "    x4 : Size=1, Index=None\n",
            "        Key  : Lower : Value : Upper : Fixed : Stale : Domain\n",
            "        None :     0 :  None :  None : False :  True : NonNegativeReals\n",
            "    x5 : Size=1, Index=None\n",
            "        Key  : Lower : Value : Upper : Fixed : Stale : Domain\n",
            "        None :     0 :  None :  None : False :  True : NonNegativeReals\n",
            "    x6 : Size=1, Index=None\n",
            "        Key  : Lower : Value : Upper : Fixed : Stale : Domain\n",
            "        None :     0 :  None :  None : False :  True : NonNegativeReals\n",
            "    y : Size=1, Index=None\n",
            "        Key  : Lower : Value : Upper : Fixed : Stale : Domain\n",
            "        None :  None :  None :  None : False :  True :  Reals\n",
            "\n",
            "1 Objective Declarations\n",
            "    cost : Size=1, Index=None, Active=True\n",
            "        Key  : Active : Sense    : Expression\n",
            "        None :   True : maximize : 0.082*x1 + 0.036*x2 + 0.0156*x3 + 0.033*x4 + 0.0125*y\n",
            "\n",
            "6 Constraint Declarations\n",
            "    constr1 : Size=1, Index=None, Active=True\n",
            "        Key  : Lower : Body                             : Upper : Active\n",
            "        None :  -Inf : 3*x1 - 3*x2 + 5*x3 - x4 + x5 - y :  80.0 :   True\n",
            "    constr2 : Size=1, Index=None, Active=True\n",
            "        Key  : Lower : Body            : Upper : Active\n",
            "        None :  30.0 : x3 + 2*x4 + 4*y :  +Inf :   True\n",
            "    constr3 : Size=1, Index=None, Active=True\n",
            "        Key  : Lower : Body                                            : Upper : Active\n",
            "        None :  -Inf : 3*x1 + 3.6*x2 - 1.5*x3 + 5.6*x4 - 1.8*x5 + 6*x6 :   0.0 :   True\n",
            "    constr4 : Size=1, Index=None, Active=True\n",
            "        Key  : Lower : Body                                           : Upper : Active\n",
            "        None :  -Inf : 7*x1 - 2*x2 - 3*x3 + 4*x4 + 5*x5 - 6*x6 + 12*y :   0.0 :   True\n",
            "    constr5 : Size=1, Index=None, Active=True\n",
            "        Key  : Lower : Body : Upper : Active\n",
            "        None :  -Inf :    y :   5.5 :   True\n",
            "    constr6 : Size=1, Index=None, Active=True\n",
            "        Key  : Lower : Body : Upper : Active\n",
            "        None :  -0.2 :    y :  +Inf :   True\n",
            "\n",
            "14 Declarations: x1 x2 x3 x4 x5 x6 y cost constr1 constr2 constr3 constr4 constr5 constr6\n"
          ]
        }
      ]
    },
    {
      "cell_type": "code",
      "source": [
        "!apt-get install -y -qq glpk-utils"
      ],
      "metadata": {
        "id": "C8B0emWXT3rI"
      },
      "execution_count": 18,
      "outputs": []
    },
    {
      "cell_type": "code",
      "source": [
        "SolverFactory('glpk', executable='/usr/bin/glpsol').solve(model2).write()"
      ],
      "metadata": {
        "colab": {
          "base_uri": "https://localhost:8080/"
        },
        "id": "lHdxBVQKUWt0",
        "outputId": "3afeddf0-4031-4d5e-d2fb-1cf089eb2bca"
      },
      "execution_count": 19,
      "outputs": [
        {
          "output_type": "stream",
          "name": "stdout",
          "text": [
            "# ==========================================================\n",
            "# = Solver Results                                         =\n",
            "# ==========================================================\n",
            "# ----------------------------------------------------------\n",
            "#   Problem Information\n",
            "# ----------------------------------------------------------\n",
            "Problem: \n",
            "- Name: unknown\n",
            "  Lower bound: 1.10003145695364\n",
            "  Upper bound: 1.10003145695364\n",
            "  Number of objectives: 1\n",
            "  Number of constraints: 7\n",
            "  Number of variables: 8\n",
            "  Number of nonzeros: 25\n",
            "  Sense: maximize\n",
            "# ----------------------------------------------------------\n",
            "#   Solver Information\n",
            "# ----------------------------------------------------------\n",
            "Solver: \n",
            "- Status: ok\n",
            "  Termination condition: optimal\n",
            "  Statistics: \n",
            "    Branch and bound: \n",
            "      Number of bounded subproblems: 0\n",
            "      Number of created subproblems: 0\n",
            "  Error rc: 0\n",
            "  Time: 0.023319721221923828\n",
            "# ----------------------------------------------------------\n",
            "#   Solution Information\n",
            "# ----------------------------------------------------------\n",
            "Solution: \n",
            "- number of solutions: 0\n",
            "  number of solutions displayed: 0\n"
          ]
        }
      ]
    },
    {
      "cell_type": "code",
      "source": [
        "print('/nExercise2 (3)')\n",
        "print('\\nCost = ', model2.cost())\n",
        "\n",
        "print('\\nDecision Variables')\n",
        "print('x1 = ', model2.x1())\n",
        "print('x2 = ', model2.x2())\n",
        "print('x3 = ', model2.x3())\n",
        "print('x4 = ', model2.x4())\n",
        "print('x5 = ', model2.x5())\n",
        "print('x6 = ', model2.x6())\n",
        "print('y = ', model2.y())\n",
        "\n",
        "print('\\nConstraints')\n",
        "print('Constraint 1  = ', model2.constr1())\n",
        "print('Constraint 2  = ', model2.constr2())\n",
        "print('Constraint 3  = ', model2.constr3())\n",
        "print('Constraint 4  = ', model2.constr4())\n",
        "print('Constraint 5  = ', model2.constr5())\n",
        "print('Constraint 6  = ', model2.constr6())"
      ],
      "metadata": {
        "colab": {
          "base_uri": "https://localhost:8080/"
        },
        "id": "h5uuJZP7UdIW",
        "outputId": "a1f56144-70f1-4598-d922-46538431a217"
      },
      "execution_count": 20,
      "outputs": [
        {
          "output_type": "stream",
          "name": "stdout",
          "text": [
            "/nExercise2 (3)\n",
            "\n",
            "Cost =  1.1000314569536414\n",
            "\n",
            "Decision Variables\n",
            "x1 =  0.0\n",
            "x2 =  19.5529801324503\n",
            "x3 =  24.2384105960265\n",
            "x4 =  0.0\n",
            "x5 =  18.9072847682119\n",
            "x6 =  0.0\n",
            "y =  1.44039735099338\n",
            "\n",
            "Constraints\n",
            "Constraint 1  =  80.00000000000011\n",
            "Constraint 2  =  30.00000000000002\n",
            "Constraint 3  =  -9.237055564881302e-14\n",
            "Constraint 4  =  -6.039613253960852e-14\n",
            "Constraint 5  =  1.44039735099338\n",
            "Constraint 6  =  1.44039735099338\n"
          ]
        }
      ]
    },
    {
      "cell_type": "markdown",
      "source": [
        "Exercise2 (3) ->\n",
        "\n",
        "constraints 1\n",
        "\n",
        "3x1 − 3x2 + 5x3 − x4 + x5 − y ≤ 80 is Active \n",
        "because L.H.S is 3(0)-3(19.55)+5(24.23)-(0)+(18)-(1.44) = 80 = R.H.S\n",
        "\n",
        "constraints 2\n",
        "\n",
        "x3 + 2x4 + 4y ≥ 30 is Active \n",
        "because L.H.S is (24.23) + 2(0) + 4(1.44) = 30 = R.H.S\n",
        "\n",
        "constraints 3 is inactive beacuse L.H.L $ \\\\ \\neq $ R.H.S\n",
        "\n",
        "constraints 4 is inactive beacuse L.H.L $ \\\\ \\neq $ R.H.S\n",
        "\n",
        "constraints 5 is inactive beacuse L.H.L $ \\\\ \\neq $ R.H.S"
      ],
      "metadata": {
        "id": "URl1rxi9b_rn"
      }
    },
    {
      "cell_type": "markdown",
      "source": [
        "I take two assumption in this question.\n",
        "one is -x2-x4+x4 > 0 and second is -x1 + x3 + x6 -2y\n",
        "\n",
        "after solving this problem by solver factory glpk , \n",
        "\n",
        "2nd assumption is satisfied but 1st assumption is not.\n"
      ],
      "metadata": {
        "id": "JVW-H_jXirlh"
      }
    },
    {
      "cell_type": "markdown",
      "source": [
        "Exerice 3 Solution"
      ],
      "metadata": {
        "id": "TW5gKPj6W5vN"
      }
    },
    {
      "cell_type": "markdown",
      "source": [
        "Exercise3 (1) ->\n",
        "\n",
        "$ \\text{Let How much Kg product P produce}= y_1 \\\\\n",
        "\\ \\ \\ \\ \\ \\ \\text{How much Kg product Q produce} = y_2 \\\\ \n",
        "  \\\\\n",
        " \\text{min} \\ 1200y_1+2580y_2 \\\\ \\text{s.t.} \\ \\ y_1 + y_2 >= 145 \\\\ 2.18y_1 + \\frac{13}{12}y_2<=980 \\\\ y_1 >= 105 \\\\ y_2>=125 $"
      ],
      "metadata": {
        "id": "KhXIrJ3u70lN"
      }
    },
    {
      "cell_type": "code",
      "source": [
        "!pip install -q pyomo"
      ],
      "metadata": {
        "id": "weY5ScZVW3D1"
      },
      "execution_count": 21,
      "outputs": []
    },
    {
      "cell_type": "code",
      "source": [
        "from pyomo.environ import *"
      ],
      "metadata": {
        "id": "gmOOdYE9aizj"
      },
      "execution_count": 22,
      "outputs": []
    },
    {
      "cell_type": "code",
      "source": [
        "model3 = ConcreteModel()"
      ],
      "metadata": {
        "id": "BiMoR44ManB4"
      },
      "execution_count": 23,
      "outputs": []
    },
    {
      "cell_type": "code",
      "source": [
        "model3.y1 = Var(domain=Reals)\n",
        "model3.y2 = Var(domain=Reals)"
      ],
      "metadata": {
        "id": "X9v7Ci3Iat5c"
      },
      "execution_count": 24,
      "outputs": []
    },
    {
      "cell_type": "code",
      "source": [
        "model3.objective = Objective(expr = 1200*model3.y1+2580*model3.y2,sense=minimize)"
      ],
      "metadata": {
        "id": "MkTMlpFeGKvM"
      },
      "execution_count": 25,
      "outputs": []
    },
    {
      "cell_type": "code",
      "source": [
        "model3.cons1 = Constraint(expr = model3.y1 + model3.y2 >= 145)\n",
        "model3.cons2 = Constraint(expr = 2.18*model3.y1+(13/12)*model3.y2<=11760)\n",
        "model3.cons3 = Constraint(expr = model3.y1>=105)\n",
        "model3.cons4 = Constraint(expr = model3.y2>=125)"
      ],
      "metadata": {
        "id": "EPIx9g3L8pGI"
      },
      "execution_count": 26,
      "outputs": []
    },
    {
      "cell_type": "code",
      "source": [
        "model3.pprint()"
      ],
      "metadata": {
        "colab": {
          "base_uri": "https://localhost:8080/"
        },
        "id": "w4NqCXsnT5AS",
        "outputId": "fe07f5d2-e477-4d53-8428-9f3ff2e841bc"
      },
      "execution_count": 27,
      "outputs": [
        {
          "output_type": "stream",
          "name": "stdout",
          "text": [
            "2 Var Declarations\n",
            "    y1 : Size=1, Index=None\n",
            "        Key  : Lower : Value : Upper : Fixed : Stale : Domain\n",
            "        None :  None :  None :  None : False :  True :  Reals\n",
            "    y2 : Size=1, Index=None\n",
            "        Key  : Lower : Value : Upper : Fixed : Stale : Domain\n",
            "        None :  None :  None :  None : False :  True :  Reals\n",
            "\n",
            "1 Objective Declarations\n",
            "    objective : Size=1, Index=None, Active=True\n",
            "        Key  : Active : Sense    : Expression\n",
            "        None :   True : minimize : 1200*y1 + 2580*y2\n",
            "\n",
            "4 Constraint Declarations\n",
            "    cons1 : Size=1, Index=None, Active=True\n",
            "        Key  : Lower : Body    : Upper : Active\n",
            "        None : 145.0 : y1 + y2 :  +Inf :   True\n",
            "    cons2 : Size=1, Index=None, Active=True\n",
            "        Key  : Lower : Body                            : Upper   : Active\n",
            "        None :  -Inf : 2.18*y1 + 1.0833333333333333*y2 : 11760.0 :   True\n",
            "    cons3 : Size=1, Index=None, Active=True\n",
            "        Key  : Lower : Body : Upper : Active\n",
            "        None : 105.0 :   y1 :  +Inf :   True\n",
            "    cons4 : Size=1, Index=None, Active=True\n",
            "        Key  : Lower : Body : Upper : Active\n",
            "        None : 125.0 :   y2 :  +Inf :   True\n",
            "\n",
            "7 Declarations: y1 y2 objective cons1 cons2 cons3 cons4\n"
          ]
        }
      ]
    },
    {
      "cell_type": "code",
      "source": [
        "!apt-get install -y -qq glpk-utils"
      ],
      "metadata": {
        "id": "qlIVECSv8znv"
      },
      "execution_count": 28,
      "outputs": []
    },
    {
      "cell_type": "code",
      "source": [
        "SolverFactory('glpk', executable='/usr/bin/glpsol').solve(model3).write()"
      ],
      "metadata": {
        "colab": {
          "base_uri": "https://localhost:8080/"
        },
        "id": "I5iEeyX_81p7",
        "outputId": "078023d4-1d3b-4a36-ae4f-c6651ad6b73d"
      },
      "execution_count": 29,
      "outputs": [
        {
          "output_type": "stream",
          "name": "stdout",
          "text": [
            "# ==========================================================\n",
            "# = Solver Results                                         =\n",
            "# ==========================================================\n",
            "# ----------------------------------------------------------\n",
            "#   Problem Information\n",
            "# ----------------------------------------------------------\n",
            "Problem: \n",
            "- Name: unknown\n",
            "  Lower bound: 448500.0\n",
            "  Upper bound: 448500.0\n",
            "  Number of objectives: 1\n",
            "  Number of constraints: 5\n",
            "  Number of variables: 3\n",
            "  Number of nonzeros: 7\n",
            "  Sense: minimize\n",
            "# ----------------------------------------------------------\n",
            "#   Solver Information\n",
            "# ----------------------------------------------------------\n",
            "Solver: \n",
            "- Status: ok\n",
            "  Termination condition: optimal\n",
            "  Statistics: \n",
            "    Branch and bound: \n",
            "      Number of bounded subproblems: 0\n",
            "      Number of created subproblems: 0\n",
            "  Error rc: 0\n",
            "  Time: 0.013638734817504883\n",
            "# ----------------------------------------------------------\n",
            "#   Solution Information\n",
            "# ----------------------------------------------------------\n",
            "Solution: \n",
            "- number of solutions: 0\n",
            "  number of solutions displayed: 0\n"
          ]
        }
      ]
    },
    {
      "cell_type": "code",
      "source": [
        "print('/nExercise3 (2)')\n",
        "print('\\nCost = ', model3.objective())\n",
        "\n",
        "print('\\nDecision Variables')\n",
        "print('y1 = ', model3.y1())\n",
        "print('y2 = ', model3.y2())\n",
        "\n",
        "print('\\nConstraints')\n",
        "print('Constraint 1  = ', model3.cons1())\n",
        "print('Constraint 2  = ', model3.cons2())\n",
        "print('Constraint 3  = ', model3.cons3())\n",
        "print('Constraint 4  = ', model3.cons4())"
      ],
      "metadata": {
        "colab": {
          "base_uri": "https://localhost:8080/"
        },
        "id": "0L5Af0eV85K-",
        "outputId": "5fcda398-9c54-4ad8-b652-2b0b4ee83e7c"
      },
      "execution_count": 30,
      "outputs": [
        {
          "output_type": "stream",
          "name": "stdout",
          "text": [
            "/nExercise3 (2)\n",
            "\n",
            "Cost =  448500.0\n",
            "\n",
            "Decision Variables\n",
            "y1 =  105.0\n",
            "y2 =  125.0\n",
            "\n",
            "Constraints\n",
            "Constraint 1  =  230.0\n",
            "Constraint 2  =  364.31666666666666\n",
            "Constraint 3  =  105.0\n",
            "Constraint 4  =  125.0\n"
          ]
        }
      ]
    },
    {
      "cell_type": "markdown",
      "source": [
        "$Activities \\ \\ of  \\ \\ all \\ \\ constraints$\n",
        "\n",
        "$Constraints 1$\n",
        "\n",
        "$y_1 + y_2 >= 145 $ is inactive because L.H.S is 105 + 125 $ \\\\ \\neq 145 $ = R.H.S\n",
        "\n",
        "$Constraints 2$\n",
        "\n",
        "$ 2.18y_1 + \\frac{13}{12}y_2<=980 $ is inactive because L.H.S  $= 2.18(105) +  \\frac{13}{12}(124)  \\neq 980 = $ R.H.S\n",
        "\n",
        "$Constraints 3$\n",
        "\n",
        "$ y_1 >= 105 $ is active beacuse L.H.S = $y_1$ = 105 = R.H.S\n",
        "\n",
        "$Constraints 4$\n",
        "\n",
        "$y_2>=125$ is Active because L.H.S = y_2 = 125 = R.H.S"
      ],
      "metadata": {
        "id": "vSNVcF9iA_YM"
      }
    },
    {
      "cell_type": "markdown",
      "source": [
        "$ \\textbf{ Exercise3 (4) Solution-> }  \\\\\n",
        "$\n"
      ],
      "metadata": {
        "id": "lHjNUxnCIiza"
      }
    },
    {
      "cell_type": "markdown",
      "source": [
        "$ \\text{Let How much Kg product P produce}= y_1 \\\\\n",
        "\\ \\ \\ \\ \\ \\ \\text{How much Kg product Q produce} = y_2 \\\\ \n",
        "  \\\\\n",
        " \\text{min} \\ 1200y_1+2580y_2 \\\\ \\text{s.t.} \\ \\ y_1 + y_2 >= 145 \\\\ 2.18y_1 + \\frac{13}{12}y_2<=980 \\\\ y_1 >= 147 \\\\ y_2>=222 $"
      ],
      "metadata": {
        "id": "xKaaS1QiJVB9"
      }
    },
    {
      "cell_type": "markdown",
      "source": [
        "Demand of y1 and y2 changed from 105 to 147 and 125 to 222."
      ],
      "metadata": {
        "id": "0hUCjbOFWHfx"
      }
    },
    {
      "cell_type": "code",
      "source": [
        "!pip install -q pyomo"
      ],
      "metadata": {
        "id": "dfqpUImT9DA6"
      },
      "execution_count": 31,
      "outputs": []
    },
    {
      "cell_type": "code",
      "source": [
        "from pyomo.environ import *"
      ],
      "metadata": {
        "id": "cR-qpINKJjrL"
      },
      "execution_count": 32,
      "outputs": []
    },
    {
      "cell_type": "code",
      "source": [
        "model4 = ConcreteModel()"
      ],
      "metadata": {
        "id": "RW4_audPJpBz"
      },
      "execution_count": 33,
      "outputs": []
    },
    {
      "cell_type": "code",
      "source": [
        "model4.y1 = Var(domain=Reals)\n",
        "model4.y2 = Var(domain=Reals)"
      ],
      "metadata": {
        "id": "LEkIbjbCJxo7"
      },
      "execution_count": 34,
      "outputs": []
    },
    {
      "cell_type": "code",
      "source": [
        "model4.objective = Objective(expr = 1200*model4.y1+2580*model4.y2,sense=minimize)"
      ],
      "metadata": {
        "id": "XJPlM8YsJ7Yv"
      },
      "execution_count": 35,
      "outputs": []
    },
    {
      "cell_type": "code",
      "source": [
        "model4.cons1 = Constraint(expr = model4.y1 + model4.y2 >= 145)\n",
        "model4.cons2 = Constraint(expr = 2.18*model4.y1+(13/12)*model4.y2<=11760)\n",
        "model4.cons3 = Constraint(expr = model4.y1>=147)\n",
        "model4.cons4 = Constraint(expr = model4.y2>=222)"
      ],
      "metadata": {
        "id": "HyJOgUpTKHMj"
      },
      "execution_count": 36,
      "outputs": []
    },
    {
      "cell_type": "code",
      "source": [
        "!apt-get install -y -qq glpk-utils"
      ],
      "metadata": {
        "id": "TIzCOuU1KVuq"
      },
      "execution_count": 37,
      "outputs": []
    },
    {
      "cell_type": "code",
      "source": [
        "SolverFactory('glpk', executable='/usr/bin/glpsol').solve(model4).write()"
      ],
      "metadata": {
        "colab": {
          "base_uri": "https://localhost:8080/"
        },
        "id": "rgj7IEqJKcD5",
        "outputId": "b94d8bef-d5b4-4a99-aad9-97c88e097062"
      },
      "execution_count": 38,
      "outputs": [
        {
          "output_type": "stream",
          "name": "stdout",
          "text": [
            "# ==========================================================\n",
            "# = Solver Results                                         =\n",
            "# ==========================================================\n",
            "# ----------------------------------------------------------\n",
            "#   Problem Information\n",
            "# ----------------------------------------------------------\n",
            "Problem: \n",
            "- Name: unknown\n",
            "  Lower bound: 749160.0\n",
            "  Upper bound: 749160.0\n",
            "  Number of objectives: 1\n",
            "  Number of constraints: 5\n",
            "  Number of variables: 3\n",
            "  Number of nonzeros: 7\n",
            "  Sense: minimize\n",
            "# ----------------------------------------------------------\n",
            "#   Solver Information\n",
            "# ----------------------------------------------------------\n",
            "Solver: \n",
            "- Status: ok\n",
            "  Termination condition: optimal\n",
            "  Statistics: \n",
            "    Branch and bound: \n",
            "      Number of bounded subproblems: 0\n",
            "      Number of created subproblems: 0\n",
            "  Error rc: 0\n",
            "  Time: 0.02141547203063965\n",
            "# ----------------------------------------------------------\n",
            "#   Solution Information\n",
            "# ----------------------------------------------------------\n",
            "Solution: \n",
            "- number of solutions: 0\n",
            "  number of solutions displayed: 0\n"
          ]
        }
      ]
    },
    {
      "cell_type": "code",
      "source": [
        "print('/nExercise3 (6)')\n",
        "\n",
        "print('\\nCost = ', model4.objective())\n",
        "\n",
        "print('\\nDecision Variables')\n",
        "print('y1 = ', model4.y1())\n",
        "print('y2 = ', model4.y2())\n",
        "\n",
        "print('\\nConstraints')\n",
        "print('Constraint 1  = ', model4.cons1())\n",
        "print('Constraint 2  = ', model4.cons2())\n",
        "print('Constraint 3  = ', model4.cons3())\n",
        "print('Constraint 4  = ', model4.cons4())"
      ],
      "metadata": {
        "colab": {
          "base_uri": "https://localhost:8080/"
        },
        "id": "U0H1oKhvKh8D",
        "outputId": "8da5f287-3c1a-4e66-c4e9-8e595946e701"
      },
      "execution_count": 39,
      "outputs": [
        {
          "output_type": "stream",
          "name": "stdout",
          "text": [
            "/nExercise3 (6)\n",
            "\n",
            "Cost =  749160.0\n",
            "\n",
            "Decision Variables\n",
            "y1 =  147.0\n",
            "y2 =  222.0\n",
            "\n",
            "Constraints\n",
            "Constraint 1  =  369.0\n",
            "Constraint 2  =  560.96\n",
            "Constraint 3  =  147.0\n",
            "Constraint 4  =  222.0\n"
          ]
        }
      ]
    },
    {
      "cell_type": "markdown",
      "source": [
        "$Exercise3 (6) ->$\n",
        "\n",
        "$Activities of all constraints$\n",
        "\n",
        "$Constraints 1$\n",
        "\n",
        "$y_1 + y_2 >= 145 $ is inactive because L.H.S is 147 + 222 $ \\\\ \\neq 145 $ = R.H.S\n",
        "\n",
        "$Constraints 2$\n",
        "\n",
        "$ 2.18y_1 + \\frac{13}{12}y_2<=980 $ is inactive because L.H.S  $= 2.18(147) +  \\frac{13}{12}(222)  \\neq 980 = $ R.H.S\n",
        "\n",
        "$Constraints 3$\n",
        "\n",
        "$ y_1 >= 105 $ is active beacuse L.H.S = $y_1$ = 147 = R.H.S\n",
        "\n",
        "$Constraints 4$\n",
        "\n",
        "$y_2>=125$ is Active because L.H.S = y_2 = 222 = R.H.S"
      ],
      "metadata": {
        "id": "_GOlVQ84SXkK"
      }
    },
    {
      "cell_type": "markdown",
      "source": [
        "In jen industries receive another order from different customer, \n",
        "after incresing demad minimise the total production cost.\n",
        "after the soltion, cost price increase. \n",
        "for production y1 = 147  and y2 = 222 requires minimum cost is 749160"
      ],
      "metadata": {
        "id": "XqVCRJ75XZo5"
      }
    },
    {
      "cell_type": "markdown",
      "source": [
        "I advise jen industries about the new requirement is for requred y1 and y2 product, minimum cost is 749160"
      ],
      "metadata": {
        "id": "mHeOYQtebPq2"
      }
    },
    {
      "cell_type": "code",
      "source": [
        ""
      ],
      "metadata": {
        "id": "kZi6ZMyhKplO"
      },
      "execution_count": 39,
      "outputs": []
    }
  ]
}