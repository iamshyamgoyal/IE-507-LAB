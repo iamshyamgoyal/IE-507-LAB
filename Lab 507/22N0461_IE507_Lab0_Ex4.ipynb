{
  "nbformat": 4,
  "nbformat_minor": 0,
  "metadata": {
    "colab": {
      "name": "Untitled3.ipynb",
      "provenance": []
    },
    "kernelspec": {
      "name": "python3",
      "display_name": "Python 3"
    },
    "language_info": {
      "name": "python"
    }
  },
  "cells": [
    {
      "cell_type": "markdown",
      "source": [
        "$\\large{\\textbf{Exercise 4:}}$ Try to solve:\n",
        "\n",
        "$\\min \\ -z_1 + z_2 - z_3 - 4z_4 \\\\ \\text{ s.t. } z_1\\geq -5, z_2 \\geq 2, \\\\  z_1 +z_2-z_3 + z_4 \\leq 8 \\\\ -z_1 - z_2 + z_3 - 2 z_4 \\leq 100, \\\\ z_1+z_2 + 2z_3+z_4 \\leq -11$.  "
      ],
      "metadata": {
        "id": "fK-3gr1ThGVZ"
      }
    },
    {
      "cell_type": "code",
      "source": [
        "!pip install -q pyomo\n"
      ],
      "metadata": {
        "colab": {
          "base_uri": "https://localhost:8080/"
        },
        "id": "vSq7wgUqhH9U",
        "outputId": "277b4024-a2bf-422d-8a2a-fc5c7a010262"
      },
      "execution_count": null,
      "outputs": [
        {
          "output_type": "stream",
          "name": "stdout",
          "text": [
            "\u001b[K     |████████████████████████████████| 9.6 MB 5.4 MB/s \n",
            "\u001b[K     |████████████████████████████████| 49 kB 6.3 MB/s \n",
            "\u001b[?25h"
          ]
        }
      ]
    },
    {
      "cell_type": "code",
      "source": [
        "from pyomo.environ import*"
      ],
      "metadata": {
        "id": "ZTaml2U5hR9x"
      },
      "execution_count": null,
      "outputs": []
    },
    {
      "cell_type": "code",
      "source": [
        "model4 = ConcreteModel()"
      ],
      "metadata": {
        "id": "SJsVFPmhhjPM"
      },
      "execution_count": null,
      "outputs": []
    },
    {
      "cell_type": "code",
      "source": [
        "model4.z1 = Var(domain=Reals)\n",
        "model4.z2 = Var(domain=Reals)\n",
        "model4.z3 = Var(domain=Reals)\n",
        "model4.z4 = Var(domain=Reals)"
      ],
      "metadata": {
        "id": "d9TpDBE6htJk"
      },
      "execution_count": null,
      "outputs": []
    },
    {
      "cell_type": "code",
      "source": [
        "model4.cost = Objective(expr = -1*model4.z1 + model4.z2 - model4.z3 - model4.z4 , sense = minimize)"
      ],
      "metadata": {
        "id": "Vr5na4_UiNjd"
      },
      "execution_count": null,
      "outputs": []
    },
    {
      "cell_type": "code",
      "source": [
        "model4.cons1 = Constraint(expr = model4.z1 >= -5)\n",
        "model4.cons2 = Constraint(expr = model4.z2 >= 2)\n",
        "\n",
        "model4.cons3 = Constraint(expr = model4.z1 + model4.z2 - model4.z3 + model4.z4 <= 8)\n",
        "model4.cons4 = Constraint(expr = -1*model4.z1 - 1*model4.z2 + model4.z3 - 2*model4.z4 <= 100)\n",
        "model4.cons5 = Constraint(expr = model4.z1 + model4.z2 +2*model4.z3 + model4.z4 <= -11)"
      ],
      "metadata": {
        "colab": {
          "base_uri": "https://localhost:8080/"
        },
        "id": "1sJsPjKLjDHx",
        "outputId": "905bae02-0de9-4b92-da4b-9b1219a54b0a"
      },
      "execution_count": null,
      "outputs": [
        {
          "output_type": "stream",
          "name": "stderr",
          "text": [
            "WARNING:pyomo.core:Implicitly replacing the Component attribute cons1 (type=<class 'pyomo.core.base.constraint.ScalarConstraint'>) on block unknown with a new Component (type=<class 'pyomo.core.base.constraint.AbstractScalarConstraint'>).\n",
            "This is usually indicative of a modelling error.\n",
            "To avoid this warning, use block.del_component() and block.add_component().\n",
            "WARNING:pyomo.core:Implicitly replacing the Component attribute cons2 (type=<class 'pyomo.core.base.constraint.ScalarConstraint'>) on block unknown with a new Component (type=<class 'pyomo.core.base.constraint.AbstractScalarConstraint'>).\n",
            "This is usually indicative of a modelling error.\n",
            "To avoid this warning, use block.del_component() and block.add_component().\n",
            "WARNING:pyomo.core:Implicitly replacing the Component attribute cons3 (type=<class 'pyomo.core.base.constraint.ScalarConstraint'>) on block unknown with a new Component (type=<class 'pyomo.core.base.constraint.AbstractScalarConstraint'>).\n",
            "This is usually indicative of a modelling error.\n",
            "To avoid this warning, use block.del_component() and block.add_component().\n",
            "WARNING:pyomo.core:Implicitly replacing the Component attribute cons4 (type=<class 'pyomo.core.base.constraint.ScalarConstraint'>) on block unknown with a new Component (type=<class 'pyomo.core.base.constraint.AbstractScalarConstraint'>).\n",
            "This is usually indicative of a modelling error.\n",
            "To avoid this warning, use block.del_component() and block.add_component().\n"
          ]
        }
      ]
    },
    {
      "cell_type": "code",
      "source": [
        "model4.pprint()"
      ],
      "metadata": {
        "colab": {
          "base_uri": "https://localhost:8080/"
        },
        "id": "QWxE74gWks6u",
        "outputId": "c3646ae7-a445-4f65-8182-bea6ad8e02fe"
      },
      "execution_count": null,
      "outputs": [
        {
          "output_type": "stream",
          "name": "stdout",
          "text": [
            "4 Var Declarations\n",
            "    z1 : Size=1, Index=None\n",
            "        Key  : Lower : Value : Upper : Fixed : Stale : Domain\n",
            "        None :  None :  None :  None : False :  True :  Reals\n",
            "    z2 : Size=1, Index=None\n",
            "        Key  : Lower : Value : Upper : Fixed : Stale : Domain\n",
            "        None :  None :  None :  None : False :  True :  Reals\n",
            "    z3 : Size=1, Index=None\n",
            "        Key  : Lower : Value : Upper : Fixed : Stale : Domain\n",
            "        None :  None :  None :  None : False :  True :  Reals\n",
            "    z4 : Size=1, Index=None\n",
            "        Key  : Lower : Value : Upper : Fixed : Stale : Domain\n",
            "        None :  None :  None :  None : False :  True :  Reals\n",
            "\n",
            "1 Objective Declarations\n",
            "    cost : Size=1, Index=None, Active=True\n",
            "        Key  : Active : Sense    : Expression\n",
            "        None :   True : minimize : - z1 + z2 - z3 - z4\n",
            "\n",
            "5 Constraint Declarations\n",
            "    cons1 : Size=1, Index=None, Active=True\n",
            "        Key  : Lower : Body : Upper : Active\n",
            "        None :  -5.0 :   z1 :  +Inf :   True\n",
            "    cons2 : Size=1, Index=None, Active=True\n",
            "        Key  : Lower : Body : Upper : Active\n",
            "        None :   2.0 :   z2 :  +Inf :   True\n",
            "    cons3 : Size=1, Index=None, Active=True\n",
            "        Key  : Lower : Body              : Upper : Active\n",
            "        None :  -Inf : z1 + z2 - z3 + z4 :   8.0 :   True\n",
            "    cons4 : Size=1, Index=None, Active=True\n",
            "        Key  : Lower : Body                  : Upper : Active\n",
            "        None :  -Inf : - z1 - z2 + z3 - 2*z4 : 100.0 :   True\n",
            "    cons5 : Size=1, Index=None, Active=True\n",
            "        Key  : Lower : Body                : Upper : Active\n",
            "        None :  -Inf : z1 + z2 + 2*z3 + z4 : -11.0 :   True\n",
            "\n",
            "10 Declarations: z1 z2 z3 z4 cost cons1 cons2 cons3 cons4 cons5\n"
          ]
        }
      ]
    },
    {
      "cell_type": "code",
      "source": [
        "!apt-get install -y -qq glpk-utils"
      ],
      "metadata": {
        "colab": {
          "base_uri": "https://localhost:8080/"
        },
        "id": "UHL3oSUCk7dU",
        "outputId": "5ba89d7e-95d7-4916-9669-66b94377384b"
      },
      "execution_count": null,
      "outputs": [
        {
          "output_type": "stream",
          "name": "stdout",
          "text": [
            "Selecting previously unselected package libsuitesparseconfig5:amd64.\n",
            "(Reading database ... 155653 files and directories currently installed.)\n",
            "Preparing to unpack .../libsuitesparseconfig5_1%3a5.1.2-2_amd64.deb ...\n",
            "Unpacking libsuitesparseconfig5:amd64 (1:5.1.2-2) ...\n",
            "Selecting previously unselected package libamd2:amd64.\n",
            "Preparing to unpack .../libamd2_1%3a5.1.2-2_amd64.deb ...\n",
            "Unpacking libamd2:amd64 (1:5.1.2-2) ...\n",
            "Selecting previously unselected package libcolamd2:amd64.\n",
            "Preparing to unpack .../libcolamd2_1%3a5.1.2-2_amd64.deb ...\n",
            "Unpacking libcolamd2:amd64 (1:5.1.2-2) ...\n",
            "Selecting previously unselected package libglpk40:amd64.\n",
            "Preparing to unpack .../libglpk40_4.65-1_amd64.deb ...\n",
            "Unpacking libglpk40:amd64 (4.65-1) ...\n",
            "Selecting previously unselected package glpk-utils.\n",
            "Preparing to unpack .../glpk-utils_4.65-1_amd64.deb ...\n",
            "Unpacking glpk-utils (4.65-1) ...\n",
            "Setting up libsuitesparseconfig5:amd64 (1:5.1.2-2) ...\n",
            "Setting up libcolamd2:amd64 (1:5.1.2-2) ...\n",
            "Setting up libamd2:amd64 (1:5.1.2-2) ...\n",
            "Setting up libglpk40:amd64 (4.65-1) ...\n",
            "Setting up glpk-utils (4.65-1) ...\n",
            "Processing triggers for libc-bin (2.27-3ubuntu1.3) ...\n",
            "Processing triggers for man-db (2.8.3-2ubuntu0.1) ...\n"
          ]
        }
      ]
    },
    {
      "cell_type": "code",
      "source": [
        "SolverFactory('glpk',executable = '/usr/bin/glpsol').solve(model4).write()\n"
      ],
      "metadata": {
        "colab": {
          "base_uri": "https://localhost:8080/"
        },
        "id": "651mhXkMlU2L",
        "outputId": "5089331b-e460-4ee2-8bfa-484242b34b32"
      },
      "execution_count": null,
      "outputs": [
        {
          "output_type": "stream",
          "name": "stdout",
          "text": [
            "# ==========================================================\n",
            "# = Solver Results                                         =\n",
            "# ==========================================================\n",
            "# ----------------------------------------------------------\n",
            "#   Problem Information\n",
            "# ----------------------------------------------------------\n",
            "Problem: \n",
            "- Name: unknown\n",
            "  Lower bound: 8.66666666666667\n",
            "  Upper bound: 8.66666666666667\n",
            "  Number of objectives: 1\n",
            "  Number of constraints: 6\n",
            "  Number of variables: 5\n",
            "  Number of nonzeros: 15\n",
            "  Sense: minimize\n",
            "# ----------------------------------------------------------\n",
            "#   Solver Information\n",
            "# ----------------------------------------------------------\n",
            "Solver: \n",
            "- Status: ok\n",
            "  Termination condition: optimal\n",
            "  Statistics: \n",
            "    Branch and bound: \n",
            "      Number of bounded subproblems: 0\n",
            "      Number of created subproblems: 0\n",
            "  Error rc: 0\n",
            "  Time: 0.02145242691040039\n",
            "# ----------------------------------------------------------\n",
            "#   Solution Information\n",
            "# ----------------------------------------------------------\n",
            "Solution: \n",
            "- number of solutions: 0\n",
            "  number of solutions displayed: 0\n"
          ]
        }
      ]
    },
    {
      "cell_type": "code",
      "source": [
        "print('/nCost = ', model4.cost())\n",
        "\n",
        "print('/nDesicion variable')\n",
        "print('z1 = ', model4.z1())\n",
        "print('z2 = ', model4.z2())\n",
        "print('z3 = ', model4.z3())\n",
        "print('z4 = ', model4.z4())\n",
        "\n",
        "print('/nConstrints')\n",
        "print('Constraint1 = ',model4.cons1())\n",
        "print('Constraint2 = ',model4.cons2())\n",
        "print('Constraint3 = ',model4.cons3())\n",
        "print('Constraint4 = ',model4.cons4())\n",
        "print('Constraint5 = ',model4.cons5())"
      ],
      "metadata": {
        "colab": {
          "base_uri": "https://localhost:8080/"
        },
        "id": "QeiZRzWGn3QV",
        "outputId": "12bdcc05-d1ce-467f-c925-bea88fd88842"
      },
      "execution_count": null,
      "outputs": [
        {
          "output_type": "stream",
          "name": "stdout",
          "text": [
            "/nCost =  8.666666666666664\n",
            "/nDesicion variable\n",
            "z1 =  -0.333333333333333\n",
            "z2 =  2.0\n",
            "z3 =  -6.33333333333333\n",
            "z4 =  0.0\n",
            "/nConstrints\n",
            "Constraint1 =  -0.333333333333333\n",
            "Constraint2 =  2.0\n",
            "Constraint3 =  7.999999999999997\n",
            "Constraint4 =  -7.999999999999997\n",
            "Constraint5 =  -10.999999999999993\n"
          ]
        }
      ]
    },
    {
      "cell_type": "code",
      "source": [
        "# Observation\n",
        "# Here in this exercise 4 , soltion is feasible solution "
      ],
      "metadata": {
        "id": "s4nanubope_p"
      },
      "execution_count": null,
      "outputs": []
    }
  ]
}