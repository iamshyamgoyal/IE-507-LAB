{
  "nbformat": 4,
  "nbformat_minor": 0,
  "metadata": {
    "colab": {
      "name": "22N0461_IE507_Lab2_Ex2.ipynb",
      "provenance": [],
      "collapsed_sections": []
    },
    "kernelspec": {
      "name": "python3",
      "display_name": "Python 3"
    },
    "language_info": {
      "name": "python"
    }
  },
  "cells": [
    {
      "cell_type": "markdown",
      "source": [
        "# Exercise 2\n"
      ],
      "metadata": {
        "id": "fSc_7oPwIa0Y"
      }
    },
    {
      "cell_type": "markdown",
      "source": [
        ""
      ],
      "metadata": {
        "id": "qyGPCyW3IoRF"
      }
    },
    {
      "cell_type": "code",
      "execution_count": null,
      "metadata": {
        "id": "_ctHInYlHIr5",
        "colab": {
          "base_uri": "https://localhost:8080/"
        },
        "outputId": "d2cde890-a10a-414b-d13a-daac41131449"
      },
      "outputs": [
        {
          "output_type": "stream",
          "name": "stdout",
          "text": [
            "\u001b[K     |████████████████████████████████| 9.6 MB 12.6 MB/s \n",
            "\u001b[K     |████████████████████████████████| 49 kB 6.1 MB/s \n",
            "\u001b[?25h"
          ]
        }
      ],
      "source": [
        "!pip install -q pyomo"
      ]
    },
    {
      "cell_type": "code",
      "source": [
        "from pyomo.environ import*"
      ],
      "metadata": {
        "id": "E-7NE_kCJJc5"
      },
      "execution_count": null,
      "outputs": []
    },
    {
      "cell_type": "code",
      "source": [
        "import numpy as np"
      ],
      "metadata": {
        "id": "CEcllew4JPv0"
      },
      "execution_count": null,
      "outputs": []
    },
    {
      "cell_type": "code",
      "source": [
        "model2 = ConcreteModel()"
      ],
      "metadata": {
        "id": "0D9FD2rkJS-C"
      },
      "execution_count": null,
      "outputs": []
    },
    {
      "cell_type": "code",
      "source": [
        "N = 12"
      ],
      "metadata": {
        "id": "Y_7FdiUUJXTZ"
      },
      "execution_count": null,
      "outputs": []
    },
    {
      "cell_type": "code",
      "source": [
        "M = 5"
      ],
      "metadata": {
        "id": "Oqr498AjJ48D"
      },
      "execution_count": null,
      "outputs": []
    },
    {
      "cell_type": "code",
      "source": [
        "obj_coef_c = np.array([0.56, 1.721, -9.6, -2.85, 41.5, 33.05, -0.75, 20.5, -0.35, -31.02, 50.65, 6.125])"
      ],
      "metadata": {
        "id": "7_jgovcCJ7en"
      },
      "execution_count": null,
      "outputs": []
    },
    {
      "cell_type": "code",
      "source": [
        "constr_coef_A = np.array([[1 ,-1, 0, 0, 2, -2, 1, 0, 0, -1, 1, -2],[1 ,0, 0, -1, 0, -2, 0, -1, 1, 0, 0, -1],[-1, 0, 0, 1, -1, 2.5, -3.5, 0, 2, -1, 1, 0],[0, 1, -0.45, 0, -2.78, 0, -3.4, 0, -1, 1, -1, 0.25],[0, -1, 1, 0, 1, 0, 1, 3, -2, 0, 1, 0]])"
      ],
      "metadata": {
        "id": "GqIaHYqOKZKJ"
      },
      "execution_count": null,
      "outputs": []
    },
    {
      "cell_type": "code",
      "source": [
        "constr_rhs_b = np.array([88.5,35.4,47.9,41.43,22.7])\n"
      ],
      "metadata": {
        "id": "GoatpDSbMSWP"
      },
      "execution_count": null,
      "outputs": []
    },
    {
      "cell_type": "code",
      "source": [
        "lower_bound  = np.array([0, 0, -np.inf, -np.inf, -34, 0, -67, 0, -23, -5, 6, 1])\n",
        "upper_bound = np.array([12, 503, 4, np.inf, np.inf, 2, 20, 55, 23, 15, np.inf, np.inf])"
      ],
      "metadata": {
        "id": "ku7oq7uDNYVu"
      },
      "execution_count": null,
      "outputs": []
    },
    {
      "cell_type": "code",
      "source": [
        "col_indices = np.arange(N)\n",
        "row_indices = np.arange(M)"
      ],
      "metadata": {
        "id": "y_-YP_SXOnZM"
      },
      "execution_count": null,
      "outputs": []
    },
    {
      "cell_type": "code",
      "source": [
        "model2.x = Var(col_indices)\n"
      ],
      "metadata": {
        "id": "Ota3pehDYWwb"
      },
      "execution_count": null,
      "outputs": []
    },
    {
      "cell_type": "code",
      "source": [
        "model2.constraints = ConstraintList()"
      ],
      "metadata": {
        "id": "3YgTXrdLYGf1"
      },
      "execution_count": null,
      "outputs": []
    },
    {
      "cell_type": "code",
      "source": [
        "for i in row_indices:\n",
        "  model2.constraints.add(sum(constr_coef_A[i][j]*model2.x[j] for j in col_indices) <= constr_rhs_b[i])"
      ],
      "metadata": {
        "id": "ZwdnWETcPigg"
      },
      "execution_count": null,
      "outputs": []
    },
    {
      "cell_type": "code",
      "source": [
        "for j in col_indices:\n",
        "  model2.x[j].setlb(lower_bound[j])\n",
        "  model2.x[j].setub(upper_bound[j])"
      ],
      "metadata": {
        "id": "Ha3gfQ_TPqdv"
      },
      "execution_count": null,
      "outputs": []
    },
    {
      "cell_type": "code",
      "source": [
        "model2.objective = Objective(expr = sum(obj_coef_c[j]*model2.x[j] for j in col_indices) , sense = minimize)"
      ],
      "metadata": {
        "id": "rE5qzUb-ZMfx"
      },
      "execution_count": null,
      "outputs": []
    },
    {
      "cell_type": "code",
      "source": [
        "model2.pprint()"
      ],
      "metadata": {
        "colab": {
          "base_uri": "https://localhost:8080/"
        },
        "id": "JPo7E0DnaJom",
        "outputId": "c3846d9d-d628-4aff-debb-f87dbf1d743b"
      },
      "execution_count": null,
      "outputs": [
        {
          "output_type": "stream",
          "name": "stdout",
          "text": [
            "2 Set Declarations\n",
            "    constraints_index : Size=1, Index=None, Ordered=Insertion\n",
            "        Key  : Dimen : Domain : Size : Members\n",
            "        None :     1 :    Any :    5 : {1, 2, 3, 4, 5}\n",
            "    x_index : Size=1, Index=None, Ordered=False\n",
            "        Key  : Dimen : Domain : Size : Members\n",
            "        None :     1 :    Any :   12 : {0, 1, 2, 3, 4, 5, 6, 7, 8, 9, 10, 11}\n",
            "\n",
            "1 Var Declarations\n",
            "    x : Size=12, Index=x_index\n",
            "        Key : Lower : Value : Upper : Fixed : Stale : Domain\n",
            "          0 :   0.0 :  None :  12.0 : False :  True :  Reals\n",
            "          1 :   0.0 :  None : 503.0 : False :  True :  Reals\n",
            "          2 :  None :  None :   4.0 : False :  True :  Reals\n",
            "          3 :  None :  None :  None : False :  True :  Reals\n",
            "          4 : -34.0 :  None :  None : False :  True :  Reals\n",
            "          5 :   0.0 :  None :   2.0 : False :  True :  Reals\n",
            "          6 : -67.0 :  None :  20.0 : False :  True :  Reals\n",
            "          7 :   0.0 :  None :  55.0 : False :  True :  Reals\n",
            "          8 : -23.0 :  None :  23.0 : False :  True :  Reals\n",
            "          9 :  -5.0 :  None :  15.0 : False :  True :  Reals\n",
            "         10 :   6.0 :  None :  None : False :  True :  Reals\n",
            "         11 :   1.0 :  None :  None : False :  True :  Reals\n",
            "\n",
            "1 Objective Declarations\n",
            "    objective : Size=1, Index=None, Active=True\n",
            "        Key  : Active : Sense    : Expression\n",
            "        None :   True : minimize : 0.56*x[0] + 1.721*x[1] - 9.6*x[2] - 2.85*x[3] + 41.5*x[4] + 33.05*x[5] - 0.75*x[6] + 20.5*x[7] - 0.35*x[8] - 31.02*x[9] + 50.65*x[10] + 6.125*x[11]\n",
            "\n",
            "1 Constraint Declarations\n",
            "    constraints : Size=5, Index=constraints_index, Active=True\n",
            "        Key : Lower : Body                                                                       : Upper : Active\n",
            "          1 :  -Inf :        x[0] - x[1] + 2.0*x[4] - 2.0*x[5] + x[6] - x[9] + x[10] - 2.0*x[11] :  88.5 :   True\n",
            "          2 :  -Inf :                               x[0] - x[3] - 2.0*x[5] - x[7] + x[8] - x[11] :  35.4 :   True\n",
            "          3 :  -Inf :       - x[0] + x[3] - x[4] + 2.5*x[5] - 3.5*x[6] + 2.0*x[8] - x[9] + x[10] :  47.9 :   True\n",
            "          4 :  -Inf : x[1] - 0.45*x[2] - 2.78*x[4] - 3.4*x[6] - x[8] + x[9] - x[10] + 0.25*x[11] : 41.43 :   True\n",
            "          5 :  -Inf :                  - x[1] + x[2] + x[4] + x[6] + 3.0*x[7] - 2.0*x[8] + x[10] :  22.7 :   True\n",
            "\n",
            "5 Declarations: x_index x constraints_index constraints objective\n"
          ]
        }
      ]
    },
    {
      "cell_type": "code",
      "source": [
        "!apt-get install -y -qq glpk-utils"
      ],
      "metadata": {
        "id": "mIEn6k9ZaMz6",
        "colab": {
          "base_uri": "https://localhost:8080/"
        },
        "outputId": "7247fbae-e104-452f-f070-159c14a410dc"
      },
      "execution_count": null,
      "outputs": [
        {
          "output_type": "stream",
          "name": "stdout",
          "text": [
            "Selecting previously unselected package libsuitesparseconfig5:amd64.\n",
            "(Reading database ... 155680 files and directories currently installed.)\n",
            "Preparing to unpack .../libsuitesparseconfig5_1%3a5.1.2-2_amd64.deb ...\n",
            "Unpacking libsuitesparseconfig5:amd64 (1:5.1.2-2) ...\n",
            "Selecting previously unselected package libamd2:amd64.\n",
            "Preparing to unpack .../libamd2_1%3a5.1.2-2_amd64.deb ...\n",
            "Unpacking libamd2:amd64 (1:5.1.2-2) ...\n",
            "Selecting previously unselected package libcolamd2:amd64.\n",
            "Preparing to unpack .../libcolamd2_1%3a5.1.2-2_amd64.deb ...\n",
            "Unpacking libcolamd2:amd64 (1:5.1.2-2) ...\n",
            "Selecting previously unselected package libglpk40:amd64.\n",
            "Preparing to unpack .../libglpk40_4.65-1_amd64.deb ...\n",
            "Unpacking libglpk40:amd64 (4.65-1) ...\n",
            "Selecting previously unselected package glpk-utils.\n",
            "Preparing to unpack .../glpk-utils_4.65-1_amd64.deb ...\n",
            "Unpacking glpk-utils (4.65-1) ...\n",
            "Setting up libsuitesparseconfig5:amd64 (1:5.1.2-2) ...\n",
            "Setting up libcolamd2:amd64 (1:5.1.2-2) ...\n",
            "Setting up libamd2:amd64 (1:5.1.2-2) ...\n",
            "Setting up libglpk40:amd64 (4.65-1) ...\n",
            "Setting up glpk-utils (4.65-1) ...\n",
            "Processing triggers for libc-bin (2.27-3ubuntu1.5) ...\n",
            "Processing triggers for man-db (2.8.3-2ubuntu0.1) ...\n"
          ]
        }
      ]
    },
    {
      "cell_type": "code",
      "source": [
        "SolverFactory('glpk', executable='/usr/bin/glpsol').solve(model2).write()"
      ],
      "metadata": {
        "colab": {
          "base_uri": "https://localhost:8080/"
        },
        "id": "z3aomnTtfex4",
        "outputId": "d2a01878-5083-47ae-af61-21cb2270a564"
      },
      "execution_count": null,
      "outputs": [
        {
          "output_type": "stream",
          "name": "stdout",
          "text": [
            "# ==========================================================\n",
            "# = Solver Results                                         =\n",
            "# ==========================================================\n",
            "# ----------------------------------------------------------\n",
            "#   Problem Information\n",
            "# ----------------------------------------------------------\n",
            "Problem: \n",
            "- Name: unknown\n",
            "  Lower bound: -1951.831\n",
            "  Upper bound: -1951.831\n",
            "  Number of objectives: 1\n",
            "  Number of constraints: 6\n",
            "  Number of variables: 13\n",
            "  Number of nonzeros: 38\n",
            "  Sense: minimize\n",
            "# ----------------------------------------------------------\n",
            "#   Solver Information\n",
            "# ----------------------------------------------------------\n",
            "Solver: \n",
            "- Status: ok\n",
            "  Termination condition: optimal\n",
            "  Statistics: \n",
            "    Branch and bound: \n",
            "      Number of bounded subproblems: 0\n",
            "      Number of created subproblems: 0\n",
            "  Error rc: 0\n",
            "  Time: 0.00975489616394043\n",
            "# ----------------------------------------------------------\n",
            "#   Solution Information\n",
            "# ----------------------------------------------------------\n",
            "Solution: \n",
            "- number of solutions: 0\n",
            "  number of solutions displayed: 0\n"
          ]
        }
      ]
    },
    {
      "cell_type": "markdown",
      "source": [
        "**Exercise 1(1) Solution**"
      ],
      "metadata": {
        "id": "-SxA8DM00QiM"
      }
    },
    {
      "cell_type": "code",
      "source": [
        "print('\\nObjective = ', model2.objective())\n",
        "\n",
        "print('\\nDecision Variables')\n",
        "for i in col_indices:\n",
        "  print('x[',i,'] = ', model2.x[i].value)\n",
        "\n",
        "print('\\nConstraints')\n",
        "model2.constraints.display()"
      ],
      "metadata": {
        "id": "Mb1CPjuPfshs",
        "colab": {
          "base_uri": "https://localhost:8080/"
        },
        "outputId": "e0e2f85b-d25f-4073-f580-99dfcc550cd7"
      },
      "execution_count": null,
      "outputs": [
        {
          "output_type": "stream",
          "name": "stdout",
          "text": [
            "\n",
            "Objective =  -1951.8309999999997\n",
            "\n",
            "Decision Variables\n",
            "x[ 0 ] =  12.0\n",
            "x[ 1 ] =  0.0\n",
            "x[ 2 ] =  4.0\n",
            "x[ 3 ] =  119.82\n",
            "x[ 4 ] =  -34.0\n",
            "x[ 5 ] =  0.0\n",
            "x[ 6 ] =  20.0\n",
            "x[ 7 ] =  0.0\n",
            "x[ 8 ] =  -7.46000000000002\n",
            "x[ 9 ] =  15.0\n",
            "x[ 10 ] =  6.0\n",
            "x[ 11 ] =  1.0\n",
            "\n",
            "Constraints\n",
            "constraints : Size=5\n",
            "    Key : Lower : Body                : Upper\n",
            "      1 :  None :               -47.0 :  88.5\n",
            "      2 :  None : -116.28000000000002 :  35.4\n",
            "      3 :  None :   47.89999999999995 :  47.9\n",
            "      4 :  None :   41.43000000000002 : 41.43\n",
            "      5 :  None :   10.92000000000004 :  22.7\n"
          ]
        }
      ]
    },
    {
      "cell_type": "markdown",
      "source": [
        "**Exercise 2(2) Solution**\n",
        "\n",
        "- Active and Inactive"
      ],
      "metadata": {
        "id": "LpBnZnZ81MCC"
      }
    },
    {
      "cell_type": "markdown",
      "source": [
        "**Constraints 1**\n",
        "\n",
        "x0 - x1 + 2.0*x4 - 2.0*x5 + x6 - x9 + x10 - 2.0*x11 is inactive beacause L.H.S is not equal to R.H.S\n",
        "\n",
        "**Constraints 2**\n",
        "\n",
        " x0 - x3 - 2.0*x5 - x7 + x8 - x11 is inactive because L.H.S is not equal to R.H.S\n",
        "\n",
        "\n",
        "**Constraints 3**\n",
        "\n",
        " - x0 + x3 - x4 + 2.5*x5 - 3.5*x6 + 2.0*x8 - x9 + x10 is active because L.H.S is equal to R.H.S\n",
        "\n",
        "\n",
        "**Constraints 4**\n",
        "\n",
        "x1 - 0.45*x2 - 2.78*x4 - 3.4*x6 - x8 + x9 - x10 + 0.25*x11 is active because L.H.S is equal to R.H.S\n",
        "\n",
        "**Constraints 5**\n",
        "\n",
        "-x1 + x2 + x4 + x6 + 3.0*x7 - 2.0*x8 + x10 is inactive because L.H.S is equal to R.H.S"
      ],
      "metadata": {
        "id": "WsGPlgk82RrU"
      }
    },
    {
      "cell_type": "code",
      "source": [
        ""
      ],
      "metadata": {
        "id": "8xeAe7X0gNfE"
      },
      "execution_count": null,
      "outputs": []
    }
  ]
}